{
  "metadata": {
    "ExecuteTimeLog": [
      {
        "duration": 1252,
        "start_time": "2023-04-18T19:08:52.367Z"
      },
      {
        "duration": 115,
        "start_time": "2023-04-18T19:11:35.805Z"
      },
      {
        "duration": 113,
        "start_time": "2023-04-18T19:12:54.958Z"
      },
      {
        "duration": 16,
        "start_time": "2023-04-18T19:13:00.646Z"
      },
      {
        "duration": 15,
        "start_time": "2023-04-18T19:28:50.121Z"
      },
      {
        "duration": 4,
        "start_time": "2023-04-18T19:28:56.317Z"
      },
      {
        "duration": 14,
        "start_time": "2023-04-18T19:29:39.245Z"
      },
      {
        "duration": 78,
        "start_time": "2023-04-18T19:29:47.045Z"
      },
      {
        "duration": 3,
        "start_time": "2023-04-18T19:30:12.317Z"
      },
      {
        "duration": 191,
        "start_time": "2023-04-18T19:30:13.261Z"
      },
      {
        "duration": 3,
        "start_time": "2023-04-18T19:30:25.837Z"
      },
      {
        "duration": 69,
        "start_time": "2023-04-18T19:30:26.861Z"
      },
      {
        "duration": 4,
        "start_time": "2023-04-18T19:31:05.150Z"
      },
      {
        "duration": 75,
        "start_time": "2023-04-18T19:31:08.733Z"
      },
      {
        "duration": 3,
        "start_time": "2023-04-18T19:31:16.708Z"
      },
      {
        "duration": 67,
        "start_time": "2023-04-18T19:31:26.253Z"
      },
      {
        "duration": 64,
        "start_time": "2023-04-18T19:32:03.429Z"
      },
      {
        "duration": 1175,
        "start_time": "2023-04-18T19:33:19.549Z"
      },
      {
        "duration": 48,
        "start_time": "2023-04-18T19:33:21.846Z"
      },
      {
        "duration": 12,
        "start_time": "2023-04-18T19:33:22.550Z"
      },
      {
        "duration": 4,
        "start_time": "2023-04-18T19:33:24.142Z"
      },
      {
        "duration": 3,
        "start_time": "2023-04-18T19:33:26.214Z"
      },
      {
        "duration": 212,
        "start_time": "2023-04-18T19:33:27.254Z"
      },
      {
        "duration": 3,
        "start_time": "2023-04-18T19:44:58.440Z"
      },
      {
        "duration": 71,
        "start_time": "2023-04-18T19:44:59.239Z"
      },
      {
        "duration": 3,
        "start_time": "2023-04-18T19:45:07.351Z"
      },
      {
        "duration": 61,
        "start_time": "2023-04-18T19:45:14.415Z"
      },
      {
        "duration": 1306,
        "start_time": "2023-04-21T11:43:03.726Z"
      },
      {
        "duration": 102,
        "start_time": "2023-04-21T11:43:06.781Z"
      },
      {
        "duration": 21,
        "start_time": "2023-04-21T11:43:07.589Z"
      },
      {
        "duration": 3,
        "start_time": "2023-04-21T11:46:49.968Z"
      },
      {
        "duration": 211,
        "start_time": "2023-04-21T11:46:52.303Z"
      },
      {
        "duration": 12,
        "start_time": "2023-04-21T11:53:14.640Z"
      },
      {
        "duration": 7,
        "start_time": "2023-04-21T11:53:40.636Z"
      },
      {
        "duration": 6,
        "start_time": "2023-04-21T11:53:47.740Z"
      },
      {
        "duration": 5,
        "start_time": "2023-04-21T11:53:53.854Z"
      },
      {
        "duration": 19,
        "start_time": "2023-04-21T11:53:58.887Z"
      },
      {
        "duration": 3,
        "start_time": "2023-04-21T11:54:05.554Z"
      },
      {
        "duration": 126,
        "start_time": "2023-04-21T11:54:06.162Z"
      },
      {
        "duration": 71,
        "start_time": "2023-04-25T16:35:06.012Z"
      },
      {
        "duration": 1218,
        "start_time": "2023-04-25T16:35:26.805Z"
      },
      {
        "duration": 68,
        "start_time": "2023-04-25T16:35:32.739Z"
      },
      {
        "duration": 10,
        "start_time": "2023-04-25T16:35:42.006Z"
      },
      {
        "duration": 3,
        "start_time": "2023-04-25T16:35:49.421Z"
      },
      {
        "duration": 97,
        "start_time": "2023-04-25T16:35:50.190Z"
      },
      {
        "duration": 15,
        "start_time": "2023-04-25T16:35:50.709Z"
      },
      {
        "duration": 6,
        "start_time": "2023-04-25T16:35:51.910Z"
      },
      {
        "duration": 11,
        "start_time": "2023-04-25T16:35:56.934Z"
      },
      {
        "duration": 7,
        "start_time": "2023-04-25T16:36:09.014Z"
      },
      {
        "duration": 8,
        "start_time": "2023-04-25T16:36:12.013Z"
      },
      {
        "duration": 14,
        "start_time": "2023-04-25T16:38:33.335Z"
      },
      {
        "duration": 11,
        "start_time": "2023-04-25T16:38:51.984Z"
      },
      {
        "duration": 3,
        "start_time": "2023-04-25T16:45:35.093Z"
      },
      {
        "duration": 6,
        "start_time": "2023-04-25T16:45:44.121Z"
      },
      {
        "duration": 14,
        "start_time": "2023-04-25T16:53:29.004Z"
      },
      {
        "duration": 4,
        "start_time": "2023-04-25T16:54:09.481Z"
      },
      {
        "duration": 15,
        "start_time": "2023-04-25T16:54:13.437Z"
      },
      {
        "duration": 5,
        "start_time": "2023-04-25T16:54:56.192Z"
      },
      {
        "duration": 15,
        "start_time": "2023-04-25T16:54:57.700Z"
      },
      {
        "duration": 4,
        "start_time": "2023-04-25T16:55:35.054Z"
      },
      {
        "duration": 17,
        "start_time": "2023-04-25T16:55:35.704Z"
      },
      {
        "duration": 4,
        "start_time": "2023-04-25T17:05:03.887Z"
      },
      {
        "duration": 5,
        "start_time": "2023-04-25T17:05:10.802Z"
      },
      {
        "duration": 12,
        "start_time": "2023-04-25T17:09:12.883Z"
      },
      {
        "duration": 10,
        "start_time": "2023-04-25T17:09:28.515Z"
      },
      {
        "duration": 18,
        "start_time": "2023-04-25T17:10:26.847Z"
      },
      {
        "duration": 10,
        "start_time": "2023-04-25T17:10:56.483Z"
      },
      {
        "duration": 11,
        "start_time": "2023-04-25T17:11:28.939Z"
      },
      {
        "duration": 9,
        "start_time": "2023-04-25T17:13:09.716Z"
      },
      {
        "duration": 7,
        "start_time": "2023-04-25T17:13:19.580Z"
      },
      {
        "duration": 4,
        "start_time": "2023-04-25T17:13:26.263Z"
      },
      {
        "duration": 14,
        "start_time": "2023-04-25T17:13:26.684Z"
      },
      {
        "duration": 13,
        "start_time": "2023-04-25T17:13:27.432Z"
      },
      {
        "duration": 4,
        "start_time": "2023-04-25T17:13:57.301Z"
      },
      {
        "duration": 10,
        "start_time": "2023-04-25T17:13:58.292Z"
      },
      {
        "duration": 11,
        "start_time": "2023-04-25T17:13:59.308Z"
      },
      {
        "duration": 13,
        "start_time": "2023-04-25T17:14:03.744Z"
      },
      {
        "duration": 8,
        "start_time": "2023-04-25T17:14:36.184Z"
      },
      {
        "duration": 11,
        "start_time": "2023-04-25T17:14:48.276Z"
      },
      {
        "duration": 1438,
        "start_time": "2023-04-25T17:15:08.900Z"
      },
      {
        "duration": 48,
        "start_time": "2023-04-25T17:15:25.821Z"
      },
      {
        "duration": 18,
        "start_time": "2023-04-25T17:15:26.621Z"
      },
      {
        "duration": 118,
        "start_time": "2023-04-25T17:15:29.900Z"
      },
      {
        "duration": 6,
        "start_time": "2023-04-25T17:15:44.584Z"
      },
      {
        "duration": 8,
        "start_time": "2023-04-25T17:15:56.084Z"
      },
      {
        "duration": 13,
        "start_time": "2023-04-25T17:15:57.878Z"
      },
      {
        "duration": 4,
        "start_time": "2023-04-25T17:16:02.380Z"
      },
      {
        "duration": 11,
        "start_time": "2023-04-25T17:16:05.077Z"
      },
      {
        "duration": 16,
        "start_time": "2023-04-25T17:16:06.295Z"
      },
      {
        "duration": 6,
        "start_time": "2023-04-25T17:16:08.189Z"
      },
      {
        "duration": 9,
        "start_time": "2023-04-25T17:16:09.397Z"
      },
      {
        "duration": 10,
        "start_time": "2023-04-25T17:16:29.310Z"
      },
      {
        "duration": 5,
        "start_time": "2023-04-25T17:20:24.391Z"
      },
      {
        "duration": 6,
        "start_time": "2023-04-25T17:20:27.580Z"
      },
      {
        "duration": 10,
        "start_time": "2023-04-25T17:20:28.103Z"
      },
      {
        "duration": 5,
        "start_time": "2023-04-25T17:22:02.511Z"
      },
      {
        "duration": 4,
        "start_time": "2023-04-25T17:22:38.391Z"
      },
      {
        "duration": 8,
        "start_time": "2023-04-25T17:22:39.639Z"
      },
      {
        "duration": 10,
        "start_time": "2023-04-25T17:22:40.015Z"
      },
      {
        "duration": 5,
        "start_time": "2023-04-25T17:23:37.495Z"
      },
      {
        "duration": 11,
        "start_time": "2023-04-25T17:24:45.435Z"
      },
      {
        "duration": 1282,
        "start_time": "2023-04-25T17:26:34.053Z"
      },
      {
        "duration": 48,
        "start_time": "2023-04-25T17:26:35.338Z"
      },
      {
        "duration": 16,
        "start_time": "2023-04-25T17:26:35.388Z"
      },
      {
        "duration": 5,
        "start_time": "2023-04-25T17:26:35.406Z"
      },
      {
        "duration": 9,
        "start_time": "2023-04-25T17:26:35.413Z"
      },
      {
        "duration": 20,
        "start_time": "2023-04-25T17:26:35.423Z"
      },
      {
        "duration": 20,
        "start_time": "2023-04-25T17:26:35.445Z"
      },
      {
        "duration": 13,
        "start_time": "2023-04-25T17:26:35.468Z"
      },
      {
        "duration": 6,
        "start_time": "2023-04-25T17:26:35.483Z"
      },
      {
        "duration": 12,
        "start_time": "2023-04-25T17:26:35.491Z"
      },
      {
        "duration": 5,
        "start_time": "2023-04-25T17:28:23.530Z"
      },
      {
        "duration": 1329,
        "start_time": "2023-04-25T17:42:06.694Z"
      },
      {
        "duration": 58,
        "start_time": "2023-04-25T17:42:08.026Z"
      },
      {
        "duration": 15,
        "start_time": "2023-04-25T17:42:08.086Z"
      },
      {
        "duration": 23,
        "start_time": "2023-04-25T17:42:08.104Z"
      },
      {
        "duration": 27,
        "start_time": "2023-04-25T17:42:08.129Z"
      },
      {
        "duration": 21,
        "start_time": "2023-04-25T17:42:08.158Z"
      },
      {
        "duration": 24,
        "start_time": "2023-04-25T17:42:08.182Z"
      },
      {
        "duration": 20,
        "start_time": "2023-04-25T17:42:08.208Z"
      },
      {
        "duration": 16,
        "start_time": "2023-04-25T17:42:08.230Z"
      },
      {
        "duration": 23,
        "start_time": "2023-04-25T17:42:08.250Z"
      },
      {
        "duration": 3,
        "start_time": "2023-04-25T17:42:18.319Z"
      },
      {
        "duration": 2473,
        "start_time": "2023-04-26T02:23:38.436Z"
      },
      {
        "duration": 126,
        "start_time": "2023-04-26T02:23:40.911Z"
      },
      {
        "duration": 10,
        "start_time": "2023-04-26T02:23:41.039Z"
      },
      {
        "duration": 21,
        "start_time": "2023-04-26T02:23:41.050Z"
      },
      {
        "duration": 15,
        "start_time": "2023-04-26T02:23:41.073Z"
      },
      {
        "duration": 11,
        "start_time": "2023-04-26T02:23:41.090Z"
      },
      {
        "duration": 3,
        "start_time": "2023-04-26T02:23:41.103Z"
      },
      {
        "duration": 12,
        "start_time": "2023-04-26T02:23:41.108Z"
      },
      {
        "duration": 13,
        "start_time": "2023-04-26T02:23:41.122Z"
      },
      {
        "duration": 17,
        "start_time": "2023-04-26T02:23:41.138Z"
      },
      {
        "duration": 58,
        "start_time": "2023-04-26T09:23:11.471Z"
      },
      {
        "duration": 1134,
        "start_time": "2023-04-26T09:23:18.610Z"
      },
      {
        "duration": 129,
        "start_time": "2023-04-26T09:23:19.746Z"
      },
      {
        "duration": 16,
        "start_time": "2023-04-26T09:23:20.216Z"
      },
      {
        "duration": 37,
        "start_time": "2023-04-26T09:23:21.357Z"
      },
      {
        "duration": 30,
        "start_time": "2023-04-26T09:23:39.213Z"
      },
      {
        "duration": 12,
        "start_time": "2023-04-26T09:23:51.262Z"
      },
      {
        "duration": 25,
        "start_time": "2023-04-26T09:24:00.324Z"
      },
      {
        "duration": 633,
        "start_time": "2023-04-26T09:28:53.136Z"
      },
      {
        "duration": 105,
        "start_time": "2023-04-26T09:28:56.809Z"
      },
      {
        "duration": 8,
        "start_time": "2023-04-26T09:29:01.879Z"
      },
      {
        "duration": 401,
        "start_time": "2023-04-26T09:29:02.809Z"
      },
      {
        "duration": 324,
        "start_time": "2023-04-26T09:29:26.823Z"
      },
      {
        "duration": 444,
        "start_time": "2023-04-26T09:29:38.411Z"
      },
      {
        "duration": 1436,
        "start_time": "2023-04-26T09:59:27.869Z"
      },
      {
        "duration": 39,
        "start_time": "2023-04-26T09:59:29.307Z"
      },
      {
        "duration": 28,
        "start_time": "2023-04-26T09:59:29.502Z"
      },
      {
        "duration": 24,
        "start_time": "2023-04-26T09:59:30.284Z"
      },
      {
        "duration": 6,
        "start_time": "2023-04-26T09:59:31.540Z"
      },
      {
        "duration": 330,
        "start_time": "2023-04-26T09:59:32.316Z"
      },
      {
        "duration": 5,
        "start_time": "2023-04-26T09:59:43.045Z"
      },
      {
        "duration": 10,
        "start_time": "2023-04-26T09:59:44.706Z"
      },
      {
        "duration": 4,
        "start_time": "2023-04-26T09:59:46.365Z"
      },
      {
        "duration": 4,
        "start_time": "2023-04-26T09:59:50.252Z"
      },
      {
        "duration": 156,
        "start_time": "2023-04-26T09:59:51.100Z"
      },
      {
        "duration": 8,
        "start_time": "2023-04-26T10:00:07.325Z"
      },
      {
        "duration": 5,
        "start_time": "2023-04-26T10:01:31.045Z"
      },
      {
        "duration": 5,
        "start_time": "2023-04-26T10:02:55.069Z"
      },
      {
        "duration": 13,
        "start_time": "2023-04-26T10:02:57.981Z"
      },
      {
        "duration": 16,
        "start_time": "2023-04-26T10:03:01.103Z"
      },
      {
        "duration": 5,
        "start_time": "2023-04-26T10:03:28.800Z"
      },
      {
        "duration": 14,
        "start_time": "2023-04-26T10:03:31.541Z"
      },
      {
        "duration": 15,
        "start_time": "2023-04-26T10:03:33.534Z"
      },
      {
        "duration": 1398,
        "start_time": "2023-04-26T10:03:46.479Z"
      },
      {
        "duration": 40,
        "start_time": "2023-04-26T10:03:47.879Z"
      },
      {
        "duration": 24,
        "start_time": "2023-04-26T10:03:47.921Z"
      },
      {
        "duration": 22,
        "start_time": "2023-04-26T10:03:47.947Z"
      },
      {
        "duration": 6,
        "start_time": "2023-04-26T10:03:47.971Z"
      },
      {
        "duration": 353,
        "start_time": "2023-04-26T10:03:47.979Z"
      },
      {
        "duration": 5,
        "start_time": "2023-04-26T10:03:48.335Z"
      },
      {
        "duration": 23,
        "start_time": "2023-04-26T10:03:48.342Z"
      },
      {
        "duration": 4,
        "start_time": "2023-04-26T10:03:48.367Z"
      },
      {
        "duration": 20,
        "start_time": "2023-04-26T10:03:48.373Z"
      },
      {
        "duration": 5,
        "start_time": "2023-04-26T10:03:48.395Z"
      },
      {
        "duration": 16,
        "start_time": "2023-04-26T10:03:48.401Z"
      },
      {
        "duration": 1439,
        "start_time": "2023-04-26T10:12:27.966Z"
      },
      {
        "duration": 45,
        "start_time": "2023-04-26T10:12:29.407Z"
      },
      {
        "duration": 32,
        "start_time": "2023-04-26T10:12:29.454Z"
      },
      {
        "duration": 25,
        "start_time": "2023-04-26T10:12:29.489Z"
      },
      {
        "duration": 5,
        "start_time": "2023-04-26T10:12:29.515Z"
      },
      {
        "duration": 321,
        "start_time": "2023-04-26T10:12:29.521Z"
      },
      {
        "duration": 6,
        "start_time": "2023-04-26T10:12:29.845Z"
      },
      {
        "duration": 9,
        "start_time": "2023-04-26T10:12:29.853Z"
      },
      {
        "duration": 29,
        "start_time": "2023-04-26T10:12:29.864Z"
      },
      {
        "duration": 9,
        "start_time": "2023-04-26T10:12:29.896Z"
      },
      {
        "duration": 9,
        "start_time": "2023-04-26T10:12:29.907Z"
      },
      {
        "duration": 14,
        "start_time": "2023-04-26T10:12:29.918Z"
      },
      {
        "duration": 3112,
        "start_time": "2023-04-26T14:51:54.265Z"
      },
      {
        "duration": 86,
        "start_time": "2023-04-26T14:51:57.383Z"
      },
      {
        "duration": 30,
        "start_time": "2023-04-26T14:51:57.472Z"
      },
      {
        "duration": 24,
        "start_time": "2023-04-26T14:51:57.505Z"
      },
      {
        "duration": 8,
        "start_time": "2023-04-26T14:51:57.531Z"
      },
      {
        "duration": 392,
        "start_time": "2023-04-26T14:51:57.541Z"
      },
      {
        "duration": 7,
        "start_time": "2023-04-26T14:51:57.935Z"
      },
      {
        "duration": 24,
        "start_time": "2023-04-26T14:51:57.945Z"
      },
      {
        "duration": 13,
        "start_time": "2023-04-26T14:51:57.970Z"
      },
      {
        "duration": 21,
        "start_time": "2023-04-26T14:51:57.986Z"
      },
      {
        "duration": 25,
        "start_time": "2023-04-26T14:51:58.009Z"
      },
      {
        "duration": 124,
        "start_time": "2023-04-26T14:51:58.038Z"
      },
      {
        "duration": 0,
        "start_time": "2023-04-26T14:51:58.164Z"
      },
      {
        "duration": 2680,
        "start_time": "2023-04-26T19:42:52.731Z"
      },
      {
        "duration": 38,
        "start_time": "2023-04-26T19:42:55.413Z"
      },
      {
        "duration": 23,
        "start_time": "2023-04-26T19:42:55.453Z"
      },
      {
        "duration": 23,
        "start_time": "2023-04-26T19:42:55.477Z"
      },
      {
        "duration": 5,
        "start_time": "2023-04-26T19:42:55.503Z"
      },
      {
        "duration": 356,
        "start_time": "2023-04-26T19:42:55.510Z"
      },
      {
        "duration": 15,
        "start_time": "2023-04-26T19:42:55.868Z"
      },
      {
        "duration": 10,
        "start_time": "2023-04-26T19:42:55.885Z"
      },
      {
        "duration": 4,
        "start_time": "2023-04-26T19:42:55.896Z"
      },
      {
        "duration": 11,
        "start_time": "2023-04-26T19:42:55.901Z"
      },
      {
        "duration": 7,
        "start_time": "2023-04-26T19:42:55.914Z"
      },
      {
        "duration": 122,
        "start_time": "2023-04-26T19:42:55.923Z"
      },
      {
        "duration": 0,
        "start_time": "2023-04-26T19:42:56.047Z"
      },
      {
        "duration": 14,
        "start_time": "2023-04-26T19:43:50.540Z"
      },
      {
        "duration": 2907,
        "start_time": "2023-04-26T19:44:33.705Z"
      },
      {
        "duration": 39,
        "start_time": "2023-04-26T19:44:36.614Z"
      },
      {
        "duration": 23,
        "start_time": "2023-04-26T19:44:36.655Z"
      },
      {
        "duration": 22,
        "start_time": "2023-04-26T19:44:36.679Z"
      },
      {
        "duration": 4,
        "start_time": "2023-04-26T19:44:36.704Z"
      },
      {
        "duration": 302,
        "start_time": "2023-04-26T19:44:36.710Z"
      },
      {
        "duration": 6,
        "start_time": "2023-04-26T19:44:37.013Z"
      },
      {
        "duration": 23,
        "start_time": "2023-04-26T19:44:37.020Z"
      },
      {
        "duration": 10,
        "start_time": "2023-04-26T19:44:37.045Z"
      },
      {
        "duration": 11,
        "start_time": "2023-04-26T19:44:37.057Z"
      },
      {
        "duration": 9,
        "start_time": "2023-04-26T19:44:37.070Z"
      },
      {
        "duration": 12,
        "start_time": "2023-04-26T19:44:37.081Z"
      },
      {
        "duration": 14,
        "start_time": "2023-04-26T19:44:37.095Z"
      },
      {
        "duration": 5,
        "start_time": "2023-04-26T19:45:59.674Z"
      },
      {
        "duration": 4,
        "start_time": "2023-04-26T19:46:03.006Z"
      },
      {
        "duration": 10,
        "start_time": "2023-04-26T19:46:04.209Z"
      },
      {
        "duration": 12,
        "start_time": "2023-04-26T19:47:16.571Z"
      }
    ],
    "toc": {
      "base_numbering": 1,
      "nav_menu": {},
      "number_sections": true,
      "sideBar": true,
      "skip_h1_title": true,
      "title_cell": "Содержание",
      "title_sidebar": "Contents",
      "toc_cell": true,
      "toc_position": {},
      "toc_section_display": true,
      "toc_window_display": false
    },
    "kernelspec": {
      "name": "python",
      "display_name": "Python (Pyodide)",
      "language": "python"
    },
    "language_info": {
      "codemirror_mode": {
        "name": "python",
        "version": 3
      },
      "file_extension": ".py",
      "mimetype": "text/x-python",
      "name": "python",
      "nbconvert_exporter": "python",
      "pygments_lexer": "ipython3",
      "version": "3.8"
    }
  },
  "nbformat_minor": 4,
  "nbformat": 4,
  "cells": [
    {
      "cell_type": "markdown",
      "source": "# Защита данных клиентов страховой компании",
      "metadata": {}
    },
    {
      "cell_type": "markdown",
      "source": "<h1>Содержание<span class=\"tocSkip\"></span></h1>\n<div class=\"toc\"><ul class=\"toc-item\"><li><span><a href=\"#Загрузка-данных\" data-toc-modified-id=\"Загрузка-данных-1\"><span class=\"toc-item-num\">1&nbsp;&nbsp;</span>Загрузка данных</a></span><ul class=\"toc-item\"><li><span><a href=\"#Выгрузка-библиотек\" data-toc-modified-id=\"Выгрузка-библиотек-1.1\"><span class=\"toc-item-num\">1.1&nbsp;&nbsp;</span>Выгрузка библиотек</a></span></li><li><span><a href=\"#Выгрузка-и-рассмотрение-данных\" data-toc-modified-id=\"Выгрузка-и-рассмотрение-данных-1.2\"><span class=\"toc-item-num\">1.2&nbsp;&nbsp;</span>Выгрузка и рассмотрение данных</a></span></li><li><span><a href=\"#Выбор-признаков\" data-toc-modified-id=\"Выбор-признаков-1.3\"><span class=\"toc-item-num\">1.3&nbsp;&nbsp;</span>Выбор признаков</a></span></li></ul></li><li><span><a href=\"#Умножение-матриц\" data-toc-modified-id=\"Умножение-матриц-2\"><span class=\"toc-item-num\">2&nbsp;&nbsp;</span>Умножение матриц</a></span></li><li><span><a href=\"#Алгоритм-преобразования\" data-toc-modified-id=\"Алгоритм-преобразования-3\"><span class=\"toc-item-num\">3&nbsp;&nbsp;</span>Алгоритм преобразования</a></span></li><li><span><a href=\"#Проверка-алгоритма\" data-toc-modified-id=\"Проверка-алгоритма-4\"><span class=\"toc-item-num\">4&nbsp;&nbsp;</span>Проверка алгоритма</a></span><ul class=\"toc-item\"><li><span><a href=\"#Разделение-выборок\" data-toc-modified-id=\"Разделение-выборок-4.1\"><span class=\"toc-item-num\">4.1&nbsp;&nbsp;</span>Разделение выборок</a></span></li><li><span><a href=\"#Проверка-на-исходных-данных-(матрица-признаков-$X$)\" data-toc-modified-id=\"Проверка-на-исходных-данных-(матрица-признаков-$X$)-4.2\"><span class=\"toc-item-num\">4.2&nbsp;&nbsp;</span>Проверка на исходных данных (матрица признаков $X$)</a></span></li><li><span><a href=\"#Проверка-на-преобразованных-данных-(матрица-признаков-$I$)\" data-toc-modified-id=\"Проверка-на-преобразованных-данных-(матрица-признаков-$I$)-4.3\"><span class=\"toc-item-num\">4.3&nbsp;&nbsp;</span>Проверка на преобразованных данных (матрица признаков $I$)</a></span></li></ul></li><li><span><a href=\"#Вывод\" data-toc-modified-id=\"Вывод-5\"><span class=\"toc-item-num\">5&nbsp;&nbsp;</span>Вывод</a></span></li><li><span><a href=\"#Чек-лист-проверки\" data-toc-modified-id=\"Чек-лист-проверки-6\"><span class=\"toc-item-num\">6&nbsp;&nbsp;</span>Чек-лист проверки</a></span></li></ul></div>",
      "metadata": {
        "toc": true
      }
    },
    {
      "cell_type": "markdown",
      "source": "# Защита персональных данных клиентов",
      "metadata": {}
    },
    {
      "cell_type": "markdown",
      "source": "Необходимо защитить данные клиентов страховой компании-заказчика, разработав такой метод преобразования данных, чтобы по ним было сложно восстановить персональную информацию. Также необходимо обосновать корректность его работы.\n\nНужно защитить данные, чтобы при преобразовании качество моделей машинного обучения не ухудшилось. Подбирать наилучшую модель не требуется.",
      "metadata": {}
    },
    {
      "cell_type": "markdown",
      "source": "## Загрузка данных",
      "metadata": {}
    },
    {
      "cell_type": "markdown",
      "source": "### Выгрузка библиотек",
      "metadata": {}
    },
    {
      "cell_type": "markdown",
      "source": "Выгрузим необходимые для дальнейшей работы библиотеки:",
      "metadata": {}
    },
    {
      "cell_type": "code",
      "source": "import pandas as pd\nimport numpy as np\nfrom sklearn.metrics import r2_score\nfrom sklearn.linear_model import LinearRegression\nfrom sklearn.model_selection import train_test_split\nimport seaborn as sns  ",
      "metadata": {},
      "execution_count": 1,
      "outputs": []
    },
    {
      "cell_type": "markdown",
      "source": "### Выгрузка и рассмотрение данных",
      "metadata": {}
    },
    {
      "cell_type": "markdown",
      "source": "Выгрузим наш датасет и выведем первые 10 строк датасета",
      "metadata": {}
    },
    {
      "cell_type": "code",
      "source": "df = pd.read_csv('/datasets/insurance.csv')\n",
      "metadata": {},
      "execution_count": 2,
      "outputs": [
        {
          "execution_count": 2,
          "output_type": "execute_result",
          "data": {
            "text/html": [
              "<div>\n",
              "<style scoped>\n",
              "    .dataframe tbody tr th:only-of-type {\n",
              "        vertical-align: middle;\n",
              "    }\n",
              "\n",
              "    .dataframe tbody tr th {\n",
              "        vertical-align: top;\n",
              "    }\n",
              "\n",
              "    .dataframe thead th {\n",
              "        text-align: right;\n",
              "    }\n",
              "</style>\n",
              "<table border=\"1\" class=\"dataframe\">\n",
              "  <thead>\n",
              "    <tr style=\"text-align: right;\">\n",
              "      <th></th>\n",
              "      <th>Пол</th>\n",
              "      <th>Возраст</th>\n",
              "      <th>Зарплата</th>\n",
              "      <th>Члены семьи</th>\n",
              "      <th>Страховые выплаты</th>\n",
              "    </tr>\n",
              "  </thead>\n",
              "  <tbody>\n",
              "    <tr>\n",
              "      <th>0</th>\n",
              "      <td>1</td>\n",
              "      <td>41.0</td>\n",
              "      <td>49600.0</td>\n",
              "      <td>1</td>\n",
              "      <td>0</td>\n",
              "    </tr>\n",
              "    <tr>\n",
              "      <th>1</th>\n",
              "      <td>0</td>\n",
              "      <td>46.0</td>\n",
              "      <td>38000.0</td>\n",
              "      <td>1</td>\n",
              "      <td>1</td>\n",
              "    </tr>\n",
              "    <tr>\n",
              "      <th>2</th>\n",
              "      <td>0</td>\n",
              "      <td>29.0</td>\n",
              "      <td>21000.0</td>\n",
              "      <td>0</td>\n",
              "      <td>0</td>\n",
              "    </tr>\n",
              "    <tr>\n",
              "      <th>3</th>\n",
              "      <td>0</td>\n",
              "      <td>21.0</td>\n",
              "      <td>41700.0</td>\n",
              "      <td>2</td>\n",
              "      <td>0</td>\n",
              "    </tr>\n",
              "    <tr>\n",
              "      <th>4</th>\n",
              "      <td>1</td>\n",
              "      <td>28.0</td>\n",
              "      <td>26100.0</td>\n",
              "      <td>0</td>\n",
              "      <td>0</td>\n",
              "    </tr>\n",
              "    <tr>\n",
              "      <th>5</th>\n",
              "      <td>1</td>\n",
              "      <td>43.0</td>\n",
              "      <td>41000.0</td>\n",
              "      <td>2</td>\n",
              "      <td>1</td>\n",
              "    </tr>\n",
              "    <tr>\n",
              "      <th>6</th>\n",
              "      <td>1</td>\n",
              "      <td>39.0</td>\n",
              "      <td>39700.0</td>\n",
              "      <td>2</td>\n",
              "      <td>0</td>\n",
              "    </tr>\n",
              "    <tr>\n",
              "      <th>7</th>\n",
              "      <td>1</td>\n",
              "      <td>25.0</td>\n",
              "      <td>38600.0</td>\n",
              "      <td>4</td>\n",
              "      <td>0</td>\n",
              "    </tr>\n",
              "    <tr>\n",
              "      <th>8</th>\n",
              "      <td>1</td>\n",
              "      <td>36.0</td>\n",
              "      <td>49700.0</td>\n",
              "      <td>1</td>\n",
              "      <td>0</td>\n",
              "    </tr>\n",
              "    <tr>\n",
              "      <th>9</th>\n",
              "      <td>1</td>\n",
              "      <td>32.0</td>\n",
              "      <td>51700.0</td>\n",
              "      <td>1</td>\n",
              "      <td>0</td>\n",
              "    </tr>\n",
              "  </tbody>\n",
              "</table>\n",
              "</div>"
            ],
            "text/plain": [
              "   Пол  Возраст  Зарплата  Члены семьи  Страховые выплаты\n",
              "0    1     41.0   49600.0            1                  0\n",
              "1    0     46.0   38000.0            1                  1\n",
              "2    0     29.0   21000.0            0                  0\n",
              "3    0     21.0   41700.0            2                  0\n",
              "4    1     28.0   26100.0            0                  0\n",
              "5    1     43.0   41000.0            2                  1\n",
              "6    1     39.0   39700.0            2                  0\n",
              "7    1     25.0   38600.0            4                  0\n",
              "8    1     36.0   49700.0            1                  0\n",
              "9    1     32.0   51700.0            1                  0"
            ]
          },
          "metadata": {}
        }
      ]
    },
    {
      "cell_type": "code",
      "source": "df.describe().info()",
      "metadata": {
        "scrolled": true
      },
      "execution_count": 3,
      "outputs": [
        {
          "name": "stdout",
          "output_type": "stream",
          "text": "<class 'pandas.core.frame.DataFrame'>\n\nIndex: 8 entries, count to max\n\nData columns (total 5 columns):\n\n #   Column             Non-Null Count  Dtype  \n\n---  ------             --------------  -----  \n\n 0   Пол                8 non-null      float64\n\n 1   Возраст            8 non-null      float64\n\n 2   Зарплата           8 non-null      float64\n\n 3   Члены семьи        8 non-null      float64\n\n 4   Страховые выплаты  8 non-null      float64\n\ndtypes: float64(5)\n\nmemory usage: 384.0+ bytes\n"
        }
      ]
    },
    {
      "cell_type": "markdown",
      "source": "Данные не имеют пропусков, тип - float64 здесь приемлем.",
      "metadata": {}
    },
    {
      "cell_type": "code",
      "source": "df.describe()",
      "metadata": {},
      "execution_count": 4,
      "outputs": [
        {
          "execution_count": 4,
          "output_type": "execute_result",
          "data": {
            "text/html": [
              "<div>\n",
              "<style scoped>\n",
              "    .dataframe tbody tr th:only-of-type {\n",
              "        vertical-align: middle;\n",
              "    }\n",
              "\n",
              "    .dataframe tbody tr th {\n",
              "        vertical-align: top;\n",
              "    }\n",
              "\n",
              "    .dataframe thead th {\n",
              "        text-align: right;\n",
              "    }\n",
              "</style>\n",
              "<table border=\"1\" class=\"dataframe\">\n",
              "  <thead>\n",
              "    <tr style=\"text-align: right;\">\n",
              "      <th></th>\n",
              "      <th>Пол</th>\n",
              "      <th>Возраст</th>\n",
              "      <th>Зарплата</th>\n",
              "      <th>Члены семьи</th>\n",
              "      <th>Страховые выплаты</th>\n",
              "    </tr>\n",
              "  </thead>\n",
              "  <tbody>\n",
              "    <tr>\n",
              "      <th>count</th>\n",
              "      <td>5000.000000</td>\n",
              "      <td>5000.000000</td>\n",
              "      <td>5000.000000</td>\n",
              "      <td>5000.000000</td>\n",
              "      <td>5000.000000</td>\n",
              "    </tr>\n",
              "    <tr>\n",
              "      <th>mean</th>\n",
              "      <td>0.499000</td>\n",
              "      <td>30.952800</td>\n",
              "      <td>39916.360000</td>\n",
              "      <td>1.194200</td>\n",
              "      <td>0.148000</td>\n",
              "    </tr>\n",
              "    <tr>\n",
              "      <th>std</th>\n",
              "      <td>0.500049</td>\n",
              "      <td>8.440807</td>\n",
              "      <td>9900.083569</td>\n",
              "      <td>1.091387</td>\n",
              "      <td>0.463183</td>\n",
              "    </tr>\n",
              "    <tr>\n",
              "      <th>min</th>\n",
              "      <td>0.000000</td>\n",
              "      <td>18.000000</td>\n",
              "      <td>5300.000000</td>\n",
              "      <td>0.000000</td>\n",
              "      <td>0.000000</td>\n",
              "    </tr>\n",
              "    <tr>\n",
              "      <th>25%</th>\n",
              "      <td>0.000000</td>\n",
              "      <td>24.000000</td>\n",
              "      <td>33300.000000</td>\n",
              "      <td>0.000000</td>\n",
              "      <td>0.000000</td>\n",
              "    </tr>\n",
              "    <tr>\n",
              "      <th>50%</th>\n",
              "      <td>0.000000</td>\n",
              "      <td>30.000000</td>\n",
              "      <td>40200.000000</td>\n",
              "      <td>1.000000</td>\n",
              "      <td>0.000000</td>\n",
              "    </tr>\n",
              "    <tr>\n",
              "      <th>75%</th>\n",
              "      <td>1.000000</td>\n",
              "      <td>37.000000</td>\n",
              "      <td>46600.000000</td>\n",
              "      <td>2.000000</td>\n",
              "      <td>0.000000</td>\n",
              "    </tr>\n",
              "    <tr>\n",
              "      <th>max</th>\n",
              "      <td>1.000000</td>\n",
              "      <td>65.000000</td>\n",
              "      <td>79000.000000</td>\n",
              "      <td>6.000000</td>\n",
              "      <td>5.000000</td>\n",
              "    </tr>\n",
              "  </tbody>\n",
              "</table>\n",
              "</div>"
            ],
            "text/plain": [
              "               Пол      Возраст      Зарплата  Члены семьи  Страховые выплаты\n",
              "count  5000.000000  5000.000000   5000.000000  5000.000000        5000.000000\n",
              "mean      0.499000    30.952800  39916.360000     1.194200           0.148000\n",
              "std       0.500049     8.440807   9900.083569     1.091387           0.463183\n",
              "min       0.000000    18.000000   5300.000000     0.000000           0.000000\n",
              "25%       0.000000    24.000000  33300.000000     0.000000           0.000000\n",
              "50%       0.000000    30.000000  40200.000000     1.000000           0.000000\n",
              "75%       1.000000    37.000000  46600.000000     2.000000           0.000000\n",
              "max       1.000000    65.000000  79000.000000     6.000000           5.000000"
            ]
          },
          "metadata": {}
        }
      ]
    },
    {
      "cell_type": "markdown",
      "source": "Как мы видим - наш датасет состоит из 5 колонок (Пол, Возраст, Зарплата, Члены семьи и Страховые выплаты) и 4999 строк по каждому из клиентов.",
      "metadata": {}
    },
    {
      "cell_type": "markdown",
      "source": "### Выбор признаков",
      "metadata": {}
    },
    {
      "cell_type": "markdown",
      "source": "Для работой с моделью линейной регрессии нам необходимо выделить целевой признак и сопутствующие признаки из датасета. В нашей задаче целевым признаком будет являться колонка \"Страховые выплаты\", а сопутствующими - оставшийся датасет. Запишем это в коде.",
      "metadata": {}
    },
    {
      "cell_type": "code",
      "source": "features = df.drop('Страховые выплаты', axis=1)\ntarget = df['Страховые выплаты']\nfeatures.shape, target.shape",
      "metadata": {},
      "execution_count": 5,
      "outputs": [
        {
          "execution_count": 5,
          "output_type": "execute_result",
          "data": {
            "text/plain": [
              "((5000, 4), (5000,))"
            ]
          },
          "metadata": {}
        }
      ]
    },
    {
      "cell_type": "markdown",
      "source": "Для модели линейной регрессии в этом проекте важно, чтобы не было мультиколлинеарности, то есть ситуации, когда две независимые переменные имеют сильную корреляцию.\n\nЧтобы проверить взаимосвязь между признаками выведем коэффициенты корреляции на экран и построим heatmap корреляции с использованием seaborn.",
      "metadata": {}
    },
    {
      "cell_type": "code",
      "source": "print(features.corr())  \n    \nfeatures_plot = sns.heatmap(features.corr(), cmap=\"YlGnBu\", annot=True)  \n    \n",
      "metadata": {},
      "execution_count": 6,
      "outputs": [
        {
          "name": "stdout",
          "output_type": "stream",
          "text": "                  Пол   Возраст  Зарплата  Члены семьи\n\nПол          1.000000  0.002074  0.014910    -0.008991\n\nВозраст      0.002074  1.000000 -0.019093    -0.006692\n\nЗарплата     0.014910 -0.019093  1.000000    -0.030296\n\nЧлены семьи -0.008991 -0.006692 -0.030296     1.000000\n"
        },
        {
          "output_type": "display_data",
          "data": {
            "image/png": "[encoded data removed]",
            "text/plain": [
              "<Figure size 432x288 with 2 Axes>"
            ]
          },
          "metadata": {
            "needs_background": "light"
          }
        }
      ]
    },
    {
      "cell_type": "markdown",
      "source": "Как видно из полученного графика - зависимость между признаками нормальная. В противном случае, модель выдавала бы слишком высокие значения предсказаний, что не очень хорошо для данных, которые нужно зашифровать.",
      "metadata": {}
    },
    {
      "cell_type": "markdown",
      "source": "## Умножение матриц",
      "metadata": {}
    },
    {
      "cell_type": "markdown",
      "source": "Проверим - изменится ли значение предсказаний линейной регрессии $a$ при умножении матрицы признаков на матрицу $P$? а также ответим на вопрос в как соотносятся между собой $w$ и $w_{p}$?",
      "metadata": {}
    },
    {
      "cell_type": "markdown",
      "source": "Обозначения:\n\n- $X$ — матрица признаков (нулевой столбец состоит из единиц)\n\n- $y$ — вектор целевого признака\n\n- $P$ — матрица, на которую умножаются признаки\n\n- $w$ — вектор весов линейной регрессии (нулевой элемент равен сдвигу)",
      "metadata": {}
    },
    {
      "cell_type": "markdown",
      "source": "Предсказания:\n\n$$\na = Xw\n$$\n\nЗадача обучения:\n\n$$\nw = \\arg\\min_w MSE(Xw, y)\n$$\n\nФормула обучения:\n\n$$\nw = (X^T X)^{-1} X^T y\n$$",
      "metadata": {}
    },
    {
      "cell_type": "markdown",
      "source": "**Ответ:** При умножении матрицы признаков на обратную - значения предсказания модели линейной регрессии не меняются.\n\n**Обоснование:** Пусть матрица $I = XP$ (матрица признаков, умноженная на матрицу, на которую умножаются признаки)\n\nДокажем, что предсказания ($а$) матрицы признаков равны предсказаниям ($а_{p}$) преобразованной матрицы.\n\nИз условия задачи видим:\n\n$\na = Xw\n$\n\n$\nw = (X^T X)^{-1} X^T y\n$\n\nСледовательно\n\n$\nw_{p} = (I^T I)^{-1} I^T y\n$\n\nПодставим в формулу вместо матрицы $I$ выражение $XP$, так как новая матрица $I = XP$. Уравнение примет следуюищй вид:\n\n$\nw_{p} = ((XP)^T XP)^{-1} (XP)^T y\n$\n\nДля решения воспользуемся формулами матриц: $(AB)^{-1} = B^{-1}A^{-1}, (AA)^{-1} = A^{-1}A = E, (AB)^T = B^T A^T $\n\n$\nw_{p} = ((XP)^T XP)^{-1} (XP)^T y = ((P^T X^T XP)^{-1} (XP)^T y = P^{-1} (X^T X)^{-1} (P^T)^{-1} (XP)^T y = P^{-1} (X^T X)^{-1} (P^T)^{-1} P^T X^T y = P^{-1} (X^T X)^{-1} X^T y\n$\n\nНайдем как соотносятся $\\frac{W}{w_{p}}$:\n\n$\n\\frac{W}{w_{p}} = \\frac{(X^T X)^{-1} X^T y}{P^{-1} (X^T X)^{-1} X^T y} = \\frac{1}{P^{-1}} = P\n$\n\nДелаем вывод, что формулы обучения соотносятся как перемножение исходной матрицы на матрицу $P$ - что, собственно, мы и делали.\n\nТеперь посмотрим, как соотносятся предсказания $a$ и $a_{p}$:\n\n$\na = X(X^T X)^{-1} X^T y\n$\n\n$\na_{p} = XPw_{p} = XP P^{-1} (X^T X)^{-1} X^T y = X(X^T X)^{-1} X^T y = a\n$\n\nСледовательно, можно сделать вывод, что при умножении матрицы признаков на матрицу $P$, значение предсказания модели не меняется.",
      "metadata": {}
    },
    {
      "cell_type": "markdown",
      "source": "## Алгоритм преобразования",
      "metadata": {}
    },
    {
      "cell_type": "markdown",
      "source": "Чтобы повысить безопасность данных воспользуемся алгоритмом шифрования. Он будет представлять из себя умножение матрицы признаков на обратную ей матрицу. \n\nЧтобы вдальнейшем дешифровать алгоритм - необходимо будет выполнить эту операцию в обратном порядке.\n\nСформулируем алгоритм преобразования.",
      "metadata": {}
    },
    {
      "cell_type": "markdown",
      "source": "**Алгоритм**\n\n- 1. Составляем случайную матрицу $Y$ размерностью $(n,n)$ - такой же, ка и матрица $X$\n- 2. Проверяем ее на обратимость\n- 3. Если матрица необратима - генерируем ее до тех пор, пока не получим обратимую\n- 4. Составляем преобразованную матрицу признаков $I = XY$\n- 5. Применяем модель линейной регрессии на преобразованной матрице $I$",
      "metadata": {}
    },
    {
      "cell_type": "markdown",
      "source": "**Обоснование**\n\nОбратная матрица будет генерироваться, как говорилось выше, случайно. Формула необходимой нам матрицы, которую мы будем вводить в линейную регрессию будет иметь вид $I$ = $X$$Y$, а учитывая, что сгенерированная матрица $Y$ будет иметь схожую с нашей исходной матрицей признаков $X$ размерность, то, по формуле умножения матриц, матрица $I$  будет иметь ту же размерность, что и матрица $X$.",
      "metadata": {}
    },
    {
      "cell_type": "markdown",
      "source": "## Проверка алгоритма",
      "metadata": {}
    },
    {
      "cell_type": "markdown",
      "source": "### Разделение выборок",
      "metadata": {}
    },
    {
      "cell_type": "markdown",
      "source": "Перед началом умножения и проверки алгоритма разделим данные на обучающую и тестовую выборки методом train_test_split в пропорциях 75/25",
      "metadata": {}
    },
    {
      "cell_type": "code",
      "source": "features_train, features_test, target_train, target_test = train_test_split(features, target, test_size=0.25, random_state = 1234)",
      "metadata": {},
      "execution_count": 7,
      "outputs": []
    },
    {
      "cell_type": "markdown",
      "source": "Выборки разделены на тренировочную и тестовую. Перейдем к обучению алгоритма сначала на исходных, а затем на новых данных.",
      "metadata": {}
    },
    {
      "cell_type": "markdown",
      "source": "### Проверка на исходных данных (матрица признаков $X$)",
      "metadata": {}
    },
    {
      "cell_type": "markdown",
      "source": "Обучим модель на исходных данных, чтобы вдальнейшем сравнить метрику R2 на ней и на модели, которая будет обучаться на данных после умножения матриц признаков.",
      "metadata": {}
    },
    {
      "cell_type": "code",
      "source": "model = LinearRegression()\nmodel.fit(features_train, target_train)\nprint('Метрика R2 на исходных данных:', r2_score(target_test, model.predict(features_test)))",
      "metadata": {},
      "execution_count": 8,
      "outputs": [
        {
          "name": "stdout",
          "output_type": "stream",
          "text": "Метрика R2 на исходных данных: 0.42496205427835687\n"
        }
      ]
    },
    {
      "cell_type": "markdown",
      "source": "### Проверка на преобразованных данных (матрица признаков $I$)",
      "metadata": {}
    },
    {
      "cell_type": "markdown",
      "source": "Перед тем, как приступить к проверке алгоритма, необходимо сгенерировать случайную матрицу $Y$ (обратную матрице $X$), а затем перемножить их, чтобы получить необходимую нам матрицу $I$. Приступим.",
      "metadata": {}
    },
    {
      "cell_type": "markdown",
      "source": "Создадим функцию new_features, которая:\n- На вход принимает признаки для регрессии (нашу матрицу признаков $X$), \n- Создает случайную матрицу $Y$ такой же размерности, как исходная матрица $X$, \n- Перемножает матрицу признаков $X$ на обратную ей матрицу $Y$,\n- Выводит получившуюся матрицу с преобразованными признаками (матрицу $I$)",
      "metadata": {}
    },
    {
      "cell_type": "code",
      "source": "def new_features(features):\n    ft = features\n    n = features.shape[1] #задаем размерность случайной матрицы \n    np.random.seed(12345)\n    Y = np.random.randint(1, 10, (n,n))\n    INV = np.linalg.det(Y) #проверяем матрицу на обратимость (нет ошибки - обратима)\n    I = ft @ Y\n    return I",
      "metadata": {},
      "execution_count": 9,
      "outputs": []
    },
    {
      "cell_type": "code",
      "source": "features = new_features(features) #передадим новые признаки перед проверкой модели",
      "metadata": {
        "scrolled": true
      },
      "execution_count": 11,
      "outputs": []
    },
    {
      "cell_type": "markdown",
      "source": "Так же, как и в прошлом шаге - разделим выборку на тренировочную и тестовую в пропорции 75/25:",
      "metadata": {}
    },
    {
      "cell_type": "code",
      "source": "features_train, features_test, target_train, target_test = train_test_split(features, target, test_size=0.25, random_state = 1234)",
      "metadata": {},
      "execution_count": 15,
      "outputs": []
    },
    {
      "cell_type": "markdown",
      "source": "Обучим модель линейной регрессии на преобразованных данных и выведем метрику R2:",
      "metadata": {}
    },
    {
      "cell_type": "code",
      "source": "model = LinearRegression()\nmodel.fit(features_train, target_train)\nprint('Метрика R2 на преобразованных данных:', r2_score(target_test, model.predict(features_test)))",
      "metadata": {},
      "execution_count": 16,
      "outputs": [
        {
          "name": "stdout",
          "output_type": "stream",
          "text": "Метрика R2 на преобразованных данных: 0.4249620542782261\n"
        }
      ]
    },
    {
      "cell_type": "markdown",
      "source": "Как мы видим из полученных данных - метрика R2 модели на исходных данных совпадает с метрикой R2 на преобразованных данных и составляет 0.4249. Можно сделать вывод, что алгоритм работает.",
      "metadata": {}
    },
    {
      "cell_type": "markdown",
      "source": "## Вывод",
      "metadata": {}
    },
    {
      "cell_type": "markdown",
      "source": "Перед нами стояла задача по защите данные клиентов страховой компании, которая заключалась в разработке такого метода преобразования данных, чтобы по ним было сложно восстановить персональную информацию. Также было необходимо обосновать корректность работы найденного алгоритма.\n\nВ начале мы выгрузили и проверили данные - оказалось, что предобработка им не требуется. Данные без пропусков, с подходящим для работы типом данных. Затем мы выделили признаки - в нашей задаче целевым признаком стала колонка \"Страховые выплаты\" датасета, а сопутствующими - остальной датасет.\n\nЗатем нам необходимо было математически доказать, что при умножении матрицы признаков на матрицу $P$ значения предсказаний не поменяются. Для этого мы, путем вычислений, доказали, что предсказания $a$ на исходной матрице $X$ будут равны предсказаниям $a_p$ на матрице $I$, то есть:\n\n$\na_{p} = XPw_{p} = XP P^{-1} (X^T X)^{-1} X^T y = X(X^T X)^{-1} X^T y = a\n$\n\nА следовательно, эту особенность можно будет использовать для защиты данных пользователей.\n\nДалее нам необходимо было предложить алгоритм защиты данных, при котором показатели качества модели (в нашем случае метрика R2) не меняются. Таким алгоритмом был выбран алгоритм, который:\n\n- Составляет случайную матрицу $Y$ размерностью $(n,n)$ - такой же, ка и матрица $X$\n- Проверяет ее на обратимость\n- Если матрица необратима - генерирует ее до тех пор, пока не получится обратимая\n- Составляет преобразованную матрицу признаков $I = XY$\n- Применяет модель линейной регрессии на преобразованной матрице $I$\n\nДля этого мы написали функцию, которая: \n\n- на вход принимает признаки для регрессии (нашу матрицу признаков $X$), \n- создает случайную матрицу $Y$ такой же размерности, как исходная матрица $X$, \n- перемножает матрицу признаков $X$ на обратную ей матрицу $Y$,\n- выводит получившуюся матрицу с преобразованными признаками (матрицу $I$).\n\nЗатем мы преобразовали наши признаки с помощью этой функции и обучили на них модель Линейной регрессии. По полученным результатам, метрика R2, полученная на исходных данных (этот шаг провели перед созданием функции) и полученная на преобразованных данных (с помощью функции) оказались равны (составили 0.4249).\n\nНа основании вышеизложенного можно сделать вывод, что алгоритм преобразования, заключающийся в умножении матрицы признаков (данных клиентов) на матрицу, обратную ей, эффективен, при этом качество моделей не отличается друг от друга.",
      "metadata": {}
    },
    {
      "cell_type": "code",
      "source": "",
      "metadata": {},
      "execution_count": null,
      "outputs": []
    }
  ]
}