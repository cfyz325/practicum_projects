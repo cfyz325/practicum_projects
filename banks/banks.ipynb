{
  "metadata": {
    "ExecuteTimeLog": [
      {
        "duration": 1205,
        "start_time": "2023-03-09T23:09:46.223Z"
      },
      {
        "duration": 97,
        "start_time": "2023-03-09T23:09:47.992Z"
      },
      {
        "duration": 14,
        "start_time": "2023-03-09T23:09:48.697Z"
      },
      {
        "duration": 118,
        "start_time": "2023-03-09T23:10:27.621Z"
      },
      {
        "duration": 10,
        "start_time": "2023-03-09T23:10:34.510Z"
      },
      {
        "duration": 10,
        "start_time": "2023-03-09T23:10:39.420Z"
      },
      {
        "duration": 9,
        "start_time": "2023-03-09T23:10:43.397Z"
      },
      {
        "duration": 15,
        "start_time": "2023-03-09T23:10:56.065Z"
      },
      {
        "duration": 9,
        "start_time": "2023-03-09T23:11:56.157Z"
      },
      {
        "duration": 17,
        "start_time": "2023-03-09T23:12:12.424Z"
      },
      {
        "duration": 21,
        "start_time": "2023-03-09T23:12:17.236Z"
      },
      {
        "duration": 19,
        "start_time": "2023-03-09T23:14:08.088Z"
      },
      {
        "duration": 1446,
        "start_time": "2023-03-12T13:54:26.596Z"
      },
      {
        "duration": 172,
        "start_time": "2023-03-12T13:54:28.044Z"
      },
      {
        "duration": 25,
        "start_time": "2023-03-12T13:54:28.699Z"
      },
      {
        "duration": 13,
        "start_time": "2023-03-12T13:54:30.068Z"
      },
      {
        "duration": 15,
        "start_time": "2023-03-12T13:54:30.610Z"
      },
      {
        "duration": 47,
        "start_time": "2023-03-12T13:54:32.506Z"
      },
      {
        "duration": 6,
        "start_time": "2023-03-12T13:54:38.232Z"
      },
      {
        "duration": 17,
        "start_time": "2023-03-12T13:54:49.274Z"
      },
      {
        "duration": 4,
        "start_time": "2023-03-12T13:58:17.972Z"
      },
      {
        "duration": 160,
        "start_time": "2023-03-12T14:04:51.427Z"
      },
      {
        "duration": 24,
        "start_time": "2023-03-12T14:05:12.505Z"
      },
      {
        "duration": 27,
        "start_time": "2023-03-12T14:05:41.782Z"
      },
      {
        "duration": 14,
        "start_time": "2023-03-12T14:05:52.330Z"
      },
      {
        "duration": 5,
        "start_time": "2023-03-12T14:06:03.972Z"
      },
      {
        "duration": 13,
        "start_time": "2023-03-12T14:06:14.569Z"
      },
      {
        "duration": 19,
        "start_time": "2023-03-12T14:06:32.777Z"
      },
      {
        "duration": 1258,
        "start_time": "2023-03-12T14:06:48.733Z"
      },
      {
        "duration": 48,
        "start_time": "2023-03-12T14:06:49.994Z"
      },
      {
        "duration": 26,
        "start_time": "2023-03-12T14:06:51.025Z"
      },
      {
        "duration": 9,
        "start_time": "2023-03-12T14:06:55.703Z"
      },
      {
        "duration": 26,
        "start_time": "2023-03-12T14:07:04.049Z"
      },
      {
        "duration": 145,
        "start_time": "2023-03-12T14:08:33.015Z"
      },
      {
        "duration": 13,
        "start_time": "2023-03-12T14:08:46.881Z"
      },
      {
        "duration": 4,
        "start_time": "2023-03-12T14:08:53.992Z"
      },
      {
        "duration": 20,
        "start_time": "2023-03-12T14:10:49.619Z"
      },
      {
        "duration": 11,
        "start_time": "2023-03-12T14:10:50.648Z"
      },
      {
        "duration": 6,
        "start_time": "2023-03-12T14:10:55.819Z"
      },
      {
        "duration": 14,
        "start_time": "2023-03-12T14:10:56.758Z"
      },
      {
        "duration": 763,
        "start_time": "2023-03-12T14:15:58.740Z"
      },
      {
        "duration": 6,
        "start_time": "2023-03-12T14:16:10.843Z"
      },
      {
        "duration": 9,
        "start_time": "2023-03-12T14:16:46.000Z"
      },
      {
        "duration": 9,
        "start_time": "2023-03-12T14:17:00.284Z"
      },
      {
        "duration": 63,
        "start_time": "2023-03-12T14:19:04.409Z"
      },
      {
        "duration": 56,
        "start_time": "2023-03-12T14:19:23.120Z"
      },
      {
        "duration": 12,
        "start_time": "2023-03-12T14:19:58.254Z"
      },
      {
        "duration": 4,
        "start_time": "2023-03-12T14:20:20.242Z"
      },
      {
        "duration": 4,
        "start_time": "2023-03-12T14:21:13.072Z"
      },
      {
        "duration": 7,
        "start_time": "2023-03-12T14:23:42.382Z"
      },
      {
        "duration": 19,
        "start_time": "2023-03-12T14:37:09.655Z"
      },
      {
        "duration": 3,
        "start_time": "2023-03-12T14:38:28.375Z"
      },
      {
        "duration": 17,
        "start_time": "2023-03-12T14:38:34.493Z"
      },
      {
        "duration": 16,
        "start_time": "2023-03-12T14:38:49.294Z"
      },
      {
        "duration": 11,
        "start_time": "2023-03-12T14:40:49.350Z"
      },
      {
        "duration": 8,
        "start_time": "2023-03-12T14:41:03.925Z"
      },
      {
        "duration": 33,
        "start_time": "2023-03-12T14:41:10.262Z"
      },
      {
        "duration": 51,
        "start_time": "2023-03-12T14:41:22.602Z"
      },
      {
        "duration": 4,
        "start_time": "2023-03-12T14:44:35.266Z"
      },
      {
        "duration": 17,
        "start_time": "2023-03-12T14:47:06.765Z"
      },
      {
        "duration": 26,
        "start_time": "2023-03-12T14:47:30.415Z"
      },
      {
        "duration": 6,
        "start_time": "2023-03-12T14:47:34.674Z"
      },
      {
        "duration": 5,
        "start_time": "2023-03-12T14:47:49.951Z"
      },
      {
        "duration": 12,
        "start_time": "2023-03-12T14:49:09.462Z"
      },
      {
        "duration": 14,
        "start_time": "2023-03-12T14:49:30.105Z"
      },
      {
        "duration": 7,
        "start_time": "2023-03-12T14:49:31.011Z"
      },
      {
        "duration": 6,
        "start_time": "2023-03-12T14:49:32.045Z"
      },
      {
        "duration": 15,
        "start_time": "2023-03-12T14:49:36.289Z"
      },
      {
        "duration": 4,
        "start_time": "2023-03-12T15:06:31.721Z"
      },
      {
        "duration": 1325,
        "start_time": "2023-03-12T15:12:51.058Z"
      },
      {
        "duration": 48,
        "start_time": "2023-03-12T15:12:54.718Z"
      },
      {
        "duration": 24,
        "start_time": "2023-03-12T15:12:55.541Z"
      },
      {
        "duration": 6,
        "start_time": "2023-03-12T15:12:56.742Z"
      },
      {
        "duration": 21,
        "start_time": "2023-03-12T15:12:58.017Z"
      },
      {
        "duration": 13,
        "start_time": "2023-03-12T15:12:59.199Z"
      },
      {
        "duration": 10,
        "start_time": "2023-03-12T15:13:00.139Z"
      },
      {
        "duration": 6,
        "start_time": "2023-03-12T15:13:01.868Z"
      },
      {
        "duration": 21,
        "start_time": "2023-03-12T15:13:02.619Z"
      },
      {
        "duration": 15,
        "start_time": "2023-03-12T15:13:05.260Z"
      },
      {
        "duration": 6,
        "start_time": "2023-03-12T15:13:05.948Z"
      },
      {
        "duration": 7,
        "start_time": "2023-03-12T15:13:06.635Z"
      },
      {
        "duration": 6,
        "start_time": "2023-03-12T15:13:07.612Z"
      },
      {
        "duration": 12,
        "start_time": "2023-03-12T15:13:16.701Z"
      },
      {
        "duration": 369094,
        "start_time": "2023-03-12T15:13:30.368Z"
      },
      {
        "duration": 4,
        "start_time": "2023-03-12T15:19:39.465Z"
      },
      {
        "duration": 2229,
        "start_time": "2023-03-12T15:19:39.470Z"
      },
      {
        "duration": 1428,
        "start_time": "2023-03-12T15:22:29.917Z"
      },
      {
        "duration": 2336,
        "start_time": "2023-03-12T15:23:18.609Z"
      },
      {
        "duration": 2337,
        "start_time": "2023-03-12T15:27:36.334Z"
      },
      {
        "duration": 349869,
        "start_time": "2023-03-12T15:28:05.310Z"
      },
      {
        "duration": 2063,
        "start_time": "2023-03-12T15:33:55.181Z"
      },
      {
        "duration": 6143,
        "start_time": "2023-03-12T15:33:57.322Z"
      },
      {
        "duration": 1058,
        "start_time": "2023-03-13T19:35:54.780Z"
      },
      {
        "duration": 206,
        "start_time": "2023-03-13T19:35:55.840Z"
      },
      {
        "duration": 22,
        "start_time": "2023-03-13T19:35:56.047Z"
      },
      {
        "duration": 5,
        "start_time": "2023-03-13T19:35:56.071Z"
      },
      {
        "duration": 23,
        "start_time": "2023-03-13T19:35:56.078Z"
      },
      {
        "duration": 14,
        "start_time": "2023-03-13T19:35:56.835Z"
      },
      {
        "duration": 10,
        "start_time": "2023-03-13T19:35:57.042Z"
      },
      {
        "duration": 6,
        "start_time": "2023-03-13T19:35:57.443Z"
      },
      {
        "duration": 13,
        "start_time": "2023-03-13T19:35:57.897Z"
      },
      {
        "duration": 16,
        "start_time": "2023-03-13T19:35:59.202Z"
      },
      {
        "duration": 5,
        "start_time": "2023-03-13T19:36:00.794Z"
      },
      {
        "duration": 5,
        "start_time": "2023-03-13T19:36:01.730Z"
      },
      {
        "duration": 5,
        "start_time": "2023-03-13T19:36:02.543Z"
      },
      {
        "duration": 12,
        "start_time": "2023-03-13T19:36:06.175Z"
      },
      {
        "duration": 26758,
        "start_time": "2023-03-13T19:36:28.895Z"
      },
      {
        "duration": 5806,
        "start_time": "2023-03-13T19:37:32.493Z"
      },
      {
        "duration": 4314,
        "start_time": "2023-03-13T19:42:26.544Z"
      },
      {
        "duration": 29396,
        "start_time": "2023-03-13T19:45:07.798Z"
      },
      {
        "duration": 188,
        "start_time": "2023-03-13T19:47:49.906Z"
      },
      {
        "duration": 5,
        "start_time": "2023-03-13T19:48:10.550Z"
      },
      {
        "duration": 30621,
        "start_time": "2023-03-13T19:48:14.947Z"
      },
      {
        "duration": 56275,
        "start_time": "2023-03-13T19:49:02.591Z"
      },
      {
        "duration": 58717,
        "start_time": "2023-03-13T19:50:22.342Z"
      },
      {
        "duration": 57891,
        "start_time": "2023-03-13T19:53:08.034Z"
      },
      {
        "duration": 112377,
        "start_time": "2023-03-13T19:54:54.458Z"
      },
      {
        "duration": 6238,
        "start_time": "2023-03-13T19:58:04.631Z"
      },
      {
        "duration": 1805,
        "start_time": "2023-03-13T19:59:32.943Z"
      },
      {
        "duration": 146,
        "start_time": "2023-03-13T20:02:55.501Z"
      },
      {
        "duration": 143,
        "start_time": "2023-03-13T20:03:25.406Z"
      },
      {
        "duration": 1209,
        "start_time": "2023-03-13T20:06:18.405Z"
      },
      {
        "duration": 46,
        "start_time": "2023-03-13T20:06:20.500Z"
      },
      {
        "duration": 26,
        "start_time": "2023-03-13T20:06:21.469Z"
      },
      {
        "duration": 6,
        "start_time": "2023-03-13T20:06:22.208Z"
      },
      {
        "duration": 13,
        "start_time": "2023-03-13T20:06:22.482Z"
      },
      {
        "duration": 12,
        "start_time": "2023-03-13T20:06:22.867Z"
      },
      {
        "duration": 8,
        "start_time": "2023-03-13T20:06:23.086Z"
      },
      {
        "duration": 5,
        "start_time": "2023-03-13T20:06:23.936Z"
      },
      {
        "duration": 25,
        "start_time": "2023-03-13T20:06:24.233Z"
      },
      {
        "duration": 14,
        "start_time": "2023-03-13T20:06:25.506Z"
      },
      {
        "duration": 5,
        "start_time": "2023-03-13T20:06:26.413Z"
      },
      {
        "duration": 6,
        "start_time": "2023-03-13T20:06:27.019Z"
      },
      {
        "duration": 11,
        "start_time": "2023-03-13T20:06:27.753Z"
      },
      {
        "duration": 13,
        "start_time": "2023-03-13T20:06:28.815Z"
      },
      {
        "duration": 59245,
        "start_time": "2023-03-13T20:06:56.731Z"
      },
      {
        "duration": 6333,
        "start_time": "2023-03-13T20:08:03.104Z"
      },
      {
        "duration": 2466,
        "start_time": "2023-03-13T20:08:13.710Z"
      },
      {
        "duration": 58348,
        "start_time": "2023-03-13T20:08:20.501Z"
      },
      {
        "duration": 6254,
        "start_time": "2023-03-13T20:09:31.135Z"
      },
      {
        "duration": 1350,
        "start_time": "2023-03-13T20:09:44.394Z"
      },
      {
        "duration": 16,
        "start_time": "2023-03-13T20:09:52.096Z"
      },
      {
        "duration": 108895,
        "start_time": "2023-03-13T20:10:21.277Z"
      },
      {
        "duration": 6443,
        "start_time": "2023-03-13T20:14:14.591Z"
      },
      {
        "duration": 9637,
        "start_time": "2023-03-13T20:14:44.552Z"
      },
      {
        "duration": 99,
        "start_time": "2023-03-13T20:15:43.468Z"
      },
      {
        "duration": 4,
        "start_time": "2023-03-13T20:19:42.573Z"
      },
      {
        "duration": 105,
        "start_time": "2023-03-13T20:20:27.176Z"
      },
      {
        "duration": 5,
        "start_time": "2023-03-13T20:20:47.940Z"
      },
      {
        "duration": 11,
        "start_time": "2023-03-13T20:21:11.432Z"
      },
      {
        "duration": 21363,
        "start_time": "2023-03-13T20:21:12.995Z"
      },
      {
        "duration": 9333,
        "start_time": "2023-03-13T20:23:24.503Z"
      },
      {
        "duration": 1783,
        "start_time": "2023-03-13T20:24:00.222Z"
      },
      {
        "duration": 97,
        "start_time": "2023-03-13T20:25:05.957Z"
      },
      {
        "duration": 3,
        "start_time": "2023-03-13T20:27:17.308Z"
      },
      {
        "duration": 3,
        "start_time": "2023-03-13T20:28:39.918Z"
      },
      {
        "duration": 51591,
        "start_time": "2023-03-13T20:35:08.337Z"
      },
      {
        "duration": 358,
        "start_time": "2023-03-13T20:36:42.598Z"
      },
      {
        "duration": 51623,
        "start_time": "2023-03-13T20:36:48.343Z"
      },
      {
        "duration": 52151,
        "start_time": "2023-03-13T20:39:05.895Z"
      },
      {
        "duration": 1849,
        "start_time": "2023-03-13T20:48:48.897Z"
      },
      {
        "duration": 5711,
        "start_time": "2023-03-13T20:50:00.997Z"
      },
      {
        "duration": 323,
        "start_time": "2023-03-13T20:50:22.207Z"
      },
      {
        "duration": 376,
        "start_time": "2023-03-13T20:56:27.206Z"
      },
      {
        "duration": 326,
        "start_time": "2023-03-13T20:56:38.900Z"
      },
      {
        "duration": 355,
        "start_time": "2023-03-13T20:56:57.836Z"
      },
      {
        "duration": 335,
        "start_time": "2023-03-13T21:02:09.621Z"
      },
      {
        "duration": 1372,
        "start_time": "2023-03-13T21:02:48.885Z"
      },
      {
        "duration": 41,
        "start_time": "2023-03-13T21:02:50.775Z"
      },
      {
        "duration": 20,
        "start_time": "2023-03-13T21:02:52.224Z"
      },
      {
        "duration": 7,
        "start_time": "2023-03-13T21:02:53.174Z"
      },
      {
        "duration": 13,
        "start_time": "2023-03-13T21:02:53.640Z"
      },
      {
        "duration": 11,
        "start_time": "2023-03-13T21:02:54.722Z"
      },
      {
        "duration": 9,
        "start_time": "2023-03-13T21:02:55.197Z"
      },
      {
        "duration": 5,
        "start_time": "2023-03-13T21:02:56.446Z"
      },
      {
        "duration": 13,
        "start_time": "2023-03-13T21:02:57.040Z"
      },
      {
        "duration": 14,
        "start_time": "2023-03-13T21:02:59.254Z"
      },
      {
        "duration": 8,
        "start_time": "2023-03-13T21:02:59.794Z"
      },
      {
        "duration": 6,
        "start_time": "2023-03-13T21:03:00.553Z"
      },
      {
        "duration": 5,
        "start_time": "2023-03-13T21:03:01.541Z"
      },
      {
        "duration": 11,
        "start_time": "2023-03-13T21:03:02.909Z"
      },
      {
        "duration": 443,
        "start_time": "2023-03-13T21:03:11.492Z"
      },
      {
        "duration": 11,
        "start_time": "2023-03-13T21:08:55.806Z"
      },
      {
        "duration": 6,
        "start_time": "2023-03-13T21:10:00.710Z"
      },
      {
        "duration": 29,
        "start_time": "2023-03-13T21:10:08.193Z"
      },
      {
        "duration": 366,
        "start_time": "2023-03-13T21:10:13.905Z"
      },
      {
        "duration": 351,
        "start_time": "2023-03-13T21:11:40.519Z"
      },
      {
        "duration": 26,
        "start_time": "2023-03-13T21:12:51.994Z"
      },
      {
        "duration": 52544,
        "start_time": "2023-03-13T21:12:54.843Z"
      },
      {
        "duration": 51466,
        "start_time": "2023-03-13T21:13:54.505Z"
      },
      {
        "duration": 5838,
        "start_time": "2023-03-13T21:14:57.100Z"
      },
      {
        "duration": 466,
        "start_time": "2023-03-13T21:15:12.879Z"
      },
      {
        "duration": 52295,
        "start_time": "2023-03-13T21:15:28.537Z"
      },
      {
        "duration": 5462,
        "start_time": "2023-03-13T21:16:29.072Z"
      },
      {
        "duration": 965,
        "start_time": "2023-03-13T21:16:39.979Z"
      },
      {
        "duration": 14,
        "start_time": "2023-03-13T21:17:13.416Z"
      },
      {
        "duration": 95725,
        "start_time": "2023-03-13T21:17:14.798Z"
      },
      {
        "duration": 9275,
        "start_time": "2023-03-13T21:19:14.270Z"
      },
      {
        "duration": 67,
        "start_time": "2023-03-13T21:19:31.773Z"
      },
      {
        "duration": 12,
        "start_time": "2023-03-13T21:19:35.645Z"
      },
      {
        "duration": 20954,
        "start_time": "2023-03-13T21:19:37.467Z"
      },
      {
        "duration": 1733,
        "start_time": "2023-03-13T21:20:13.721Z"
      },
      {
        "duration": 65,
        "start_time": "2023-03-13T21:20:20.679Z"
      },
      {
        "duration": 52527,
        "start_time": "2023-03-13T21:20:30.729Z"
      },
      {
        "duration": 52672,
        "start_time": "2023-03-13T21:21:23.258Z"
      },
      {
        "duration": 6037,
        "start_time": "2023-03-13T21:22:15.932Z"
      },
      {
        "duration": 356,
        "start_time": "2023-03-13T21:22:41.819Z"
      },
      {
        "duration": 96225,
        "start_time": "2023-03-13T21:23:47.365Z"
      },
      {
        "duration": 96514,
        "start_time": "2023-03-13T21:25:36.567Z"
      },
      {
        "duration": 1647,
        "start_time": "2023-03-15T15:26:19.505Z"
      },
      {
        "duration": 170,
        "start_time": "2023-03-15T15:26:21.154Z"
      },
      {
        "duration": 26,
        "start_time": "2023-03-15T15:26:21.326Z"
      },
      {
        "duration": 8,
        "start_time": "2023-03-15T15:26:22.279Z"
      },
      {
        "duration": 12,
        "start_time": "2023-03-15T15:32:31.982Z"
      },
      {
        "duration": 12,
        "start_time": "2023-03-15T15:32:33.025Z"
      },
      {
        "duration": 9,
        "start_time": "2023-03-15T15:32:33.568Z"
      },
      {
        "duration": 4,
        "start_time": "2023-03-15T15:32:36.502Z"
      },
      {
        "duration": 11,
        "start_time": "2023-03-15T15:32:37.585Z"
      },
      {
        "duration": 12,
        "start_time": "2023-03-15T15:32:39.702Z"
      },
      {
        "duration": 5,
        "start_time": "2023-03-15T15:32:46.541Z"
      },
      {
        "duration": 6,
        "start_time": "2023-03-15T15:32:46.975Z"
      },
      {
        "duration": 8,
        "start_time": "2023-03-15T15:32:47.959Z"
      },
      {
        "duration": 12,
        "start_time": "2023-03-15T15:32:51.376Z"
      },
      {
        "duration": 27,
        "start_time": "2023-03-15T15:32:54.953Z"
      },
      {
        "duration": 4476,
        "start_time": "2023-03-15T15:39:00.611Z"
      },
      {
        "duration": 45544,
        "start_time": "2023-03-15T15:39:22.261Z"
      },
      {
        "duration": 752,
        "start_time": "2023-03-15T15:41:50.280Z"
      },
      {
        "duration": 61015,
        "start_time": "2023-03-15T15:43:56.095Z"
      },
      {
        "duration": 61643,
        "start_time": "2023-03-15T15:46:06.297Z"
      },
      {
        "duration": 62979,
        "start_time": "2023-03-15T15:48:28.770Z"
      },
      {
        "duration": 4390,
        "start_time": "2023-03-15T15:51:48.320Z"
      },
      {
        "duration": 4390,
        "start_time": "2023-03-15T15:52:56.471Z"
      },
      {
        "duration": 344,
        "start_time": "2023-03-15T15:53:50.387Z"
      },
      {
        "duration": 22,
        "start_time": "2023-03-15T15:56:09.542Z"
      },
      {
        "duration": 61073,
        "start_time": "2023-03-15T15:57:18.226Z"
      },
      {
        "duration": 5587,
        "start_time": "2023-03-15T15:59:44.105Z"
      },
      {
        "duration": 120,
        "start_time": "2023-03-15T16:00:48.612Z"
      },
      {
        "duration": 10,
        "start_time": "2023-03-15T16:02:06.242Z"
      },
      {
        "duration": 46,
        "start_time": "2023-03-15T16:02:23.274Z"
      },
      {
        "duration": 80298,
        "start_time": "2023-03-15T16:03:01.339Z"
      },
      {
        "duration": 11,
        "start_time": "2023-03-15T16:05:40.694Z"
      },
      {
        "duration": 33251,
        "start_time": "2023-03-15T16:06:07.529Z"
      },
      {
        "duration": 1959,
        "start_time": "2023-03-15T16:07:02.754Z"
      },
      {
        "duration": 73,
        "start_time": "2023-03-15T16:08:11.753Z"
      },
      {
        "duration": 61927,
        "start_time": "2023-03-15T16:09:32.405Z"
      },
      {
        "duration": 4931,
        "start_time": "2023-03-15T16:17:12.741Z"
      },
      {
        "duration": 305,
        "start_time": "2023-03-15T16:17:39.204Z"
      },
      {
        "duration": 76,
        "start_time": "2023-03-15T16:19:22.449Z"
      },
      {
        "duration": 100,
        "start_time": "2023-03-15T16:20:17.829Z"
      },
      {
        "duration": 84,
        "start_time": "2023-03-15T16:21:27.451Z"
      },
      {
        "duration": 262,
        "start_time": "2023-03-15T16:22:20.770Z"
      },
      {
        "duration": 60438,
        "start_time": "2023-03-15T16:22:47.090Z"
      },
      {
        "duration": 4685,
        "start_time": "2023-03-15T16:24:30.495Z"
      },
      {
        "duration": 307,
        "start_time": "2023-03-15T16:25:09.719Z"
      },
      {
        "duration": 841,
        "start_time": "2023-03-15T16:30:54.167Z"
      },
      {
        "duration": 898,
        "start_time": "2023-03-15T16:31:00.715Z"
      },
      {
        "duration": 717,
        "start_time": "2023-03-15T16:31:10.033Z"
      },
      {
        "duration": 985,
        "start_time": "2023-03-15T16:31:16.134Z"
      },
      {
        "duration": 837,
        "start_time": "2023-03-15T16:31:22.719Z"
      },
      {
        "duration": 698,
        "start_time": "2023-03-15T16:31:32.399Z"
      },
      {
        "duration": 643,
        "start_time": "2023-03-15T16:31:39.190Z"
      },
      {
        "duration": 682,
        "start_time": "2023-03-15T16:31:44.624Z"
      },
      {
        "duration": 597,
        "start_time": "2023-03-15T16:31:51.493Z"
      },
      {
        "duration": 478,
        "start_time": "2023-03-15T16:32:02.536Z"
      },
      {
        "duration": 338,
        "start_time": "2023-03-15T16:32:09.811Z"
      },
      {
        "duration": 599,
        "start_time": "2023-03-15T16:32:14.557Z"
      },
      {
        "duration": 683,
        "start_time": "2023-03-15T16:32:18.620Z"
      },
      {
        "duration": 690,
        "start_time": "2023-03-15T16:32:23.723Z"
      },
      {
        "duration": 814,
        "start_time": "2023-03-15T16:34:24.778Z"
      }
    ],
    "toc": {
      "base_numbering": 1,
      "nav_menu": {},
      "number_sections": true,
      "sideBar": true,
      "skip_h1_title": true,
      "title_cell": "Содержание",
      "title_sidebar": "Contents",
      "toc_cell": true,
      "toc_position": {},
      "toc_section_display": true,
      "toc_window_display": true
    },
    "kernelspec": {
      "name": "python",
      "display_name": "Python (Pyodide)",
      "language": "python"
    },
    "language_info": {
      "codemirror_mode": {
        "name": "python",
        "version": 3
      },
      "file_extension": ".py",
      "mimetype": "text/x-python",
      "name": "python",
      "nbconvert_exporter": "python",
      "pygments_lexer": "ipython3",
      "version": "3.8"
    }
  },
  "nbformat_minor": 4,
  "nbformat": 4,
  "cells": [
    {
      "cell_type": "markdown",
      "source": "# Прогнозирование оттока клиентов из банка",
      "metadata": {}
    },
    {
      "cell_type": "markdown",
      "source": "<h1>Содержание<span class=\"tocSkip\"></span></h1>\n<div class=\"toc\"><ul class=\"toc-item\"><li><span><a href=\"#Подготовка-данных\" data-toc-modified-id=\"Подготовка-данных-1\"><span class=\"toc-item-num\">1&nbsp;&nbsp;</span>Подготовка данных</a></span></li><li><span><a href=\"#Исследование-задачи\" data-toc-modified-id=\"Исследование-задачи-2\"><span class=\"toc-item-num\">2&nbsp;&nbsp;</span>Исследование задачи</a></span><ul class=\"toc-item\"><li><span><a href=\"#Случайный-лес\" data-toc-modified-id=\"Случайный-лес-2.1\"><span class=\"toc-item-num\">2.1&nbsp;&nbsp;</span>Случайный лес</a></span></li><li><span><a href=\"#Дерево-решений\" data-toc-modified-id=\"Дерево-решений-2.2\"><span class=\"toc-item-num\">2.2&nbsp;&nbsp;</span>Дерево решений</a></span></li><li><span><a href=\"#Логистическая-регрессия\" data-toc-modified-id=\"Логистическая-регрессия-2.3\"><span class=\"toc-item-num\">2.3&nbsp;&nbsp;</span>Логистическая регрессия</a></span></li></ul></li><li><span><a href=\"#Борьба-с-дисбалансом\" data-toc-modified-id=\"Борьба-с-дисбалансом-3\"><span class=\"toc-item-num\">3&nbsp;&nbsp;</span>Борьба с дисбалансом</a></span><ul class=\"toc-item\"><li><span><a href=\"#Взвешивание-классов\" data-toc-modified-id=\"Взвешивание-классов-3.1\"><span class=\"toc-item-num\">3.1&nbsp;&nbsp;</span>Взвешивание классов</a></span></li><li><span><a href=\"#Увеличение-выборки\" data-toc-modified-id=\"Увеличение-выборки-3.2\"><span class=\"toc-item-num\">3.2&nbsp;&nbsp;</span>Увеличение выборки</a></span></li><li><span><a href=\"#Уменьшение-выборки\" data-toc-modified-id=\"Уменьшение-выборки-3.3\"><span class=\"toc-item-num\">3.3&nbsp;&nbsp;</span>Уменьшение выборки</a></span></li><li><span><a href=\"#Изменение-порога.-AUC-ROC-score-и-ROC-кривая\" data-toc-modified-id=\"Изменение-порога.-AUC-ROC-score-и-ROC-кривая-3.4\"><span class=\"toc-item-num\">3.4&nbsp;&nbsp;</span>Изменение порога. AUC-ROC score и ROC кривая</a></span></li><li><span><a href=\"#Подытожим\" data-toc-modified-id=\"Подытожим-3.5\"><span class=\"toc-item-num\">3.5&nbsp;&nbsp;</span>Подытожим</a></span></li></ul></li><li><span><a href=\"#Тестирование-модели\" data-toc-modified-id=\"Тестирование-модели-4\"><span class=\"toc-item-num\">4&nbsp;&nbsp;</span>Тестирование модели</a></span></li><li><span><a href=\"#Вывод\" data-toc-modified-id=\"Вывод-5\"><span class=\"toc-item-num\">5&nbsp;&nbsp;</span>Вывод</a></span></li><li><span><a href=\"#Чек-лист-готовности-проекта\" data-toc-modified-id=\"Чек-лист-готовности-проекта-6\"><span class=\"toc-item-num\">6&nbsp;&nbsp;</span>Чек-лист готовности проекта</a></span></li></ul></div>",
      "metadata": {
        "toc": true
      }
    },
    {
      "cell_type": "markdown",
      "source": "# Отток клиентов",
      "metadata": {}
    },
    {
      "cell_type": "markdown",
      "source": "Из «Бета-Банка» стали уходить клиенты. Каждый месяц. Немного, но заметно. Банковские маркетологи посчитали: сохранять текущих клиентов дешевле, чем привлекать новых.\n\nНужно спрогнозировать, уйдёт клиент из банка в ближайшее время или нет. Вам предоставлены исторические данные о поведении клиентов и расторжении договоров с банком. \n\nПостройте модель с предельно большим значением *F1*-меры. Чтобы сдать проект успешно, нужно довести метрику до 0.59. Проверьте *F1*-меру на тестовой выборке самостоятельно.\n\nДополнительно измеряйте *AUC-ROC*, сравнивайте её значение с *F1*-мерой.\n\nИсточник данных: [https://www.kaggle.com/barelydedicated/bank-customer-churn-modeling](https://www.kaggle.com/barelydedicated/bank-customer-churn-modeling)",
      "metadata": {}
    },
    {
      "cell_type": "markdown",
      "source": "## Подготовка данных",
      "metadata": {}
    },
    {
      "cell_type": "markdown",
      "source": "Для начала импортируем все необходимое.",
      "metadata": {}
    },
    {
      "cell_type": "code",
      "source": "import pandas as pd\nimport matplotlib.pyplot as plt\nimport numpy as np\nfrom sklearn.tree import DecisionTreeClassifier\nfrom sklearn.ensemble import RandomForestClassifier\nfrom sklearn.linear_model import LogisticRegression \nfrom sklearn.model_selection import train_test_split\nfrom sklearn.dummy import DummyClassifier\nfrom sklearn.preprocessing import StandardScaler\nfrom sklearn.metrics import f1_score\nfrom sklearn.preprocessing import OneHotEncoder\nfrom sklearn.metrics import roc_curve \nfrom sklearn.metrics import roc_auc_score \nfrom sklearn.utils import shuffle\nfrom sklearn.metrics import precision_score, recall_score\n",
      "metadata": {},
      "execution_count": 1,
      "outputs": []
    },
    {
      "cell_type": "code",
      "source": "df = pd.read_csv('/datasets/Churn.csv')",
      "metadata": {},
      "execution_count": 2,
      "outputs": []
    },
    {
      "cell_type": "markdown",
      "source": "Выведем на экран первые 15 строчек таблицы, затем посмотрим типы данных в каждом столбце и проверим датасет на предмет пропусков",
      "metadata": {}
    },
    {
      "cell_type": "code",
      "source": "df.head(15)",
      "metadata": {},
      "execution_count": 3,
      "outputs": [
        {
          "execution_count": 3,
          "output_type": "execute_result",
          "data": {
            "text/html": [
              "<div>\n",
              "<style scoped>\n",
              "    .dataframe tbody tr th:only-of-type {\n",
              "        vertical-align: middle;\n",
              "    }\n",
              "\n",
              "    .dataframe tbody tr th {\n",
              "        vertical-align: top;\n",
              "    }\n",
              "\n",
              "    .dataframe thead th {\n",
              "        text-align: right;\n",
              "    }\n",
              "</style>\n",
              "<table border=\"1\" class=\"dataframe\">\n",
              "  <thead>\n",
              "    <tr style=\"text-align: right;\">\n",
              "      <th></th>\n",
              "      <th>RowNumber</th>\n",
              "      <th>CustomerId</th>\n",
              "      <th>Surname</th>\n",
              "      <th>CreditScore</th>\n",
              "      <th>Geography</th>\n",
              "      <th>Gender</th>\n",
              "      <th>Age</th>\n",
              "      <th>Tenure</th>\n",
              "      <th>Balance</th>\n",
              "      <th>NumOfProducts</th>\n",
              "      <th>HasCrCard</th>\n",
              "      <th>IsActiveMember</th>\n",
              "      <th>EstimatedSalary</th>\n",
              "      <th>Exited</th>\n",
              "    </tr>\n",
              "  </thead>\n",
              "  <tbody>\n",
              "    <tr>\n",
              "      <th>0</th>\n",
              "      <td>1</td>\n",
              "      <td>15634602</td>\n",
              "      <td>Hargrave</td>\n",
              "      <td>619</td>\n",
              "      <td>France</td>\n",
              "      <td>Female</td>\n",
              "      <td>42</td>\n",
              "      <td>2.0</td>\n",
              "      <td>0.00</td>\n",
              "      <td>1</td>\n",
              "      <td>1</td>\n",
              "      <td>1</td>\n",
              "      <td>101348.88</td>\n",
              "      <td>1</td>\n",
              "    </tr>\n",
              "    <tr>\n",
              "      <th>1</th>\n",
              "      <td>2</td>\n",
              "      <td>15647311</td>\n",
              "      <td>Hill</td>\n",
              "      <td>608</td>\n",
              "      <td>Spain</td>\n",
              "      <td>Female</td>\n",
              "      <td>41</td>\n",
              "      <td>1.0</td>\n",
              "      <td>83807.86</td>\n",
              "      <td>1</td>\n",
              "      <td>0</td>\n",
              "      <td>1</td>\n",
              "      <td>112542.58</td>\n",
              "      <td>0</td>\n",
              "    </tr>\n",
              "    <tr>\n",
              "      <th>2</th>\n",
              "      <td>3</td>\n",
              "      <td>15619304</td>\n",
              "      <td>Onio</td>\n",
              "      <td>502</td>\n",
              "      <td>France</td>\n",
              "      <td>Female</td>\n",
              "      <td>42</td>\n",
              "      <td>8.0</td>\n",
              "      <td>159660.80</td>\n",
              "      <td>3</td>\n",
              "      <td>1</td>\n",
              "      <td>0</td>\n",
              "      <td>113931.57</td>\n",
              "      <td>1</td>\n",
              "    </tr>\n",
              "    <tr>\n",
              "      <th>3</th>\n",
              "      <td>4</td>\n",
              "      <td>15701354</td>\n",
              "      <td>Boni</td>\n",
              "      <td>699</td>\n",
              "      <td>France</td>\n",
              "      <td>Female</td>\n",
              "      <td>39</td>\n",
              "      <td>1.0</td>\n",
              "      <td>0.00</td>\n",
              "      <td>2</td>\n",
              "      <td>0</td>\n",
              "      <td>0</td>\n",
              "      <td>93826.63</td>\n",
              "      <td>0</td>\n",
              "    </tr>\n",
              "    <tr>\n",
              "      <th>4</th>\n",
              "      <td>5</td>\n",
              "      <td>15737888</td>\n",
              "      <td>Mitchell</td>\n",
              "      <td>850</td>\n",
              "      <td>Spain</td>\n",
              "      <td>Female</td>\n",
              "      <td>43</td>\n",
              "      <td>2.0</td>\n",
              "      <td>125510.82</td>\n",
              "      <td>1</td>\n",
              "      <td>1</td>\n",
              "      <td>1</td>\n",
              "      <td>79084.10</td>\n",
              "      <td>0</td>\n",
              "    </tr>\n",
              "    <tr>\n",
              "      <th>5</th>\n",
              "      <td>6</td>\n",
              "      <td>15574012</td>\n",
              "      <td>Chu</td>\n",
              "      <td>645</td>\n",
              "      <td>Spain</td>\n",
              "      <td>Male</td>\n",
              "      <td>44</td>\n",
              "      <td>8.0</td>\n",
              "      <td>113755.78</td>\n",
              "      <td>2</td>\n",
              "      <td>1</td>\n",
              "      <td>0</td>\n",
              "      <td>149756.71</td>\n",
              "      <td>1</td>\n",
              "    </tr>\n",
              "    <tr>\n",
              "      <th>6</th>\n",
              "      <td>7</td>\n",
              "      <td>15592531</td>\n",
              "      <td>Bartlett</td>\n",
              "      <td>822</td>\n",
              "      <td>France</td>\n",
              "      <td>Male</td>\n",
              "      <td>50</td>\n",
              "      <td>7.0</td>\n",
              "      <td>0.00</td>\n",
              "      <td>2</td>\n",
              "      <td>1</td>\n",
              "      <td>1</td>\n",
              "      <td>10062.80</td>\n",
              "      <td>0</td>\n",
              "    </tr>\n",
              "    <tr>\n",
              "      <th>7</th>\n",
              "      <td>8</td>\n",
              "      <td>15656148</td>\n",
              "      <td>Obinna</td>\n",
              "      <td>376</td>\n",
              "      <td>Germany</td>\n",
              "      <td>Female</td>\n",
              "      <td>29</td>\n",
              "      <td>4.0</td>\n",
              "      <td>115046.74</td>\n",
              "      <td>4</td>\n",
              "      <td>1</td>\n",
              "      <td>0</td>\n",
              "      <td>119346.88</td>\n",
              "      <td>1</td>\n",
              "    </tr>\n",
              "    <tr>\n",
              "      <th>8</th>\n",
              "      <td>9</td>\n",
              "      <td>15792365</td>\n",
              "      <td>He</td>\n",
              "      <td>501</td>\n",
              "      <td>France</td>\n",
              "      <td>Male</td>\n",
              "      <td>44</td>\n",
              "      <td>4.0</td>\n",
              "      <td>142051.07</td>\n",
              "      <td>2</td>\n",
              "      <td>0</td>\n",
              "      <td>1</td>\n",
              "      <td>74940.50</td>\n",
              "      <td>0</td>\n",
              "    </tr>\n",
              "    <tr>\n",
              "      <th>9</th>\n",
              "      <td>10</td>\n",
              "      <td>15592389</td>\n",
              "      <td>H?</td>\n",
              "      <td>684</td>\n",
              "      <td>France</td>\n",
              "      <td>Male</td>\n",
              "      <td>27</td>\n",
              "      <td>2.0</td>\n",
              "      <td>134603.88</td>\n",
              "      <td>1</td>\n",
              "      <td>1</td>\n",
              "      <td>1</td>\n",
              "      <td>71725.73</td>\n",
              "      <td>0</td>\n",
              "    </tr>\n",
              "    <tr>\n",
              "      <th>10</th>\n",
              "      <td>11</td>\n",
              "      <td>15767821</td>\n",
              "      <td>Bearce</td>\n",
              "      <td>528</td>\n",
              "      <td>France</td>\n",
              "      <td>Male</td>\n",
              "      <td>31</td>\n",
              "      <td>6.0</td>\n",
              "      <td>102016.72</td>\n",
              "      <td>2</td>\n",
              "      <td>0</td>\n",
              "      <td>0</td>\n",
              "      <td>80181.12</td>\n",
              "      <td>0</td>\n",
              "    </tr>\n",
              "    <tr>\n",
              "      <th>11</th>\n",
              "      <td>12</td>\n",
              "      <td>15737173</td>\n",
              "      <td>Andrews</td>\n",
              "      <td>497</td>\n",
              "      <td>Spain</td>\n",
              "      <td>Male</td>\n",
              "      <td>24</td>\n",
              "      <td>3.0</td>\n",
              "      <td>0.00</td>\n",
              "      <td>2</td>\n",
              "      <td>1</td>\n",
              "      <td>0</td>\n",
              "      <td>76390.01</td>\n",
              "      <td>0</td>\n",
              "    </tr>\n",
              "    <tr>\n",
              "      <th>12</th>\n",
              "      <td>13</td>\n",
              "      <td>15632264</td>\n",
              "      <td>Kay</td>\n",
              "      <td>476</td>\n",
              "      <td>France</td>\n",
              "      <td>Female</td>\n",
              "      <td>34</td>\n",
              "      <td>10.0</td>\n",
              "      <td>0.00</td>\n",
              "      <td>2</td>\n",
              "      <td>1</td>\n",
              "      <td>0</td>\n",
              "      <td>26260.98</td>\n",
              "      <td>0</td>\n",
              "    </tr>\n",
              "    <tr>\n",
              "      <th>13</th>\n",
              "      <td>14</td>\n",
              "      <td>15691483</td>\n",
              "      <td>Chin</td>\n",
              "      <td>549</td>\n",
              "      <td>France</td>\n",
              "      <td>Female</td>\n",
              "      <td>25</td>\n",
              "      <td>5.0</td>\n",
              "      <td>0.00</td>\n",
              "      <td>2</td>\n",
              "      <td>0</td>\n",
              "      <td>0</td>\n",
              "      <td>190857.79</td>\n",
              "      <td>0</td>\n",
              "    </tr>\n",
              "    <tr>\n",
              "      <th>14</th>\n",
              "      <td>15</td>\n",
              "      <td>15600882</td>\n",
              "      <td>Scott</td>\n",
              "      <td>635</td>\n",
              "      <td>Spain</td>\n",
              "      <td>Female</td>\n",
              "      <td>35</td>\n",
              "      <td>7.0</td>\n",
              "      <td>0.00</td>\n",
              "      <td>2</td>\n",
              "      <td>1</td>\n",
              "      <td>1</td>\n",
              "      <td>65951.65</td>\n",
              "      <td>0</td>\n",
              "    </tr>\n",
              "  </tbody>\n",
              "</table>\n",
              "</div>"
            ],
            "text/plain": [
              "    RowNumber  CustomerId   Surname  CreditScore Geography  Gender  Age  \\\n",
              "0           1    15634602  Hargrave          619    France  Female   42   \n",
              "1           2    15647311      Hill          608     Spain  Female   41   \n",
              "2           3    15619304      Onio          502    France  Female   42   \n",
              "3           4    15701354      Boni          699    France  Female   39   \n",
              "4           5    15737888  Mitchell          850     Spain  Female   43   \n",
              "5           6    15574012       Chu          645     Spain    Male   44   \n",
              "6           7    15592531  Bartlett          822    France    Male   50   \n",
              "7           8    15656148    Obinna          376   Germany  Female   29   \n",
              "8           9    15792365        He          501    France    Male   44   \n",
              "9          10    15592389        H?          684    France    Male   27   \n",
              "10         11    15767821    Bearce          528    France    Male   31   \n",
              "11         12    15737173   Andrews          497     Spain    Male   24   \n",
              "12         13    15632264       Kay          476    France  Female   34   \n",
              "13         14    15691483      Chin          549    France  Female   25   \n",
              "14         15    15600882     Scott          635     Spain  Female   35   \n",
              "\n",
              "    Tenure    Balance  NumOfProducts  HasCrCard  IsActiveMember  \\\n",
              "0      2.0       0.00              1          1               1   \n",
              "1      1.0   83807.86              1          0               1   \n",
              "2      8.0  159660.80              3          1               0   \n",
              "3      1.0       0.00              2          0               0   \n",
              "4      2.0  125510.82              1          1               1   \n",
              "5      8.0  113755.78              2          1               0   \n",
              "6      7.0       0.00              2          1               1   \n",
              "7      4.0  115046.74              4          1               0   \n",
              "8      4.0  142051.07              2          0               1   \n",
              "9      2.0  134603.88              1          1               1   \n",
              "10     6.0  102016.72              2          0               0   \n",
              "11     3.0       0.00              2          1               0   \n",
              "12    10.0       0.00              2          1               0   \n",
              "13     5.0       0.00              2          0               0   \n",
              "14     7.0       0.00              2          1               1   \n",
              "\n",
              "    EstimatedSalary  Exited  \n",
              "0         101348.88       1  \n",
              "1         112542.58       0  \n",
              "2         113931.57       1  \n",
              "3          93826.63       0  \n",
              "4          79084.10       0  \n",
              "5         149756.71       1  \n",
              "6          10062.80       0  \n",
              "7         119346.88       1  \n",
              "8          74940.50       0  \n",
              "9          71725.73       0  \n",
              "10         80181.12       0  \n",
              "11         76390.01       0  \n",
              "12         26260.98       0  \n",
              "13        190857.79       0  \n",
              "14         65951.65       0  "
            ]
          },
          "metadata": {}
        }
      ]
    },
    {
      "cell_type": "markdown",
      "source": "Для OHE нам в дальнейшем будет мешать колонка Surname - в ней почти все значения уникальные, следовательно, удалим ее. Также удалим колонку Customer Id - эти данные никак нам не помогут при обучении модели.",
      "metadata": {}
    },
    {
      "cell_type": "code",
      "source": "df = df.drop('CustomerId', axis = 1, inplace=False)\ndf = df.drop('Surname', axis = 1, inplace=False)\ndf = df.drop('RowNumber', axis = 1, inplace=False)\n",
      "metadata": {
        "scrolled": true
      },
      "execution_count": 4,
      "outputs": []
    },
    {
      "cell_type": "code",
      "source": "df.head(10)",
      "metadata": {},
      "execution_count": 5,
      "outputs": [
        {
          "execution_count": 5,
          "output_type": "execute_result",
          "data": {
            "text/html": [
              "<div>\n",
              "<style scoped>\n",
              "    .dataframe tbody tr th:only-of-type {\n",
              "        vertical-align: middle;\n",
              "    }\n",
              "\n",
              "    .dataframe tbody tr th {\n",
              "        vertical-align: top;\n",
              "    }\n",
              "\n",
              "    .dataframe thead th {\n",
              "        text-align: right;\n",
              "    }\n",
              "</style>\n",
              "<table border=\"1\" class=\"dataframe\">\n",
              "  <thead>\n",
              "    <tr style=\"text-align: right;\">\n",
              "      <th></th>\n",
              "      <th>CreditScore</th>\n",
              "      <th>Geography</th>\n",
              "      <th>Gender</th>\n",
              "      <th>Age</th>\n",
              "      <th>Tenure</th>\n",
              "      <th>Balance</th>\n",
              "      <th>NumOfProducts</th>\n",
              "      <th>HasCrCard</th>\n",
              "      <th>IsActiveMember</th>\n",
              "      <th>EstimatedSalary</th>\n",
              "      <th>Exited</th>\n",
              "    </tr>\n",
              "  </thead>\n",
              "  <tbody>\n",
              "    <tr>\n",
              "      <th>0</th>\n",
              "      <td>619</td>\n",
              "      <td>France</td>\n",
              "      <td>Female</td>\n",
              "      <td>42</td>\n",
              "      <td>2.0</td>\n",
              "      <td>0.00</td>\n",
              "      <td>1</td>\n",
              "      <td>1</td>\n",
              "      <td>1</td>\n",
              "      <td>101348.88</td>\n",
              "      <td>1</td>\n",
              "    </tr>\n",
              "    <tr>\n",
              "      <th>1</th>\n",
              "      <td>608</td>\n",
              "      <td>Spain</td>\n",
              "      <td>Female</td>\n",
              "      <td>41</td>\n",
              "      <td>1.0</td>\n",
              "      <td>83807.86</td>\n",
              "      <td>1</td>\n",
              "      <td>0</td>\n",
              "      <td>1</td>\n",
              "      <td>112542.58</td>\n",
              "      <td>0</td>\n",
              "    </tr>\n",
              "    <tr>\n",
              "      <th>2</th>\n",
              "      <td>502</td>\n",
              "      <td>France</td>\n",
              "      <td>Female</td>\n",
              "      <td>42</td>\n",
              "      <td>8.0</td>\n",
              "      <td>159660.80</td>\n",
              "      <td>3</td>\n",
              "      <td>1</td>\n",
              "      <td>0</td>\n",
              "      <td>113931.57</td>\n",
              "      <td>1</td>\n",
              "    </tr>\n",
              "    <tr>\n",
              "      <th>3</th>\n",
              "      <td>699</td>\n",
              "      <td>France</td>\n",
              "      <td>Female</td>\n",
              "      <td>39</td>\n",
              "      <td>1.0</td>\n",
              "      <td>0.00</td>\n",
              "      <td>2</td>\n",
              "      <td>0</td>\n",
              "      <td>0</td>\n",
              "      <td>93826.63</td>\n",
              "      <td>0</td>\n",
              "    </tr>\n",
              "    <tr>\n",
              "      <th>4</th>\n",
              "      <td>850</td>\n",
              "      <td>Spain</td>\n",
              "      <td>Female</td>\n",
              "      <td>43</td>\n",
              "      <td>2.0</td>\n",
              "      <td>125510.82</td>\n",
              "      <td>1</td>\n",
              "      <td>1</td>\n",
              "      <td>1</td>\n",
              "      <td>79084.10</td>\n",
              "      <td>0</td>\n",
              "    </tr>\n",
              "    <tr>\n",
              "      <th>5</th>\n",
              "      <td>645</td>\n",
              "      <td>Spain</td>\n",
              "      <td>Male</td>\n",
              "      <td>44</td>\n",
              "      <td>8.0</td>\n",
              "      <td>113755.78</td>\n",
              "      <td>2</td>\n",
              "      <td>1</td>\n",
              "      <td>0</td>\n",
              "      <td>149756.71</td>\n",
              "      <td>1</td>\n",
              "    </tr>\n",
              "    <tr>\n",
              "      <th>6</th>\n",
              "      <td>822</td>\n",
              "      <td>France</td>\n",
              "      <td>Male</td>\n",
              "      <td>50</td>\n",
              "      <td>7.0</td>\n",
              "      <td>0.00</td>\n",
              "      <td>2</td>\n",
              "      <td>1</td>\n",
              "      <td>1</td>\n",
              "      <td>10062.80</td>\n",
              "      <td>0</td>\n",
              "    </tr>\n",
              "    <tr>\n",
              "      <th>7</th>\n",
              "      <td>376</td>\n",
              "      <td>Germany</td>\n",
              "      <td>Female</td>\n",
              "      <td>29</td>\n",
              "      <td>4.0</td>\n",
              "      <td>115046.74</td>\n",
              "      <td>4</td>\n",
              "      <td>1</td>\n",
              "      <td>0</td>\n",
              "      <td>119346.88</td>\n",
              "      <td>1</td>\n",
              "    </tr>\n",
              "    <tr>\n",
              "      <th>8</th>\n",
              "      <td>501</td>\n",
              "      <td>France</td>\n",
              "      <td>Male</td>\n",
              "      <td>44</td>\n",
              "      <td>4.0</td>\n",
              "      <td>142051.07</td>\n",
              "      <td>2</td>\n",
              "      <td>0</td>\n",
              "      <td>1</td>\n",
              "      <td>74940.50</td>\n",
              "      <td>0</td>\n",
              "    </tr>\n",
              "    <tr>\n",
              "      <th>9</th>\n",
              "      <td>684</td>\n",
              "      <td>France</td>\n",
              "      <td>Male</td>\n",
              "      <td>27</td>\n",
              "      <td>2.0</td>\n",
              "      <td>134603.88</td>\n",
              "      <td>1</td>\n",
              "      <td>1</td>\n",
              "      <td>1</td>\n",
              "      <td>71725.73</td>\n",
              "      <td>0</td>\n",
              "    </tr>\n",
              "  </tbody>\n",
              "</table>\n",
              "</div>"
            ],
            "text/plain": [
              "   CreditScore Geography  Gender  Age  Tenure    Balance  NumOfProducts  \\\n",
              "0          619    France  Female   42     2.0       0.00              1   \n",
              "1          608     Spain  Female   41     1.0   83807.86              1   \n",
              "2          502    France  Female   42     8.0  159660.80              3   \n",
              "3          699    France  Female   39     1.0       0.00              2   \n",
              "4          850     Spain  Female   43     2.0  125510.82              1   \n",
              "5          645     Spain    Male   44     8.0  113755.78              2   \n",
              "6          822    France    Male   50     7.0       0.00              2   \n",
              "7          376   Germany  Female   29     4.0  115046.74              4   \n",
              "8          501    France    Male   44     4.0  142051.07              2   \n",
              "9          684    France    Male   27     2.0  134603.88              1   \n",
              "\n",
              "   HasCrCard  IsActiveMember  EstimatedSalary  Exited  \n",
              "0          1               1        101348.88       1  \n",
              "1          0               1        112542.58       0  \n",
              "2          1               0        113931.57       1  \n",
              "3          0               0         93826.63       0  \n",
              "4          1               1         79084.10       0  \n",
              "5          1               0        149756.71       1  \n",
              "6          1               1         10062.80       0  \n",
              "7          1               0        119346.88       1  \n",
              "8          0               1         74940.50       0  \n",
              "9          1               1         71725.73       0  "
            ]
          },
          "metadata": {}
        }
      ]
    },
    {
      "cell_type": "markdown",
      "source": "Колонки удалились. Смотрим датасет дальше.",
      "metadata": {}
    },
    {
      "cell_type": "code",
      "source": "df.info()",
      "metadata": {},
      "execution_count": 6,
      "outputs": [
        {
          "name": "stdout",
          "output_type": "stream",
          "text": "<class 'pandas.core.frame.DataFrame'>\n\nRangeIndex: 10000 entries, 0 to 9999\n\nData columns (total 11 columns):\n\n #   Column           Non-Null Count  Dtype  \n\n---  ------           --------------  -----  \n\n 0   CreditScore      10000 non-null  int64  \n\n 1   Geography        10000 non-null  object \n\n 2   Gender           10000 non-null  object \n\n 3   Age              10000 non-null  int64  \n\n 4   Tenure           9091 non-null   float64\n\n 5   Balance          10000 non-null  float64\n\n 6   NumOfProducts    10000 non-null  int64  \n\n 7   HasCrCard        10000 non-null  int64  \n\n 8   IsActiveMember   10000 non-null  int64  \n\n 9   EstimatedSalary  10000 non-null  float64\n\n 10  Exited           10000 non-null  int64  \n\ndtypes: float64(3), int64(6), object(2)\n\nmemory usage: 859.5+ KB\n"
        }
      ]
    },
    {
      "cell_type": "code",
      "source": "df.isna().count()",
      "metadata": {
        "scrolled": true
      },
      "execution_count": 7,
      "outputs": [
        {
          "execution_count": 7,
          "output_type": "execute_result",
          "data": {
            "text/plain": [
              "CreditScore        10000\n",
              "Geography          10000\n",
              "Gender             10000\n",
              "Age                10000\n",
              "Tenure             10000\n",
              "Balance            10000\n",
              "NumOfProducts      10000\n",
              "HasCrCard          10000\n",
              "IsActiveMember     10000\n",
              "EstimatedSalary    10000\n",
              "Exited             10000\n",
              "dtype: int64"
            ]
          },
          "metadata": {}
        }
      ]
    },
    {
      "cell_type": "markdown",
      "source": "Как мы видим из полученных данных - пропуски присутствуют в столбце Tenure - здесь содержится информация о том, сколько лет человек является клиентом банка. Данные пропуски заполним медианным значением столбца - это наиболее адекватное заполнение.",
      "metadata": {}
    },
    {
      "cell_type": "code",
      "source": "df['Tenure'] = df['Tenure'].fillna(df['Tenure'].median())",
      "metadata": {},
      "execution_count": 8,
      "outputs": []
    },
    {
      "cell_type": "code",
      "source": "df.info()",
      "metadata": {},
      "execution_count": 9,
      "outputs": [
        {
          "name": "stdout",
          "output_type": "stream",
          "text": "<class 'pandas.core.frame.DataFrame'>\n\nRangeIndex: 10000 entries, 0 to 9999\n\nData columns (total 11 columns):\n\n #   Column           Non-Null Count  Dtype  \n\n---  ------           --------------  -----  \n\n 0   CreditScore      10000 non-null  int64  \n\n 1   Geography        10000 non-null  object \n\n 2   Gender           10000 non-null  object \n\n 3   Age              10000 non-null  int64  \n\n 4   Tenure           10000 non-null  float64\n\n 5   Balance          10000 non-null  float64\n\n 6   NumOfProducts    10000 non-null  int64  \n\n 7   HasCrCard        10000 non-null  int64  \n\n 8   IsActiveMember   10000 non-null  int64  \n\n 9   EstimatedSalary  10000 non-null  float64\n\n 10  Exited           10000 non-null  int64  \n\ndtypes: float64(3), int64(6), object(2)\n\nmemory usage: 859.5+ KB\n"
        }
      ]
    },
    {
      "cell_type": "markdown",
      "source": "Пропуски заполнены. Теперь наш датасет представляет собой 10000 заполненных строк. Перейдем к разбивке на выборки.",
      "metadata": {}
    },
    {
      "cell_type": "markdown",
      "source": "Предлагаю использовать следующие размеры выборок:\n- Обучающая выборка - 60%\n- Валидационная выборка - 20%\n- Тестовая выборка - 20%\n\nЧтобы у нас получилось разделить датасет методом train_test_split на 3 выборки - применим метод дважды. То есть, сначала разделим данные на обучающую и валидационную выборки в пропорции 60/40, а затем разделим валидационную пополам. Test_size тогда в первом случае будет 0.4, а во втором 0.5.",
      "metadata": {}
    },
    {
      "cell_type": "markdown",
      "source": "Но для начала воспользуемся кодированием ОНЕ, чтобы поменять значения в столбцах Gender и Geography на 0/1/2. Это необходимо для корректного обучения модели вдальнейшем. ",
      "metadata": {}
    },
    {
      "cell_type": "code",
      "source": "data = pd.get_dummies(df, drop_first=False)#применяем OHE\ntarget = data['Exited']#перед разбивкой создадим целевой и тестовый признаки для наших выборок\nfeatures = data.drop('Exited', axis=1)",
      "metadata": {},
      "execution_count": 10,
      "outputs": []
    },
    {
      "cell_type": "code",
      "source": "features_train, features_valid, target_train, target_valid = train_test_split(\n    features, \n    target, \n    test_size=0.4, \n    random_state=12345) #делим на обучающую и валидационную",
      "metadata": {},
      "execution_count": 11,
      "outputs": []
    },
    {
      "cell_type": "code",
      "source": "features_test, features_valid, target_test, target_valid = train_test_split(\n    features_valid, \n    target_valid,\n    test_size=0.5,\n    random_state=12345) #делим на валидационную и тестовую",
      "metadata": {},
      "execution_count": 12,
      "outputs": []
    },
    {
      "cell_type": "markdown",
      "source": "Теперь посмотрим размеры этих выборок. Для этого воспользуемся методом shape.",
      "metadata": {}
    },
    {
      "cell_type": "code",
      "source": "print('Размер тренировочной выборки тестовых признаков:', features_train.shape)\nprint('Размер тренировочной выборки целевого признака:', target_train.shape)\nprint('Размер валидационной выборки тестовых признаков:', features_valid.shape)\nprint('Размер валидационной выборки целевого признака:', target_valid.shape)\nprint('Размер тестовой выборки тестовых признаков:', features_test.shape)\nprint('Размер тестовой выборки целевого признака:', target_test.shape)\n",
      "metadata": {
        "scrolled": true
      },
      "execution_count": 13,
      "outputs": [
        {
          "name": "stdout",
          "output_type": "stream",
          "text": "Размер тренировочной выборки тестовых признаков: (6000, 13)\n\nРазмер тренировочной выборки целевого признака: (6000,)\n\nРазмер валидационной выборки тестовых признаков: (2000, 13)\n\nРазмер валидационной выборки целевого признака: (2000,)\n\nРазмер тестовой выборки тестовых признаков: (2000, 13)\n\nРазмер тестовой выборки целевого признака: (2000,)\n"
        }
      ]
    },
    {
      "cell_type": "markdown",
      "source": "Разбивка на признаки в пропорции 3/1/1. Вызовем первые 10 строк датасета, чтобы посмотреть применилось ли кодирование.",
      "metadata": {}
    },
    {
      "cell_type": "code",
      "source": "data.head()",
      "metadata": {
        "scrolled": true
      },
      "execution_count": 14,
      "outputs": [
        {
          "execution_count": 14,
          "output_type": "execute_result",
          "data": {
            "text/html": [
              "<div>\n",
              "<style scoped>\n",
              "    .dataframe tbody tr th:only-of-type {\n",
              "        vertical-align: middle;\n",
              "    }\n",
              "\n",
              "    .dataframe tbody tr th {\n",
              "        vertical-align: top;\n",
              "    }\n",
              "\n",
              "    .dataframe thead th {\n",
              "        text-align: right;\n",
              "    }\n",
              "</style>\n",
              "<table border=\"1\" class=\"dataframe\">\n",
              "  <thead>\n",
              "    <tr style=\"text-align: right;\">\n",
              "      <th></th>\n",
              "      <th>CreditScore</th>\n",
              "      <th>Age</th>\n",
              "      <th>Tenure</th>\n",
              "      <th>Balance</th>\n",
              "      <th>NumOfProducts</th>\n",
              "      <th>HasCrCard</th>\n",
              "      <th>IsActiveMember</th>\n",
              "      <th>EstimatedSalary</th>\n",
              "      <th>Exited</th>\n",
              "      <th>Geography_France</th>\n",
              "      <th>Geography_Germany</th>\n",
              "      <th>Geography_Spain</th>\n",
              "      <th>Gender_Female</th>\n",
              "      <th>Gender_Male</th>\n",
              "    </tr>\n",
              "  </thead>\n",
              "  <tbody>\n",
              "    <tr>\n",
              "      <th>0</th>\n",
              "      <td>619</td>\n",
              "      <td>42</td>\n",
              "      <td>2.0</td>\n",
              "      <td>0.00</td>\n",
              "      <td>1</td>\n",
              "      <td>1</td>\n",
              "      <td>1</td>\n",
              "      <td>101348.88</td>\n",
              "      <td>1</td>\n",
              "      <td>1</td>\n",
              "      <td>0</td>\n",
              "      <td>0</td>\n",
              "      <td>1</td>\n",
              "      <td>0</td>\n",
              "    </tr>\n",
              "    <tr>\n",
              "      <th>1</th>\n",
              "      <td>608</td>\n",
              "      <td>41</td>\n",
              "      <td>1.0</td>\n",
              "      <td>83807.86</td>\n",
              "      <td>1</td>\n",
              "      <td>0</td>\n",
              "      <td>1</td>\n",
              "      <td>112542.58</td>\n",
              "      <td>0</td>\n",
              "      <td>0</td>\n",
              "      <td>0</td>\n",
              "      <td>1</td>\n",
              "      <td>1</td>\n",
              "      <td>0</td>\n",
              "    </tr>\n",
              "    <tr>\n",
              "      <th>2</th>\n",
              "      <td>502</td>\n",
              "      <td>42</td>\n",
              "      <td>8.0</td>\n",
              "      <td>159660.80</td>\n",
              "      <td>3</td>\n",
              "      <td>1</td>\n",
              "      <td>0</td>\n",
              "      <td>113931.57</td>\n",
              "      <td>1</td>\n",
              "      <td>1</td>\n",
              "      <td>0</td>\n",
              "      <td>0</td>\n",
              "      <td>1</td>\n",
              "      <td>0</td>\n",
              "    </tr>\n",
              "    <tr>\n",
              "      <th>3</th>\n",
              "      <td>699</td>\n",
              "      <td>39</td>\n",
              "      <td>1.0</td>\n",
              "      <td>0.00</td>\n",
              "      <td>2</td>\n",
              "      <td>0</td>\n",
              "      <td>0</td>\n",
              "      <td>93826.63</td>\n",
              "      <td>0</td>\n",
              "      <td>1</td>\n",
              "      <td>0</td>\n",
              "      <td>0</td>\n",
              "      <td>1</td>\n",
              "      <td>0</td>\n",
              "    </tr>\n",
              "    <tr>\n",
              "      <th>4</th>\n",
              "      <td>850</td>\n",
              "      <td>43</td>\n",
              "      <td>2.0</td>\n",
              "      <td>125510.82</td>\n",
              "      <td>1</td>\n",
              "      <td>1</td>\n",
              "      <td>1</td>\n",
              "      <td>79084.10</td>\n",
              "      <td>0</td>\n",
              "      <td>0</td>\n",
              "      <td>0</td>\n",
              "      <td>1</td>\n",
              "      <td>1</td>\n",
              "      <td>0</td>\n",
              "    </tr>\n",
              "  </tbody>\n",
              "</table>\n",
              "</div>"
            ],
            "text/plain": [
              "   CreditScore  Age  Tenure    Balance  NumOfProducts  HasCrCard  \\\n",
              "0          619   42     2.0       0.00              1          1   \n",
              "1          608   41     1.0   83807.86              1          0   \n",
              "2          502   42     8.0  159660.80              3          1   \n",
              "3          699   39     1.0       0.00              2          0   \n",
              "4          850   43     2.0  125510.82              1          1   \n",
              "\n",
              "   IsActiveMember  EstimatedSalary  Exited  Geography_France  \\\n",
              "0               1        101348.88       1                 1   \n",
              "1               1        112542.58       0                 0   \n",
              "2               0        113931.57       1                 1   \n",
              "3               0         93826.63       0                 1   \n",
              "4               1         79084.10       0                 0   \n",
              "\n",
              "   Geography_Germany  Geography_Spain  Gender_Female  Gender_Male  \n",
              "0                  0                0              1            0  \n",
              "1                  0                1              1            0  \n",
              "2                  0                0              1            0  \n",
              "3                  0                0              1            0  \n",
              "4                  0                1              1            0  "
            ]
          },
          "metadata": {}
        }
      ]
    },
    {
      "cell_type": "markdown",
      "source": "Применим масштабирование методом Standard Scaler.",
      "metadata": {}
    },
    {
      "cell_type": "code",
      "source": "features_train = pd.DataFrame(features_train, columns = features.columns)\nfeatures_valid = pd.DataFrame(features_valid, columns = features.columns)\nfeatures_test = pd.DataFrame(features_test, columns = features.columns)\nscaler = StandardScaler()\nnumeric=['CreditScore', 'Age', 'Tenure', 'Balance', 'NumOfProducts', 'EstimatedSalary']\nscaler.fit(features_train[numeric])\n\nfeatures_train[numeric] = scaler.transform(features_train[numeric])\nfeatures_valid[numeric] = scaler.transform(features_valid[numeric])\nfeatures_test[numeric] = scaler.transform(features_test[numeric])\n",
      "metadata": {},
      "execution_count": 15,
      "outputs": []
    },
    {
      "cell_type": "markdown",
      "source": "Итак, данные подготовлены к обучению моделей. Для этого мы удалили все не несущие полезной информации для моделей столбцы, проверили данные на предмет пропусков и заполнили имеющиеся (в нашем случае хорошо подошло медианное значение), применили кодирование к интересущим нас признакам (чтобы получить 0 и 1 для моделей), разбили данные на тренировочную(60%), валидационную (20%) и тестовую (20:) выборки, чтобы их соотношение стало 3/1/1, а также масштабировали признаки.",
      "metadata": {}
    },
    {
      "cell_type": "markdown",
      "source": "## Исследование задачи",
      "metadata": {}
    },
    {
      "cell_type": "markdown",
      "source": "Перед нами стоит задача классификации - уйдет ли клиент из банка или нет (0 или 1). Соответственно, в самом начале мы выгрузили модели классификации. Начнем со случайного леса. В данном пункте мы не балансируем классы. Будем искать наилучшую F1 меру для каждой модели, а также лучшую площадь roc-кривой (кривой, показывающей насколько наша модель отличается от случайной)",
      "metadata": {}
    },
    {
      "cell_type": "markdown",
      "source": "### Случайный лес",
      "metadata": {}
    },
    {
      "cell_type": "markdown",
      "source": "Как мы выяснили в прошлом пункте - классы несбалансированные. Попробуем обучить модель случайного леса с количеством n-эстиматоров 50, 100 и шагом 5,и глубиной 8-22",
      "metadata": {}
    },
    {
      "cell_type": "code",
      "source": "best_model = None\nbest_result = 0\nfor est in range(50, 100, 5):\n    for depth in range(8, 22):\n        model = RandomForestClassifier(random_state = 12345, n_estimators = est, max_depth = depth)\n        model.fit(features_train, target_train)\n        predictions = model.predict(features_valid)\n        result = f1_score(target_valid, predictions)\n        if result > best_result:\n            best_model = model\n            best_result = result\n            \nprobabilities = model.predict_proba(features)\nprobabilities_one = probabilities[:, 1]\nprint('Площадь ROC-кривой:', roc_auc_score(target, probabilities_one))\n\nprint(\"F1 score лучшей модели на валидационной выборке:\", best_result)           ",
      "metadata": {},
      "execution_count": 20,
      "outputs": [
        {
          "name": "stdout",
          "output_type": "stream",
          "text": "Площадь ROC-кривой: 0.42102539044257903\n\nF1 score лучшей модели на валидационной выборке: 0.5517241379310345\n"
        }
      ]
    },
    {
      "cell_type": "markdown",
      "source": "F1 score 0,55 и площадь roc-кривой 0,421 - результат неплохой.  Попробуем обучить модель Descision Tree.",
      "metadata": {}
    },
    {
      "cell_type": "markdown",
      "source": "### Дерево решений",
      "metadata": {}
    },
    {
      "cell_type": "markdown",
      "source": "Дерево решений булем обучать на глубине 2 - 150. Посмотрим как поменяется F1 score.",
      "metadata": {}
    },
    {
      "cell_type": "code",
      "source": "best_model = None\nbest_result = 0\nfor depth in range(2, 150):\n    model = DecisionTreeClassifier(random_state=12345, max_depth = depth) # задаем глубину дерева 2 - 150\n    model.fit(features_train,target_train) # обучаем\n    predictions = model.predict(features_valid)\n    result = f1_score(target_valid, predictions) \n    if result > best_result:\n        best_model = model\n        best_result = result\n        best_depth = depth\n\nprobabilities = model.predict_proba(features)\nprobabilities_one = probabilities[:, 1]\nprint('Площадь ROC-кривой:', roc_auc_score(target, probabilities_one))\n\nprint(\"F1 score лучшей модели на валидационной выборке:\", best_result)           ",
      "metadata": {},
      "execution_count": 16,
      "outputs": [
        {
          "name": "stdout",
          "output_type": "stream",
          "text": "Площадь ROC-кривой: 0.4699502134041518\n\nF1 score лучшей модели на валидационной выборке: 0.5287671232876712\n"
        }
      ]
    },
    {
      "cell_type": "markdown",
      "source": "Полученный результат 0,526 меньше, чем на модели случайного леса, но при этом площадь roc-кривой выше - составляет 0,469. Количество деревьев в 150 очень большое, так что можем считать его максимально дорустимым на такой объем данных. Проверим следующую модель - логистической регрессии. ",
      "metadata": {}
    },
    {
      "cell_type": "markdown",
      "source": "### Логистическая регрессия",
      "metadata": {}
    },
    {
      "cell_type": "code",
      "source": "model = LogisticRegression(random_state=12345, solver='lbfgs', max_iter=1000) \nmodel.fit(features_train, target_train) \npredictions = model.predict(features_valid)\nresult = f1_score(target_valid, predictions)\n\nprobabilities = model.predict_proba(features)\nprobabilities_one = probabilities[:, 1]\nprint('Площадь ROC-кривой:', roc_auc_score(target, probabilities_one))\n\nprint(\"F1 score на валидационной выборке:\", result)           ",
      "metadata": {},
      "execution_count": 18,
      "outputs": [
        {
          "name": "stdout",
          "output_type": "stream",
          "text": "Площадь ROC-кривой: 0.501403706181344\n\nF1 score на валидационной выборке: 0.27478260869565213\n"
        }
      ]
    },
    {
      "cell_type": "markdown",
      "source": "Модель показала очень низкий показатель F1 score, но зато самый высокий показатель roc-кривой - 0,5.",
      "metadata": {}
    },
    {
      "cell_type": "markdown",
      "source": "На данном этапе лучше всего, при имеющемся дисбалансе классов, лучший результат показала модель случайного леса - ее F1 score составляет 0,541, хотя площадь roc-кривой в ней 0,46 (что меньше, чем у модели дерева решений).",
      "metadata": {}
    },
    {
      "cell_type": "markdown",
      "source": "Попробуем устранить дисбаланс классов путем увеличения/уменьшения выборки, а также изменением порога классификации и посмотрим как поведут себя наши модели.",
      "metadata": {}
    },
    {
      "cell_type": "markdown",
      "source": "## Борьба с дисбалансом",
      "metadata": {}
    },
    {
      "cell_type": "markdown",
      "source": "### Взвешивание классов",
      "metadata": {}
    },
    {
      "cell_type": "markdown",
      "source": "Начнем с взвешивания. Для этого применим параметр class_weight = balanced ко всем используемым нами моделям. Начнем со случайного леса.",
      "metadata": {}
    },
    {
      "cell_type": "code",
      "source": "best_model = None\nbest_result = 0\nfor est in range(50, 100, 5):\n    for depth in range(8, 22):\n        model = RandomForestClassifier(random_state = 12345, n_estimators = est, max_depth = depth, class_weight='balanced')\n        model.fit(features_train, target_train)\n        predictions = model.predict(features_valid)\n        result = f1_score(target_valid, predictions)\n        if result > best_result:\n            best_model = model\n            best_result = result\n            \nprobabilities = model.predict_proba(features)\nprobabilities_one = probabilities[:, 1]\nprint('Площадь ROC-кривой:', roc_auc_score(target, probabilities_one))\n\nprint(\"F1 score лучшей модели на валидационной выборке:\", best_result)    ",
      "metadata": {},
      "execution_count": 21,
      "outputs": [
        {
          "name": "stdout",
          "output_type": "stream",
          "text": "Площадь ROC-кривой: 0.4140913507002286\n\nF1 score лучшей модели на валидационной выборке: 0.6162528216704289\n"
        }
      ]
    },
    {
      "cell_type": "markdown",
      "source": "По результату \"взвешивания\", то есть предания более редкому классу большего \"веса\", модель случайного леса показывает отличный результат F1 метрики - 0,616. Площадь roc-кривой при этом составляет 0,414 - меньше, чем было ранее. Проверим остальные модели аналогчным принципом.",
      "metadata": {}
    },
    {
      "cell_type": "markdown",
      "source": "\"Взвесим классы\" в дереве решений.",
      "metadata": {}
    },
    {
      "cell_type": "code",
      "source": "best_model = None\nbest_result = 0\nfor depth in range(2, 150):\n    model = DecisionTreeClassifier(random_state=12345, max_depth = depth, class_weight='balanced')\n    model.fit(features_train,target_train) # обучаем\n    predictions = model.predict(features_valid)\n    result = f1_score(target_valid, predictions) \n    if result > best_result:\n        best_model = model\n        best_result = result\n        best_depth = depth\n\nprobabilities = model.predict_proba(features)\nprobabilities_one = probabilities[:, 1]\nprint('Площадь ROC-кривой:', roc_auc_score(target, probabilities_one))        \nprint(\"F1 score лучшей модели на валидационной выборке:\", best_result)    ",
      "metadata": {},
      "execution_count": 23,
      "outputs": [
        {
          "name": "stdout",
          "output_type": "stream",
          "text": "Площадь ROC-кривой: 0.5816372988202494\n\nF1 score лучшей модели на валидационной выборке: 0.5809128630705395\n"
        }
      ]
    },
    {
      "cell_type": "markdown",
      "source": "Как мы видим, здесь метрика F1 также выросла - после \"взвешивания\" она стала 0,58. Такое же значение составила и площадь roc-кривой. Проверим далее модель логистической регрессии.",
      "metadata": {}
    },
    {
      "cell_type": "code",
      "source": "model = LogisticRegression(random_state=12345, solver='lbfgs', max_iter=1000, class_weight='balanced') \nmodel.fit(features_train, target_train) \npredictions = model.predict(features_valid)\nresult = f1_score(target_valid, predictions)\n\nprobabilities = model.predict_proba(features)\nprobabilities_one = probabilities[:, 1]\nprint('Площадь ROC-кривой:', roc_auc_score(target, probabilities_one))\n\nprint(\"F1 score на валидационной выборке:\", result)",
      "metadata": {
        "scrolled": true
      },
      "execution_count": 24,
      "outputs": [
        {
          "name": "stdout",
          "output_type": "stream",
          "text": "Площадь ROC-кривой: 0.5017239464975192\n\nF1 score на валидационной выборке: 0.4775086505190312\n"
        }
      ]
    },
    {
      "cell_type": "markdown",
      "source": "На логистической регрессии также заметно увеличение метрики. 0,47 против 0,27 с дисбалансированными классами.Площадь кривой не изменилась. Попробуем увеличить выборку.",
      "metadata": {}
    },
    {
      "cell_type": "markdown",
      "source": "### Увеличение выборки",
      "metadata": {}
    },
    {
      "cell_type": "markdown",
      "source": "Добьемся того, чтобы объекты редкого класса стали в нашей выборке не такими редкими. Для этого:\n- разделим обучающую выборку на отрицательные и положительные объекты;\n- скопируем несколько раз положительные объекты;\n- с учётом полученных данных создадим новую обучающую выборку;\n- перемешаем данные: идущие друг за другом одинаковые вопросы не помогут обучению.",
      "metadata": {}
    },
    {
      "cell_type": "code",
      "source": "def upsample(features, target, repeat):\n    features_zeros = features[target == 0]\n    features_ones = features[target == 1]\n    target_zeros = target[target == 0]\n    target_ones = target[target == 1]\n\n    features_upsampled = pd.concat([features_zeros] + [features_ones] * repeat)\n    target_upsampled = pd.concat([target_zeros] + [target_ones] * repeat)\n    \n    features_upsampled, target_upsampled = shuffle(\n        features_upsampled, target_upsampled, random_state=12345)\n    \n    return features_upsampled, target_upsampled\n\nfeatures_upsampled, target_upsampled = upsample(features_train, target_train, 4)   \n",
      "metadata": {},
      "execution_count": 25,
      "outputs": []
    },
    {
      "cell_type": "markdown",
      "source": "Мы сделали подготовку для увеличения выборки. Теперь применим ее пооочередно на наших моделей. Начнем с модели случайного леса.",
      "metadata": {}
    },
    {
      "cell_type": "code",
      "source": "best_model = None\nbest_result = 0\nfor est in range(50, 100, 5):\n    for depth in range(8, 22):\n        model = RandomForestClassifier(random_state = 12345, n_estimators = est, max_depth = depth)\n        model.fit(features_upsampled, target_upsampled)\n        predictions = model.predict(features_valid)\n        result = f1_score(target_valid, predictions)\n        if result > best_result:\n            best_model = model\n            best_result = result\n\n\nprobabilities = model.predict_proba(features)\nprobabilities_one = probabilities[:, 1]\nprint('Площадь ROC-кривой:', roc_auc_score(target, probabilities_one))\nprint(\"F1 score лучшей модели на валидационной выборке:\", best_result)    ",
      "metadata": {},
      "execution_count": 31,
      "outputs": [
        {
          "name": "stdout",
          "output_type": "stream",
          "text": "Площадь ROC-кривой: 0.4287445722672565\n\nF1 score лучшей модели на валидационной выборке: 0.6161616161616161\n"
        }
      ]
    },
    {
      "cell_type": "markdown",
      "source": "Метрика F1 уменьшилась по сравнению с \"взвешивание классов\" хоть и не намного, но тем не менее - 0,6161 против 0,6162 ранее. Площадь кривой составила 0,42.",
      "metadata": {}
    },
    {
      "cell_type": "markdown",
      "source": "Перейдем к модели дерева решений.",
      "metadata": {}
    },
    {
      "cell_type": "code",
      "source": "best_model = None\nbest_result = 0\nfor depth in range(2, 150):\n    model = DecisionTreeClassifier(random_state=12345, max_depth = depth)\n    model.fit(features_upsampled, target_upsampled)\n    predictions = model.predict(features_valid)\n    result = f1_score(target_valid, predictions) \n    if result > best_result:\n        best_model = model\n        best_result = result\n        best_depth = depth\n\nprobabilities = model.predict_proba(features)\nprobabilities_one = probabilities[:, 1]\nprint('Площадь ROC-кривой:', roc_auc_score(target, probabilities_one))\nprint(\"F1 score лучшей модели на валидационной выборке:\", best_result)",
      "metadata": {},
      "execution_count": 27,
      "outputs": [
        {
          "name": "stdout",
          "output_type": "stream",
          "text": "Площадь ROC-кривой: 0.5816372988202494\n\nF1 score лучшей модели на валидационной выборке: 0.5809128630705395\n"
        }
      ]
    },
    {
      "cell_type": "markdown",
      "source": "Здесь метрика F1 осталась прежней. Площадь roc-кривой составляет 0,58.",
      "metadata": {}
    },
    {
      "cell_type": "markdown",
      "source": "Проверим логистическую регрессию.",
      "metadata": {}
    },
    {
      "cell_type": "code",
      "source": "model = LogisticRegression(random_state=12345, solver='liblinear', max_iter=1000)\nmodel.fit(features_upsampled, target_upsampled)\npredictions = model.predict(features_valid)\nresult = f1_score(target_valid, predictions)\n\nprobabilities = model.predict_proba(features)\nprobabilities_one = probabilities[:, 1]\nprint('Площадь ROC-кривой:', roc_auc_score(target, probabilities_one))\nprint(\"F1 score на валидационной выборке:\", result)",
      "metadata": {},
      "execution_count": 40,
      "outputs": [
        {
          "name": "stdout",
          "output_type": "stream",
          "text": "Площадь ROC-кривой: 0.5017239464975192\n\nF1 score на валидационной выборке: 0.47619047619047616\n"
        }
      ]
    },
    {
      "cell_type": "markdown",
      "source": "А здесь метрика немного уменьшилась (получили 0,476 против 0,477).Площадь кривой осталась таклй же - 0,501.",
      "metadata": {}
    },
    {
      "cell_type": "markdown",
      "source": "### Уменьшение выборки",
      "metadata": {}
    },
    {
      "cell_type": "markdown",
      "source": "Попробуем уменьшить выборку, чтобы сделать объекты частого класса не такими частыми. Этого можно добиться с помощью отбрасывания отрицательных ответов. Для этого:\n- разделим обучающую выборку на отрицательные и положительные объекты;\n- случайным образом отбросим часть из отрицательных объектов;\n- с учётом полученных данных создадим новую обучающую выборку;\n- перемешаем данные",
      "metadata": {}
    },
    {
      "cell_type": "code",
      "source": "def downsample(features, target, fraction):\n    features_zeros = features[target == 0]\n    features_ones = features[target == 1]\n    target_zeros = target[target == 0]\n    target_ones = target[target == 1]\n\n    features_downsampled = pd.concat(\n        [features_zeros.sample(frac=fraction, random_state=12345)] + [features_ones])\n    target_downsampled = pd.concat(\n        [target_zeros.sample(frac=fraction, random_state=12345)] + [target_ones])\n    \n    features_downsampled, target_downsampled = shuffle(\n        features_downsampled, target_downsampled, random_state=12345)\n    \n    return features_downsampled, target_downsampled\n\nfeatures_downsampled, target_downsampled = downsample(features_train, target_train, 0.25)",
      "metadata": {},
      "execution_count": 32,
      "outputs": []
    },
    {
      "cell_type": "markdown",
      "source": "Снова попробуем модель случайного леса с новыми параметрами обучения.",
      "metadata": {}
    },
    {
      "cell_type": "code",
      "source": "best_model = None\nbest_result = 0\nfor est in range(50, 100, 5):\n    for depth in range(8, 22):\n        model = RandomForestClassifier(random_state = 12345, n_estimators = est, max_depth = depth)\n        model.fit(features_downsampled, target_downsampled)\n        predictions = model.predict(features_valid)\n        result = f1_score(target_valid, predictions)\n        if result > best_result:\n            best_model = model\n            best_result = result\n\nprobabilities = model.predict_proba(features)\nprobabilities_one = probabilities[:, 1]\nprint('Площадь ROC-кривой:', roc_auc_score(target, probabilities_one))\nprint(\"F1 score лучшей модели на валидационной выборке:\", best_result)    ",
      "metadata": {},
      "execution_count": 33,
      "outputs": [
        {
          "name": "stdout",
          "output_type": "stream",
          "text": "Площадь ROC-кривой: 0.4034250578784512\n\nF1 score лучшей модели на валидационной выборке: 0.5854108956602031\n"
        }
      ]
    },
    {
      "cell_type": "markdown",
      "source": "Метрика уменьшилась сильно, а нам это не подходит. Попробуем другие модели с уменьшенной выборкой.",
      "metadata": {}
    },
    {
      "cell_type": "markdown",
      "source": "Посмотрим как будет себя вести дерево решений.",
      "metadata": {}
    },
    {
      "cell_type": "code",
      "source": "best_model = None\nbest_result = 0\nfor depth in range(2, 150):\n    model = DecisionTreeClassifier(random_state=12345, max_depth = depth)\n    model.fit(features_downsampled, target_downsampled)\n    predictions = model.predict(features_valid)\n    result = f1_score(target_valid, predictions) \n    if result > best_result:\n        best_model = model\n        best_result = result\n        best_depth = depth\n\nprobabilities = model.predict_proba(features)\nprobabilities_one = probabilities[:, 1]\nprint('Площадь ROC-кривой:', roc_auc_score(target, probabilities_one))\nprint(\"F1 score лучшей модели на валидационной выборке:\", best_result)",
      "metadata": {},
      "execution_count": 34,
      "outputs": [
        {
          "name": "stdout",
          "output_type": "stream",
          "text": "Площадь ROC-кривой: 0.5132873992386608\n\nF1 score лучшей модели на валидационной выборке: 0.5913875598086125\n"
        }
      ]
    },
    {
      "cell_type": "markdown",
      "source": "И здесь мы видим значительное уменьшение F1 score вместе с площадью кривой. Проверим логистическую регрессию.",
      "metadata": {}
    },
    {
      "cell_type": "code",
      "source": "model = LogisticRegression(random_state=12345, solver='liblinear', max_iter=1000)\nmodel.fit(features_upsampled, target_upsampled)\npredictions = model.predict(features_valid)\nresult = f1_score(target_valid, predictions)\n\nprobabilities = model.predict_proba(features)\nprobabilities_one = probabilities[:, 1]\nprint('Площадь ROC-кривой:', roc_auc_score(target, probabilities_one))\nprint(\"F1 score на валидационной выборке:\", result)",
      "metadata": {},
      "execution_count": 41,
      "outputs": [
        {
          "name": "stdout",
          "output_type": "stream",
          "text": "Площадь ROC-кривой: 0.5017239464975192\n\nF1 score на валидационной выборке: 0.47619047619047616\n"
        }
      ]
    },
    {
      "cell_type": "markdown",
      "source": "Здесь F1 метрика и площадь кривой остались теми же.",
      "metadata": {}
    },
    {
      "cell_type": "markdown",
      "source": "На основании полученных результатов можно сделать вывод, что уменьшение выборки для увеличения метрики F1 в данной задачи не подходит - метрика всех 3-х моделей значительно уменьшилась.",
      "metadata": {}
    },
    {
      "cell_type": "markdown",
      "source": "### Изменение порога. AUC-ROC score и ROC кривая",
      "metadata": {}
    },
    {
      "cell_type": "markdown",
      "source": "Для того, чтобы изменить порог классификации воспользуемся методом proba. Далее нарисуем график ROC кривой (кривой ошибок), чтобы понять как отличается наша обученная модель от случайной. А затем выведем метрику auc-roc, которая для правильно обученной модели должна стремиться к единице. Так сделаем для всех моделей - начнем со случайного леса",
      "metadata": {}
    },
    {
      "cell_type": "code",
      "source": "best_model = None\nbest_result = 0\nfor est in range(50, 100, 5):\n    for depth in range(8, 22):\n        model = RandomForestClassifier(random_state = 12345, n_estimators = est, max_depth = depth)\n        model.fit(features_train, target_train)\n        predictions = model.predict(features_valid)\n        result = f1_score(target_valid, predictions)\n        if result > best_result:\n            best_model = model\n            best_result = result\nprobabilities_valid = model.predict_proba(features_valid)\nprobabilities_one_valid = probabilities_valid[:, 1]\n\nfpr, tpr, thresholds = fpr, tpr, thresholds = roc_curve(target_valid, probabilities_one_valid) \n\nplt.figure()\nplt.plot(fpr, tpr)\nplt.xlim([0.0, 1.0])\nplt.ylim([0.0, 1.0])\nplt.xlabel('False Positive Rate')\nplt.ylabel('True Positive Rate')\nplt.title('ROC-кривая')\nplt.show()\n\nauc_roc = roc_auc_score(target_valid, probabilities_one_valid)\nprint(auc_roc)\nprint(\"F1 score на валидационной выборке:\", result)",
      "metadata": {},
      "execution_count": 43,
      "outputs": [
        {
          "output_type": "display_data",
          "data": {
            "image/png": "[encoded data removed]",
            "text/plain": [
              "<Figure size 432x288 with 1 Axes>"
            ]
          },
          "metadata": {
            "needs_background": "light"
          }
        },
        {
          "name": "stdout",
          "output_type": "stream",
          "text": "0.8511132997836813\n\nF1 score на валидационной выборке: 0.5381165919282511\n"
        }
      ]
    },
    {
      "cell_type": "markdown",
      "source": "Как мы видим на графике - наша модель обучена хорошо. Также это подтверждает метрика auc-roc - она составляет 0,85. Это пока что наилучшее значение для модели случайного леса. Но при этом метрика F1 сильно уменьшилась - она составляет всего 0,538. Перейдем к дереву решений.",
      "metadata": {}
    },
    {
      "cell_type": "code",
      "source": "best_model = None\nbest_result = 0\nfor depth in range(2, 150):\n    model = DecisionTreeClassifier(random_state=12345, max_depth = depth)\n    model.fit(features_train, target_train)\n    predictions = model.predict(features_valid)\n    result = f1_score(target_valid, predictions) \n    if result > best_result:\n        best_model = model\n        best_result = result\n        best_depth = depth\nprobabilities_valid = model.predict_proba(features_valid)\nprobabilities_one_valid = probabilities_valid[:, 1]\n\nfpr, tpr, thresholds = fpr, tpr, thresholds = roc_curve(target_valid, probabilities_one_valid) \n\nplt.figure()\nplt.plot(fpr, tpr)\nplt.xlim([0.0, 1.0])\nplt.ylim([0.0, 1.0])\nplt.xlabel('False Positive Rate')\nplt.ylabel('True Positive Rate')\nplt.title('ROC-кривая')\nplt.show()\n\nauc_roc = roc_auc_score(target_valid, probabilities_one_valid)\nprint(auc_roc)\nprint(\"F1 score на валидационной выборке:\", result)",
      "metadata": {},
      "execution_count": 44,
      "outputs": [
        {
          "output_type": "display_data",
          "data": {
            "image/png": "[encoded data removed]",
            "text/plain": [
              "<Figure size 432x288 with 1 Axes>"
            ]
          },
          "metadata": {
            "needs_background": "light"
          }
        },
        {
          "name": "stdout",
          "output_type": "stream",
          "text": "0.6561880219646784\n\nF1 score на валидационной выборке: 0.4587378640776699\n"
        }
      ]
    },
    {
      "cell_type": "markdown",
      "source": "На дереве решений ситуация чуть хуже, но, судя по графику, мдель также сильно отличается от случайной. Площадь кривой составляет 0,65. Также уменьшилась и метрика F1. Перейдем к логистической регрессии.",
      "metadata": {}
    },
    {
      "cell_type": "code",
      "source": "model = LogisticRegression(random_state=12345, solver='liblinear', max_iter=1000)\nmodel.fit(features_train, target_train)\npredictions = model.predict(features_valid)\nresult = f1_score(target_valid, predictions)\n\n\nprobabilities_valid = model.predict_proba(features_valid)\nprobabilities_one_valid = probabilities_valid[:, 1]\n\nfpr, tpr, thresholds = fpr, tpr, thresholds = roc_curve(target_valid, probabilities_one_valid) \n\nplt.figure()\nplt.plot(fpr, tpr)\nplt.xlim([0.0, 1.0])\nplt.ylim([0.0, 1.0])\nplt.xlabel('False Positive Rate')\nplt.ylabel('True Positive Rate')\nplt.title('ROC-кривая')\nplt.show()\n\nauc_roc = roc_auc_score(target_valid, probabilities_one_valid)\nprint(auc_roc)\nprint(\"F1 score на валидационной выборке:\", result)",
      "metadata": {},
      "execution_count": 45,
      "outputs": [
        {
          "output_type": "display_data",
          "data": {
            "image/png": "[encoded data removed]",
            "text/plain": [
              "<Figure size 432x288 with 1 Axes>"
            ]
          },
          "metadata": {
            "needs_background": "light"
          }
        },
        {
          "name": "stdout",
          "output_type": "stream",
          "text": "0.7386230251352555\n\nF1 score на валидационной выборке: 0.27478260869565213\n"
        }
      ]
    },
    {
      "cell_type": "markdown",
      "source": "Логистическая регрессия показала результат лучше, чем модель случайного леса по графику и площади кривой. Но F1 метрика составляет всего 0,27 - это крайне мало.",
      "metadata": {}
    },
    {
      "cell_type": "markdown",
      "source": "### Подытожим",
      "metadata": {}
    },
    {
      "cell_type": "markdown",
      "source": "Мы попробовали избавиться от дисбаланса классов с помощью различных способов - взвешивали классы, уменьшали/увеличивали выборки, меняли пороги классификаций. По итогу, наиболее точно и адекватно по всем параметрам показала себя модель случайного леса. Но самый высокий результат данная модель показала при взвешивании классов - 0,6162 по метрике F1 и 0,414 площади roc-кривой.",
      "metadata": {}
    },
    {
      "cell_type": "markdown",
      "source": "## Тестирование модели",
      "metadata": {}
    },
    {
      "cell_type": "markdown",
      "source": "Протестируем нашу модель RandomForest с количеством n-estimators 100, глубиной 8, clss_weight='balanced' для борьбы с дисбалансом.",
      "metadata": {}
    },
    {
      "cell_type": "code",
      "source": "model = RandomForestClassifier(random_state = 12345, n_estimators = 100, max_depth = 8, class_weight='balanced')\nmodel.fit(features_upsampled, target_upsampled)\npredictions = model.predict(features_test)\nresult = f1_score(target_test, predictions)\nprobabilities_valid = model.predict_proba(features_valid)\nprobabilities_one_valid = probabilities_valid[:, 1]\n\nfpr, tpr, thresholds = fpr, tpr, thresholds = roc_curve(target_valid, probabilities_one_valid) \n\nplt.figure()\nplt.plot(fpr, tpr)\nplt.xlim([0.0, 1.0])\nplt.ylim([0.0, 1.0])\nplt.xlabel('False Positive Rate')\nplt.ylabel('True Positive Rate')\nplt.title('ROC-кривая')\nplt.show()\n\nauc_roc = roc_auc_score(target_valid, probabilities_one_valid)\nprint(auc_roc)\nprint(\"F1 score модели на тестовой выборке:\", result)",
      "metadata": {},
      "execution_count": 60,
      "outputs": [
        {
          "output_type": "display_data",
          "data": {
            "image/png": "[encoded data removed]",
            "text/plain": [
              "<Figure size 432x288 with 1 Axes>"
            ]
          },
          "metadata": {
            "needs_background": "light"
          }
        },
        {
          "name": "stdout",
          "output_type": "stream",
          "text": "0.8524519878693574\n\nF1 score модели на тестовой выборке: 0.6191446028513238\n"
        }
      ]
    },
    {
      "cell_type": "markdown",
      "source": "Значение F1 score модели на тестовых данных получилось 0,619. Площадь roc-кривой составила 0,85 - сильное отличие от случайной модели, что видно из графика. Это говорит о высоком качестве обученной модели и правильно подобранных гиперпараметрах, а также решением проблемы дисбаланса классов.",
      "metadata": {}
    },
    {
      "cell_type": "markdown",
      "source": "## Вывод",
      "metadata": {}
    },
    {
      "cell_type": "markdown",
      "source": "Перед нами стояла задача - найти и обучить наилучшую модель для предсказания оттока клиентов. Для данного исследования были выбраны 3 модели - Случайный лес, Дерево решений и Логистическая регрессия. При подготовке к обучению мы провели кодирование классов (чтобы получить 0/1 для удобного обучения модели в дальнейшем), произвели масштабирование классов, удалили ненужные столбцы исходного датафрейма, а также заполнили пропущенные значения наиболее подходящими.\n\nВо время обучения моделей мы по началу не учитывали дисбаланс классов, но даже при этом, лидирующую позицию по метрике F1 (среднее гармоническое полноты и точности) заняла модель Случайный лес с количеством n-estimators 5-100, глубиной 5-60(значение метрики у нее составило 0,55). Площадь roc-кривой (показывающей насколько наша модель отличается от случайной составила у нее 0,42, что тоже является высоким показателем.\n\nЗатем мы приступили к борьбе с дисбалансом классов. Для этого мы взвешивали классы, уменьшали/увеличивали выборки, изменяли значения порога классификаций. По результатам нашей работы, наибольшее среднее гармоническое полноты и точности получилось у модели Случайный лес при взвешанных классах - оно составило 0,612. Также нами была проверена ROC-кривая и метрика auc-roc, которые позволили увидеть насколько наша обученная на тренировочной выборке модель отличается от случайной. Данные метрики также наилучшие у Случайного леса.\n\nВ конце мы провели тестирование модели Случайного леса с количеством n-estimators 100, глубиной 8 и class_weight='balanced' (данные гиперпараметры подобрали на валидационной выборке) на тестовых данных. На этих данных модель показала наилучшую F1 score равную 0,619 при площади roc-кривой 0,85.\n\nНа основании вышеописанного моно сделать вывод, что для решения поставленной задачи лучше всего подходит модель Случайный лес.",
      "metadata": {}
    }
  ]
}