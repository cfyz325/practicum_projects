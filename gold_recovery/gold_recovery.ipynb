{
  "metadata": {
    "ExecuteTimeLog": [
      {
        "duration": 1872,
        "start_time": "2023-03-21T00:54:25.383Z"
      },
      {
        "duration": 14,
        "start_time": "2023-03-21T00:54:33.214Z"
      },
      {
        "duration": 57,
        "start_time": "2023-03-21T00:57:50.466Z"
      },
      {
        "duration": 60,
        "start_time": "2023-03-21T00:58:40.826Z"
      },
      {
        "duration": 77,
        "start_time": "2023-03-21T01:01:12.757Z"
      },
      {
        "duration": 96,
        "start_time": "2023-03-21T01:01:26.108Z"
      },
      {
        "duration": 78,
        "start_time": "2023-03-21T01:05:12.083Z"
      },
      {
        "duration": 1781,
        "start_time": "2023-03-21T10:23:00.865Z"
      },
      {
        "duration": 507,
        "start_time": "2023-03-21T10:23:02.648Z"
      },
      {
        "duration": 56,
        "start_time": "2023-03-21T12:24:11.816Z"
      },
      {
        "duration": 1511,
        "start_time": "2023-03-21T12:24:16.557Z"
      },
      {
        "duration": 2145,
        "start_time": "2023-03-21T12:24:18.070Z"
      },
      {
        "duration": 24,
        "start_time": "2023-03-21T12:30:01.042Z"
      },
      {
        "duration": 24,
        "start_time": "2023-03-21T12:30:13.525Z"
      },
      {
        "duration": 18,
        "start_time": "2023-03-21T12:30:43.422Z"
      },
      {
        "duration": 18,
        "start_time": "2023-03-21T12:30:47.965Z"
      },
      {
        "duration": 18,
        "start_time": "2023-03-21T12:30:57.733Z"
      },
      {
        "duration": 34,
        "start_time": "2023-03-21T12:40:12.455Z"
      },
      {
        "duration": 18,
        "start_time": "2023-03-21T12:40:34.391Z"
      },
      {
        "duration": 10,
        "start_time": "2023-03-21T12:41:48.594Z"
      },
      {
        "duration": 16,
        "start_time": "2023-03-21T12:43:54.086Z"
      },
      {
        "duration": 16,
        "start_time": "2023-03-21T12:44:32.782Z"
      },
      {
        "duration": 15,
        "start_time": "2023-03-21T12:44:47.994Z"
      },
      {
        "duration": 14,
        "start_time": "2023-03-21T12:47:03.577Z"
      },
      {
        "duration": 10,
        "start_time": "2023-03-21T12:54:28.909Z"
      },
      {
        "duration": 23,
        "start_time": "2023-03-21T12:54:52.235Z"
      },
      {
        "duration": 9,
        "start_time": "2023-03-21T12:54:58.898Z"
      },
      {
        "duration": 9,
        "start_time": "2023-03-21T12:55:11.872Z"
      },
      {
        "duration": 6,
        "start_time": "2023-03-21T12:55:29.187Z"
      },
      {
        "duration": 13,
        "start_time": "2023-03-21T12:58:45.834Z"
      },
      {
        "duration": 22,
        "start_time": "2023-03-21T13:00:38.569Z"
      },
      {
        "duration": 9,
        "start_time": "2023-03-21T13:00:48.787Z"
      },
      {
        "duration": 8,
        "start_time": "2023-03-21T13:01:00.641Z"
      },
      {
        "duration": 6,
        "start_time": "2023-03-21T13:01:21.058Z"
      },
      {
        "duration": 6,
        "start_time": "2023-03-21T13:13:21.512Z"
      },
      {
        "duration": 17,
        "start_time": "2023-03-21T13:13:36.165Z"
      },
      {
        "duration": 807,
        "start_time": "2023-03-21T13:23:45.523Z"
      },
      {
        "duration": 5,
        "start_time": "2023-03-21T13:24:01.394Z"
      },
      {
        "duration": 9,
        "start_time": "2023-03-21T13:25:56.954Z"
      },
      {
        "duration": 3,
        "start_time": "2023-03-21T13:26:01.445Z"
      },
      {
        "duration": 4,
        "start_time": "2023-03-21T13:26:02.160Z"
      },
      {
        "duration": 52,
        "start_time": "2023-03-21T13:26:26.916Z"
      },
      {
        "duration": 43,
        "start_time": "2023-03-21T13:26:31.491Z"
      },
      {
        "duration": 5,
        "start_time": "2023-03-21T13:27:14.835Z"
      },
      {
        "duration": 3,
        "start_time": "2023-03-21T13:27:28.548Z"
      },
      {
        "duration": 3,
        "start_time": "2023-03-21T13:27:34.427Z"
      },
      {
        "duration": 3,
        "start_time": "2023-03-21T13:27:44.589Z"
      },
      {
        "duration": 3,
        "start_time": "2023-03-21T13:27:49.564Z"
      },
      {
        "duration": 3,
        "start_time": "2023-03-21T13:28:02.444Z"
      },
      {
        "duration": 16,
        "start_time": "2023-03-21T13:59:12.172Z"
      },
      {
        "duration": 9,
        "start_time": "2023-03-21T13:59:49.777Z"
      },
      {
        "duration": 8,
        "start_time": "2023-03-21T14:00:26.435Z"
      },
      {
        "duration": 9,
        "start_time": "2023-03-21T14:00:46.454Z"
      },
      {
        "duration": 9,
        "start_time": "2023-03-21T14:00:46.656Z"
      },
      {
        "duration": 7,
        "start_time": "2023-03-21T14:00:46.891Z"
      },
      {
        "duration": 26,
        "start_time": "2023-03-21T14:00:47.338Z"
      },
      {
        "duration": 8,
        "start_time": "2023-03-21T14:00:47.587Z"
      },
      {
        "duration": 8,
        "start_time": "2023-03-21T14:00:48.296Z"
      },
      {
        "duration": 6,
        "start_time": "2023-03-21T14:00:49.091Z"
      },
      {
        "duration": 6,
        "start_time": "2023-03-21T14:00:50.858Z"
      },
      {
        "duration": 19,
        "start_time": "2023-03-21T14:00:51.595Z"
      },
      {
        "duration": 4,
        "start_time": "2023-03-21T14:00:53.233Z"
      },
      {
        "duration": 3,
        "start_time": "2023-03-21T14:00:53.891Z"
      },
      {
        "duration": 4,
        "start_time": "2023-03-21T14:04:20.127Z"
      },
      {
        "duration": 10,
        "start_time": "2023-03-21T14:53:57.685Z"
      },
      {
        "duration": 11,
        "start_time": "2023-03-21T14:54:23.567Z"
      },
      {
        "duration": 736,
        "start_time": "2023-03-21T14:55:08.416Z"
      },
      {
        "duration": 7,
        "start_time": "2023-03-21T14:57:40.912Z"
      },
      {
        "duration": 7,
        "start_time": "2023-03-21T14:58:56.740Z"
      },
      {
        "duration": 6,
        "start_time": "2023-03-21T15:00:25.900Z"
      },
      {
        "duration": 6,
        "start_time": "2023-03-21T15:01:32.842Z"
      },
      {
        "duration": 156,
        "start_time": "2023-03-21T15:11:18.529Z"
      },
      {
        "duration": 13,
        "start_time": "2023-03-21T15:11:36.598Z"
      },
      {
        "duration": 135,
        "start_time": "2023-03-21T15:12:45.808Z"
      },
      {
        "duration": 126,
        "start_time": "2023-03-21T15:13:24.150Z"
      },
      {
        "duration": 168,
        "start_time": "2023-03-21T15:13:35.200Z"
      },
      {
        "duration": 144,
        "start_time": "2023-03-21T15:14:36.871Z"
      },
      {
        "duration": 150,
        "start_time": "2023-03-21T15:14:53.639Z"
      },
      {
        "duration": 11,
        "start_time": "2023-03-21T15:15:16.927Z"
      },
      {
        "duration": 139,
        "start_time": "2023-03-21T15:15:31.701Z"
      },
      {
        "duration": 4,
        "start_time": "2023-03-21T15:23:36.534Z"
      },
      {
        "duration": 5,
        "start_time": "2023-03-21T15:28:57.544Z"
      },
      {
        "duration": 164,
        "start_time": "2023-03-21T15:29:00.984Z"
      },
      {
        "duration": 13,
        "start_time": "2023-03-21T15:29:46.967Z"
      },
      {
        "duration": 4,
        "start_time": "2023-03-21T15:30:20.382Z"
      },
      {
        "duration": 10,
        "start_time": "2023-03-21T15:34:18.985Z"
      },
      {
        "duration": 4,
        "start_time": "2023-03-21T15:34:38.088Z"
      },
      {
        "duration": 226,
        "start_time": "2023-03-21T15:36:00.331Z"
      },
      {
        "duration": 146,
        "start_time": "2023-03-21T15:36:00.796Z"
      },
      {
        "duration": 175,
        "start_time": "2023-03-21T15:36:05.327Z"
      },
      {
        "duration": 158,
        "start_time": "2023-03-21T15:36:07.394Z"
      },
      {
        "duration": 4,
        "start_time": "2023-03-21T15:40:34.072Z"
      },
      {
        "duration": 135,
        "start_time": "2023-03-21T15:40:39.216Z"
      },
      {
        "duration": 147,
        "start_time": "2023-03-21T15:40:40.168Z"
      },
      {
        "duration": 132,
        "start_time": "2023-03-21T15:40:41.033Z"
      },
      {
        "duration": 136,
        "start_time": "2023-03-21T15:40:41.827Z"
      },
      {
        "duration": 2589,
        "start_time": "2023-03-21T16:04:28.485Z"
      },
      {
        "duration": 2556,
        "start_time": "2023-03-21T16:10:52.551Z"
      },
      {
        "duration": 2683,
        "start_time": "2023-03-21T16:11:08.468Z"
      },
      {
        "duration": 2616,
        "start_time": "2023-03-21T16:11:20.485Z"
      },
      {
        "duration": 434,
        "start_time": "2023-03-21T16:11:51.447Z"
      },
      {
        "duration": 2603,
        "start_time": "2023-03-21T16:12:06.686Z"
      },
      {
        "duration": 2718,
        "start_time": "2023-03-21T16:12:32.462Z"
      },
      {
        "duration": 4,
        "start_time": "2023-03-21T16:21:30.356Z"
      },
      {
        "duration": 3,
        "start_time": "2023-03-21T16:23:32.635Z"
      },
      {
        "duration": 4,
        "start_time": "2023-03-21T16:23:41.532Z"
      },
      {
        "duration": 4,
        "start_time": "2023-03-21T16:24:05.894Z"
      },
      {
        "duration": 4,
        "start_time": "2023-03-21T16:24:15.815Z"
      },
      {
        "duration": 160,
        "start_time": "2023-03-21T16:26:19.416Z"
      },
      {
        "duration": 161,
        "start_time": "2023-03-21T16:26:35.106Z"
      },
      {
        "duration": 419,
        "start_time": "2023-03-21T16:26:44.894Z"
      },
      {
        "duration": 419,
        "start_time": "2023-03-21T16:30:28.312Z"
      },
      {
        "duration": 159,
        "start_time": "2023-03-21T16:31:24.304Z"
      },
      {
        "duration": 413,
        "start_time": "2023-03-21T16:31:40.913Z"
      },
      {
        "duration": 601,
        "start_time": "2023-03-21T16:32:20.293Z"
      },
      {
        "duration": 412,
        "start_time": "2023-03-21T16:32:34.735Z"
      },
      {
        "duration": 407,
        "start_time": "2023-03-21T16:32:58.399Z"
      },
      {
        "duration": 405,
        "start_time": "2023-03-21T16:33:24.727Z"
      },
      {
        "duration": 420,
        "start_time": "2023-03-21T16:33:41.931Z"
      },
      {
        "duration": 47,
        "start_time": "2023-03-21T16:34:29.642Z"
      },
      {
        "duration": 526,
        "start_time": "2023-03-21T16:34:38.498Z"
      },
      {
        "duration": 412,
        "start_time": "2023-03-21T16:35:03.759Z"
      },
      {
        "duration": 6,
        "start_time": "2023-03-21T17:08:52.609Z"
      },
      {
        "duration": 15,
        "start_time": "2023-03-21T17:09:02.230Z"
      },
      {
        "duration": 13,
        "start_time": "2023-03-21T17:09:10.142Z"
      },
      {
        "duration": 12,
        "start_time": "2023-03-21T17:09:17.182Z"
      },
      {
        "duration": 13,
        "start_time": "2023-03-21T17:09:30.681Z"
      },
      {
        "duration": 5,
        "start_time": "2023-03-21T17:09:42.394Z"
      },
      {
        "duration": 2,
        "start_time": "2023-03-21T17:09:57.907Z"
      },
      {
        "duration": 12,
        "start_time": "2023-03-21T17:10:02.308Z"
      },
      {
        "duration": 1204,
        "start_time": "2023-03-21T17:10:43.186Z"
      },
      {
        "duration": 625,
        "start_time": "2023-03-21T17:10:44.392Z"
      },
      {
        "duration": 21,
        "start_time": "2023-03-21T17:10:45.018Z"
      },
      {
        "duration": 17,
        "start_time": "2023-03-21T17:10:45.041Z"
      },
      {
        "duration": 19,
        "start_time": "2023-03-21T17:10:45.060Z"
      },
      {
        "duration": 18,
        "start_time": "2023-03-21T17:10:45.080Z"
      },
      {
        "duration": 31,
        "start_time": "2023-03-21T17:10:45.099Z"
      },
      {
        "duration": 11,
        "start_time": "2023-03-21T17:10:45.132Z"
      },
      {
        "duration": 9,
        "start_time": "2023-03-21T17:10:45.144Z"
      },
      {
        "duration": 9,
        "start_time": "2023-03-21T17:10:45.154Z"
      },
      {
        "duration": 8,
        "start_time": "2023-03-21T17:10:45.164Z"
      },
      {
        "duration": 10,
        "start_time": "2023-03-21T17:10:45.173Z"
      },
      {
        "duration": 6,
        "start_time": "2023-03-21T17:10:45.184Z"
      },
      {
        "duration": 6,
        "start_time": "2023-03-21T17:10:45.223Z"
      },
      {
        "duration": 21,
        "start_time": "2023-03-21T17:10:45.230Z"
      },
      {
        "duration": 8,
        "start_time": "2023-03-21T17:10:45.252Z"
      },
      {
        "duration": 7,
        "start_time": "2023-03-21T17:10:45.261Z"
      },
      {
        "duration": 6,
        "start_time": "2023-03-21T17:10:45.269Z"
      },
      {
        "duration": 6,
        "start_time": "2023-03-21T17:10:45.277Z"
      },
      {
        "duration": 55,
        "start_time": "2023-03-21T17:10:45.284Z"
      },
      {
        "duration": 3,
        "start_time": "2023-03-21T17:10:45.340Z"
      },
      {
        "duration": 9,
        "start_time": "2023-03-21T17:10:45.344Z"
      },
      {
        "duration": 7,
        "start_time": "2023-03-21T17:10:45.354Z"
      },
      {
        "duration": 7,
        "start_time": "2023-03-21T17:10:45.363Z"
      },
      {
        "duration": 7,
        "start_time": "2023-03-21T17:10:45.371Z"
      },
      {
        "duration": 5,
        "start_time": "2023-03-21T17:10:45.379Z"
      },
      {
        "duration": 8,
        "start_time": "2023-03-21T17:10:45.385Z"
      },
      {
        "duration": 152,
        "start_time": "2023-03-21T17:10:45.394Z"
      },
      {
        "duration": 148,
        "start_time": "2023-03-21T17:10:45.548Z"
      },
      {
        "duration": 147,
        "start_time": "2023-03-21T17:10:45.698Z"
      },
      {
        "duration": 203,
        "start_time": "2023-03-21T17:10:45.846Z"
      },
      {
        "duration": 2535,
        "start_time": "2023-03-21T17:10:46.051Z"
      },
      {
        "duration": 4,
        "start_time": "2023-03-21T17:10:48.588Z"
      },
      {
        "duration": 6,
        "start_time": "2023-03-21T17:10:48.593Z"
      },
      {
        "duration": 413,
        "start_time": "2023-03-21T17:10:48.600Z"
      },
      {
        "duration": 16,
        "start_time": "2023-03-21T17:10:49.014Z"
      },
      {
        "duration": 3,
        "start_time": "2023-03-21T17:12:31.403Z"
      },
      {
        "duration": 3,
        "start_time": "2023-03-21T17:15:08.683Z"
      },
      {
        "duration": 3,
        "start_time": "2023-03-21T17:15:33.486Z"
      },
      {
        "duration": 41,
        "start_time": "2023-03-21T17:24:16.727Z"
      },
      {
        "duration": 7,
        "start_time": "2023-03-21T17:24:41.423Z"
      },
      {
        "duration": 4,
        "start_time": "2023-03-21T17:28:29.950Z"
      },
      {
        "duration": 4,
        "start_time": "2023-03-21T17:28:52.074Z"
      },
      {
        "duration": 4,
        "start_time": "2023-03-21T17:29:03.641Z"
      },
      {
        "duration": 98,
        "start_time": "2023-03-21T17:31:18.511Z"
      },
      {
        "duration": 3,
        "start_time": "2023-03-21T17:32:13.855Z"
      },
      {
        "duration": 2,
        "start_time": "2023-03-21T17:32:21.513Z"
      },
      {
        "duration": 7,
        "start_time": "2023-03-21T17:41:41.737Z"
      },
      {
        "duration": 7,
        "start_time": "2023-03-21T17:42:15.920Z"
      },
      {
        "duration": 6,
        "start_time": "2023-03-21T17:42:25.219Z"
      },
      {
        "duration": 841,
        "start_time": "2023-03-21T17:48:13.021Z"
      },
      {
        "duration": 735,
        "start_time": "2023-03-21T17:48:52.459Z"
      },
      {
        "duration": 48,
        "start_time": "2023-03-21T17:49:27.923Z"
      },
      {
        "duration": 701,
        "start_time": "2023-03-21T17:49:47.610Z"
      },
      {
        "duration": 660,
        "start_time": "2023-03-21T17:53:33.310Z"
      },
      {
        "duration": 818,
        "start_time": "2023-03-21T17:53:39.939Z"
      },
      {
        "duration": 719,
        "start_time": "2023-03-21T17:55:23.459Z"
      },
      {
        "duration": 60,
        "start_time": "2023-03-21T17:58:23.562Z"
      },
      {
        "duration": 688,
        "start_time": "2023-03-21T17:58:50.609Z"
      },
      {
        "duration": 7,
        "start_time": "2023-03-21T18:00:20.567Z"
      },
      {
        "duration": 3,
        "start_time": "2023-03-21T18:00:36.230Z"
      },
      {
        "duration": 4,
        "start_time": "2023-03-21T18:01:07.370Z"
      },
      {
        "duration": 3,
        "start_time": "2023-03-21T18:01:51.607Z"
      },
      {
        "duration": 711,
        "start_time": "2023-03-21T18:02:14.314Z"
      },
      {
        "duration": 330,
        "start_time": "2023-03-21T18:11:03.601Z"
      },
      {
        "duration": 339,
        "start_time": "2023-03-21T18:11:31.291Z"
      },
      {
        "duration": 7,
        "start_time": "2023-03-21T19:09:47.394Z"
      },
      {
        "duration": 3,
        "start_time": "2023-03-21T19:09:49.535Z"
      },
      {
        "duration": 21838,
        "start_time": "2023-03-21T19:09:53.495Z"
      },
      {
        "duration": 74176,
        "start_time": "2023-03-21T19:10:26.617Z"
      },
      {
        "duration": 8,
        "start_time": "2023-03-21T19:12:40.732Z"
      },
      {
        "duration": 74631,
        "start_time": "2023-03-21T19:13:39.937Z"
      },
      {
        "duration": 21323,
        "start_time": "2023-03-21T19:15:15.559Z"
      },
      {
        "duration": 21344,
        "start_time": "2023-03-21T19:18:13.235Z"
      },
      {
        "duration": 21347,
        "start_time": "2023-03-21T19:18:38.199Z"
      },
      {
        "duration": 22380,
        "start_time": "2023-03-21T19:19:07.959Z"
      },
      {
        "duration": 22625,
        "start_time": "2023-03-21T19:23:25.231Z"
      },
      {
        "duration": 22501,
        "start_time": "2023-03-21T19:24:11.644Z"
      },
      {
        "duration": 22745,
        "start_time": "2023-03-21T19:25:08.192Z"
      },
      {
        "duration": 22580,
        "start_time": "2023-03-21T19:27:29.839Z"
      },
      {
        "duration": 23213,
        "start_time": "2023-03-21T19:27:57.911Z"
      },
      {
        "duration": 22839,
        "start_time": "2023-03-21T19:28:46.809Z"
      },
      {
        "duration": 46,
        "start_time": "2023-03-22T00:12:47.679Z"
      },
      {
        "duration": 1752,
        "start_time": "2023-03-22T00:12:58.483Z"
      },
      {
        "duration": 4143,
        "start_time": "2023-03-22T00:13:00.237Z"
      },
      {
        "duration": 27,
        "start_time": "2023-03-22T00:13:04.385Z"
      },
      {
        "duration": 36,
        "start_time": "2023-03-22T00:13:04.414Z"
      },
      {
        "duration": 61,
        "start_time": "2023-03-22T00:13:04.452Z"
      },
      {
        "duration": 51,
        "start_time": "2023-03-22T00:13:04.515Z"
      },
      {
        "duration": 36,
        "start_time": "2023-03-22T00:13:04.573Z"
      },
      {
        "duration": 17,
        "start_time": "2023-03-22T00:13:04.611Z"
      },
      {
        "duration": 16,
        "start_time": "2023-03-22T00:13:04.630Z"
      },
      {
        "duration": 56,
        "start_time": "2023-03-22T00:13:04.654Z"
      },
      {
        "duration": 13,
        "start_time": "2023-03-22T00:13:04.711Z"
      },
      {
        "duration": 11,
        "start_time": "2023-03-22T00:13:04.726Z"
      },
      {
        "duration": 12,
        "start_time": "2023-03-22T00:13:04.738Z"
      },
      {
        "duration": 46,
        "start_time": "2023-03-22T00:13:04.753Z"
      },
      {
        "duration": 27,
        "start_time": "2023-03-22T00:13:04.801Z"
      },
      {
        "duration": 14,
        "start_time": "2023-03-22T00:13:04.830Z"
      },
      {
        "duration": 34,
        "start_time": "2023-03-22T00:13:04.854Z"
      },
      {
        "duration": 23,
        "start_time": "2023-03-22T00:13:04.890Z"
      },
      {
        "duration": 16,
        "start_time": "2023-03-22T00:13:04.915Z"
      },
      {
        "duration": 75,
        "start_time": "2023-03-22T00:13:04.932Z"
      },
      {
        "duration": 14,
        "start_time": "2023-03-22T00:13:05.009Z"
      },
      {
        "duration": 61,
        "start_time": "2023-03-22T00:13:05.025Z"
      },
      {
        "duration": 33,
        "start_time": "2023-03-22T00:13:05.088Z"
      },
      {
        "duration": 76,
        "start_time": "2023-03-22T00:13:05.123Z"
      },
      {
        "duration": 25,
        "start_time": "2023-03-22T00:13:05.202Z"
      },
      {
        "duration": 71,
        "start_time": "2023-03-22T00:13:05.230Z"
      },
      {
        "duration": 20,
        "start_time": "2023-03-22T00:13:05.302Z"
      },
      {
        "duration": 284,
        "start_time": "2023-03-22T00:13:05.324Z"
      },
      {
        "duration": 304,
        "start_time": "2023-03-22T00:13:05.610Z"
      },
      {
        "duration": 224,
        "start_time": "2023-03-22T00:13:05.916Z"
      },
      {
        "duration": 410,
        "start_time": "2023-03-22T00:13:06.142Z"
      },
      {
        "duration": 3618,
        "start_time": "2023-03-22T00:13:06.560Z"
      },
      {
        "duration": 5,
        "start_time": "2023-03-22T00:13:10.180Z"
      },
      {
        "duration": 18,
        "start_time": "2023-03-22T00:13:10.186Z"
      },
      {
        "duration": 614,
        "start_time": "2023-03-22T00:13:10.206Z"
      },
      {
        "duration": 25,
        "start_time": "2023-03-22T00:13:10.822Z"
      },
      {
        "duration": 6,
        "start_time": "2023-03-22T00:13:10.850Z"
      },
      {
        "duration": 43,
        "start_time": "2023-03-22T00:13:10.858Z"
      },
      {
        "duration": 4,
        "start_time": "2023-03-22T00:13:10.903Z"
      },
      {
        "duration": 14,
        "start_time": "2023-03-22T00:13:10.909Z"
      },
      {
        "duration": 12,
        "start_time": "2023-03-22T00:13:10.927Z"
      },
      {
        "duration": 27929,
        "start_time": "2023-03-22T00:13:10.940Z"
      },
      {
        "duration": 525,
        "start_time": "2023-03-22T00:13:38.877Z"
      },
      {
        "duration": 27366,
        "start_time": "2023-03-22T00:16:09.102Z"
      },
      {
        "duration": 97533,
        "start_time": "2023-03-22T00:16:45.364Z"
      },
      {
        "duration": 99684,
        "start_time": "2023-03-22T00:19:21.783Z"
      },
      {
        "duration": 92193,
        "start_time": "2023-03-22T00:25:31.262Z"
      },
      {
        "duration": 92827,
        "start_time": "2023-03-22T00:31:07.384Z"
      },
      {
        "duration": 1612,
        "start_time": "2023-03-22T01:11:59.370Z"
      },
      {
        "duration": 798,
        "start_time": "2023-03-22T01:12:01.992Z"
      },
      {
        "duration": 28,
        "start_time": "2023-03-22T01:12:03.210Z"
      },
      {
        "duration": 24,
        "start_time": "2023-03-22T01:12:03.390Z"
      },
      {
        "duration": 31,
        "start_time": "2023-03-22T01:12:03.592Z"
      },
      {
        "duration": 53,
        "start_time": "2023-03-22T01:12:05.733Z"
      },
      {
        "duration": 26,
        "start_time": "2023-03-22T01:12:06.464Z"
      },
      {
        "duration": 17,
        "start_time": "2023-03-22T01:12:07.170Z"
      },
      {
        "duration": 16,
        "start_time": "2023-03-22T01:12:09.771Z"
      },
      {
        "duration": 10,
        "start_time": "2023-03-22T01:12:10.597Z"
      },
      {
        "duration": 8,
        "start_time": "2023-03-22T01:12:11.780Z"
      },
      {
        "duration": 10,
        "start_time": "2023-03-22T01:12:15.012Z"
      },
      {
        "duration": 14,
        "start_time": "2023-03-22T01:12:15.871Z"
      },
      {
        "duration": 12,
        "start_time": "2023-03-22T01:12:16.467Z"
      },
      {
        "duration": 29,
        "start_time": "2023-03-22T01:12:17.468Z"
      },
      {
        "duration": 10,
        "start_time": "2023-03-22T01:12:18.712Z"
      },
      {
        "duration": 13,
        "start_time": "2023-03-22T01:12:19.169Z"
      },
      {
        "duration": 7,
        "start_time": "2023-03-22T01:12:19.388Z"
      },
      {
        "duration": 13,
        "start_time": "2023-03-22T01:12:20.542Z"
      },
      {
        "duration": 30,
        "start_time": "2023-03-22T01:12:21.024Z"
      },
      {
        "duration": 9,
        "start_time": "2023-03-22T01:12:21.664Z"
      },
      {
        "duration": 3,
        "start_time": "2023-03-22T01:12:21.892Z"
      },
      {
        "duration": 8,
        "start_time": "2023-03-22T01:12:24.068Z"
      },
      {
        "duration": 5,
        "start_time": "2023-03-22T01:12:25.828Z"
      },
      {
        "duration": 5,
        "start_time": "2023-03-22T01:12:26.021Z"
      },
      {
        "duration": 4,
        "start_time": "2023-03-22T01:12:26.189Z"
      },
      {
        "duration": 4,
        "start_time": "2023-03-22T01:12:26.395Z"
      },
      {
        "duration": 207,
        "start_time": "2023-03-22T01:12:27.389Z"
      },
      {
        "duration": 204,
        "start_time": "2023-03-22T01:12:29.936Z"
      },
      {
        "duration": 196,
        "start_time": "2023-03-22T01:12:31.776Z"
      },
      {
        "duration": 288,
        "start_time": "2023-03-22T01:12:33.236Z"
      },
      {
        "duration": 3389,
        "start_time": "2023-03-22T01:12:38.574Z"
      },
      {
        "duration": 4,
        "start_time": "2023-03-22T01:12:47.205Z"
      },
      {
        "duration": 10,
        "start_time": "2023-03-22T01:12:47.667Z"
      },
      {
        "duration": 552,
        "start_time": "2023-03-22T01:12:48.661Z"
      },
      {
        "duration": 16,
        "start_time": "2023-03-22T01:12:53.197Z"
      },
      {
        "duration": 4,
        "start_time": "2023-03-22T01:12:57.272Z"
      },
      {
        "duration": 3,
        "start_time": "2023-03-22T01:12:59.221Z"
      },
      {
        "duration": 3,
        "start_time": "2023-03-22T01:13:00.278Z"
      },
      {
        "duration": 10,
        "start_time": "2023-03-22T01:13:05.282Z"
      },
      {
        "duration": 3,
        "start_time": "2023-03-22T01:13:07.112Z"
      },
      {
        "duration": 90537,
        "start_time": "2023-03-22T01:13:09.912Z"
      },
      {
        "duration": 8931,
        "start_time": "2023-03-22T01:15:05.332Z"
      },
      {
        "duration": 1543,
        "start_time": "2023-03-22T01:48:27.667Z"
      },
      {
        "duration": 765,
        "start_time": "2023-03-22T01:48:29.212Z"
      },
      {
        "duration": 23,
        "start_time": "2023-03-22T01:48:29.979Z"
      },
      {
        "duration": 20,
        "start_time": "2023-03-22T01:48:30.003Z"
      },
      {
        "duration": 37,
        "start_time": "2023-03-22T01:48:30.796Z"
      },
      {
        "duration": 27,
        "start_time": "2023-03-22T01:48:31.554Z"
      },
      {
        "duration": 35,
        "start_time": "2023-03-22T01:48:32.241Z"
      },
      {
        "duration": 13,
        "start_time": "2023-03-22T01:48:32.707Z"
      },
      {
        "duration": 10,
        "start_time": "2023-03-22T01:48:33.310Z"
      },
      {
        "duration": 10,
        "start_time": "2023-03-22T01:48:33.480Z"
      },
      {
        "duration": 10,
        "start_time": "2023-03-22T01:48:33.709Z"
      },
      {
        "duration": 9,
        "start_time": "2023-03-22T01:48:35.679Z"
      },
      {
        "duration": 9,
        "start_time": "2023-03-22T01:48:38.518Z"
      },
      {
        "duration": 6,
        "start_time": "2023-03-22T01:48:41.906Z"
      },
      {
        "duration": 36,
        "start_time": "2023-03-22T01:48:42.790Z"
      },
      {
        "duration": 15,
        "start_time": "2023-03-22T01:48:43.234Z"
      },
      {
        "duration": 9,
        "start_time": "2023-03-22T01:48:43.579Z"
      },
      {
        "duration": 6,
        "start_time": "2023-03-22T01:48:43.904Z"
      },
      {
        "duration": 7,
        "start_time": "2023-03-22T01:48:47.889Z"
      },
      {
        "duration": 23,
        "start_time": "2023-03-22T01:48:49.198Z"
      },
      {
        "duration": 8,
        "start_time": "2023-03-22T01:48:52.964Z"
      },
      {
        "duration": 4,
        "start_time": "2023-03-22T01:48:54.168Z"
      },
      {
        "duration": 156,
        "start_time": "2023-03-22T01:49:47.799Z"
      },
      {
        "duration": 22,
        "start_time": "2023-03-22T01:50:04.876Z"
      },
      {
        "duration": 13,
        "start_time": "2023-03-22T01:50:44.807Z"
      },
      {
        "duration": 15,
        "start_time": "2023-03-22T01:51:19.688Z"
      },
      {
        "duration": 46,
        "start_time": "2023-03-22T01:51:29.228Z"
      },
      {
        "duration": 7,
        "start_time": "2023-03-22T01:52:13.139Z"
      },
      {
        "duration": 4,
        "start_time": "2023-03-22T01:52:15.402Z"
      },
      {
        "duration": 6,
        "start_time": "2023-03-22T01:52:15.581Z"
      },
      {
        "duration": 5,
        "start_time": "2023-03-22T01:52:15.728Z"
      },
      {
        "duration": 12,
        "start_time": "2023-03-22T01:52:15.965Z"
      },
      {
        "duration": 206,
        "start_time": "2023-03-22T01:52:16.384Z"
      },
      {
        "duration": 212,
        "start_time": "2023-03-22T01:52:16.594Z"
      },
      {
        "duration": 199,
        "start_time": "2023-03-22T01:52:16.808Z"
      },
      {
        "duration": 318,
        "start_time": "2023-03-22T01:52:17.009Z"
      },
      {
        "duration": 3767,
        "start_time": "2023-03-22T01:52:17.515Z"
      },
      {
        "duration": 10,
        "start_time": "2023-03-22T01:52:23.372Z"
      },
      {
        "duration": 4,
        "start_time": "2023-03-22T01:52:23.732Z"
      },
      {
        "duration": 595,
        "start_time": "2023-03-22T01:52:24.618Z"
      },
      {
        "duration": 11,
        "start_time": "2023-03-22T01:52:31.664Z"
      },
      {
        "duration": 7,
        "start_time": "2023-03-22T01:52:33.162Z"
      },
      {
        "duration": 3,
        "start_time": "2023-03-22T01:52:34.089Z"
      },
      {
        "duration": 3,
        "start_time": "2023-03-22T01:52:34.824Z"
      },
      {
        "duration": 8,
        "start_time": "2023-03-22T01:52:36.317Z"
      },
      {
        "duration": 3,
        "start_time": "2023-03-22T01:52:38.892Z"
      },
      {
        "duration": 99972,
        "start_time": "2023-03-22T01:52:42.026Z"
      },
      {
        "duration": 8147,
        "start_time": "2023-03-22T01:55:46.037Z"
      },
      {
        "duration": 697331,
        "start_time": "2023-03-22T01:56:00.126Z"
      },
      {
        "duration": 686025,
        "start_time": "2023-03-22T02:09:34.032Z"
      },
      {
        "duration": 15,
        "start_time": "2023-03-22T02:22:30.119Z"
      },
      {
        "duration": 10,
        "start_time": "2023-03-22T02:24:39.928Z"
      },
      {
        "duration": 6,
        "start_time": "2023-03-22T02:26:01.628Z"
      },
      {
        "duration": 3863,
        "start_time": "2023-03-22T02:26:05.732Z"
      },
      {
        "duration": 3679,
        "start_time": "2023-03-22T02:26:42.981Z"
      },
      {
        "duration": 7,
        "start_time": "2023-03-22T02:33:35.773Z"
      },
      {
        "duration": 10,
        "start_time": "2023-03-22T02:36:44.788Z"
      },
      {
        "duration": 144,
        "start_time": "2023-03-22T09:51:37.931Z"
      },
      {
        "duration": 86,
        "start_time": "2023-03-22T11:22:27.427Z"
      },
      {
        "duration": 1676,
        "start_time": "2023-03-22T11:22:46.325Z"
      },
      {
        "duration": 2687,
        "start_time": "2023-03-22T11:22:48.003Z"
      },
      {
        "duration": 26,
        "start_time": "2023-03-22T11:22:50.692Z"
      },
      {
        "duration": 20,
        "start_time": "2023-03-22T11:22:50.721Z"
      },
      {
        "duration": 35,
        "start_time": "2023-03-22T11:22:50.742Z"
      },
      {
        "duration": 18,
        "start_time": "2023-03-22T11:22:50.780Z"
      },
      {
        "duration": 19,
        "start_time": "2023-03-22T11:22:50.800Z"
      },
      {
        "duration": 12,
        "start_time": "2023-03-22T11:22:50.821Z"
      },
      {
        "duration": 11,
        "start_time": "2023-03-22T11:22:50.834Z"
      },
      {
        "duration": 10,
        "start_time": "2023-03-22T11:22:50.873Z"
      },
      {
        "duration": 15,
        "start_time": "2023-03-22T11:22:50.885Z"
      },
      {
        "duration": 19,
        "start_time": "2023-03-22T11:22:50.902Z"
      },
      {
        "duration": 9,
        "start_time": "2023-03-22T11:22:50.923Z"
      },
      {
        "duration": 11,
        "start_time": "2023-03-22T11:22:50.934Z"
      },
      {
        "duration": 21,
        "start_time": "2023-03-22T11:22:51.202Z"
      },
      {
        "duration": 9,
        "start_time": "2023-03-22T11:22:51.590Z"
      },
      {
        "duration": 10,
        "start_time": "2023-03-22T11:22:51.734Z"
      },
      {
        "duration": 6,
        "start_time": "2023-03-22T11:22:51.935Z"
      },
      {
        "duration": 6,
        "start_time": "2023-03-22T11:22:52.755Z"
      },
      {
        "duration": 23,
        "start_time": "2023-03-22T11:22:52.954Z"
      },
      {
        "duration": 5,
        "start_time": "2023-03-22T11:22:53.335Z"
      },
      {
        "duration": 3,
        "start_time": "2023-03-22T11:22:53.525Z"
      },
      {
        "duration": 19,
        "start_time": "2023-03-22T11:22:54.117Z"
      },
      {
        "duration": 5,
        "start_time": "2023-03-22T11:22:54.780Z"
      },
      {
        "duration": 13,
        "start_time": "2023-03-22T11:22:55.413Z"
      },
      {
        "duration": 4,
        "start_time": "2023-03-22T11:22:57.101Z"
      },
      {
        "duration": 4,
        "start_time": "2023-03-22T11:22:57.301Z"
      },
      {
        "duration": 4,
        "start_time": "2023-03-22T11:22:57.479Z"
      },
      {
        "duration": 5,
        "start_time": "2023-03-22T11:22:57.682Z"
      },
      {
        "duration": 204,
        "start_time": "2023-03-22T11:22:58.058Z"
      },
      {
        "duration": 181,
        "start_time": "2023-03-22T11:22:58.264Z"
      },
      {
        "duration": 179,
        "start_time": "2023-03-22T11:22:58.447Z"
      },
      {
        "duration": 247,
        "start_time": "2023-03-22T11:22:58.628Z"
      },
      {
        "duration": 3055,
        "start_time": "2023-03-22T11:22:59.238Z"
      },
      {
        "duration": 5,
        "start_time": "2023-03-22T11:23:07.803Z"
      },
      {
        "duration": 4,
        "start_time": "2023-03-22T11:23:09.484Z"
      },
      {
        "duration": 612,
        "start_time": "2023-03-22T11:23:15.688Z"
      },
      {
        "duration": 112,
        "start_time": "2023-03-22T11:23:20.854Z"
      },
      {
        "duration": 12,
        "start_time": "2023-03-22T11:43:05.112Z"
      },
      {
        "duration": 1596,
        "start_time": "2023-03-22T11:50:22.325Z"
      },
      {
        "duration": 171,
        "start_time": "2023-03-22T11:52:22.252Z"
      },
      {
        "duration": 167,
        "start_time": "2023-03-22T11:53:44.959Z"
      },
      {
        "duration": 1489,
        "start_time": "2023-03-22T11:56:57.197Z"
      },
      {
        "duration": 1321,
        "start_time": "2023-03-22T11:57:47.298Z"
      },
      {
        "duration": 6401,
        "start_time": "2023-03-22T11:59:12.695Z"
      },
      {
        "duration": 7059,
        "start_time": "2023-03-22T12:11:50.791Z"
      },
      {
        "duration": 6456,
        "start_time": "2023-03-22T12:12:43.339Z"
      },
      {
        "duration": 13,
        "start_time": "2023-03-22T12:13:50.802Z"
      },
      {
        "duration": 1772,
        "start_time": "2023-03-22T12:14:53.302Z"
      },
      {
        "duration": 1615,
        "start_time": "2023-03-22T12:15:41.051Z"
      },
      {
        "duration": 89,
        "start_time": "2023-03-22T12:16:44.208Z"
      },
      {
        "duration": 104,
        "start_time": "2023-03-22T12:17:07.724Z"
      },
      {
        "duration": 26,
        "start_time": "2023-03-22T12:17:40.187Z"
      },
      {
        "duration": 13,
        "start_time": "2023-03-22T12:17:57.227Z"
      },
      {
        "duration": 17,
        "start_time": "2023-03-22T12:18:27.320Z"
      },
      {
        "duration": 1615,
        "start_time": "2023-03-22T12:19:10.650Z"
      },
      {
        "duration": 1643,
        "start_time": "2023-03-22T12:19:40.136Z"
      },
      {
        "duration": 1674,
        "start_time": "2023-03-22T12:20:15.952Z"
      },
      {
        "duration": 1686,
        "start_time": "2023-03-22T12:21:02.607Z"
      },
      {
        "duration": 306,
        "start_time": "2023-03-22T12:22:03.084Z"
      },
      {
        "duration": 1539,
        "start_time": "2023-03-22T12:22:14.943Z"
      },
      {
        "duration": 1537,
        "start_time": "2023-03-22T12:26:21.351Z"
      },
      {
        "duration": 1196,
        "start_time": "2023-03-22T12:26:58.255Z"
      },
      {
        "duration": 1940,
        "start_time": "2023-03-22T12:27:34.908Z"
      },
      {
        "duration": 1954,
        "start_time": "2023-03-22T12:29:10.404Z"
      },
      {
        "duration": 1510,
        "start_time": "2023-03-22T12:29:58.423Z"
      },
      {
        "duration": 2031,
        "start_time": "2023-03-22T12:30:12.763Z"
      },
      {
        "duration": 1548,
        "start_time": "2023-03-22T12:30:27.711Z"
      },
      {
        "duration": 1515,
        "start_time": "2023-03-22T12:30:39.341Z"
      },
      {
        "duration": 10,
        "start_time": "2023-03-22T12:40:40.836Z"
      },
      {
        "duration": 4,
        "start_time": "2023-03-22T12:41:06.182Z"
      },
      {
        "duration": 10,
        "start_time": "2023-03-22T12:41:10.219Z"
      },
      {
        "duration": 5,
        "start_time": "2023-03-22T12:41:16.056Z"
      },
      {
        "duration": 17,
        "start_time": "2023-03-22T12:41:22.594Z"
      },
      {
        "duration": 9,
        "start_time": "2023-03-22T12:41:39.635Z"
      },
      {
        "duration": 14,
        "start_time": "2023-03-22T12:41:48.222Z"
      },
      {
        "duration": 7,
        "start_time": "2023-03-22T12:41:56.255Z"
      },
      {
        "duration": 4,
        "start_time": "2023-03-22T12:41:57.440Z"
      },
      {
        "duration": 3,
        "start_time": "2023-03-22T12:41:58.194Z"
      },
      {
        "duration": 3,
        "start_time": "2023-03-22T12:42:00.576Z"
      },
      {
        "duration": 15,
        "start_time": "2023-03-22T12:42:05.173Z"
      },
      {
        "duration": 9,
        "start_time": "2023-03-22T12:42:22.829Z"
      },
      {
        "duration": 13,
        "start_time": "2023-03-22T12:49:45.252Z"
      },
      {
        "duration": 3,
        "start_time": "2023-03-22T12:49:52.921Z"
      },
      {
        "duration": 7632,
        "start_time": "2023-03-22T12:49:57.512Z"
      },
      {
        "duration": 5,
        "start_time": "2023-03-22T12:51:04.987Z"
      },
      {
        "duration": 7995,
        "start_time": "2023-03-22T12:51:05.930Z"
      },
      {
        "duration": 4,
        "start_time": "2023-03-22T12:51:30.488Z"
      },
      {
        "duration": 7740,
        "start_time": "2023-03-22T12:51:31.220Z"
      },
      {
        "duration": 12,
        "start_time": "2023-03-22T12:52:28.454Z"
      },
      {
        "duration": 1356,
        "start_time": "2023-03-22T12:52:49.508Z"
      },
      {
        "duration": 679,
        "start_time": "2023-03-22T12:52:50.866Z"
      },
      {
        "duration": 24,
        "start_time": "2023-03-22T12:52:51.547Z"
      },
      {
        "duration": 21,
        "start_time": "2023-03-22T12:52:51.573Z"
      },
      {
        "duration": 21,
        "start_time": "2023-03-22T12:52:51.595Z"
      },
      {
        "duration": 18,
        "start_time": "2023-03-22T12:52:51.617Z"
      },
      {
        "duration": 17,
        "start_time": "2023-03-22T12:52:52.110Z"
      },
      {
        "duration": 13,
        "start_time": "2023-03-22T12:52:52.439Z"
      },
      {
        "duration": 11,
        "start_time": "2023-03-22T12:52:52.977Z"
      },
      {
        "duration": 9,
        "start_time": "2023-03-22T12:52:53.815Z"
      },
      {
        "duration": 7,
        "start_time": "2023-03-22T12:52:54.439Z"
      },
      {
        "duration": 11,
        "start_time": "2023-03-22T12:52:55.377Z"
      },
      {
        "duration": 8,
        "start_time": "2023-03-22T12:52:55.656Z"
      },
      {
        "duration": 7,
        "start_time": "2023-03-22T12:52:56.419Z"
      },
      {
        "duration": 22,
        "start_time": "2023-03-22T12:52:56.880Z"
      },
      {
        "duration": 9,
        "start_time": "2023-03-22T12:52:58.352Z"
      },
      {
        "duration": 8,
        "start_time": "2023-03-22T12:52:58.681Z"
      },
      {
        "duration": 6,
        "start_time": "2023-03-22T12:52:59.220Z"
      },
      {
        "duration": 6,
        "start_time": "2023-03-22T12:53:00.774Z"
      },
      {
        "duration": 21,
        "start_time": "2023-03-22T12:53:00.999Z"
      },
      {
        "duration": 4,
        "start_time": "2023-03-22T12:53:01.717Z"
      },
      {
        "duration": 3,
        "start_time": "2023-03-22T12:53:02.023Z"
      },
      {
        "duration": 17,
        "start_time": "2023-03-22T12:53:02.915Z"
      },
      {
        "duration": 4,
        "start_time": "2023-03-22T12:53:04.894Z"
      },
      {
        "duration": 10,
        "start_time": "2023-03-22T12:53:07.218Z"
      },
      {
        "duration": 3,
        "start_time": "2023-03-22T12:53:11.758Z"
      },
      {
        "duration": 4,
        "start_time": "2023-03-22T12:53:12.557Z"
      },
      {
        "duration": 4,
        "start_time": "2023-03-22T12:53:12.833Z"
      },
      {
        "duration": 4,
        "start_time": "2023-03-22T12:53:13.356Z"
      },
      {
        "duration": 168,
        "start_time": "2023-03-22T12:53:13.841Z"
      },
      {
        "duration": 171,
        "start_time": "2023-03-22T12:53:14.011Z"
      },
      {
        "duration": 163,
        "start_time": "2023-03-22T12:53:14.252Z"
      },
      {
        "duration": 234,
        "start_time": "2023-03-22T12:53:14.498Z"
      },
      {
        "duration": 3058,
        "start_time": "2023-03-22T12:53:15.159Z"
      },
      {
        "duration": 4,
        "start_time": "2023-03-22T12:53:18.219Z"
      },
      {
        "duration": 9,
        "start_time": "2023-03-22T12:53:18.225Z"
      },
      {
        "duration": 503,
        "start_time": "2023-03-22T12:53:19.739Z"
      },
      {
        "duration": 10,
        "start_time": "2023-03-22T12:53:22.744Z"
      },
      {
        "duration": 1808,
        "start_time": "2023-03-22T12:53:24.022Z"
      },
      {
        "duration": 41,
        "start_time": "2023-03-22T12:53:30.211Z"
      },
      {
        "duration": 18,
        "start_time": "2023-03-22T12:53:31.373Z"
      },
      {
        "duration": 6,
        "start_time": "2023-03-22T12:53:38.280Z"
      },
      {
        "duration": 4,
        "start_time": "2023-03-22T12:53:40.141Z"
      },
      {
        "duration": 4,
        "start_time": "2023-03-22T12:53:41.030Z"
      },
      {
        "duration": 2,
        "start_time": "2023-03-22T12:53:42.016Z"
      },
      {
        "duration": 6,
        "start_time": "2023-03-22T12:53:45.438Z"
      },
      {
        "duration": 4,
        "start_time": "2023-03-22T12:53:46.938Z"
      },
      {
        "duration": 7,
        "start_time": "2023-03-22T12:53:55.743Z"
      },
      {
        "duration": 9694,
        "start_time": "2023-03-22T12:53:59.555Z"
      },
      {
        "duration": 9,
        "start_time": "2023-03-22T12:54:42.352Z"
      }
    ],
    "toc": {
      "base_numbering": 1,
      "nav_menu": {},
      "number_sections": true,
      "sideBar": true,
      "skip_h1_title": true,
      "title_cell": "Содержание",
      "title_sidebar": "Contents",
      "toc_cell": true,
      "toc_position": {
        "height": "calc(100% - 180px)",
        "left": "10px",
        "top": "150px",
        "width": "307px"
      },
      "toc_section_display": true,
      "toc_window_display": false
    },
    "kernelspec": {
      "name": "python",
      "display_name": "Python (Pyodide)",
      "language": "python"
    },
    "language_info": {
      "codemirror_mode": {
        "name": "python",
        "version": 3
      },
      "file_extension": ".py",
      "mimetype": "text/x-python",
      "name": "python",
      "nbconvert_exporter": "python",
      "pygments_lexer": "ipython3",
      "version": "3.8"
    }
  },
  "nbformat_minor": 4,
  "nbformat": 4,
  "cells": [
    {
      "cell_type": "markdown",
      "source": "# Исследование технологического процесса очистки золота",
      "metadata": {}
    },
    {
      "cell_type": "markdown",
      "source": "<h1>Содержание<span class=\"tocSkip\"></span></h1>\n<div class=\"toc\"><ul class=\"toc-item\"><li><span><a href=\"#Подготовка-данных\" data-toc-modified-id=\"Подготовка-данных-1\"><span class=\"toc-item-num\">1&nbsp;&nbsp;</span>Подготовка данных</a></span><ul class=\"toc-item\"><li><span><a href=\"#Выгрузка-необходимых-библиотек\" data-toc-modified-id=\"Выгрузка-необходимых-библиотек-1.1\"><span class=\"toc-item-num\">1.1&nbsp;&nbsp;</span>Выгрузка необходимых библиотек</a></span></li><li><span><a href=\"#Выгрузка-данных\" data-toc-modified-id=\"Выгрузка-данных-1.2\"><span class=\"toc-item-num\">1.2&nbsp;&nbsp;</span>Выгрузка данных</a></span></li><li><span><a href=\"#Предобработка-данных\" data-toc-modified-id=\"Предобработка-данных-1.3\"><span class=\"toc-item-num\">1.3&nbsp;&nbsp;</span>Предобработка данных</a></span></li><li><span><a href=\"#Проверка-расчета-эффективности-обогащения\" data-toc-modified-id=\"Проверка-расчета-эффективности-обогащения-1.4\"><span class=\"toc-item-num\">1.4&nbsp;&nbsp;</span>Проверка расчета эффективности обогащения</a></span></li><li><span><a href=\"#Признаки,-недоступные-в-тестовой-выборке\" data-toc-modified-id=\"Признаки,-недоступные-в-тестовой-выборке-1.5\"><span class=\"toc-item-num\">1.5&nbsp;&nbsp;</span>Признаки, недоступные в тестовой выборке</a></span></li><li><span><a href=\"#Вывод\" data-toc-modified-id=\"Вывод-1.6\"><span class=\"toc-item-num\">1.6&nbsp;&nbsp;</span>Вывод</a></span></li></ul></li><li><span><a href=\"#Анализ-данных\" data-toc-modified-id=\"Анализ-данных-2\"><span class=\"toc-item-num\">2&nbsp;&nbsp;</span>Анализ данных</a></span><ul class=\"toc-item\"><li><span><a href=\"#Изменение-концентрация-металлов-(Au,-Ag,-Pb)-на-различных-этапах-очистки\" data-toc-modified-id=\"Изменение-концентрация-металлов-(Au,-Ag,-Pb)-на-различных-этапах-очистки-2.1\"><span class=\"toc-item-num\">2.1&nbsp;&nbsp;</span>Изменение концентрация металлов (Au, Ag, Pb) на различных этапах очистки</a></span></li><li><span><a href=\"#Сравнение-распределения-размеров-гранул-сырья-на-обучающей-и-тестовой-выборках\" data-toc-modified-id=\"Сравнение-распределения-размеров-гранул-сырья-на-обучающей-и-тестовой-выборках-2.2\"><span class=\"toc-item-num\">2.2&nbsp;&nbsp;</span>Сравнение распределения размеров гранул сырья на обучающей и тестовой выборках</a></span></li><li><span><a href=\"#Вывод\" data-toc-modified-id=\"Вывод-2.3\"><span class=\"toc-item-num\">2.3&nbsp;&nbsp;</span>Вывод</a></span></li></ul></li><li><span><a href=\"#Модель\" data-toc-modified-id=\"Модель-3\"><span class=\"toc-item-num\">3&nbsp;&nbsp;</span>Модель</a></span><ul class=\"toc-item\"><li><span><a href=\"#Функция-для-вычисления-итоговой-sMAPE\" data-toc-modified-id=\"Функция-для-вычисления-итоговой-sMAPE-3.1\"><span class=\"toc-item-num\">3.1&nbsp;&nbsp;</span>Функция для вычисления итоговой sMAPE</a></span></li><li><span><a href=\"#Выделение-признаков-для-обучения-модели\" data-toc-modified-id=\"Выделение-признаков-для-обучения-модели-3.2\"><span class=\"toc-item-num\">3.2&nbsp;&nbsp;</span>Выделение признаков для обучения модели</a></span></li><li><span><a href=\"#Обучени-модели-DescisionTree\" data-toc-modified-id=\"Обучени-модели-DescisionTree-3.3\"><span class=\"toc-item-num\">3.3&nbsp;&nbsp;</span>Обучени модели DescisionTree</a></span></li><li><span><a href=\"#Обучение-модели-RandomForest\" data-toc-modified-id=\"Обучение-модели-RandomForest-3.4\"><span class=\"toc-item-num\">3.4&nbsp;&nbsp;</span>Обучение модели RandomForest</a></span></li><li><span><a href=\"#Линейная-регрессия\" data-toc-modified-id=\"Линейная-регрессия-3.5\"><span class=\"toc-item-num\">3.5&nbsp;&nbsp;</span>Линейная регрессия</a></span></li><li><span><a href=\"#Тестирование-лучшей-модели\" data-toc-modified-id=\"Тестирование-лучшей-модели-3.6\"><span class=\"toc-item-num\">3.6&nbsp;&nbsp;</span>Тестирование лучшей модели</a></span></li><li><span><a href=\"#Проверка-модели-с-помощью-константной-модели\" data-toc-modified-id=\"Проверка-модели-с-помощью-константной-модели-3.7\"><span class=\"toc-item-num\">3.7&nbsp;&nbsp;</span>Проверка модели с помощью константной модели</a></span></li></ul></li><li><span><a href=\"#Общий-вывод\" data-toc-modified-id=\"Общий-вывод-4\"><span class=\"toc-item-num\">4&nbsp;&nbsp;</span>Общий вывод</a></span></li><li><span><a href=\"#Чек-лист-готовности-проекта\" data-toc-modified-id=\"Чек-лист-готовности-проекта-5\"><span class=\"toc-item-num\">5&nbsp;&nbsp;</span>Чек-лист готовности проекта</a></span></li></ul></div>",
      "metadata": {
        "toc": true
      }
    },
    {
      "cell_type": "markdown",
      "source": "# Восстановление золота из руды",
      "metadata": {}
    },
    {
      "cell_type": "markdown",
      "source": "Заказчиком является инжиниринговая компания, которая разрабатывает решения для эффективной работы промышленных предприятий.\n\nТребуется подготовить прототип модели машинного обучения, которая должна предсказать коэффициент восстановления золота из золотосодержащей руды. Модель поможет оптимизировать производство, чтобы не запускать предприятие с убыточными характеристиками.",
      "metadata": {}
    },
    {
      "cell_type": "markdown",
      "source": "## Подготовка данных",
      "metadata": {}
    },
    {
      "cell_type": "markdown",
      "source": "### Выгрузка необходимых библиотек",
      "metadata": {}
    },
    {
      "cell_type": "markdown",
      "source": "По условию задания нам необходимо предсказать коэффициент восстановления золота из золотосодержащей руды, то есть число. Нужно спрогнозировать сразу две величины:\n- эффективность обогащения чернового концентрата (rougher.output.recovery);\n- эффективность обогащения финального концентрата (final.output.recovery). \n\nСледовательно, это задача регрессии. Выгрузим необходимые библиотеки и инструменты.",
      "metadata": {}
    },
    {
      "cell_type": "code",
      "source": "import pandas as pd\nimport numpy as np\nfrom numpy.random import RandomState\nimport matplotlib.pyplot as plt\nimport seaborn as sns  \nfrom scipy import stats as st\nfrom sklearn.linear_model import LinearRegression \nfrom sklearn.tree import DecisionTreeRegressor\nfrom sklearn.ensemble import RandomForestRegressor\nfrom sklearn.model_selection import cross_val_score\nfrom sklearn.metrics import (\n    mean_absolute_error,\n    mean_squared_error,\n    make_scorer\n)\nfrom sklearn.dummy import DummyRegressor\n",
      "metadata": {},
      "execution_count": 1,
      "outputs": []
    },
    {
      "cell_type": "markdown",
      "source": "### Выгрузка данных",
      "metadata": {}
    },
    {
      "cell_type": "code",
      "source": "data = pd.read_csv('/datasets/gold_recovery_full_new.csv')\ndata_train = pd.read_csv('/datasets/gold_recovery_train_new.csv')\ndata_test = pd.read_csv('/datasets/gold_recovery_test_new.csv')\n",
      "metadata": {
        "scrolled": true
      },
      "execution_count": 2,
      "outputs": []
    },
    {
      "cell_type": "markdown",
      "source": "Выгрузили три файла данных - общую базу (data), тренировочную выборку (data_train) и тестовую (data_test). Рассмотрим их детальнее. ",
      "metadata": {}
    },
    {
      "cell_type": "markdown",
      "source": "### Предобработка данных",
      "metadata": {}
    },
    {
      "cell_type": "markdown",
      "source": "Выведем информацию о данных методом info().",
      "metadata": {}
    },
    {
      "cell_type": "code",
      "source": "data.info()",
      "metadata": {
        "scrolled": true
      },
      "execution_count": 6,
      "outputs": [
        {
          "name": "stdout",
          "output_type": "stream",
          "text": "<class 'pandas.core.frame.DataFrame'>\n\nRangeIndex: 19439 entries, 0 to 19438\n\nData columns (total 87 columns):\n\n #   Column                                              Non-Null Count  Dtype  \n\n---  ------                                              --------------  -----  \n\n 0   date                                                19439 non-null  object \n\n 1   final.output.concentrate_ag                         19438 non-null  float64\n\n 2   final.output.concentrate_pb                         19438 non-null  float64\n\n 3   final.output.concentrate_sol                        19228 non-null  float64\n\n 4   final.output.concentrate_au                         19439 non-null  float64\n\n 5   final.output.recovery                               19439 non-null  float64\n\n 6   final.output.tail_ag                                19438 non-null  float64\n\n 7   final.output.tail_pb                                19338 non-null  float64\n\n 8   final.output.tail_sol                               19433 non-null  float64\n\n 9   final.output.tail_au                                19439 non-null  float64\n\n 10  primary_cleaner.input.sulfate                       19415 non-null  float64\n\n 11  primary_cleaner.input.depressant                    19402 non-null  float64\n\n 12  primary_cleaner.input.feed_size                     19439 non-null  float64\n\n 13  primary_cleaner.input.xanthate                      19335 non-null  float64\n\n 14  primary_cleaner.output.concentrate_ag               19439 non-null  float64\n\n 15  primary_cleaner.output.concentrate_pb               19323 non-null  float64\n\n 16  primary_cleaner.output.concentrate_sol              19069 non-null  float64\n\n 17  primary_cleaner.output.concentrate_au               19439 non-null  float64\n\n 18  primary_cleaner.output.tail_ag                      19435 non-null  float64\n\n 19  primary_cleaner.output.tail_pb                      19418 non-null  float64\n\n 20  primary_cleaner.output.tail_sol                     19377 non-null  float64\n\n 21  primary_cleaner.output.tail_au                      19439 non-null  float64\n\n 22  primary_cleaner.state.floatbank8_a_air              19435 non-null  float64\n\n 23  primary_cleaner.state.floatbank8_a_level            19438 non-null  float64\n\n 24  primary_cleaner.state.floatbank8_b_air              19435 non-null  float64\n\n 25  primary_cleaner.state.floatbank8_b_level            19438 non-null  float64\n\n 26  primary_cleaner.state.floatbank8_c_air              19437 non-null  float64\n\n 27  primary_cleaner.state.floatbank8_c_level            19438 non-null  float64\n\n 28  primary_cleaner.state.floatbank8_d_air              19436 non-null  float64\n\n 29  primary_cleaner.state.floatbank8_d_level            19438 non-null  float64\n\n 30  rougher.calculation.sulfate_to_au_concentrate       19437 non-null  float64\n\n 31  rougher.calculation.floatbank10_sulfate_to_au_feed  19437 non-null  float64\n\n 32  rougher.calculation.floatbank11_sulfate_to_au_feed  19437 non-null  float64\n\n 33  rougher.calculation.au_pb_ratio                     19439 non-null  float64\n\n 34  rougher.input.feed_ag                               19439 non-null  float64\n\n 35  rougher.input.feed_pb                               19339 non-null  float64\n\n 36  rougher.input.feed_rate                             19428 non-null  float64\n\n 37  rougher.input.feed_size                             19294 non-null  float64\n\n 38  rougher.input.feed_sol                              19340 non-null  float64\n\n 39  rougher.input.feed_au                               19439 non-null  float64\n\n 40  rougher.input.floatbank10_sulfate                   19405 non-null  float64\n\n 41  rougher.input.floatbank10_xanthate                  19431 non-null  float64\n\n 42  rougher.input.floatbank11_sulfate                   19395 non-null  float64\n\n 43  rougher.input.floatbank11_xanthate                  18986 non-null  float64\n\n 44  rougher.output.concentrate_ag                       19439 non-null  float64\n\n 45  rougher.output.concentrate_pb                       19439 non-null  float64\n\n 46  rougher.output.concentrate_sol                      19416 non-null  float64\n\n 47  rougher.output.concentrate_au                       19439 non-null  float64\n\n 48  rougher.output.recovery                             19439 non-null  float64\n\n 49  rougher.output.tail_ag                              19438 non-null  float64\n\n 50  rougher.output.tail_pb                              19439 non-null  float64\n\n 51  rougher.output.tail_sol                             19439 non-null  float64\n\n 52  rougher.output.tail_au                              19439 non-null  float64\n\n 53  rougher.state.floatbank10_a_air                     19438 non-null  float64\n\n 54  rougher.state.floatbank10_a_level                   19438 non-null  float64\n\n 55  rougher.state.floatbank10_b_air                     19438 non-null  float64\n\n 56  rougher.state.floatbank10_b_level                   19438 non-null  float64\n\n 57  rougher.state.floatbank10_c_air                     19438 non-null  float64\n\n 58  rougher.state.floatbank10_c_level                   19438 non-null  float64\n\n 59  rougher.state.floatbank10_d_air                     19439 non-null  float64\n\n 60  rougher.state.floatbank10_d_level                   19439 non-null  float64\n\n 61  rougher.state.floatbank10_e_air                     19003 non-null  float64\n\n 62  rougher.state.floatbank10_e_level                   19439 non-null  float64\n\n 63  rougher.state.floatbank10_f_air                     19439 non-null  float64\n\n 64  rougher.state.floatbank10_f_level                   19439 non-null  float64\n\n 65  secondary_cleaner.output.tail_ag                    19437 non-null  float64\n\n 66  secondary_cleaner.output.tail_pb                    19427 non-null  float64\n\n 67  secondary_cleaner.output.tail_sol                   17691 non-null  float64\n\n 68  secondary_cleaner.output.tail_au                    19439 non-null  float64\n\n 69  secondary_cleaner.state.floatbank2_a_air            19219 non-null  float64\n\n 70  secondary_cleaner.state.floatbank2_a_level          19438 non-null  float64\n\n 71  secondary_cleaner.state.floatbank2_b_air            19416 non-null  float64\n\n 72  secondary_cleaner.state.floatbank2_b_level          19438 non-null  float64\n\n 73  secondary_cleaner.state.floatbank3_a_air            19426 non-null  float64\n\n 74  secondary_cleaner.state.floatbank3_a_level          19438 non-null  float64\n\n 75  secondary_cleaner.state.floatbank3_b_air            19438 non-null  float64\n\n 76  secondary_cleaner.state.floatbank3_b_level          19438 non-null  float64\n\n 77  secondary_cleaner.state.floatbank4_a_air            19433 non-null  float64\n\n 78  secondary_cleaner.state.floatbank4_a_level          19438 non-null  float64\n\n 79  secondary_cleaner.state.floatbank4_b_air            19438 non-null  float64\n\n 80  secondary_cleaner.state.floatbank4_b_level          19438 non-null  float64\n\n 81  secondary_cleaner.state.floatbank5_a_air            19438 non-null  float64\n\n 82  secondary_cleaner.state.floatbank5_a_level          19438 non-null  float64\n\n 83  secondary_cleaner.state.floatbank5_b_air            19438 non-null  float64\n\n 84  secondary_cleaner.state.floatbank5_b_level          19438 non-null  float64\n\n 85  secondary_cleaner.state.floatbank6_a_air            19437 non-null  float64\n\n 86  secondary_cleaner.state.floatbank6_a_level          19438 non-null  float64\n\ndtypes: float64(86), object(1)\n\nmemory usage: 12.9+ MB\n"
        }
      ]
    },
    {
      "cell_type": "markdown",
      "source": "В общих данных 19439 строк, 87 колонок-параметров.",
      "metadata": {}
    },
    {
      "cell_type": "code",
      "source": "data_train.info()",
      "metadata": {
        "scrolled": true
      },
      "execution_count": 7,
      "outputs": [
        {
          "name": "stdout",
          "output_type": "stream",
          "text": "<class 'pandas.core.frame.DataFrame'>\n\nRangeIndex: 14149 entries, 0 to 14148\n\nData columns (total 87 columns):\n\n #   Column                                              Non-Null Count  Dtype  \n\n---  ------                                              --------------  -----  \n\n 0   date                                                14149 non-null  object \n\n 1   final.output.concentrate_ag                         14148 non-null  float64\n\n 2   final.output.concentrate_pb                         14148 non-null  float64\n\n 3   final.output.concentrate_sol                        13938 non-null  float64\n\n 4   final.output.concentrate_au                         14149 non-null  float64\n\n 5   final.output.recovery                               14149 non-null  float64\n\n 6   final.output.tail_ag                                14149 non-null  float64\n\n 7   final.output.tail_pb                                14049 non-null  float64\n\n 8   final.output.tail_sol                               14144 non-null  float64\n\n 9   final.output.tail_au                                14149 non-null  float64\n\n 10  primary_cleaner.input.sulfate                       14129 non-null  float64\n\n 11  primary_cleaner.input.depressant                    14117 non-null  float64\n\n 12  primary_cleaner.input.feed_size                     14149 non-null  float64\n\n 13  primary_cleaner.input.xanthate                      14049 non-null  float64\n\n 14  primary_cleaner.output.concentrate_ag               14149 non-null  float64\n\n 15  primary_cleaner.output.concentrate_pb               14063 non-null  float64\n\n 16  primary_cleaner.output.concentrate_sol              13863 non-null  float64\n\n 17  primary_cleaner.output.concentrate_au               14149 non-null  float64\n\n 18  primary_cleaner.output.tail_ag                      14148 non-null  float64\n\n 19  primary_cleaner.output.tail_pb                      14134 non-null  float64\n\n 20  primary_cleaner.output.tail_sol                     14103 non-null  float64\n\n 21  primary_cleaner.output.tail_au                      14149 non-null  float64\n\n 22  primary_cleaner.state.floatbank8_a_air              14145 non-null  float64\n\n 23  primary_cleaner.state.floatbank8_a_level            14148 non-null  float64\n\n 24  primary_cleaner.state.floatbank8_b_air              14145 non-null  float64\n\n 25  primary_cleaner.state.floatbank8_b_level            14148 non-null  float64\n\n 26  primary_cleaner.state.floatbank8_c_air              14147 non-null  float64\n\n 27  primary_cleaner.state.floatbank8_c_level            14148 non-null  float64\n\n 28  primary_cleaner.state.floatbank8_d_air              14146 non-null  float64\n\n 29  primary_cleaner.state.floatbank8_d_level            14148 non-null  float64\n\n 30  rougher.calculation.sulfate_to_au_concentrate       14148 non-null  float64\n\n 31  rougher.calculation.floatbank10_sulfate_to_au_feed  14148 non-null  float64\n\n 32  rougher.calculation.floatbank11_sulfate_to_au_feed  14148 non-null  float64\n\n 33  rougher.calculation.au_pb_ratio                     14149 non-null  float64\n\n 34  rougher.input.feed_ag                               14149 non-null  float64\n\n 35  rougher.input.feed_pb                               14049 non-null  float64\n\n 36  rougher.input.feed_rate                             14141 non-null  float64\n\n 37  rougher.input.feed_size                             14005 non-null  float64\n\n 38  rougher.input.feed_sol                              14071 non-null  float64\n\n 39  rougher.input.feed_au                               14149 non-null  float64\n\n 40  rougher.input.floatbank10_sulfate                   14120 non-null  float64\n\n 41  rougher.input.floatbank10_xanthate                  14141 non-null  float64\n\n 42  rougher.input.floatbank11_sulfate                   14113 non-null  float64\n\n 43  rougher.input.floatbank11_xanthate                  13721 non-null  float64\n\n 44  rougher.output.concentrate_ag                       14149 non-null  float64\n\n 45  rougher.output.concentrate_pb                       14149 non-null  float64\n\n 46  rougher.output.concentrate_sol                      14127 non-null  float64\n\n 47  rougher.output.concentrate_au                       14149 non-null  float64\n\n 48  rougher.output.recovery                             14149 non-null  float64\n\n 49  rougher.output.tail_ag                              14148 non-null  float64\n\n 50  rougher.output.tail_pb                              14149 non-null  float64\n\n 51  rougher.output.tail_sol                             14149 non-null  float64\n\n 52  rougher.output.tail_au                              14149 non-null  float64\n\n 53  rougher.state.floatbank10_a_air                     14148 non-null  float64\n\n 54  rougher.state.floatbank10_a_level                   14148 non-null  float64\n\n 55  rougher.state.floatbank10_b_air                     14148 non-null  float64\n\n 56  rougher.state.floatbank10_b_level                   14148 non-null  float64\n\n 57  rougher.state.floatbank10_c_air                     14148 non-null  float64\n\n 58  rougher.state.floatbank10_c_level                   14148 non-null  float64\n\n 59  rougher.state.floatbank10_d_air                     14149 non-null  float64\n\n 60  rougher.state.floatbank10_d_level                   14149 non-null  float64\n\n 61  rougher.state.floatbank10_e_air                     13713 non-null  float64\n\n 62  rougher.state.floatbank10_e_level                   14149 non-null  float64\n\n 63  rougher.state.floatbank10_f_air                     14149 non-null  float64\n\n 64  rougher.state.floatbank10_f_level                   14149 non-null  float64\n\n 65  secondary_cleaner.output.tail_ag                    14147 non-null  float64\n\n 66  secondary_cleaner.output.tail_pb                    14139 non-null  float64\n\n 67  secondary_cleaner.output.tail_sol                   12544 non-null  float64\n\n 68  secondary_cleaner.output.tail_au                    14149 non-null  float64\n\n 69  secondary_cleaner.state.floatbank2_a_air            13932 non-null  float64\n\n 70  secondary_cleaner.state.floatbank2_a_level          14148 non-null  float64\n\n 71  secondary_cleaner.state.floatbank2_b_air            14128 non-null  float64\n\n 72  secondary_cleaner.state.floatbank2_b_level          14148 non-null  float64\n\n 73  secondary_cleaner.state.floatbank3_a_air            14145 non-null  float64\n\n 74  secondary_cleaner.state.floatbank3_a_level          14148 non-null  float64\n\n 75  secondary_cleaner.state.floatbank3_b_air            14148 non-null  float64\n\n 76  secondary_cleaner.state.floatbank3_b_level          14148 non-null  float64\n\n 77  secondary_cleaner.state.floatbank4_a_air            14143 non-null  float64\n\n 78  secondary_cleaner.state.floatbank4_a_level          14148 non-null  float64\n\n 79  secondary_cleaner.state.floatbank4_b_air            14148 non-null  float64\n\n 80  secondary_cleaner.state.floatbank4_b_level          14148 non-null  float64\n\n 81  secondary_cleaner.state.floatbank5_a_air            14148 non-null  float64\n\n 82  secondary_cleaner.state.floatbank5_a_level          14148 non-null  float64\n\n 83  secondary_cleaner.state.floatbank5_b_air            14148 non-null  float64\n\n 84  secondary_cleaner.state.floatbank5_b_level          14148 non-null  float64\n\n 85  secondary_cleaner.state.floatbank6_a_air            14147 non-null  float64\n\n 86  secondary_cleaner.state.floatbank6_a_level          14148 non-null  float64\n\ndtypes: float64(86), object(1)\n\nmemory usage: 9.4+ MB\n"
        }
      ]
    },
    {
      "cell_type": "markdown",
      "source": "В тренировочной выборке (которая сделана из общих данных) 14149 строк и также 87 колонок.",
      "metadata": {}
    },
    {
      "cell_type": "code",
      "source": "data_test.info()",
      "metadata": {
        "scrolled": true
      },
      "execution_count": 8,
      "outputs": [
        {
          "name": "stdout",
          "output_type": "stream",
          "text": "<class 'pandas.core.frame.DataFrame'>\n\nRangeIndex: 5290 entries, 0 to 5289\n\nData columns (total 53 columns):\n\n #   Column                                      Non-Null Count  Dtype  \n\n---  ------                                      --------------  -----  \n\n 0   date                                        5290 non-null   object \n\n 1   primary_cleaner.input.sulfate               5286 non-null   float64\n\n 2   primary_cleaner.input.depressant            5285 non-null   float64\n\n 3   primary_cleaner.input.feed_size             5290 non-null   float64\n\n 4   primary_cleaner.input.xanthate              5286 non-null   float64\n\n 5   primary_cleaner.state.floatbank8_a_air      5290 non-null   float64\n\n 6   primary_cleaner.state.floatbank8_a_level    5290 non-null   float64\n\n 7   primary_cleaner.state.floatbank8_b_air      5290 non-null   float64\n\n 8   primary_cleaner.state.floatbank8_b_level    5290 non-null   float64\n\n 9   primary_cleaner.state.floatbank8_c_air      5290 non-null   float64\n\n 10  primary_cleaner.state.floatbank8_c_level    5290 non-null   float64\n\n 11  primary_cleaner.state.floatbank8_d_air      5290 non-null   float64\n\n 12  primary_cleaner.state.floatbank8_d_level    5290 non-null   float64\n\n 13  rougher.input.feed_ag                       5290 non-null   float64\n\n 14  rougher.input.feed_pb                       5290 non-null   float64\n\n 15  rougher.input.feed_rate                     5287 non-null   float64\n\n 16  rougher.input.feed_size                     5289 non-null   float64\n\n 17  rougher.input.feed_sol                      5269 non-null   float64\n\n 18  rougher.input.feed_au                       5290 non-null   float64\n\n 19  rougher.input.floatbank10_sulfate           5285 non-null   float64\n\n 20  rougher.input.floatbank10_xanthate          5290 non-null   float64\n\n 21  rougher.input.floatbank11_sulfate           5282 non-null   float64\n\n 22  rougher.input.floatbank11_xanthate          5265 non-null   float64\n\n 23  rougher.state.floatbank10_a_air             5290 non-null   float64\n\n 24  rougher.state.floatbank10_a_level           5290 non-null   float64\n\n 25  rougher.state.floatbank10_b_air             5290 non-null   float64\n\n 26  rougher.state.floatbank10_b_level           5290 non-null   float64\n\n 27  rougher.state.floatbank10_c_air             5290 non-null   float64\n\n 28  rougher.state.floatbank10_c_level           5290 non-null   float64\n\n 29  rougher.state.floatbank10_d_air             5290 non-null   float64\n\n 30  rougher.state.floatbank10_d_level           5290 non-null   float64\n\n 31  rougher.state.floatbank10_e_air             5290 non-null   float64\n\n 32  rougher.state.floatbank10_e_level           5290 non-null   float64\n\n 33  rougher.state.floatbank10_f_air             5290 non-null   float64\n\n 34  rougher.state.floatbank10_f_level           5290 non-null   float64\n\n 35  secondary_cleaner.state.floatbank2_a_air    5287 non-null   float64\n\n 36  secondary_cleaner.state.floatbank2_a_level  5290 non-null   float64\n\n 37  secondary_cleaner.state.floatbank2_b_air    5288 non-null   float64\n\n 38  secondary_cleaner.state.floatbank2_b_level  5290 non-null   float64\n\n 39  secondary_cleaner.state.floatbank3_a_air    5281 non-null   float64\n\n 40  secondary_cleaner.state.floatbank3_a_level  5290 non-null   float64\n\n 41  secondary_cleaner.state.floatbank3_b_air    5290 non-null   float64\n\n 42  secondary_cleaner.state.floatbank3_b_level  5290 non-null   float64\n\n 43  secondary_cleaner.state.floatbank4_a_air    5290 non-null   float64\n\n 44  secondary_cleaner.state.floatbank4_a_level  5290 non-null   float64\n\n 45  secondary_cleaner.state.floatbank4_b_air    5290 non-null   float64\n\n 46  secondary_cleaner.state.floatbank4_b_level  5290 non-null   float64\n\n 47  secondary_cleaner.state.floatbank5_a_air    5290 non-null   float64\n\n 48  secondary_cleaner.state.floatbank5_a_level  5290 non-null   float64\n\n 49  secondary_cleaner.state.floatbank5_b_air    5290 non-null   float64\n\n 50  secondary_cleaner.state.floatbank5_b_level  5290 non-null   float64\n\n 51  secondary_cleaner.state.floatbank6_a_air    5290 non-null   float64\n\n 52  secondary_cleaner.state.floatbank6_a_level  5290 non-null   float64\n\ndtypes: float64(52), object(1)\n\nmemory usage: 2.1+ MB\n"
        }
      ]
    },
    {
      "cell_type": "markdown",
      "source": "В тестовой выборке (также сделанной из общей) 5290 строк и 53 колонки.",
      "metadata": {}
    },
    {
      "cell_type": "markdown",
      "source": "Типы данных в колонках 'date' - object. Поменяем их на datetime.",
      "metadata": {}
    },
    {
      "cell_type": "code",
      "source": "data['date'] = pd.to_datetime(data['date'], format='%Y-%m-%d %H:%M:%S') #меняем в общих данных\ndata.dtypes",
      "metadata": {},
      "execution_count": 9,
      "outputs": [
        {
          "execution_count": 9,
          "output_type": "execute_result",
          "data": {
            "text/plain": [
              "date                                          datetime64[ns]\n",
              "final.output.concentrate_ag                          float64\n",
              "final.output.concentrate_pb                          float64\n",
              "final.output.concentrate_sol                         float64\n",
              "final.output.concentrate_au                          float64\n",
              "                                                   ...      \n",
              "secondary_cleaner.state.floatbank5_a_level           float64\n",
              "secondary_cleaner.state.floatbank5_b_air             float64\n",
              "secondary_cleaner.state.floatbank5_b_level           float64\n",
              "secondary_cleaner.state.floatbank6_a_air             float64\n",
              "secondary_cleaner.state.floatbank6_a_level           float64\n",
              "Length: 87, dtype: object"
            ]
          },
          "metadata": {}
        }
      ]
    },
    {
      "cell_type": "code",
      "source": "data_train['date'] = pd.to_datetime(data_train['date'], format='%Y-%m-%d %H:%M:%S') #меняем в тренировочной выборке\ndata_train.dtypes",
      "metadata": {},
      "execution_count": 10,
      "outputs": [
        {
          "execution_count": 10,
          "output_type": "execute_result",
          "data": {
            "text/plain": [
              "date                                          datetime64[ns]\n",
              "final.output.concentrate_ag                          float64\n",
              "final.output.concentrate_pb                          float64\n",
              "final.output.concentrate_sol                         float64\n",
              "final.output.concentrate_au                          float64\n",
              "                                                   ...      \n",
              "secondary_cleaner.state.floatbank5_a_level           float64\n",
              "secondary_cleaner.state.floatbank5_b_air             float64\n",
              "secondary_cleaner.state.floatbank5_b_level           float64\n",
              "secondary_cleaner.state.floatbank6_a_air             float64\n",
              "secondary_cleaner.state.floatbank6_a_level           float64\n",
              "Length: 87, dtype: object"
            ]
          },
          "metadata": {}
        }
      ]
    },
    {
      "cell_type": "code",
      "source": "data_test['date'] = pd.to_datetime(data_test['date'], format='%Y-%m-%d %H:%M:%S') #меняем в тестовой выборке\ndata_test.dtypes",
      "metadata": {
        "scrolled": true
      },
      "execution_count": 11,
      "outputs": [
        {
          "execution_count": 11,
          "output_type": "execute_result",
          "data": {
            "text/plain": [
              "date                                          datetime64[ns]\n",
              "primary_cleaner.input.sulfate                        float64\n",
              "primary_cleaner.input.depressant                     float64\n",
              "primary_cleaner.input.feed_size                      float64\n",
              "primary_cleaner.input.xanthate                       float64\n",
              "primary_cleaner.state.floatbank8_a_air               float64\n",
              "primary_cleaner.state.floatbank8_a_level             float64\n",
              "primary_cleaner.state.floatbank8_b_air               float64\n",
              "primary_cleaner.state.floatbank8_b_level             float64\n",
              "primary_cleaner.state.floatbank8_c_air               float64\n",
              "primary_cleaner.state.floatbank8_c_level             float64\n",
              "primary_cleaner.state.floatbank8_d_air               float64\n",
              "primary_cleaner.state.floatbank8_d_level             float64\n",
              "rougher.input.feed_ag                                float64\n",
              "rougher.input.feed_pb                                float64\n",
              "rougher.input.feed_rate                              float64\n",
              "rougher.input.feed_size                              float64\n",
              "rougher.input.feed_sol                               float64\n",
              "rougher.input.feed_au                                float64\n",
              "rougher.input.floatbank10_sulfate                    float64\n",
              "rougher.input.floatbank10_xanthate                   float64\n",
              "rougher.input.floatbank11_sulfate                    float64\n",
              "rougher.input.floatbank11_xanthate                   float64\n",
              "rougher.state.floatbank10_a_air                      float64\n",
              "rougher.state.floatbank10_a_level                    float64\n",
              "rougher.state.floatbank10_b_air                      float64\n",
              "rougher.state.floatbank10_b_level                    float64\n",
              "rougher.state.floatbank10_c_air                      float64\n",
              "rougher.state.floatbank10_c_level                    float64\n",
              "rougher.state.floatbank10_d_air                      float64\n",
              "rougher.state.floatbank10_d_level                    float64\n",
              "rougher.state.floatbank10_e_air                      float64\n",
              "rougher.state.floatbank10_e_level                    float64\n",
              "rougher.state.floatbank10_f_air                      float64\n",
              "rougher.state.floatbank10_f_level                    float64\n",
              "secondary_cleaner.state.floatbank2_a_air             float64\n",
              "secondary_cleaner.state.floatbank2_a_level           float64\n",
              "secondary_cleaner.state.floatbank2_b_air             float64\n",
              "secondary_cleaner.state.floatbank2_b_level           float64\n",
              "secondary_cleaner.state.floatbank3_a_air             float64\n",
              "secondary_cleaner.state.floatbank3_a_level           float64\n",
              "secondary_cleaner.state.floatbank3_b_air             float64\n",
              "secondary_cleaner.state.floatbank3_b_level           float64\n",
              "secondary_cleaner.state.floatbank4_a_air             float64\n",
              "secondary_cleaner.state.floatbank4_a_level           float64\n",
              "secondary_cleaner.state.floatbank4_b_air             float64\n",
              "secondary_cleaner.state.floatbank4_b_level           float64\n",
              "secondary_cleaner.state.floatbank5_a_air             float64\n",
              "secondary_cleaner.state.floatbank5_a_level           float64\n",
              "secondary_cleaner.state.floatbank5_b_air             float64\n",
              "secondary_cleaner.state.floatbank5_b_level           float64\n",
              "secondary_cleaner.state.floatbank6_a_air             float64\n",
              "secondary_cleaner.state.floatbank6_a_level           float64\n",
              "dtype: object"
            ]
          },
          "metadata": {}
        }
      ]
    },
    {
      "cell_type": "markdown",
      "source": "С типами данных разобрались. Теперь проверим данные на предмет пропусков. Воспользуемся методом isna()",
      "metadata": {}
    },
    {
      "cell_type": "code",
      "source": "data.isna().sum()",
      "metadata": {},
      "execution_count": 12,
      "outputs": [
        {
          "execution_count": 12,
          "output_type": "execute_result",
          "data": {
            "text/plain": [
              "date                                            0\n",
              "final.output.concentrate_ag                     1\n",
              "final.output.concentrate_pb                     1\n",
              "final.output.concentrate_sol                  211\n",
              "final.output.concentrate_au                     0\n",
              "                                             ... \n",
              "secondary_cleaner.state.floatbank5_a_level      1\n",
              "secondary_cleaner.state.floatbank5_b_air        1\n",
              "secondary_cleaner.state.floatbank5_b_level      1\n",
              "secondary_cleaner.state.floatbank6_a_air        2\n",
              "secondary_cleaner.state.floatbank6_a_level      1\n",
              "Length: 87, dtype: int64"
            ]
          },
          "metadata": {}
        }
      ]
    },
    {
      "cell_type": "code",
      "source": "data_train.isna().sum()",
      "metadata": {},
      "execution_count": 13,
      "outputs": [
        {
          "execution_count": 13,
          "output_type": "execute_result",
          "data": {
            "text/plain": [
              "date                                            0\n",
              "final.output.concentrate_ag                     1\n",
              "final.output.concentrate_pb                     1\n",
              "final.output.concentrate_sol                  211\n",
              "final.output.concentrate_au                     0\n",
              "                                             ... \n",
              "secondary_cleaner.state.floatbank5_a_level      1\n",
              "secondary_cleaner.state.floatbank5_b_air        1\n",
              "secondary_cleaner.state.floatbank5_b_level      1\n",
              "secondary_cleaner.state.floatbank6_a_air        2\n",
              "secondary_cleaner.state.floatbank6_a_level      1\n",
              "Length: 87, dtype: int64"
            ]
          },
          "metadata": {}
        }
      ]
    },
    {
      "cell_type": "code",
      "source": "data_test.isna().sum()",
      "metadata": {
        "scrolled": true
      },
      "execution_count": 14,
      "outputs": [
        {
          "execution_count": 14,
          "output_type": "execute_result",
          "data": {
            "text/plain": [
              "date                                           0\n",
              "primary_cleaner.input.sulfate                  4\n",
              "primary_cleaner.input.depressant               5\n",
              "primary_cleaner.input.feed_size                0\n",
              "primary_cleaner.input.xanthate                 4\n",
              "primary_cleaner.state.floatbank8_a_air         0\n",
              "primary_cleaner.state.floatbank8_a_level       0\n",
              "primary_cleaner.state.floatbank8_b_air         0\n",
              "primary_cleaner.state.floatbank8_b_level       0\n",
              "primary_cleaner.state.floatbank8_c_air         0\n",
              "primary_cleaner.state.floatbank8_c_level       0\n",
              "primary_cleaner.state.floatbank8_d_air         0\n",
              "primary_cleaner.state.floatbank8_d_level       0\n",
              "rougher.input.feed_ag                          0\n",
              "rougher.input.feed_pb                          0\n",
              "rougher.input.feed_rate                        3\n",
              "rougher.input.feed_size                        1\n",
              "rougher.input.feed_sol                        21\n",
              "rougher.input.feed_au                          0\n",
              "rougher.input.floatbank10_sulfate              5\n",
              "rougher.input.floatbank10_xanthate             0\n",
              "rougher.input.floatbank11_sulfate              8\n",
              "rougher.input.floatbank11_xanthate            25\n",
              "rougher.state.floatbank10_a_air                0\n",
              "rougher.state.floatbank10_a_level              0\n",
              "rougher.state.floatbank10_b_air                0\n",
              "rougher.state.floatbank10_b_level              0\n",
              "rougher.state.floatbank10_c_air                0\n",
              "rougher.state.floatbank10_c_level              0\n",
              "rougher.state.floatbank10_d_air                0\n",
              "rougher.state.floatbank10_d_level              0\n",
              "rougher.state.floatbank10_e_air                0\n",
              "rougher.state.floatbank10_e_level              0\n",
              "rougher.state.floatbank10_f_air                0\n",
              "rougher.state.floatbank10_f_level              0\n",
              "secondary_cleaner.state.floatbank2_a_air       3\n",
              "secondary_cleaner.state.floatbank2_a_level     0\n",
              "secondary_cleaner.state.floatbank2_b_air       2\n",
              "secondary_cleaner.state.floatbank2_b_level     0\n",
              "secondary_cleaner.state.floatbank3_a_air       9\n",
              "secondary_cleaner.state.floatbank3_a_level     0\n",
              "secondary_cleaner.state.floatbank3_b_air       0\n",
              "secondary_cleaner.state.floatbank3_b_level     0\n",
              "secondary_cleaner.state.floatbank4_a_air       0\n",
              "secondary_cleaner.state.floatbank4_a_level     0\n",
              "secondary_cleaner.state.floatbank4_b_air       0\n",
              "secondary_cleaner.state.floatbank4_b_level     0\n",
              "secondary_cleaner.state.floatbank5_a_air       0\n",
              "secondary_cleaner.state.floatbank5_a_level     0\n",
              "secondary_cleaner.state.floatbank5_b_air       0\n",
              "secondary_cleaner.state.floatbank5_b_level     0\n",
              "secondary_cleaner.state.floatbank6_a_air       0\n",
              "secondary_cleaner.state.floatbank6_a_level     0\n",
              "dtype: int64"
            ]
          },
          "metadata": {}
        }
      ]
    },
    {
      "cell_type": "markdown",
      "source": "Пропусков в данных не так много (относительно общего количества значений. Заполним их методом fillna в каждом датасете.",
      "metadata": {}
    },
    {
      "cell_type": "code",
      "source": "data = data.fillna(method='ffill')\ndata_train = data_train.fillna(method='ffill')\ndata_test = data_test.fillna(method='ffill')",
      "metadata": {},
      "execution_count": 15,
      "outputs": []
    },
    {
      "cell_type": "code",
      "source": "data.isna().sum()",
      "metadata": {},
      "execution_count": 16,
      "outputs": [
        {
          "execution_count": 16,
          "output_type": "execute_result",
          "data": {
            "text/plain": [
              "date                                          0\n",
              "final.output.concentrate_ag                   0\n",
              "final.output.concentrate_pb                   0\n",
              "final.output.concentrate_sol                  0\n",
              "final.output.concentrate_au                   0\n",
              "                                             ..\n",
              "secondary_cleaner.state.floatbank5_a_level    0\n",
              "secondary_cleaner.state.floatbank5_b_air      0\n",
              "secondary_cleaner.state.floatbank5_b_level    0\n",
              "secondary_cleaner.state.floatbank6_a_air      0\n",
              "secondary_cleaner.state.floatbank6_a_level    0\n",
              "Length: 87, dtype: int64"
            ]
          },
          "metadata": {}
        }
      ]
    },
    {
      "cell_type": "code",
      "source": "data_train.isna().sum()",
      "metadata": {},
      "execution_count": 17,
      "outputs": [
        {
          "execution_count": 17,
          "output_type": "execute_result",
          "data": {
            "text/plain": [
              "date                                          0\n",
              "final.output.concentrate_ag                   0\n",
              "final.output.concentrate_pb                   0\n",
              "final.output.concentrate_sol                  0\n",
              "final.output.concentrate_au                   0\n",
              "                                             ..\n",
              "secondary_cleaner.state.floatbank5_a_level    0\n",
              "secondary_cleaner.state.floatbank5_b_air      0\n",
              "secondary_cleaner.state.floatbank5_b_level    0\n",
              "secondary_cleaner.state.floatbank6_a_air      0\n",
              "secondary_cleaner.state.floatbank6_a_level    0\n",
              "Length: 87, dtype: int64"
            ]
          },
          "metadata": {}
        }
      ]
    },
    {
      "cell_type": "code",
      "source": "data_test.isna().sum()",
      "metadata": {
        "scrolled": true
      },
      "execution_count": 18,
      "outputs": [
        {
          "execution_count": 18,
          "output_type": "execute_result",
          "data": {
            "text/plain": [
              "date                                          0\n",
              "primary_cleaner.input.sulfate                 0\n",
              "primary_cleaner.input.depressant              0\n",
              "primary_cleaner.input.feed_size               0\n",
              "primary_cleaner.input.xanthate                0\n",
              "primary_cleaner.state.floatbank8_a_air        0\n",
              "primary_cleaner.state.floatbank8_a_level      0\n",
              "primary_cleaner.state.floatbank8_b_air        0\n",
              "primary_cleaner.state.floatbank8_b_level      0\n",
              "primary_cleaner.state.floatbank8_c_air        0\n",
              "primary_cleaner.state.floatbank8_c_level      0\n",
              "primary_cleaner.state.floatbank8_d_air        0\n",
              "primary_cleaner.state.floatbank8_d_level      0\n",
              "rougher.input.feed_ag                         0\n",
              "rougher.input.feed_pb                         0\n",
              "rougher.input.feed_rate                       0\n",
              "rougher.input.feed_size                       0\n",
              "rougher.input.feed_sol                        0\n",
              "rougher.input.feed_au                         0\n",
              "rougher.input.floatbank10_sulfate             0\n",
              "rougher.input.floatbank10_xanthate            0\n",
              "rougher.input.floatbank11_sulfate             0\n",
              "rougher.input.floatbank11_xanthate            0\n",
              "rougher.state.floatbank10_a_air               0\n",
              "rougher.state.floatbank10_a_level             0\n",
              "rougher.state.floatbank10_b_air               0\n",
              "rougher.state.floatbank10_b_level             0\n",
              "rougher.state.floatbank10_c_air               0\n",
              "rougher.state.floatbank10_c_level             0\n",
              "rougher.state.floatbank10_d_air               0\n",
              "rougher.state.floatbank10_d_level             0\n",
              "rougher.state.floatbank10_e_air               0\n",
              "rougher.state.floatbank10_e_level             0\n",
              "rougher.state.floatbank10_f_air               0\n",
              "rougher.state.floatbank10_f_level             0\n",
              "secondary_cleaner.state.floatbank2_a_air      0\n",
              "secondary_cleaner.state.floatbank2_a_level    0\n",
              "secondary_cleaner.state.floatbank2_b_air      0\n",
              "secondary_cleaner.state.floatbank2_b_level    0\n",
              "secondary_cleaner.state.floatbank3_a_air      0\n",
              "secondary_cleaner.state.floatbank3_a_level    0\n",
              "secondary_cleaner.state.floatbank3_b_air      0\n",
              "secondary_cleaner.state.floatbank3_b_level    0\n",
              "secondary_cleaner.state.floatbank4_a_air      0\n",
              "secondary_cleaner.state.floatbank4_a_level    0\n",
              "secondary_cleaner.state.floatbank4_b_air      0\n",
              "secondary_cleaner.state.floatbank4_b_level    0\n",
              "secondary_cleaner.state.floatbank5_a_air      0\n",
              "secondary_cleaner.state.floatbank5_a_level    0\n",
              "secondary_cleaner.state.floatbank5_b_air      0\n",
              "secondary_cleaner.state.floatbank5_b_level    0\n",
              "secondary_cleaner.state.floatbank6_a_air      0\n",
              "secondary_cleaner.state.floatbank6_a_level    0\n",
              "dtype: int64"
            ]
          },
          "metadata": {}
        }
      ]
    },
    {
      "cell_type": "markdown",
      "source": "От пропусков избавились. Теперь наши данные готовы к дальнейшему исследованию.",
      "metadata": {}
    },
    {
      "cell_type": "markdown",
      "source": "### Проверка расчета эффективности обогащения ",
      "metadata": {}
    },
    {
      "cell_type": "markdown",
      "source": "Эффективность обогащения будем рассчитывать, как recovery: (С * (F -T))/(F * (C -T) * 100%, где:\n- C — доля золота в концентрате после флотации/очистки;\n- F — доля золота в сырье/концентрате до флотации/очистки;\n- T — доля золота в отвальных хвостах после флотации/очистки.\n\nЗолото обозначается au (от лат. aurum)\n\nДобавим новую колонку recovery в нашу тренировочную выборку.",
      "metadata": {}
    },
    {
      "cell_type": "code",
      "source": "data_train['recovery'] = (data_train['rougher.output.concentrate_au']*(data_train['rougher.input.feed_au'] - data_train['rougher.output.tail_au']))/ (\n    data_train['rougher.input.feed_au']*(data_train['rougher.output.concentrate_au'] - data_train['rougher.output.tail_au']))*100\n\n",
      "metadata": {},
      "execution_count": 19,
      "outputs": []
    },
    {
      "cell_type": "markdown",
      "source": "Колонка с расчетами добавлена. Проверим метрику MAE (среднее абсолютное отклонение)",
      "metadata": {}
    },
    {
      "cell_type": "code",
      "source": "mae_rec = mean_absolute_error(data_train['recovery'], data_train['rougher.output.recovery'])",
      "metadata": {},
      "execution_count": 21,
      "outputs": []
    },
    {
      "cell_type": "code",
      "source": "print(f\"MAE: {mae_rec:.20f}\")",
      "metadata": {},
      "execution_count": 22,
      "outputs": [
        {
          "name": "stdout",
          "output_type": "stream",
          "text": "MAE: 0.00000000000000973512\n"
        }
      ]
    },
    {
      "cell_type": "markdown",
      "source": "Значение среднего абсолютного отклонения очень близко к 0. Из этого можно сделать вывод, что эффективность обогащения в тренировочной выборке рассчитана верно.",
      "metadata": {}
    },
    {
      "cell_type": "code",
      "source": "data_train = data_train.drop('recovery', axis=1) #удалим столбец, чтобы он не мешал при обучении моделей",
      "metadata": {
        "scrolled": true
      },
      "execution_count": 23,
      "outputs": []
    },
    {
      "cell_type": "markdown",
      "source": "### Признаки, недоступные в тестовой выборке",
      "metadata": {}
    },
    {
      "cell_type": "markdown",
      "source": "Выведем на экран те признаки, которе имеются в общих данных, но отсутствуют в тестовой выборке. Это будет \"разница\" столбцов. Сохраним их для удобства в переменной missed (пропуски).",
      "metadata": {}
    },
    {
      "cell_type": "code",
      "source": "missed = set(data.columns) - set(data_test.columns) #разница уникальных элементов в списках методом set()\nmissed",
      "metadata": {},
      "execution_count": 24,
      "outputs": [
        {
          "execution_count": 24,
          "output_type": "execute_result",
          "data": {
            "text/plain": [
              "{'final.output.concentrate_ag',\n",
              " 'final.output.concentrate_au',\n",
              " 'final.output.concentrate_pb',\n",
              " 'final.output.concentrate_sol',\n",
              " 'final.output.recovery',\n",
              " 'final.output.tail_ag',\n",
              " 'final.output.tail_au',\n",
              " 'final.output.tail_pb',\n",
              " 'final.output.tail_sol',\n",
              " 'primary_cleaner.output.concentrate_ag',\n",
              " 'primary_cleaner.output.concentrate_au',\n",
              " 'primary_cleaner.output.concentrate_pb',\n",
              " 'primary_cleaner.output.concentrate_sol',\n",
              " 'primary_cleaner.output.tail_ag',\n",
              " 'primary_cleaner.output.tail_au',\n",
              " 'primary_cleaner.output.tail_pb',\n",
              " 'primary_cleaner.output.tail_sol',\n",
              " 'rougher.calculation.au_pb_ratio',\n",
              " 'rougher.calculation.floatbank10_sulfate_to_au_feed',\n",
              " 'rougher.calculation.floatbank11_sulfate_to_au_feed',\n",
              " 'rougher.calculation.sulfate_to_au_concentrate',\n",
              " 'rougher.output.concentrate_ag',\n",
              " 'rougher.output.concentrate_au',\n",
              " 'rougher.output.concentrate_pb',\n",
              " 'rougher.output.concentrate_sol',\n",
              " 'rougher.output.recovery',\n",
              " 'rougher.output.tail_ag',\n",
              " 'rougher.output.tail_au',\n",
              " 'rougher.output.tail_pb',\n",
              " 'rougher.output.tail_sol',\n",
              " 'secondary_cleaner.output.tail_ag',\n",
              " 'secondary_cleaner.output.tail_au',\n",
              " 'secondary_cleaner.output.tail_pb',\n",
              " 'secondary_cleaner.output.tail_sol'}"
            ]
          },
          "metadata": {}
        }
      ]
    },
    {
      "cell_type": "markdown",
      "source": "Исходя из полученных данных, можно сказать, что отсутствующие в тестовой выборке значения - это выходные признаки после каждого технологического этапа. Их отсутствие можно объснить тем, что по условию задания они замеряются и/или рассчитываются значительно позже. Наши целевые признаки - эффективность обогащения чернового концентрата (rougher.output.recovery) и эффективность обогащения финального концентрата (final.output.recovery), в тестовой выборке также отсутствуют. Добавим их методом merge() из полного датасета.",
      "metadata": {}
    },
    {
      "cell_type": "code",
      "source": "data_test = data_test.merge(data.loc[:, ['date','rougher.output.recovery','final.output.recovery']], on='date')\n",
      "metadata": {},
      "execution_count": 25,
      "outputs": []
    },
    {
      "cell_type": "markdown",
      "source": "### Вывод",
      "metadata": {}
    },
    {
      "cell_type": "markdown",
      "source": "Таким образом, мы имеем 3 датасета - один исходный (data) и две выборки, сделанные из него - тренировочная и тестовая.  Мы подготовили данные:\n- привели значения в колоне \"дата\" к типу datetime, избавились от пропусков (заполнили их с помощью 'ffill'),\n- проверили правильность расчета эффективности обогащения (для этого рассчитали ее сами по формуле и вывели метрику МАЕ, которая получилась равной 0.00000000000000973512, что говорит о правильности расчета),\n- изучили отсутствующие в тестовой выборке данные (ими оказались выходные признаки после каждого технологического этапа), а также добавили в нее и наши целевые признаки.\n\nДанные полностью готовы к последующему анализу.",
      "metadata": {}
    },
    {
      "cell_type": "markdown",
      "source": "## Анализ данных",
      "metadata": {}
    },
    {
      "cell_type": "markdown",
      "source": "### Изменение концентрация металлов (Au, Ag, Pb) на различных этапах очистки",
      "metadata": {}
    },
    {
      "cell_type": "markdown",
      "source": "Рассмотрим концентрацию металлов на полном датасете. Нас интересует сравнение концентрации каждого металла (concentrate_) на каждом из 4-х этапов:\n- сырье (rougher.input.feed_)\n- сырье после флотации (rougher.output.concentrate_)\n- после 1-го этапа очистки (primary_cleaner.output.concentrate_)\n- после финального этапа очистки (final.output.concentrate_)",
      "metadata": {}
    },
    {
      "cell_type": "markdown",
      "source": "Создадим 4 новых датасета с концентрациями металлов на различных этапах очистки. ",
      "metadata": {}
    },
    {
      "cell_type": "code",
      "source": "rougher_input = data[['rougher.input.feed_au', 'rougher.input.feed_ag', 'rougher.input.feed_pb']] #1 этап",
      "metadata": {},
      "execution_count": 26,
      "outputs": []
    },
    {
      "cell_type": "code",
      "source": "rougher_output = data[['rougher.output.concentrate_au', 'rougher.output.concentrate_ag', 'rougher.output.concentrate_pb']] #2 этап",
      "metadata": {},
      "execution_count": 27,
      "outputs": []
    },
    {
      "cell_type": "code",
      "source": "primary_cleaner = data[['primary_cleaner.output.concentrate_au', 'primary_cleaner.output.concentrate_ag', 'primary_cleaner.output.concentrate_pb']] #3 этап",
      "metadata": {},
      "execution_count": 28,
      "outputs": []
    },
    {
      "cell_type": "code",
      "source": "final_output = data[['final.output.concentrate_au', 'final.output.concentrate_ag', 'final.output.concentrate_pb']] #4 этап",
      "metadata": {},
      "execution_count": 29,
      "outputs": []
    },
    {
      "cell_type": "markdown",
      "source": "Вызовем графики \"ящик с усами\" для каждого этапа очистки, чтобы посмотреть на выбросы в данных.",
      "metadata": {}
    },
    {
      "cell_type": "code",
      "source": "plt.figure(figsize=(17,9))\nb=sns.boxplot(data=rougher_input)",
      "metadata": {},
      "execution_count": 30,
      "outputs": [
        {
          "output_type": "display_data",
          "data": {
            "image/png": "[encoded data removed]",
            "text/plain": [
              "<Figure size 1224x648 with 1 Axes>"
            ]
          },
          "metadata": {
            "needs_background": "light"
          }
        }
      ]
    },
    {
      "cell_type": "code",
      "source": "plt.figure(figsize=(17,9))\nb=sns.boxplot(data=rougher_output)",
      "metadata": {},
      "execution_count": 31,
      "outputs": [
        {
          "output_type": "display_data",
          "data": {
            "image/png": "[encoded data removed]",
            "text/plain": [
              "<Figure size 1224x648 with 1 Axes>"
            ]
          },
          "metadata": {
            "needs_background": "light"
          }
        }
      ]
    },
    {
      "cell_type": "code",
      "source": "plt.figure(figsize=(17,9))\nb=sns.boxplot(data=primary_cleaner)",
      "metadata": {},
      "execution_count": 32,
      "outputs": [
        {
          "output_type": "display_data",
          "data": {
            "image/png": "[encoded data removed]",
            "text/plain": [
              "<Figure size 1224x648 with 1 Axes>"
            ]
          },
          "metadata": {
            "needs_background": "light"
          }
        }
      ]
    },
    {
      "cell_type": "code",
      "source": "plt.figure(figsize=(17,9))\nb=sns.boxplot(data=final_output)",
      "metadata": {},
      "execution_count": 33,
      "outputs": [
        {
          "output_type": "display_data",
          "data": {
            "image/png": "[encoded data removed]",
            "text/plain": [
              "<Figure size 1224x648 with 1 Axes>"
            ]
          },
          "metadata": {
            "needs_background": "light"
          }
        }
      ]
    },
    {
      "cell_type": "markdown",
      "source": "По полученным графикам можно сказать, что в данных присутствуют выбросы. Наибольшее количество выбросов заметно в концентрации золота - он достигает максимальных значений после этапа финальной обработки. Также можно отметить, что сами значения с каждым последующим этапом разбросаны меньше - об этом нам говорит сужающаяся фигура \"ящика\".",
      "metadata": {}
    },
    {
      "cell_type": "markdown",
      "source": "Теперь составим графики концентрации интересующих нас металлов по каждому из 4-х этапов обработки.",
      "metadata": {}
    },
    {
      "cell_type": "code",
      "source": "position = 0\nplt.figure(figsize=[15, 17])\nplt.subplots_adjust(top=0.94, wspace=0.2, hspace=0.3)\nplt.suptitle('График концетрации металлов Au, Ag, Pb на этапах очистки')\nstep_names = {'rougher.input.feed': '1-й этап', 'rougher.output.concentrate': '2-й этап', 'primary_cleaner.output.concentrate': '3-й этап', 'final.output.concentrate': '4-й этап'}\nfor step in ['rougher.input.feed', 'rougher.output.concentrate', 'primary_cleaner.output.concentrate', 'final.output.concentrate']:\n    position += 1\n    plt.subplot(4, 1, position)\n    plt.title(f'График распределния концентрации металлов: {step_names[step]}')\n    sns.set_style('darkgrid')\n    sns.histplot(data_train[f'{step}_au'], color='r', label='Концентрация золота', kde=False)\n    sns.histplot(data_train[f'{step}_ag'], color='gray', label='Концентрация серебра', kde=False)\n    sns.histplot(data_train[f'{step}_pb'], color='b', label='Концентрация свинца', kde=False)\n    plt.xlabel('Концентрация металла')\n    plt.ylabel('Количество наблюдений')\n    plt.legend()\nplt.show();",
      "metadata": {},
      "execution_count": 34,
      "outputs": [
        {
          "output_type": "display_data",
          "data": {
            "image/png": "[encoded data removed]",
            "text/plain": [
              "<Figure size 1080x1224 with 4 Axes>"
            ]
          },
          "metadata": {
            "needs_background": "light"
          }
        }
      ]
    },
    {
      "cell_type": "markdown",
      "source": "Из графиков распределения концентрации золота, серебра и свинца можно сделать вывод, что интересующие нас металлы после первого этапа разбросаны сильно и намешаны друг на друге, но затем, к финальному этапу их концентрация постепенно приходит к четкому разграничению - золото отделяется и имеет наибольшую концентрацию, а побочные металлы (в нашем случае серебро и свинец) остаются. Это неудивительно - ведь процесс получения золота из золотосодержащей руды подразумевает очистку сырья от побочных элементов с целью получения фактически чистого золота.",
      "metadata": {}
    },
    {
      "cell_type": "markdown",
      "source": "### Сравнение распределения размеров гранул сырья на обучающей и тестовой выборках",
      "metadata": {}
    },
    {
      "cell_type": "markdown",
      "source": "Выясним - есть ли информация о размерах гранул сырья в каждом из 4-х этапов очистки.",
      "metadata": {}
    },
    {
      "cell_type": "code",
      "source": "[col for col in data_test.columns if \"feed_size\" in col]",
      "metadata": {},
      "execution_count": 35,
      "outputs": [
        {
          "execution_count": 35,
          "output_type": "execute_result",
          "data": {
            "text/plain": [
              "['primary_cleaner.input.feed_size', 'rougher.input.feed_size']"
            ]
          },
          "metadata": {}
        }
      ]
    },
    {
      "cell_type": "code",
      "source": "[col for col in data_train.columns if \"feed_size\" in col]",
      "metadata": {},
      "execution_count": 36,
      "outputs": [
        {
          "execution_count": 36,
          "output_type": "execute_result",
          "data": {
            "text/plain": [
              "['primary_cleaner.input.feed_size', 'rougher.input.feed_size']"
            ]
          },
          "metadata": {}
        }
      ]
    },
    {
      "cell_type": "markdown",
      "source": "Как мы видим из полученных данных - такая информация имеется только на 1 и 3 этапах. Построим графики распределения для данных этапов. ",
      "metadata": {}
    },
    {
      "cell_type": "code",
      "source": "position = 0\nplt.figure(figsize=[15, 17])\nplt.subplots_adjust(top=0.90, wspace=0.2, hspace=0.2)\nplt.suptitle('График распределения гранул сырья на обучающей и тестовой выборках')\nstep_names = {'rougher': '1-й этап', 'primary_cleaner': '3-й этап'}\nfor step in ['rougher', 'primary_cleaner']:\n    position += 1\n    plt.subplot(2, 1, position)\n    plt.title(f'{step_names[step]}: распределение размера гранул сырья', fontsize=13)\n    sns.set_style('darkgrid')\n    plt.hist(data_train[f'{step}.input.feed_size'], color='gray', label='Обучающая выборка', density=True)\n    plt.hist(data_test[f'{step}.input.feed_size'], color='y', label='Тестовая выборка', alpha=0.5, density=True)\n    plt.xlabel('Размер гранул')\n    plt.ylabel('Количество наблюдений')\n    plt.legend()\nplt.show();",
      "metadata": {},
      "execution_count": 37,
      "outputs": [
        {
          "output_type": "display_data",
          "data": {
            "image/png": "[encoded data removed]",
            "text/plain": [
              "<Figure size 1080x1224 with 2 Axes>"
            ]
          },
          "metadata": {}
        }
      ]
    },
    {
      "cell_type": "markdown",
      "source": "Исходя из графиков можно сказать, что данные на 1-м этапе сильно различаются. Мы видим, что на 1-м этапе сильно различаются размеры гранул на тестовой и обучающей выборках, т.е. модель не сможет корректно делать прогнозы по данному признаку (\"rougher.input.feed_size\"). На 3-м этапе же размеры гранул в тестовой и тренировочной выборках примерно одинаковые, а следовательно модель будет делать верные прогнозы. \n\nСледовательно признак \"rougher.input.feed_size\" нельзя использовать как feature для обучения дальнейших моделей. Второй же признак - \"primary_cleaner.input.feed_size\" использовать вдальнейшем можно.",
      "metadata": {}
    },
    {
      "cell_type": "code",
      "source": "data['rougher.input.feed_sum'] = data['rougher.input.feed_au'] +\\\n                                 data['rougher.input.feed_ag'] +\\\n                                 data['rougher.input.feed_pb'] +\\\n                                 data['rougher.input.feed_sol']\n                                 \ndata['rougher.output.concentrate_sum'] = data['rougher.output.concentrate_au'] +\\\n                                         data['rougher.output.concentrate_ag'] +\\\n                                         data['rougher.output.concentrate_pb'] +\\\n                                         data['rougher.output.concentrate_sol']\n\ndata['primary_cleaner.output.concentrate_sum'] = data['primary_cleaner.output.concentrate_au'] +\\\n                                                 data['primary_cleaner.output.concentrate_ag'] +\\\n                                                 data['primary_cleaner.output.concentrate_pb'] +\\\n                                                 data['primary_cleaner.output.concentrate_sol']\n\ndata['final.output.concentrate_sum'] = data['final.output.concentrate_au'] +\\\n                                       data['final.output.concentrate_ag'] +\\\n                                       data['final.output.concentrate_pb'] +\\\n                                       data['final.output.concentrate_sol']\n",
      "metadata": {},
      "execution_count": 38,
      "outputs": []
    },
    {
      "cell_type": "code",
      "source": "plt.figure(figsize=[16,10])\nplt.subplots_adjust(top=0.94, wspace=0.2, hspace=0.3)\nplt.suptitle('График распределения суммарной концентрации металлов Au, Ag, Pb, Sol на этапах очистки')\nsns.histplot(data['rougher.input.feed_sum'], color='y', label='Распределение суммарной концентрации металлов на 1-м этапе', kde=False)\nsns.histplot(data['rougher.output.concentrate_sum'], color='gray', label='Распределение суммарной концентрации металлов на 2-м этапе', kde=False)\nsns.histplot(data['primary_cleaner.output.concentrate_sum'], color='g', label='Распределение суммарной концентрации металлов на 3-м этапе', kde=False)\nsns.histplot(data['final.output.concentrate_sum'], color='r', label='Распределение суммарной концентрации металлов на 4-м этапе', kde=False)\nplt.legend()\nplt.xlabel('Суммарная концентрация металлов')\nplt.ylabel('Количество наблюдений')",
      "metadata": {},
      "execution_count": 39,
      "outputs": [
        {
          "execution_count": 39,
          "output_type": "execute_result",
          "data": {
            "text/plain": [
              "Text(0, 0.5, 'Количество наблюдений')"
            ]
          },
          "metadata": {}
        },
        {
          "output_type": "display_data",
          "data": {
            "image/png": "[encoded data removed]",
            "text/plain": [
              "<Figure size 1152x720 with 1 Axes>"
            ]
          },
          "metadata": {}
        }
      ]
    },
    {
      "cell_type": "markdown",
      "source": "На полученных графиках заметны аномальные значения. Удалим их из полного датасета, а затем и из тренировочной выборки. Для этого оставим только те значения, которые больше 0.",
      "metadata": {}
    },
    {
      "cell_type": "code",
      "source": "for col in ['rougher.input.feed_sum', 'rougher.output.concentrate_sum', 'primary_cleaner.output.concentrate_sum', 'final.output.concentrate_sum']:\n    data = data[data[col]>0]\n",
      "metadata": {
        "scrolled": true
      },
      "execution_count": 40,
      "outputs": []
    },
    {
      "cell_type": "code",
      "source": "data_train = data_train.set_index('date')\ndata = data.set_index('date')\ndata_train = data_train.loc[data_train.index.isin(data.index)]",
      "metadata": {},
      "execution_count": 41,
      "outputs": []
    },
    {
      "cell_type": "markdown",
      "source": "### Вывод",
      "metadata": {}
    },
    {
      "cell_type": "markdown",
      "source": "Для анализа данных о золотосодержащей руде мы, в первую очередь, вычленили в отдельные переменные концентрации самого золота и побочных металлов на каждом из интересующих нас этапов. Всего этапа получилось 4, а металлов 3 - золото, свинец и серебро.\n\nДля этапов обработки и металлов мы составили графики 'boxplot', чтобы посмотреть разброс значений, медианы, а также аномальные выбросы. Из размеров графиков стало понятно, что с каждым последующим этапом очистки значения разбросаны меньше.\n\nЗатем мы построили графики (гистограммы) распределения концентрации металлов на каждом из 4-х этапов очистки. На полученных гистограммах отчетливо заметно, что металлы после первого этапа разбросаны сильно и намешаны друг на друге, но затем, к финальному этапу их концентрация постепенно приходит к четкому разграничению - золото отделяется и имеет наибольшую концентрацию, а побочные металлы (в нашем случае серебро и свинец) остаются. \n\nИсходя из этих пунктов можно сказать, что очистка проходит вполне нормально.\n\nЗатем мы построили 2 диаграммы размеров гранул сырья на 1-м и 3-м этапах очистки (так как только на этих двух этапах есть информация о размерах гранул) по тренировочной и тестовой выборкам. Получилось, что на 1-м этапе признак rougher.input.feed_size сильно отличается на тренировочной и тестовой выборках - следовательно, лучше удалить этот столбец при создании features_train и features_test. Признак же primary_cleaner.input.feed_size на 3-м этапе очистки в тренировочной и тестовой выборках примерно одинаковый, а следовательно, его мы можем использовать вдальнейшем для создания features.\n\nТакже мы избавились от аномальных значений благодаря графикам суммарного распределения металлов по этапам очистки.",
      "metadata": {}
    },
    {
      "cell_type": "markdown",
      "source": "## Модель",
      "metadata": {}
    },
    {
      "cell_type": "markdown",
      "source": "### Функция для вычисления итоговой sMAPE",
      "metadata": {}
    },
    {
      "cell_type": "markdown",
      "source": "Как мы выяснили на этапе исследования - в тестовой выборке имеются не все данные, которые есть в полном датасете и в тренировочной выборке. Для того, чтобы не произошла утечка целевого признака предлагаю эти колонки (признаки) удалить (за исключением наших целевых признаков).",
      "metadata": {}
    },
    {
      "cell_type": "code",
      "source": "miss = missed - set(['rougher.output.recovery','final.output.recovery']) #создадим переменную с попадающими под удаление признаками\ndata_train = data_train.drop(columns=miss, axis=1)",
      "metadata": {},
      "execution_count": 42,
      "outputs": []
    },
    {
      "cell_type": "markdown",
      "source": "Теперь напишем функцию smape для рассчета sMAPE.",
      "metadata": {}
    },
    {
      "cell_type": "code",
      "source": "def smape(target, predict):\n    smape = (1/len(target))*np.sum((np.abs(target - predict))/( (np.abs(target)+np.abs(predict))/2))*100\n    return smape",
      "metadata": {},
      "execution_count": 43,
      "outputs": []
    },
    {
      "cell_type": "markdown",
      "source": "Функция для рассчета написана. Теперь напишем еще одну функцию final_smape для рассчета итоговой метрики.",
      "metadata": {}
    },
    {
      "cell_type": "code",
      "source": "def final_smape(rougher, final):\n    final_smape = 0.25*rougher+0.75*final\n    return final_smape",
      "metadata": {},
      "execution_count": 44,
      "outputs": []
    },
    {
      "cell_type": "code",
      "source": "smape_score = make_scorer(smape, greater_is_better=False)",
      "metadata": {},
      "execution_count": 45,
      "outputs": []
    },
    {
      "cell_type": "markdown",
      "source": "### Выделение признаков для обучения модели",
      "metadata": {}
    },
    {
      "cell_type": "markdown",
      "source": "Перед обучением моделей выделим целевые признаки (target) и тестовые (features). Стоит отметить, что у нас по условию задачи целевых признака два - эффективность обогащения чернового концентрата (rougher.output.recovery) и эффективность обогащения финального концентрата (final.output.recovery). Следовательно, переменных с целевыми признаками также будет 2.",
      "metadata": {}
    },
    {
      "cell_type": "code",
      "source": "features_train = data_train.drop(['rougher.output.recovery', 'final.output.recovery', 'rougher.input.feed_size'], axis=1) #удалим столбец с датой и различающимся признаком \ntarget_rougher_train = data_train['rougher.output.recovery']\ntarget_final_train = data_train['final.output.recovery']\n",
      "metadata": {},
      "execution_count": 46,
      "outputs": []
    },
    {
      "cell_type": "markdown",
      "source": "Признаки обозначены. Мы удалили столбец 'date', так как он не несет полезной нагрузки для модели, а также столбец 'rougher.input.feed_size', который, как мы выяснили в предыдущем шаге, различается сильно на тренировочной и тестовой выборках. \n\nПриступим к обучению моделей.",
      "metadata": {}
    },
    {
      "cell_type": "markdown",
      "source": "### Обучени модели DescisionTree",
      "metadata": {}
    },
    {
      "cell_type": "code",
      "source": "state = RandomState(12345)",
      "metadata": {},
      "execution_count": 47,
      "outputs": []
    },
    {
      "cell_type": "code",
      "source": "best_result_dt = 100\nbest_hp_dt = 0 #создадим переменную с лучшими гиперпараметрами\nfor depth in range(1, 20): #глубина дерева 1-20\n    model_rougher = DecisionTreeRegressor(max_depth=depth, random_state=state) #модель для чернового концентрата\n    smape_rougher = cross_val_score(model_rougher, features_train, target_rougher_train, scoring=smape_score, cv=5)\n    final_smape_rougher = smape_rougher.mean()\n    model_final = DecisionTreeRegressor(max_depth=depth, random_state=state) #модель для финального концентрата\n    smape_final = cross_val_score(model_final, features_train, target_final_train, scoring=smape_score, cv=5)\n    final_smape_final = smape_final.mean()\n    result_smape = final_smape(final_smape_rougher, final_smape_final)*(-1)\n    if result_smape < best_result_dt:\n        best_result_dt = result_smape\n        best_hp_dt = depth\nprint(f'Итоговое симметричное среднее абсолютное процентное отклонение лучшей модели: {best_result_dt}')\nprint(f'Глубина дерева модели с лучшим итоговым sMAPE: {best_hp_dt}')",
      "metadata": {},
      "execution_count": 47,
      "outputs": [
        {
          "name": "stdout",
          "output_type": "stream",
          "text": "Итоговое симметричное среднее абсолютное процентное отклонение лучшей модели: 11.027080482615663\n\nГлубина дерева модели с лучшим итоговым sMAPE: 2\n"
        }
      ]
    },
    {
      "cell_type": "markdown",
      "source": "### Обучение модели RandomForest",
      "metadata": {}
    },
    {
      "cell_type": "code",
      "source": "best_result_rd = 100\nbest_hp_rd = 0 #создадим переменную с лучшими гиперпараметрами\nfor est in range(10, 50, 10 ): #количество деревьев 10-50 с шагом 10\n    for depth in range(2, 10, 2): #глубина дерева 2-10 с шагом 2\n        model_rougher = RandomForestRegressor(n_estimators=est, max_depth=depth, random_state=state) #модель для чернового концентрата\n        smape_rougher = cross_val_score(model_rougher, features_train, target_rougher_train, scoring=smape_score, cv=5)\n        final_smape_rougher = smape_rougher.mean()\n        model_final = RandomForestRegressor(n_estimators=est, max_depth=depth, random_state=state) #модель для финального концентрата\n        smape_final = cross_val_score(model_final, features_train, target_final_train, scoring=smape_score, cv=5)\n        final_smape_final = smape_final.mean()\n        result_smape = final_smape(final_smape_rougher, final_smape_final)*(-1)\n        if result_smape < best_result_rd:\n            best_result_rd = result_smape\n            best_hp_rd = [depth, est]\nprint(f'Итоговое симметричное среднее абсолютное процентное отклонение лучшей модели: {best_result_rd}')\nprint(f'Глубина дерева и количество деревьев модели с лучшим итоговым sMAPE: {best_hp_rd}')",
      "metadata": {},
      "execution_count": 50,
      "outputs": [
        {
          "name": "stdout",
          "output_type": "stream",
          "text": "Итоговое симметричное среднее абсолютное процентное отклонение лучшей модели: 10.597937415408182\n\nГлубина дерева и количество деревьев модели с лучшим итоговым sMAPE: [6, 20]\n"
        }
      ]
    },
    {
      "cell_type": "markdown",
      "source": "### Линейная регрессия",
      "metadata": {}
    },
    {
      "cell_type": "code",
      "source": "model_rougher = LinearRegression()\nsmape_rougher = cross_val_score(model_rougher, features_train, target_rougher_train, scoring=smape_score, cv=5)\nfinal_smape_rougher = smape_rougher.mean()\nmodel_final = LinearRegression()\nsmape_final = cross_val_score(model_final, features_train, target_final_train, scoring=smape_score, cv=5)\nfinal_smape_final = smape_final.mean()\nresult_smape = final_smape(final_smape_rougher, final_smape_final)*(-1)\nprint(f'Итоговое симметричное среднее абсолютное процентное отклонение модели: {result_smape}')",
      "metadata": {},
      "execution_count": 48,
      "outputs": [
        {
          "name": "stdout",
          "output_type": "stream",
          "text": "Итоговое симметричное среднее абсолютное процентное отклонение модели: 12.37794354725055\n"
        }
      ]
    },
    {
      "cell_type": "markdown",
      "source": "В итоге у нас получилась лучшая модель - это RandomForestRegressor.\n\nМетрика итоговой sMAPE в ней составила 10.597937415408182 при глубине дерева 6 и количестве деревьев 20.\n\nПрименим ее на тестовой выборке",
      "metadata": {}
    },
    {
      "cell_type": "markdown",
      "source": "### Тестирование лучшей модели",
      "metadata": {}
    },
    {
      "cell_type": "markdown",
      "source": "По аналогии с тренировочными признаками создадим тестовые.",
      "metadata": {}
    },
    {
      "cell_type": "code",
      "source": "features_test = data_test.drop(['rougher.output.recovery', 'final.output.recovery', 'date', 'rougher.input.feed_size'], axis=1) #удалим столбец с датой и различающимся признаком \ntarget_rougher_test = data_test['rougher.output.recovery']\ntarget_final_test = data_test['final.output.recovery']",
      "metadata": {},
      "execution_count": 48,
      "outputs": []
    },
    {
      "cell_type": "code",
      "source": "model_rougher = RandomForestRegressor(n_estimators=20, max_depth=6, random_state=state) #модель для чернового концентрата\nmodel_rougher.fit(features_train, target_rougher_train)\npredicted_rougher = model_rougher.predict(features_test)\nsmape_rougher = smape(target_rougher_test, predicted_rougher)\n\nmodel_final = RandomForestRegressor(n_estimators=20, max_depth=6, random_state=state) #модель для финального концентрата\nmodel_final.fit(features_train, target_final_train)\npredicted_final = model_final.predict(features_test)\nsmape_final = smape(target_final_test, predicted_final)\n\nsmape_final = final_smape(smape_rougher, smape_final)\n\nprint(f'Итоговое симметричное среднее абсолютное отклонение модели RandomForest с гиперпараметрами max_depth=6 и n_estimators=20 на тестовой выборке составляет: {smape_final}')\n\n",
      "metadata": {
        "scrolled": true
      },
      "execution_count": 49,
      "outputs": [
        {
          "name": "stdout",
          "output_type": "stream",
          "text": "Итоговое симметричное среднее абсолютное отклонение модели RandomForest с гиперпараметрами max_depth=6 и n_estimators=20 на тестовой выборке составляет: 9.379364741517191\n"
        }
      ]
    },
    {
      "cell_type": "markdown",
      "source": "Как мы видим из полученного результата - наша обученная модель на тестовой выборке выдает значение sMAPE равное 9.379364741517191.",
      "metadata": {}
    },
    {
      "cell_type": "markdown",
      "source": "### Проверка модели с помощью константной модели",
      "metadata": {}
    },
    {
      "cell_type": "markdown",
      "source": "Чтобы проверить нашу полученную модель на адекватность воспользуемся константной (dummy) моделью. Сравним ее sMAPE с полученным у нас.",
      "metadata": {}
    },
    {
      "cell_type": "code",
      "source": "dummy_model_rougher = DummyRegressor(strategy=\"mean\") #константная модель для черновой очистки\ndummy_model_rougher.fit(features_train, target_rougher_train)\ndummy_predicted_rougher = dummy_model_rougher.predict(features_test)\ndummy_smape_rougher = smape(target_rougher_test, dummy_predicted_rougher)\n\ndummy_model_final = DummyRegressor(strategy=\"mean\") #константная модель для финальной очистки\ndummy_model_final.fit(features_train, target_final_train)\ndummy_predicted_final = dummy_model_final.predict(features_test)\ndummy_smape_final = smape(target_final_test, dummy_predicted_final)\n\ndummy_final_smape = final_smape(dummy_smape_rougher, dummy_smape_final)\n\nprint(f'Итоговое симметричное среднее абсолютное отклонение константной модели: {dummy_final_smape}')",
      "metadata": {},
      "execution_count": 50,
      "outputs": [
        {
          "name": "stdout",
          "output_type": "stream",
          "text": "Итоговое симметричное среднее абсолютное отклонение константной модели: 9.831066377059802\n"
        }
      ]
    },
    {
      "cell_type": "markdown",
      "source": "Значение sMAPE дамми-модели выше, чем получившееся на нашей обученной моделе. Это говорит о том, что наша модель обучена хорошо и адекватна.",
      "metadata": {}
    },
    {
      "cell_type": "markdown",
      "source": "## Общий вывод",
      "metadata": {}
    },
    {
      "cell_type": "markdown",
      "source": "По условию задания нам были предоставленны данные с параметрами этапов очистки золотосодержащей руды. Нам необходимо было обучить модель, которая должна предсказать коэффициент восстановления золота из золотосодержащей руды. Для этого нужно было спрогнозировать сразу две величины:\n   - эффективность обогащения чернового концентрата (rougher.output.recovery);\n   - эффективность обогащения финального концентрата (final.output.recovery). \n\nПеред нами находились три датасета с данными - общий (data), тренировочная выборка из общего (data_train) и тестовая выборка также из общего (data_test). В первую очередь мы сделали предобработку данных:\n   - поменяли колонку с датой в формат datetime\n   - избавились от пропусков методом forwardfill (ffill)\n    \nЗатем мы проверили, что эффективность обогащения (recovery) рассчитана верно. Для этого мы добавили новую колонку, где рассчитали эффективность сами - получившееся значение среднего абсолютного отклонения (МАЕ), равное 0.00000000000000973512, очень близко к нулю, что говорит нам о верности расчетов. \n\nДля улучшения качества предсказаний модели нами были проверены признаки, которые отсутствуют в тестовой выборке. Как оказалось - отсутствующие признаки - это в основном какие-либо признаки выходных значений после каждого из технологических этапов очистки. Самое важное - мы добавили в тестовую выборку наши целевые признаки методом merge(), чтобы дальнейшая работа с моделями была возможной.\n\nПредобработанные данные необходимо было проанализировать. Для этого мы проанализировали концентрацию металлов (золото, серебро и свинец) после каждого из этапов очистки сырья. На основании полученных данных и графиков можно сделать вывод, что процесс очистки проходит нормально - значения с каждым новым этапом очистки разбросаны все меньше, а концентрация золота (целевого металла) увеличивается, примеси отбрасываются. Также нашли важный момент - на тренировочной и тестовой выборках для первого этапа значения размера гранул в сырье очень сильно различаются. Чтобы это не влияло на качество моделей вдальнейшем этот столбец не использовали в features.\n\nЧтобы обучить модель предварительно написали функции для расчета симметричного среднего абсолютного отклонения (sMAPE) и итогового симметричного среднего абсолютного отклонения (final sMAPE), и использовали их в качестве метрик оценки моделей. Нами были проверены следующие модели:\n- DecisionTree (дерево решений)\n- RandomForest (случайный лес)\n- LinearRegression (линейная регрессия)\n\nЛучшей моделью, обученной на тренировочной выборке стала модель RandomForest с метрикой sMAPE, равной 10.597937415408182\n\nВ конечном итоге мы применили нашу модель RandomForest с лучшими гиперпараметрами (количество деревьев = 20 и глубина дерева = 6) на тестовой выборке. В результате получили итоговое sMAPE равное 9.379364741517191, что при проверке на адекватность с помощью константной модели оказалось меньше (на константной моделе значение sMAPE равно 9.831066377059802) ",
      "metadata": {}
    }
  ]
}