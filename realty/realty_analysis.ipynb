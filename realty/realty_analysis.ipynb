{
  "metadata": {
    "ExecuteTimeLog": [
      {
        "duration": 698,
        "start_time": "2022-12-25T22:40:59.260Z"
      },
      {
        "duration": 90,
        "start_time": "2022-12-25T22:41:57.436Z"
      },
      {
        "duration": 93,
        "start_time": "2022-12-25T22:42:19.537Z"
      },
      {
        "duration": 505,
        "start_time": "2022-12-25T22:42:56.200Z"
      },
      {
        "duration": 93,
        "start_time": "2022-12-25T22:43:17.357Z"
      },
      {
        "duration": 94,
        "start_time": "2022-12-25T22:43:45.880Z"
      },
      {
        "duration": 89,
        "start_time": "2022-12-25T22:43:49.696Z"
      },
      {
        "duration": 173,
        "start_time": "2022-12-25T22:44:16.915Z"
      },
      {
        "duration": 80,
        "start_time": "2022-12-25T22:49:48.337Z"
      },
      {
        "duration": 94,
        "start_time": "2022-12-25T22:49:58.731Z"
      },
      {
        "duration": 90,
        "start_time": "2022-12-25T22:50:34.631Z"
      },
      {
        "duration": 93,
        "start_time": "2022-12-25T22:57:42.593Z"
      },
      {
        "duration": 133,
        "start_time": "2022-12-25T23:00:49.759Z"
      },
      {
        "duration": 901,
        "start_time": "2022-12-25T23:01:04.275Z"
      },
      {
        "duration": 85,
        "start_time": "2022-12-25T23:01:21.416Z"
      },
      {
        "duration": 99,
        "start_time": "2022-12-25T23:01:28.317Z"
      },
      {
        "duration": 43,
        "start_time": "2022-12-25T23:01:36.835Z"
      },
      {
        "duration": 95,
        "start_time": "2022-12-25T23:03:31.730Z"
      },
      {
        "duration": 123,
        "start_time": "2022-12-25T23:07:28.972Z"
      },
      {
        "duration": 2204,
        "start_time": "2022-12-25T23:08:54.102Z"
      },
      {
        "duration": 2052,
        "start_time": "2022-12-25T23:09:39.732Z"
      },
      {
        "duration": 3049,
        "start_time": "2022-12-26T12:09:12.143Z"
      },
      {
        "duration": 1978,
        "start_time": "2022-12-26T12:24:45.045Z"
      },
      {
        "duration": 2028,
        "start_time": "2022-12-26T12:34:01.280Z"
      },
      {
        "duration": 8,
        "start_time": "2022-12-26T12:38:41.577Z"
      },
      {
        "duration": 5,
        "start_time": "2022-12-26T12:59:51.307Z"
      },
      {
        "duration": 5,
        "start_time": "2022-12-26T13:01:35.055Z"
      },
      {
        "duration": 7,
        "start_time": "2022-12-26T13:03:03.468Z"
      },
      {
        "duration": 7,
        "start_time": "2022-12-26T13:03:39.963Z"
      },
      {
        "duration": 11,
        "start_time": "2022-12-26T13:03:59.318Z"
      },
      {
        "duration": 49,
        "start_time": "2022-12-27T11:45:14.283Z"
      },
      {
        "duration": 8,
        "start_time": "2022-12-27T11:45:31.383Z"
      },
      {
        "duration": 2938,
        "start_time": "2022-12-27T11:45:42.674Z"
      },
      {
        "duration": 8,
        "start_time": "2022-12-27T11:45:45.614Z"
      },
      {
        "duration": 11,
        "start_time": "2022-12-27T11:45:45.624Z"
      },
      {
        "duration": 8,
        "start_time": "2022-12-27T11:45:47.953Z"
      },
      {
        "duration": 11,
        "start_time": "2022-12-27T12:06:16.344Z"
      },
      {
        "duration": 9,
        "start_time": "2022-12-27T12:06:21.244Z"
      },
      {
        "duration": 16,
        "start_time": "2022-12-27T12:08:01.843Z"
      },
      {
        "duration": 10,
        "start_time": "2022-12-27T12:08:03.830Z"
      },
      {
        "duration": 13,
        "start_time": "2022-12-27T12:08:52.539Z"
      },
      {
        "duration": 9,
        "start_time": "2022-12-27T12:08:53.753Z"
      },
      {
        "duration": 14,
        "start_time": "2022-12-27T12:10:02.973Z"
      },
      {
        "duration": 8,
        "start_time": "2022-12-27T12:19:34.206Z"
      },
      {
        "duration": 6,
        "start_time": "2022-12-27T12:19:52.754Z"
      },
      {
        "duration": 7,
        "start_time": "2022-12-27T12:20:00.137Z"
      },
      {
        "duration": 7,
        "start_time": "2022-12-27T12:24:49.526Z"
      },
      {
        "duration": 4,
        "start_time": "2022-12-27T12:27:28.577Z"
      },
      {
        "duration": 4,
        "start_time": "2022-12-27T12:30:48.683Z"
      },
      {
        "duration": 30,
        "start_time": "2022-12-27T12:38:48.673Z"
      },
      {
        "duration": 31,
        "start_time": "2022-12-27T12:40:53.838Z"
      },
      {
        "duration": 9,
        "start_time": "2022-12-27T12:41:04.200Z"
      },
      {
        "duration": 4,
        "start_time": "2022-12-27T12:42:12.866Z"
      },
      {
        "duration": 8,
        "start_time": "2022-12-27T12:42:15.560Z"
      },
      {
        "duration": 4,
        "start_time": "2022-12-27T12:46:29.803Z"
      },
      {
        "duration": 5,
        "start_time": "2022-12-27T12:47:55.963Z"
      },
      {
        "duration": 7,
        "start_time": "2022-12-27T12:51:16.345Z"
      },
      {
        "duration": 4,
        "start_time": "2022-12-27T12:53:32.849Z"
      },
      {
        "duration": 5,
        "start_time": "2022-12-27T12:53:33.788Z"
      },
      {
        "duration": 7,
        "start_time": "2022-12-27T12:54:08.127Z"
      },
      {
        "duration": 9,
        "start_time": "2022-12-27T12:54:18.426Z"
      },
      {
        "duration": 1227,
        "start_time": "2022-12-27T12:55:06.802Z"
      },
      {
        "duration": 7,
        "start_time": "2022-12-27T12:55:14.575Z"
      },
      {
        "duration": 4,
        "start_time": "2022-12-27T12:55:23.246Z"
      },
      {
        "duration": 5,
        "start_time": "2022-12-27T12:55:34.998Z"
      },
      {
        "duration": 8,
        "start_time": "2022-12-27T12:55:58.742Z"
      },
      {
        "duration": 7,
        "start_time": "2022-12-27T12:56:15.845Z"
      },
      {
        "duration": 4,
        "start_time": "2022-12-27T12:56:42.759Z"
      },
      {
        "duration": 29,
        "start_time": "2022-12-27T12:56:49.467Z"
      },
      {
        "duration": 38,
        "start_time": "2022-12-27T12:56:49.908Z"
      },
      {
        "duration": 4,
        "start_time": "2022-12-27T12:56:50.872Z"
      },
      {
        "duration": 4,
        "start_time": "2022-12-27T12:56:51.671Z"
      },
      {
        "duration": 7,
        "start_time": "2022-12-27T12:56:52.501Z"
      },
      {
        "duration": 6,
        "start_time": "2022-12-27T12:56:55.743Z"
      },
      {
        "duration": 121,
        "start_time": "2022-12-27T13:00:47.863Z"
      },
      {
        "duration": 11,
        "start_time": "2022-12-27T13:00:54.154Z"
      },
      {
        "duration": 9,
        "start_time": "2022-12-27T13:00:57.716Z"
      },
      {
        "duration": 8,
        "start_time": "2022-12-27T13:01:09.649Z"
      },
      {
        "duration": 5,
        "start_time": "2022-12-27T13:01:22.256Z"
      },
      {
        "duration": 9,
        "start_time": "2022-12-27T13:01:23.345Z"
      },
      {
        "duration": 9,
        "start_time": "2022-12-27T13:01:24.367Z"
      },
      {
        "duration": 9,
        "start_time": "2022-12-27T13:02:20.614Z"
      },
      {
        "duration": 10,
        "start_time": "2022-12-27T13:02:21.702Z"
      },
      {
        "duration": 2071,
        "start_time": "2022-12-27T13:03:28.721Z"
      },
      {
        "duration": 5,
        "start_time": "2022-12-27T13:04:39.761Z"
      },
      {
        "duration": 5,
        "start_time": "2022-12-27T13:04:54.900Z"
      },
      {
        "duration": 4,
        "start_time": "2022-12-27T13:10:26.849Z"
      },
      {
        "duration": 9,
        "start_time": "2022-12-27T13:10:27.522Z"
      },
      {
        "duration": 9,
        "start_time": "2022-12-27T13:10:34.714Z"
      },
      {
        "duration": 4,
        "start_time": "2022-12-27T13:10:46.038Z"
      },
      {
        "duration": 9,
        "start_time": "2022-12-27T13:10:46.624Z"
      },
      {
        "duration": 5,
        "start_time": "2022-12-27T13:10:52.387Z"
      },
      {
        "duration": 4,
        "start_time": "2022-12-27T13:10:53.094Z"
      },
      {
        "duration": 34,
        "start_time": "2022-12-27T13:10:53.857Z"
      },
      {
        "duration": 30,
        "start_time": "2022-12-27T13:10:54.265Z"
      },
      {
        "duration": 29,
        "start_time": "2022-12-27T13:11:01.206Z"
      },
      {
        "duration": 4,
        "start_time": "2022-12-27T13:11:02.491Z"
      },
      {
        "duration": 6,
        "start_time": "2022-12-27T13:11:03.184Z"
      },
      {
        "duration": 8,
        "start_time": "2022-12-27T13:11:04.040Z"
      },
      {
        "duration": 7,
        "start_time": "2022-12-27T13:11:05.133Z"
      },
      {
        "duration": 4,
        "start_time": "2022-12-27T13:11:06.168Z"
      },
      {
        "duration": 9,
        "start_time": "2022-12-27T13:11:06.710Z"
      },
      {
        "duration": 28,
        "start_time": "2022-12-27T13:11:48.835Z"
      },
      {
        "duration": 29,
        "start_time": "2022-12-27T13:11:49.522Z"
      },
      {
        "duration": 33,
        "start_time": "2022-12-27T13:12:17.679Z"
      },
      {
        "duration": 5,
        "start_time": "2022-12-27T13:12:28.906Z"
      },
      {
        "duration": 2145,
        "start_time": "2022-12-27T13:12:37.013Z"
      },
      {
        "duration": 9,
        "start_time": "2022-12-27T13:12:39.159Z"
      },
      {
        "duration": 5,
        "start_time": "2022-12-27T13:12:40.236Z"
      },
      {
        "duration": 4,
        "start_time": "2022-12-27T13:12:41.247Z"
      },
      {
        "duration": 32,
        "start_time": "2022-12-27T13:12:42.324Z"
      },
      {
        "duration": 32,
        "start_time": "2022-12-27T13:12:42.837Z"
      },
      {
        "duration": 4,
        "start_time": "2022-12-27T13:12:44.643Z"
      },
      {
        "duration": 6,
        "start_time": "2022-12-27T13:12:45.432Z"
      },
      {
        "duration": 6,
        "start_time": "2022-12-27T13:12:46.390Z"
      },
      {
        "duration": 8,
        "start_time": "2022-12-27T13:12:47.347Z"
      },
      {
        "duration": 4,
        "start_time": "2022-12-27T13:12:48.295Z"
      },
      {
        "duration": 10,
        "start_time": "2022-12-27T13:12:49.234Z"
      },
      {
        "duration": 15,
        "start_time": "2022-12-27T13:13:29.110Z"
      },
      {
        "duration": 30,
        "start_time": "2022-12-27T13:24:55.180Z"
      },
      {
        "duration": 30,
        "start_time": "2022-12-27T13:24:55.653Z"
      },
      {
        "duration": 39,
        "start_time": "2022-12-27T13:25:04.257Z"
      },
      {
        "duration": 31,
        "start_time": "2022-12-27T13:25:08.576Z"
      },
      {
        "duration": 31,
        "start_time": "2022-12-27T13:25:11.418Z"
      },
      {
        "duration": 30,
        "start_time": "2022-12-27T13:25:13.134Z"
      },
      {
        "duration": 3,
        "start_time": "2022-12-27T13:25:14.516Z"
      },
      {
        "duration": 3,
        "start_time": "2022-12-27T13:25:14.770Z"
      },
      {
        "duration": 5,
        "start_time": "2022-12-27T13:25:15.648Z"
      },
      {
        "duration": 7,
        "start_time": "2022-12-27T13:25:16.834Z"
      },
      {
        "duration": 4,
        "start_time": "2022-12-27T13:25:18.296Z"
      },
      {
        "duration": 9,
        "start_time": "2022-12-27T13:25:18.810Z"
      },
      {
        "duration": 32,
        "start_time": "2022-12-27T13:25:43.676Z"
      },
      {
        "duration": 33,
        "start_time": "2022-12-27T13:26:01.012Z"
      },
      {
        "duration": 45,
        "start_time": "2022-12-27T13:26:01.561Z"
      },
      {
        "duration": 9,
        "start_time": "2022-12-27T13:26:09.037Z"
      },
      {
        "duration": 30,
        "start_time": "2022-12-27T13:31:44.284Z"
      },
      {
        "duration": 2282,
        "start_time": "2022-12-27T13:31:52.763Z"
      },
      {
        "duration": 10,
        "start_time": "2022-12-27T13:31:55.047Z"
      },
      {
        "duration": 11,
        "start_time": "2022-12-27T13:31:57.869Z"
      },
      {
        "duration": 8,
        "start_time": "2022-12-27T13:32:02.361Z"
      },
      {
        "duration": 5,
        "start_time": "2022-12-27T13:32:02.853Z"
      },
      {
        "duration": 4,
        "start_time": "2022-12-27T13:32:03.187Z"
      },
      {
        "duration": 36,
        "start_time": "2022-12-27T13:32:03.499Z"
      },
      {
        "duration": 32,
        "start_time": "2022-12-27T13:32:03.654Z"
      },
      {
        "duration": 3,
        "start_time": "2022-12-27T13:32:03.975Z"
      },
      {
        "duration": 6,
        "start_time": "2022-12-27T13:32:04.466Z"
      },
      {
        "duration": 6,
        "start_time": "2022-12-27T13:32:04.808Z"
      },
      {
        "duration": 7,
        "start_time": "2022-12-27T13:32:05.124Z"
      },
      {
        "duration": 5,
        "start_time": "2022-12-27T13:32:05.786Z"
      },
      {
        "duration": 9,
        "start_time": "2022-12-27T13:32:06.339Z"
      },
      {
        "duration": 46,
        "start_time": "2022-12-27T13:35:00.956Z"
      },
      {
        "duration": 32,
        "start_time": "2022-12-27T13:37:08.932Z"
      },
      {
        "duration": 5,
        "start_time": "2022-12-27T13:37:10.014Z"
      },
      {
        "duration": 4,
        "start_time": "2022-12-27T13:37:11.136Z"
      },
      {
        "duration": 6,
        "start_time": "2022-12-27T13:37:13.459Z"
      },
      {
        "duration": 9,
        "start_time": "2022-12-27T13:37:16.236Z"
      },
      {
        "duration": 9,
        "start_time": "2022-12-27T13:37:26.150Z"
      },
      {
        "duration": 36,
        "start_time": "2022-12-27T13:37:32.140Z"
      },
      {
        "duration": 4,
        "start_time": "2022-12-27T13:37:32.853Z"
      },
      {
        "duration": 4,
        "start_time": "2022-12-27T13:37:33.594Z"
      },
      {
        "duration": 8,
        "start_time": "2022-12-27T13:37:34.668Z"
      },
      {
        "duration": 9,
        "start_time": "2022-12-27T13:37:36.020Z"
      },
      {
        "duration": 2134,
        "start_time": "2022-12-27T13:37:39.509Z"
      },
      {
        "duration": 10,
        "start_time": "2022-12-27T13:37:41.646Z"
      },
      {
        "duration": 16,
        "start_time": "2022-12-27T13:37:41.658Z"
      },
      {
        "duration": 9,
        "start_time": "2022-12-27T13:37:41.677Z"
      },
      {
        "duration": 46,
        "start_time": "2022-12-27T13:37:41.688Z"
      },
      {
        "duration": 31,
        "start_time": "2022-12-27T13:37:41.736Z"
      },
      {
        "duration": 4,
        "start_time": "2022-12-27T13:37:41.769Z"
      },
      {
        "duration": 6,
        "start_time": "2022-12-27T13:37:41.787Z"
      },
      {
        "duration": 7,
        "start_time": "2022-12-27T13:37:42.103Z"
      },
      {
        "duration": 12,
        "start_time": "2022-12-27T13:37:43.125Z"
      },
      {
        "duration": 30,
        "start_time": "2022-12-27T13:40:05.165Z"
      },
      {
        "duration": 31,
        "start_time": "2022-12-27T13:40:06.264Z"
      },
      {
        "duration": 2283,
        "start_time": "2022-12-27T13:41:31.539Z"
      },
      {
        "duration": 8,
        "start_time": "2022-12-27T13:41:33.824Z"
      },
      {
        "duration": 8,
        "start_time": "2022-12-27T13:41:33.834Z"
      },
      {
        "duration": 3,
        "start_time": "2022-12-27T13:41:33.845Z"
      },
      {
        "duration": 28,
        "start_time": "2022-12-27T13:41:34.367Z"
      },
      {
        "duration": 5,
        "start_time": "2022-12-27T13:41:35.803Z"
      },
      {
        "duration": 6,
        "start_time": "2022-12-27T13:41:36.556Z"
      },
      {
        "duration": 5,
        "start_time": "2022-12-27T13:41:37.604Z"
      },
      {
        "duration": 8,
        "start_time": "2022-12-27T13:41:38.696Z"
      },
      {
        "duration": 16,
        "start_time": "2022-12-27T13:41:42.458Z"
      },
      {
        "duration": 14,
        "start_time": "2022-12-27T13:43:23.408Z"
      },
      {
        "duration": 5,
        "start_time": "2022-12-27T13:51:12.024Z"
      },
      {
        "duration": 7,
        "start_time": "2022-12-27T13:52:06.463Z"
      },
      {
        "duration": 6,
        "start_time": "2022-12-27T13:54:06.165Z"
      },
      {
        "duration": 15,
        "start_time": "2022-12-27T13:54:19.081Z"
      },
      {
        "duration": 8,
        "start_time": "2022-12-27T13:54:36.945Z"
      },
      {
        "duration": 16,
        "start_time": "2022-12-27T13:54:38.441Z"
      },
      {
        "duration": 11,
        "start_time": "2022-12-27T13:54:55.809Z"
      },
      {
        "duration": 15,
        "start_time": "2022-12-27T13:54:56.813Z"
      },
      {
        "duration": 21,
        "start_time": "2022-12-27T13:57:54.197Z"
      },
      {
        "duration": 5,
        "start_time": "2022-12-27T13:58:12.267Z"
      },
      {
        "duration": 14,
        "start_time": "2022-12-27T13:58:13.411Z"
      },
      {
        "duration": 7,
        "start_time": "2022-12-27T13:58:24.439Z"
      },
      {
        "duration": 14,
        "start_time": "2022-12-27T13:58:25.395Z"
      },
      {
        "duration": 7,
        "start_time": "2022-12-27T13:58:30.202Z"
      },
      {
        "duration": 15,
        "start_time": "2022-12-27T13:58:30.966Z"
      },
      {
        "duration": 15,
        "start_time": "2022-12-27T13:58:40.634Z"
      },
      {
        "duration": 8,
        "start_time": "2022-12-27T13:58:41.872Z"
      },
      {
        "duration": 14,
        "start_time": "2022-12-27T13:58:42.518Z"
      },
      {
        "duration": 7,
        "start_time": "2022-12-27T13:58:53.861Z"
      },
      {
        "duration": 15,
        "start_time": "2022-12-27T13:58:54.981Z"
      },
      {
        "duration": 16,
        "start_time": "2022-12-27T13:59:06.485Z"
      },
      {
        "duration": 6,
        "start_time": "2022-12-27T13:59:08.147Z"
      },
      {
        "duration": 16,
        "start_time": "2022-12-27T13:59:08.948Z"
      },
      {
        "duration": 6,
        "start_time": "2022-12-27T13:59:25.235Z"
      },
      {
        "duration": 2014,
        "start_time": "2022-12-27T13:59:30.075Z"
      },
      {
        "duration": 8,
        "start_time": "2022-12-27T13:59:32.884Z"
      },
      {
        "duration": 4,
        "start_time": "2022-12-27T13:59:33.419Z"
      },
      {
        "duration": 4,
        "start_time": "2022-12-27T13:59:33.787Z"
      },
      {
        "duration": 37,
        "start_time": "2022-12-27T13:59:34.137Z"
      },
      {
        "duration": 4,
        "start_time": "2022-12-27T13:59:34.660Z"
      },
      {
        "duration": 6,
        "start_time": "2022-12-27T13:59:35.007Z"
      },
      {
        "duration": 6,
        "start_time": "2022-12-27T13:59:35.360Z"
      },
      {
        "duration": 10,
        "start_time": "2022-12-27T13:59:35.847Z"
      },
      {
        "duration": 13,
        "start_time": "2022-12-27T13:59:37.052Z"
      },
      {
        "duration": 8,
        "start_time": "2022-12-27T13:59:38.201Z"
      },
      {
        "duration": 17,
        "start_time": "2022-12-27T13:59:38.699Z"
      },
      {
        "duration": 2800,
        "start_time": "2022-12-28T13:23:22.771Z"
      },
      {
        "duration": 8,
        "start_time": "2022-12-28T13:23:25.573Z"
      },
      {
        "duration": 6,
        "start_time": "2022-12-28T13:23:25.681Z"
      },
      {
        "duration": 4,
        "start_time": "2022-12-28T13:23:26.886Z"
      },
      {
        "duration": 30,
        "start_time": "2022-12-28T13:23:27.506Z"
      },
      {
        "duration": 4,
        "start_time": "2022-12-28T13:23:28.051Z"
      },
      {
        "duration": 5,
        "start_time": "2022-12-28T13:23:28.411Z"
      },
      {
        "duration": 5,
        "start_time": "2022-12-28T13:23:28.782Z"
      },
      {
        "duration": 8,
        "start_time": "2022-12-28T13:23:29.311Z"
      },
      {
        "duration": 14,
        "start_time": "2022-12-28T13:23:30.050Z"
      },
      {
        "duration": 9,
        "start_time": "2022-12-28T13:23:30.420Z"
      },
      {
        "duration": 14,
        "start_time": "2022-12-28T13:23:30.624Z"
      },
      {
        "duration": 8,
        "start_time": "2022-12-28T14:56:01.999Z"
      },
      {
        "duration": 6,
        "start_time": "2022-12-28T14:57:34.291Z"
      },
      {
        "duration": 8,
        "start_time": "2022-12-28T15:01:09.922Z"
      },
      {
        "duration": 13,
        "start_time": "2022-12-28T15:08:11.976Z"
      },
      {
        "duration": 5,
        "start_time": "2022-12-28T15:08:53.087Z"
      },
      {
        "duration": 8,
        "start_time": "2022-12-28T15:09:13.264Z"
      },
      {
        "duration": 546,
        "start_time": "2022-12-28T15:21:01.040Z"
      },
      {
        "duration": 67,
        "start_time": "2022-12-28T15:21:22.116Z"
      },
      {
        "duration": 10,
        "start_time": "2022-12-28T15:21:54.212Z"
      },
      {
        "duration": 116,
        "start_time": "2022-12-28T15:23:52.431Z"
      },
      {
        "duration": 108,
        "start_time": "2022-12-28T15:26:31.187Z"
      },
      {
        "duration": 181,
        "start_time": "2022-12-28T15:27:00.297Z"
      },
      {
        "duration": 109,
        "start_time": "2022-12-28T15:28:41.973Z"
      },
      {
        "duration": 6,
        "start_time": "2022-12-28T15:41:34.584Z"
      },
      {
        "duration": 108,
        "start_time": "2022-12-28T15:41:43.482Z"
      },
      {
        "duration": 512,
        "start_time": "2022-12-28T15:44:40.273Z"
      },
      {
        "duration": 566,
        "start_time": "2022-12-28T15:45:09.913Z"
      },
      {
        "duration": 580,
        "start_time": "2022-12-28T15:45:17.376Z"
      },
      {
        "duration": 1113,
        "start_time": "2022-12-28T15:45:35.341Z"
      },
      {
        "duration": 4,
        "start_time": "2022-12-28T15:53:50.051Z"
      },
      {
        "duration": 6,
        "start_time": "2022-12-28T15:54:14.286Z"
      },
      {
        "duration": 4,
        "start_time": "2022-12-28T15:56:16.524Z"
      },
      {
        "duration": 7,
        "start_time": "2022-12-28T15:56:39.647Z"
      },
      {
        "duration": 5,
        "start_time": "2022-12-28T15:57:54.558Z"
      },
      {
        "duration": 7,
        "start_time": "2022-12-28T15:58:13.386Z"
      },
      {
        "duration": 1166,
        "start_time": "2022-12-28T16:04:08.947Z"
      },
      {
        "duration": 5,
        "start_time": "2022-12-28T16:04:26.355Z"
      },
      {
        "duration": 16,
        "start_time": "2022-12-28T16:05:13.407Z"
      },
      {
        "duration": 12,
        "start_time": "2022-12-28T16:07:57.127Z"
      },
      {
        "duration": 18,
        "start_time": "2022-12-28T16:08:03.656Z"
      },
      {
        "duration": 113,
        "start_time": "2022-12-28T16:08:26.392Z"
      },
      {
        "duration": 14,
        "start_time": "2022-12-28T16:08:44.411Z"
      },
      {
        "duration": 15,
        "start_time": "2022-12-28T16:13:04.812Z"
      },
      {
        "duration": 18,
        "start_time": "2022-12-28T16:13:54.875Z"
      },
      {
        "duration": 5,
        "start_time": "2022-12-28T16:14:15.905Z"
      },
      {
        "duration": 12,
        "start_time": "2022-12-28T16:14:39.647Z"
      },
      {
        "duration": 12,
        "start_time": "2022-12-28T16:14:42.279Z"
      },
      {
        "duration": 15,
        "start_time": "2022-12-28T16:14:42.870Z"
      },
      {
        "duration": 15,
        "start_time": "2022-12-28T16:14:45.030Z"
      },
      {
        "duration": 15,
        "start_time": "2022-12-28T16:14:46.491Z"
      },
      {
        "duration": 401,
        "start_time": "2022-12-28T16:20:24.093Z"
      },
      {
        "duration": 22,
        "start_time": "2022-12-28T16:20:45.075Z"
      },
      {
        "duration": 1092,
        "start_time": "2022-12-28T16:24:48.643Z"
      },
      {
        "duration": 1150,
        "start_time": "2022-12-28T16:25:31.323Z"
      },
      {
        "duration": 4,
        "start_time": "2022-12-28T16:25:50.895Z"
      },
      {
        "duration": 7,
        "start_time": "2022-12-28T16:27:06.257Z"
      },
      {
        "duration": 6,
        "start_time": "2022-12-28T16:27:21.331Z"
      },
      {
        "duration": 26,
        "start_time": "2022-12-28T16:28:26.480Z"
      },
      {
        "duration": 7,
        "start_time": "2022-12-28T16:28:38.391Z"
      },
      {
        "duration": 24,
        "start_time": "2022-12-28T16:28:40.674Z"
      },
      {
        "duration": 14,
        "start_time": "2022-12-28T16:28:50.893Z"
      },
      {
        "duration": 6,
        "start_time": "2022-12-28T16:28:51.559Z"
      },
      {
        "duration": 14,
        "start_time": "2022-12-28T16:28:51.768Z"
      },
      {
        "duration": 7,
        "start_time": "2022-12-28T16:28:52.346Z"
      },
      {
        "duration": 15,
        "start_time": "2022-12-28T16:28:52.695Z"
      },
      {
        "duration": 7,
        "start_time": "2022-12-28T16:28:53.016Z"
      },
      {
        "duration": 108,
        "start_time": "2022-12-28T16:28:53.661Z"
      },
      {
        "duration": 6,
        "start_time": "2022-12-28T16:28:53.982Z"
      },
      {
        "duration": 125,
        "start_time": "2022-12-28T16:28:54.142Z"
      },
      {
        "duration": 7,
        "start_time": "2022-12-28T16:28:54.948Z"
      },
      {
        "duration": 13,
        "start_time": "2022-12-28T16:28:55.286Z"
      },
      {
        "duration": 17,
        "start_time": "2022-12-28T16:28:55.465Z"
      },
      {
        "duration": 15,
        "start_time": "2022-12-28T16:28:55.801Z"
      },
      {
        "duration": 15,
        "start_time": "2022-12-28T16:28:56.148Z"
      },
      {
        "duration": 296,
        "start_time": "2022-12-28T16:28:56.667Z"
      },
      {
        "duration": 23,
        "start_time": "2022-12-28T16:28:57.018Z"
      },
      {
        "duration": 6,
        "start_time": "2022-12-28T16:28:57.358Z"
      },
      {
        "duration": 25,
        "start_time": "2022-12-28T16:28:58.973Z"
      },
      {
        "duration": 25,
        "start_time": "2022-12-28T16:29:22.151Z"
      },
      {
        "duration": 24,
        "start_time": "2022-12-28T16:29:31.511Z"
      },
      {
        "duration": 7,
        "start_time": "2022-12-28T16:29:48.973Z"
      },
      {
        "duration": 26,
        "start_time": "2022-12-28T16:29:57.020Z"
      },
      {
        "duration": 127,
        "start_time": "2022-12-28T16:45:12.455Z"
      },
      {
        "duration": 115,
        "start_time": "2022-12-28T16:46:35.997Z"
      },
      {
        "duration": 310,
        "start_time": "2022-12-28T16:47:39.331Z"
      },
      {
        "duration": 159,
        "start_time": "2022-12-28T16:47:52.631Z"
      },
      {
        "duration": 164,
        "start_time": "2022-12-28T16:48:45.577Z"
      },
      {
        "duration": 156,
        "start_time": "2022-12-28T16:49:03.230Z"
      },
      {
        "duration": 166,
        "start_time": "2022-12-28T16:49:21.800Z"
      },
      {
        "duration": 121,
        "start_time": "2022-12-28T16:49:28.759Z"
      },
      {
        "duration": 122,
        "start_time": "2022-12-28T16:49:33.555Z"
      },
      {
        "duration": 222,
        "start_time": "2022-12-28T16:49:38.457Z"
      },
      {
        "duration": 352,
        "start_time": "2022-12-28T16:49:44.242Z"
      },
      {
        "duration": 181,
        "start_time": "2022-12-28T16:50:02.552Z"
      },
      {
        "duration": 167,
        "start_time": "2022-12-28T16:50:38.714Z"
      },
      {
        "duration": 182,
        "start_time": "2022-12-28T16:51:08.215Z"
      },
      {
        "duration": 153,
        "start_time": "2022-12-28T16:51:34.633Z"
      },
      {
        "duration": 179,
        "start_time": "2022-12-28T16:52:09.674Z"
      },
      {
        "duration": 171,
        "start_time": "2022-12-28T16:53:13.446Z"
      },
      {
        "duration": 149,
        "start_time": "2022-12-28T16:54:01.465Z"
      },
      {
        "duration": 152,
        "start_time": "2022-12-28T16:54:33.292Z"
      },
      {
        "duration": 286,
        "start_time": "2022-12-28T16:54:53.769Z"
      },
      {
        "duration": 163,
        "start_time": "2022-12-28T16:55:08.458Z"
      },
      {
        "duration": 213,
        "start_time": "2022-12-28T16:56:57.560Z"
      },
      {
        "duration": 213,
        "start_time": "2022-12-28T16:57:19.474Z"
      },
      {
        "duration": 2510,
        "start_time": "2022-12-28T16:57:29.528Z"
      },
      {
        "duration": 167,
        "start_time": "2022-12-28T16:57:34.898Z"
      },
      {
        "duration": 171,
        "start_time": "2022-12-28T16:58:32.895Z"
      },
      {
        "duration": 123,
        "start_time": "2022-12-28T16:58:57.651Z"
      },
      {
        "duration": 164,
        "start_time": "2022-12-28T16:59:19.482Z"
      },
      {
        "duration": 177,
        "start_time": "2022-12-28T17:00:18.944Z"
      },
      {
        "duration": 467,
        "start_time": "2022-12-28T17:00:39.751Z"
      },
      {
        "duration": 168,
        "start_time": "2022-12-28T17:01:03.804Z"
      },
      {
        "duration": 194,
        "start_time": "2022-12-28T17:01:17.747Z"
      },
      {
        "duration": 163,
        "start_time": "2022-12-28T17:01:25.757Z"
      },
      {
        "duration": 160,
        "start_time": "2022-12-28T17:01:57.231Z"
      },
      {
        "duration": 166,
        "start_time": "2022-12-28T17:02:03.345Z"
      },
      {
        "duration": 167,
        "start_time": "2022-12-28T17:02:10.802Z"
      },
      {
        "duration": 168,
        "start_time": "2022-12-28T17:02:19.759Z"
      },
      {
        "duration": 169,
        "start_time": "2022-12-28T17:02:39.616Z"
      },
      {
        "duration": 178,
        "start_time": "2022-12-28T17:03:02.175Z"
      },
      {
        "duration": 180,
        "start_time": "2022-12-28T17:03:30.300Z"
      },
      {
        "duration": 329,
        "start_time": "2022-12-28T17:03:38.808Z"
      },
      {
        "duration": 173,
        "start_time": "2022-12-28T17:04:03.245Z"
      },
      {
        "duration": 14,
        "start_time": "2022-12-28T17:04:27.173Z"
      },
      {
        "duration": 14,
        "start_time": "2022-12-28T17:04:38.136Z"
      },
      {
        "duration": 14,
        "start_time": "2022-12-28T17:04:46.249Z"
      },
      {
        "duration": 111,
        "start_time": "2022-12-28T17:05:00.708Z"
      },
      {
        "duration": 181,
        "start_time": "2022-12-28T17:05:43.163Z"
      },
      {
        "duration": 169,
        "start_time": "2022-12-28T17:06:28.868Z"
      },
      {
        "duration": 175,
        "start_time": "2022-12-28T17:06:37.890Z"
      },
      {
        "duration": 197,
        "start_time": "2022-12-28T17:07:07.181Z"
      },
      {
        "duration": 178,
        "start_time": "2022-12-28T17:07:31.544Z"
      },
      {
        "duration": 174,
        "start_time": "2022-12-28T17:07:37.400Z"
      },
      {
        "duration": 359,
        "start_time": "2022-12-28T17:07:43.307Z"
      },
      {
        "duration": 175,
        "start_time": "2022-12-28T17:07:53.650Z"
      },
      {
        "duration": 169,
        "start_time": "2022-12-28T17:08:24.028Z"
      },
      {
        "duration": 168,
        "start_time": "2022-12-28T17:08:51.293Z"
      },
      {
        "duration": 167,
        "start_time": "2022-12-28T17:33:29.999Z"
      },
      {
        "duration": 179,
        "start_time": "2022-12-28T17:34:29.282Z"
      },
      {
        "duration": 174,
        "start_time": "2022-12-28T17:35:03.717Z"
      },
      {
        "duration": 211,
        "start_time": "2022-12-28T17:35:12.328Z"
      },
      {
        "duration": 171,
        "start_time": "2022-12-28T17:36:02.912Z"
      },
      {
        "duration": 175,
        "start_time": "2022-12-28T17:36:29.162Z"
      },
      {
        "duration": 189,
        "start_time": "2022-12-28T17:36:40.302Z"
      },
      {
        "duration": 366,
        "start_time": "2022-12-28T17:36:48.756Z"
      },
      {
        "duration": 178,
        "start_time": "2022-12-28T17:36:58.530Z"
      },
      {
        "duration": 172,
        "start_time": "2022-12-28T17:39:58.290Z"
      },
      {
        "duration": 178,
        "start_time": "2022-12-28T17:40:03.779Z"
      },
      {
        "duration": 193,
        "start_time": "2022-12-28T17:48:51.388Z"
      },
      {
        "duration": 185,
        "start_time": "2022-12-28T17:49:08.383Z"
      },
      {
        "duration": 175,
        "start_time": "2022-12-28T17:49:17.691Z"
      },
      {
        "duration": 162,
        "start_time": "2022-12-28T18:07:33.178Z"
      },
      {
        "duration": 180,
        "start_time": "2022-12-28T18:08:10.694Z"
      },
      {
        "duration": 167,
        "start_time": "2022-12-28T18:08:18.337Z"
      },
      {
        "duration": 318,
        "start_time": "2022-12-28T18:08:25.613Z"
      },
      {
        "duration": 194,
        "start_time": "2022-12-28T18:08:51.085Z"
      },
      {
        "duration": 192,
        "start_time": "2022-12-28T18:09:39.439Z"
      },
      {
        "duration": 192,
        "start_time": "2022-12-28T18:16:01.907Z"
      },
      {
        "duration": 75,
        "start_time": "2022-12-28T18:16:26.643Z"
      },
      {
        "duration": 200,
        "start_time": "2022-12-28T18:16:32.128Z"
      },
      {
        "duration": 299,
        "start_time": "2022-12-28T18:16:58.189Z"
      },
      {
        "duration": 311,
        "start_time": "2022-12-28T18:17:24.093Z"
      },
      {
        "duration": 416,
        "start_time": "2022-12-28T18:18:04.680Z"
      },
      {
        "duration": 295,
        "start_time": "2022-12-28T18:18:22.026Z"
      },
      {
        "duration": 3107,
        "start_time": "2022-12-29T09:49:48.168Z"
      },
      {
        "duration": 9,
        "start_time": "2022-12-29T09:49:51.277Z"
      },
      {
        "duration": 36,
        "start_time": "2022-12-29T09:49:51.288Z"
      },
      {
        "duration": 43,
        "start_time": "2022-12-29T09:49:51.326Z"
      },
      {
        "duration": 99,
        "start_time": "2022-12-29T09:49:51.372Z"
      },
      {
        "duration": 17,
        "start_time": "2022-12-29T09:49:51.473Z"
      },
      {
        "duration": 92,
        "start_time": "2022-12-29T09:49:51.492Z"
      },
      {
        "duration": 8,
        "start_time": "2022-12-29T09:49:52.286Z"
      },
      {
        "duration": 8,
        "start_time": "2022-12-29T09:49:52.846Z"
      },
      {
        "duration": 23,
        "start_time": "2022-12-29T09:49:53.617Z"
      },
      {
        "duration": 13,
        "start_time": "2022-12-29T09:49:53.997Z"
      },
      {
        "duration": 19,
        "start_time": "2022-12-29T09:49:54.177Z"
      },
      {
        "duration": 12,
        "start_time": "2022-12-29T09:49:54.753Z"
      },
      {
        "duration": 14,
        "start_time": "2022-12-29T09:49:55.152Z"
      },
      {
        "duration": 9,
        "start_time": "2022-12-29T09:49:55.526Z"
      },
      {
        "duration": 152,
        "start_time": "2022-12-29T09:49:56.303Z"
      },
      {
        "duration": 6,
        "start_time": "2022-12-29T09:49:56.694Z"
      },
      {
        "duration": 127,
        "start_time": "2022-12-29T09:49:56.904Z"
      },
      {
        "duration": 7,
        "start_time": "2022-12-29T09:49:58.118Z"
      },
      {
        "duration": 11,
        "start_time": "2022-12-29T09:49:59.004Z"
      },
      {
        "duration": 21,
        "start_time": "2022-12-29T09:49:59.212Z"
      },
      {
        "duration": 15,
        "start_time": "2022-12-29T09:49:59.603Z"
      },
      {
        "duration": 96,
        "start_time": "2022-12-29T09:49:59.997Z"
      },
      {
        "duration": 377,
        "start_time": "2022-12-29T09:50:00.589Z"
      },
      {
        "duration": 25,
        "start_time": "2022-12-29T09:50:01.183Z"
      },
      {
        "duration": 10,
        "start_time": "2022-12-29T09:50:01.549Z"
      },
      {
        "duration": 28,
        "start_time": "2022-12-29T09:50:01.944Z"
      },
      {
        "duration": 206,
        "start_time": "2022-12-29T09:50:02.504Z"
      },
      {
        "duration": 198,
        "start_time": "2022-12-29T09:50:16.705Z"
      },
      {
        "duration": 216,
        "start_time": "2022-12-29T09:50:17.089Z"
      },
      {
        "duration": 172,
        "start_time": "2022-12-29T09:50:17.470Z"
      },
      {
        "duration": 231,
        "start_time": "2022-12-29T09:50:17.831Z"
      },
      {
        "duration": 305,
        "start_time": "2022-12-29T09:50:18.192Z"
      },
      {
        "duration": 204,
        "start_time": "2022-12-29T09:50:18.562Z"
      },
      {
        "duration": 120,
        "start_time": "2022-12-29T09:50:18.891Z"
      },
      {
        "duration": 225,
        "start_time": "2022-12-29T09:50:19.256Z"
      },
      {
        "duration": 196,
        "start_time": "2022-12-29T09:50:19.622Z"
      },
      {
        "duration": 189,
        "start_time": "2022-12-29T09:50:19.985Z"
      },
      {
        "duration": 174,
        "start_time": "2022-12-29T09:50:20.335Z"
      },
      {
        "duration": 222,
        "start_time": "2022-12-29T09:50:20.726Z"
      },
      {
        "duration": 306,
        "start_time": "2022-12-29T09:50:21.113Z"
      },
      {
        "duration": 351,
        "start_time": "2022-12-29T09:50:21.846Z"
      },
      {
        "duration": 20,
        "start_time": "2022-12-29T09:53:09.496Z"
      },
      {
        "duration": 137,
        "start_time": "2022-12-29T09:55:41.152Z"
      },
      {
        "duration": 71,
        "start_time": "2022-12-29T09:55:56.397Z"
      },
      {
        "duration": 173,
        "start_time": "2022-12-29T09:56:10.169Z"
      },
      {
        "duration": 172,
        "start_time": "2022-12-29T09:56:17.966Z"
      },
      {
        "duration": 29,
        "start_time": "2022-12-29T09:58:23.855Z"
      },
      {
        "duration": 2747,
        "start_time": "2022-12-29T10:02:12.877Z"
      },
      {
        "duration": 1973,
        "start_time": "2022-12-29T10:02:33.142Z"
      },
      {
        "duration": 17,
        "start_time": "2022-12-29T10:02:35.126Z"
      },
      {
        "duration": 4,
        "start_time": "2022-12-29T10:02:36.219Z"
      },
      {
        "duration": 3,
        "start_time": "2022-12-29T10:02:37.416Z"
      },
      {
        "duration": 58,
        "start_time": "2022-12-29T10:02:37.786Z"
      },
      {
        "duration": 4,
        "start_time": "2022-12-29T10:02:38.772Z"
      },
      {
        "duration": 6,
        "start_time": "2022-12-29T10:02:39.110Z"
      },
      {
        "duration": 5,
        "start_time": "2022-12-29T10:02:39.449Z"
      },
      {
        "duration": 7,
        "start_time": "2022-12-29T10:02:40.106Z"
      },
      {
        "duration": 12,
        "start_time": "2022-12-29T10:02:40.760Z"
      },
      {
        "duration": 8,
        "start_time": "2022-12-29T10:02:41.112Z"
      },
      {
        "duration": 13,
        "start_time": "2022-12-29T10:02:41.286Z"
      },
      {
        "duration": 8,
        "start_time": "2022-12-29T10:02:41.785Z"
      },
      {
        "duration": 19,
        "start_time": "2022-12-29T10:02:42.113Z"
      },
      {
        "duration": 7,
        "start_time": "2022-12-29T10:02:42.604Z"
      },
      {
        "duration": 139,
        "start_time": "2022-12-29T10:02:43.298Z"
      },
      {
        "duration": 5,
        "start_time": "2022-12-29T10:02:43.619Z"
      },
      {
        "duration": 124,
        "start_time": "2022-12-29T10:02:43.787Z"
      },
      {
        "duration": 7,
        "start_time": "2022-12-29T10:02:44.654Z"
      },
      {
        "duration": 11,
        "start_time": "2022-12-29T10:02:44.990Z"
      },
      {
        "duration": 18,
        "start_time": "2022-12-29T10:02:45.184Z"
      },
      {
        "duration": 31,
        "start_time": "2022-12-29T10:02:45.524Z"
      },
      {
        "duration": 19,
        "start_time": "2022-12-29T10:02:45.854Z"
      },
      {
        "duration": 329,
        "start_time": "2022-12-29T10:02:46.360Z"
      },
      {
        "duration": 27,
        "start_time": "2022-12-29T10:02:46.724Z"
      },
      {
        "duration": 8,
        "start_time": "2022-12-29T10:02:47.061Z"
      },
      {
        "duration": 32,
        "start_time": "2022-12-29T10:02:47.413Z"
      },
      {
        "duration": 197,
        "start_time": "2022-12-29T10:02:47.950Z"
      },
      {
        "duration": 229,
        "start_time": "2022-12-29T10:02:48.311Z"
      },
      {
        "duration": 191,
        "start_time": "2022-12-29T10:02:48.682Z"
      },
      {
        "duration": 213,
        "start_time": "2022-12-29T10:02:49.036Z"
      },
      {
        "duration": 193,
        "start_time": "2022-12-29T10:02:49.415Z"
      },
      {
        "duration": 217,
        "start_time": "2022-12-29T10:02:49.771Z"
      },
      {
        "duration": 199,
        "start_time": "2022-12-29T10:02:50.148Z"
      },
      {
        "duration": 119,
        "start_time": "2022-12-29T10:02:50.510Z"
      },
      {
        "duration": 189,
        "start_time": "2022-12-29T10:02:50.873Z"
      },
      {
        "duration": 234,
        "start_time": "2022-12-29T10:02:51.242Z"
      },
      {
        "duration": 210,
        "start_time": "2022-12-29T10:02:51.621Z"
      },
      {
        "duration": 199,
        "start_time": "2022-12-29T10:02:51.991Z"
      },
      {
        "duration": 183,
        "start_time": "2022-12-29T10:02:52.360Z"
      },
      {
        "duration": 210,
        "start_time": "2022-12-29T10:02:52.741Z"
      },
      {
        "duration": 361,
        "start_time": "2022-12-29T10:02:54.296Z"
      },
      {
        "duration": 262,
        "start_time": "2022-12-29T10:03:01.886Z"
      },
      {
        "duration": 128,
        "start_time": "2022-12-29T10:03:20.854Z"
      },
      {
        "duration": 41218,
        "start_time": "2022-12-29T10:04:15.649Z"
      },
      {
        "duration": 1251,
        "start_time": "2022-12-29T10:06:31.386Z"
      },
      {
        "duration": 39159,
        "start_time": "2022-12-29T10:06:39.757Z"
      },
      {
        "duration": 149,
        "start_time": "2022-12-29T10:09:44.379Z"
      },
      {
        "duration": 1229,
        "start_time": "2022-12-29T10:15:07.579Z"
      },
      {
        "duration": 1342,
        "start_time": "2022-12-29T10:15:32.956Z"
      },
      {
        "duration": 147,
        "start_time": "2022-12-29T10:15:56.523Z"
      },
      {
        "duration": 1256,
        "start_time": "2022-12-29T10:17:21.150Z"
      },
      {
        "duration": 1148,
        "start_time": "2022-12-29T10:17:45.864Z"
      },
      {
        "duration": 137,
        "start_time": "2022-12-29T10:17:54.861Z"
      },
      {
        "duration": 18,
        "start_time": "2022-12-29T10:20:18.670Z"
      },
      {
        "duration": 37719,
        "start_time": "2022-12-29T10:20:29.241Z"
      },
      {
        "duration": 120,
        "start_time": "2022-12-29T10:22:10.701Z"
      },
      {
        "duration": 122,
        "start_time": "2022-12-29T10:24:11.171Z"
      },
      {
        "duration": 126,
        "start_time": "2022-12-29T10:24:46.502Z"
      },
      {
        "duration": 133,
        "start_time": "2022-12-29T10:24:59.754Z"
      },
      {
        "duration": 123,
        "start_time": "2022-12-29T10:25:12.134Z"
      },
      {
        "duration": 258,
        "start_time": "2022-12-29T10:26:09.737Z"
      },
      {
        "duration": 117,
        "start_time": "2022-12-29T10:26:39.173Z"
      },
      {
        "duration": 117,
        "start_time": "2022-12-29T10:26:57.256Z"
      },
      {
        "duration": 119,
        "start_time": "2022-12-29T10:28:02.856Z"
      },
      {
        "duration": 151,
        "start_time": "2022-12-29T10:32:07.693Z"
      },
      {
        "duration": 21,
        "start_time": "2022-12-29T10:32:57.318Z"
      },
      {
        "duration": 15,
        "start_time": "2022-12-29T10:33:04.251Z"
      },
      {
        "duration": 144,
        "start_time": "2022-12-29T10:33:22.906Z"
      },
      {
        "duration": 149,
        "start_time": "2022-12-29T10:34:57.809Z"
      },
      {
        "duration": 169,
        "start_time": "2022-12-29T10:35:15.283Z"
      },
      {
        "duration": 142,
        "start_time": "2022-12-29T10:35:23.039Z"
      },
      {
        "duration": 18,
        "start_time": "2022-12-29T10:39:29.568Z"
      },
      {
        "duration": 15,
        "start_time": "2022-12-29T10:40:20.616Z"
      },
      {
        "duration": 15,
        "start_time": "2022-12-29T10:40:59.887Z"
      },
      {
        "duration": 16,
        "start_time": "2022-12-29T10:41:27.272Z"
      },
      {
        "duration": 12,
        "start_time": "2022-12-29T10:41:58.693Z"
      },
      {
        "duration": 11,
        "start_time": "2022-12-29T10:42:12.884Z"
      },
      {
        "duration": 11,
        "start_time": "2022-12-29T10:42:22.313Z"
      },
      {
        "duration": 17,
        "start_time": "2022-12-29T10:42:56.841Z"
      },
      {
        "duration": 149,
        "start_time": "2022-12-29T10:43:08.722Z"
      },
      {
        "duration": 11,
        "start_time": "2022-12-29T10:43:29.077Z"
      },
      {
        "duration": 23,
        "start_time": "2022-12-29T10:46:28.212Z"
      },
      {
        "duration": 17,
        "start_time": "2022-12-29T10:46:39.504Z"
      },
      {
        "duration": 17,
        "start_time": "2022-12-29T10:47:03.898Z"
      },
      {
        "duration": 3222,
        "start_time": "2022-12-29T13:15:59.358Z"
      },
      {
        "duration": 9,
        "start_time": "2022-12-29T13:16:02.582Z"
      },
      {
        "duration": 18,
        "start_time": "2022-12-29T13:16:02.593Z"
      },
      {
        "duration": 8,
        "start_time": "2022-12-29T13:16:02.613Z"
      },
      {
        "duration": 59,
        "start_time": "2022-12-29T13:16:02.623Z"
      },
      {
        "duration": 3,
        "start_time": "2022-12-29T13:16:02.684Z"
      },
      {
        "duration": 10,
        "start_time": "2022-12-29T13:16:02.689Z"
      },
      {
        "duration": 13,
        "start_time": "2022-12-29T13:16:02.700Z"
      },
      {
        "duration": 14,
        "start_time": "2022-12-29T13:16:02.715Z"
      },
      {
        "duration": 25,
        "start_time": "2022-12-29T13:16:02.732Z"
      },
      {
        "duration": 11,
        "start_time": "2022-12-29T13:16:02.758Z"
      },
      {
        "duration": 15,
        "start_time": "2022-12-29T13:16:02.770Z"
      },
      {
        "duration": 7,
        "start_time": "2022-12-29T13:16:02.787Z"
      },
      {
        "duration": 36,
        "start_time": "2022-12-29T13:16:02.796Z"
      },
      {
        "duration": 26,
        "start_time": "2022-12-29T13:16:02.834Z"
      },
      {
        "duration": 151,
        "start_time": "2022-12-29T13:16:02.862Z"
      },
      {
        "duration": 12,
        "start_time": "2022-12-29T13:16:03.015Z"
      },
      {
        "duration": 150,
        "start_time": "2022-12-29T13:16:03.029Z"
      },
      {
        "duration": 8,
        "start_time": "2022-12-29T13:16:03.182Z"
      },
      {
        "duration": 34,
        "start_time": "2022-12-29T13:16:03.192Z"
      },
      {
        "duration": 29,
        "start_time": "2022-12-29T13:16:03.228Z"
      },
      {
        "duration": 24,
        "start_time": "2022-12-29T13:16:03.259Z"
      },
      {
        "duration": 104,
        "start_time": "2022-12-29T13:16:03.285Z"
      },
      {
        "duration": 367,
        "start_time": "2022-12-29T13:16:03.391Z"
      },
      {
        "duration": 25,
        "start_time": "2022-12-29T13:16:03.760Z"
      },
      {
        "duration": 8,
        "start_time": "2022-12-29T13:16:03.786Z"
      },
      {
        "duration": 58,
        "start_time": "2022-12-29T13:16:03.795Z"
      },
      {
        "duration": 215,
        "start_time": "2022-12-29T13:16:03.858Z"
      },
      {
        "duration": 281,
        "start_time": "2022-12-29T13:16:04.075Z"
      },
      {
        "duration": 241,
        "start_time": "2022-12-29T13:16:04.358Z"
      },
      {
        "duration": 214,
        "start_time": "2022-12-29T13:16:04.600Z"
      },
      {
        "duration": 236,
        "start_time": "2022-12-29T13:16:04.816Z"
      },
      {
        "duration": 307,
        "start_time": "2022-12-29T13:16:05.054Z"
      },
      {
        "duration": 215,
        "start_time": "2022-12-29T13:16:05.363Z"
      },
      {
        "duration": 134,
        "start_time": "2022-12-29T13:16:05.580Z"
      },
      {
        "duration": 254,
        "start_time": "2022-12-29T13:16:05.716Z"
      },
      {
        "duration": 213,
        "start_time": "2022-12-29T13:16:05.972Z"
      },
      {
        "duration": 229,
        "start_time": "2022-12-29T13:16:06.187Z"
      },
      {
        "duration": 228,
        "start_time": "2022-12-29T13:16:06.418Z"
      },
      {
        "duration": 211,
        "start_time": "2022-12-29T13:16:06.648Z"
      },
      {
        "duration": 207,
        "start_time": "2022-12-29T13:16:06.861Z"
      },
      {
        "duration": 482,
        "start_time": "2022-12-29T13:16:07.070Z"
      },
      {
        "duration": 148,
        "start_time": "2022-12-29T13:16:07.554Z"
      },
      {
        "duration": 159,
        "start_time": "2022-12-29T13:16:07.704Z"
      },
      {
        "duration": 185,
        "start_time": "2022-12-29T13:16:07.865Z"
      },
      {
        "duration": 11,
        "start_time": "2022-12-29T13:16:08.052Z"
      },
      {
        "duration": 24,
        "start_time": "2022-12-29T13:16:08.065Z"
      },
      {
        "duration": 20,
        "start_time": "2022-12-29T13:16:30.777Z"
      },
      {
        "duration": 11,
        "start_time": "2022-12-29T13:16:53.370Z"
      },
      {
        "duration": 14,
        "start_time": "2022-12-29T13:17:03.445Z"
      },
      {
        "duration": 89,
        "start_time": "2022-12-29T13:17:18.519Z"
      },
      {
        "duration": 16,
        "start_time": "2022-12-29T13:17:29.245Z"
      },
      {
        "duration": 1181,
        "start_time": "2022-12-29T13:18:11.815Z"
      },
      {
        "duration": 156,
        "start_time": "2022-12-29T13:18:20.581Z"
      },
      {
        "duration": 186,
        "start_time": "2022-12-29T13:19:02.395Z"
      },
      {
        "duration": 169,
        "start_time": "2022-12-29T13:19:17.756Z"
      },
      {
        "duration": 171,
        "start_time": "2022-12-29T13:21:15.927Z"
      },
      {
        "duration": 181,
        "start_time": "2022-12-29T13:22:30.525Z"
      },
      {
        "duration": 8,
        "start_time": "2022-12-29T13:29:23.019Z"
      },
      {
        "duration": 31,
        "start_time": "2022-12-29T13:31:25.610Z"
      },
      {
        "duration": 162,
        "start_time": "2022-12-29T13:32:06.012Z"
      },
      {
        "duration": 1452,
        "start_time": "2022-12-29T13:33:12.374Z"
      },
      {
        "duration": 157,
        "start_time": "2022-12-29T13:33:44.830Z"
      },
      {
        "duration": 152,
        "start_time": "2022-12-29T13:34:04.836Z"
      },
      {
        "duration": 340,
        "start_time": "2022-12-29T13:34:21.915Z"
      },
      {
        "duration": 201,
        "start_time": "2022-12-29T13:34:34.811Z"
      },
      {
        "duration": 203,
        "start_time": "2022-12-29T13:40:28.104Z"
      },
      {
        "duration": 14,
        "start_time": "2022-12-29T13:42:11.585Z"
      },
      {
        "duration": 13,
        "start_time": "2022-12-29T13:42:25.226Z"
      },
      {
        "duration": 31,
        "start_time": "2022-12-29T13:49:52.667Z"
      },
      {
        "duration": 38,
        "start_time": "2022-12-29T13:50:15.278Z"
      },
      {
        "duration": 33,
        "start_time": "2022-12-29T13:50:28.374Z"
      },
      {
        "duration": 36,
        "start_time": "2022-12-29T13:50:55.661Z"
      },
      {
        "duration": 34,
        "start_time": "2022-12-29T13:52:36.554Z"
      },
      {
        "duration": 14,
        "start_time": "2022-12-29T13:52:53.944Z"
      },
      {
        "duration": 18,
        "start_time": "2022-12-29T13:54:27.000Z"
      },
      {
        "duration": 28,
        "start_time": "2022-12-29T13:58:51.353Z"
      },
      {
        "duration": 20,
        "start_time": "2022-12-29T13:59:03.591Z"
      },
      {
        "duration": 117,
        "start_time": "2022-12-29T14:00:10.731Z"
      },
      {
        "duration": 70,
        "start_time": "2022-12-29T14:00:40.933Z"
      },
      {
        "duration": 69,
        "start_time": "2022-12-29T14:01:27.754Z"
      },
      {
        "duration": 177,
        "start_time": "2022-12-29T14:01:35.837Z"
      },
      {
        "duration": 113,
        "start_time": "2022-12-29T14:02:04.570Z"
      },
      {
        "duration": 172,
        "start_time": "2022-12-29T14:02:44.350Z"
      },
      {
        "duration": 177,
        "start_time": "2022-12-29T14:03:04.680Z"
      },
      {
        "duration": 179,
        "start_time": "2022-12-29T14:03:56.531Z"
      },
      {
        "duration": 15,
        "start_time": "2022-12-29T14:04:00.544Z"
      },
      {
        "duration": 2728,
        "start_time": "2022-12-29T14:31:25.029Z"
      },
      {
        "duration": 12,
        "start_time": "2022-12-29T14:31:27.759Z"
      },
      {
        "duration": 7,
        "start_time": "2022-12-29T14:31:27.772Z"
      },
      {
        "duration": 14,
        "start_time": "2022-12-29T14:31:27.781Z"
      },
      {
        "duration": 31,
        "start_time": "2022-12-29T14:31:27.796Z"
      },
      {
        "duration": 5,
        "start_time": "2022-12-29T14:31:27.828Z"
      },
      {
        "duration": 17,
        "start_time": "2022-12-29T14:31:27.835Z"
      },
      {
        "duration": 16,
        "start_time": "2022-12-29T14:31:27.853Z"
      },
      {
        "duration": 14,
        "start_time": "2022-12-29T14:31:27.870Z"
      },
      {
        "duration": 14,
        "start_time": "2022-12-29T14:31:27.886Z"
      },
      {
        "duration": 8,
        "start_time": "2022-12-29T14:31:27.902Z"
      },
      {
        "duration": 24,
        "start_time": "2022-12-29T14:31:27.912Z"
      },
      {
        "duration": 6,
        "start_time": "2022-12-29T14:31:27.937Z"
      },
      {
        "duration": 13,
        "start_time": "2022-12-29T14:31:27.945Z"
      },
      {
        "duration": 7,
        "start_time": "2022-12-29T14:31:27.959Z"
      },
      {
        "duration": 135,
        "start_time": "2022-12-29T14:31:27.968Z"
      },
      {
        "duration": 5,
        "start_time": "2022-12-29T14:31:28.105Z"
      },
      {
        "duration": 127,
        "start_time": "2022-12-29T14:31:28.112Z"
      },
      {
        "duration": 7,
        "start_time": "2022-12-29T14:31:28.241Z"
      },
      {
        "duration": 14,
        "start_time": "2022-12-29T14:31:28.249Z"
      },
      {
        "duration": 16,
        "start_time": "2022-12-29T14:31:28.265Z"
      },
      {
        "duration": 86,
        "start_time": "2022-12-29T14:31:28.283Z"
      },
      {
        "duration": 14,
        "start_time": "2022-12-29T14:31:28.370Z"
      },
      {
        "duration": 248,
        "start_time": "2022-12-29T14:31:28.385Z"
      },
      {
        "duration": 20,
        "start_time": "2022-12-29T14:31:28.635Z"
      },
      {
        "duration": 7,
        "start_time": "2022-12-29T14:31:28.656Z"
      },
      {
        "duration": 23,
        "start_time": "2022-12-29T14:31:28.664Z"
      },
      {
        "duration": 196,
        "start_time": "2022-12-29T14:31:28.690Z"
      },
      {
        "duration": 184,
        "start_time": "2022-12-29T14:31:28.887Z"
      },
      {
        "duration": 171,
        "start_time": "2022-12-29T14:31:29.073Z"
      },
      {
        "duration": 167,
        "start_time": "2022-12-29T14:31:29.246Z"
      },
      {
        "duration": 197,
        "start_time": "2022-12-29T14:31:29.415Z"
      },
      {
        "duration": 254,
        "start_time": "2022-12-29T14:31:29.613Z"
      },
      {
        "duration": 177,
        "start_time": "2022-12-29T14:31:29.869Z"
      },
      {
        "duration": 118,
        "start_time": "2022-12-29T14:31:30.047Z"
      },
      {
        "duration": 173,
        "start_time": "2022-12-29T14:31:30.167Z"
      },
      {
        "duration": 173,
        "start_time": "2022-12-29T14:31:30.341Z"
      },
      {
        "duration": 191,
        "start_time": "2022-12-29T14:31:30.515Z"
      },
      {
        "duration": 175,
        "start_time": "2022-12-29T14:31:30.707Z"
      },
      {
        "duration": 173,
        "start_time": "2022-12-29T14:31:30.884Z"
      },
      {
        "duration": 258,
        "start_time": "2022-12-29T14:31:31.058Z"
      },
      {
        "duration": 320,
        "start_time": "2022-12-29T14:31:31.318Z"
      },
      {
        "duration": 135,
        "start_time": "2022-12-29T14:31:31.640Z"
      },
      {
        "duration": 125,
        "start_time": "2022-12-29T14:31:31.776Z"
      },
      {
        "duration": 151,
        "start_time": "2022-12-29T14:31:31.903Z"
      },
      {
        "duration": 10,
        "start_time": "2022-12-29T14:31:32.055Z"
      },
      {
        "duration": 22,
        "start_time": "2022-12-29T14:31:32.067Z"
      },
      {
        "duration": 157,
        "start_time": "2022-12-29T14:31:32.091Z"
      },
      {
        "duration": 160,
        "start_time": "2022-12-29T14:31:32.249Z"
      },
      {
        "duration": 153,
        "start_time": "2022-12-29T14:31:32.411Z"
      },
      {
        "duration": 201,
        "start_time": "2022-12-29T14:31:32.566Z"
      },
      {
        "duration": 198,
        "start_time": "2022-12-29T14:31:32.768Z"
      },
      {
        "duration": 11,
        "start_time": "2022-12-29T14:31:32.968Z"
      },
      {
        "duration": 280,
        "start_time": "2022-12-29T14:31:32.981Z"
      },
      {
        "duration": 11,
        "start_time": "2022-12-29T14:31:33.262Z"
      },
      {
        "duration": 864,
        "start_time": "2022-12-29T14:44:30.858Z"
      },
      {
        "duration": 621,
        "start_time": "2022-12-29T14:44:37.244Z"
      },
      {
        "duration": 2732,
        "start_time": "2022-12-29T14:59:51.853Z"
      },
      {
        "duration": 12,
        "start_time": "2022-12-29T14:59:54.587Z"
      },
      {
        "duration": 6,
        "start_time": "2022-12-29T14:59:54.601Z"
      },
      {
        "duration": 14,
        "start_time": "2022-12-29T14:59:54.609Z"
      },
      {
        "duration": 36,
        "start_time": "2022-12-29T14:59:54.625Z"
      },
      {
        "duration": 5,
        "start_time": "2022-12-29T14:59:54.663Z"
      },
      {
        "duration": 10,
        "start_time": "2022-12-29T14:59:54.670Z"
      },
      {
        "duration": 30,
        "start_time": "2022-12-29T14:59:54.682Z"
      },
      {
        "duration": 21,
        "start_time": "2022-12-29T14:59:54.714Z"
      },
      {
        "duration": 15,
        "start_time": "2022-12-29T14:59:54.738Z"
      },
      {
        "duration": 8,
        "start_time": "2022-12-29T14:59:54.755Z"
      },
      {
        "duration": 16,
        "start_time": "2022-12-29T14:59:54.765Z"
      },
      {
        "duration": 9,
        "start_time": "2022-12-29T14:59:54.783Z"
      },
      {
        "duration": 35,
        "start_time": "2022-12-29T14:59:54.794Z"
      },
      {
        "duration": 30,
        "start_time": "2022-12-29T14:59:54.831Z"
      },
      {
        "duration": 129,
        "start_time": "2022-12-29T14:59:54.862Z"
      },
      {
        "duration": 6,
        "start_time": "2022-12-29T14:59:54.992Z"
      },
      {
        "duration": 113,
        "start_time": "2022-12-29T14:59:54.999Z"
      },
      {
        "duration": 16,
        "start_time": "2022-12-29T14:59:55.114Z"
      },
      {
        "duration": 9,
        "start_time": "2022-12-29T14:59:55.131Z"
      },
      {
        "duration": 20,
        "start_time": "2022-12-29T14:59:55.142Z"
      },
      {
        "duration": 104,
        "start_time": "2022-12-29T14:59:55.164Z"
      },
      {
        "duration": 19,
        "start_time": "2022-12-29T14:59:55.269Z"
      },
      {
        "duration": 272,
        "start_time": "2022-12-29T14:59:55.290Z"
      },
      {
        "duration": 30,
        "start_time": "2022-12-29T14:59:55.564Z"
      },
      {
        "duration": 19,
        "start_time": "2022-12-29T14:59:55.596Z"
      },
      {
        "duration": 51,
        "start_time": "2022-12-29T14:59:55.618Z"
      },
      {
        "duration": 237,
        "start_time": "2022-12-29T14:59:55.674Z"
      },
      {
        "duration": 499,
        "start_time": "2022-12-29T14:59:55.913Z"
      },
      {
        "duration": 186,
        "start_time": "2022-12-29T14:59:56.413Z"
      },
      {
        "duration": 276,
        "start_time": "2022-12-29T14:59:56.602Z"
      },
      {
        "duration": 216,
        "start_time": "2022-12-29T14:59:56.880Z"
      },
      {
        "duration": 258,
        "start_time": "2022-12-29T14:59:57.099Z"
      },
      {
        "duration": 215,
        "start_time": "2022-12-29T14:59:57.359Z"
      },
      {
        "duration": 203,
        "start_time": "2022-12-29T14:59:57.577Z"
      },
      {
        "duration": 135,
        "start_time": "2022-12-29T14:59:57.783Z"
      },
      {
        "duration": 187,
        "start_time": "2022-12-29T14:59:57.920Z"
      },
      {
        "duration": 200,
        "start_time": "2022-12-29T14:59:58.109Z"
      },
      {
        "duration": 285,
        "start_time": "2022-12-29T14:59:58.310Z"
      },
      {
        "duration": 179,
        "start_time": "2022-12-29T14:59:58.597Z"
      },
      {
        "duration": 185,
        "start_time": "2022-12-29T14:59:58.777Z"
      },
      {
        "duration": 172,
        "start_time": "2022-12-29T14:59:58.963Z"
      },
      {
        "duration": 301,
        "start_time": "2022-12-29T14:59:59.137Z"
      },
      {
        "duration": 140,
        "start_time": "2022-12-29T14:59:59.440Z"
      },
      {
        "duration": 132,
        "start_time": "2022-12-29T14:59:59.582Z"
      },
      {
        "duration": 165,
        "start_time": "2022-12-29T14:59:59.715Z"
      },
      {
        "duration": 15,
        "start_time": "2022-12-29T14:59:59.882Z"
      },
      {
        "duration": 39,
        "start_time": "2022-12-29T14:59:59.899Z"
      },
      {
        "duration": 202,
        "start_time": "2022-12-29T14:59:59.941Z"
      },
      {
        "duration": 281,
        "start_time": "2022-12-29T15:00:00.145Z"
      },
      {
        "duration": 154,
        "start_time": "2022-12-29T15:00:00.428Z"
      },
      {
        "duration": 204,
        "start_time": "2022-12-29T15:00:00.583Z"
      },
      {
        "duration": 214,
        "start_time": "2022-12-29T15:00:00.789Z"
      },
      {
        "duration": 12,
        "start_time": "2022-12-29T15:00:01.004Z"
      },
      {
        "duration": 200,
        "start_time": "2022-12-29T15:00:01.018Z"
      },
      {
        "duration": 14,
        "start_time": "2022-12-29T15:00:01.220Z"
      },
      {
        "duration": 5,
        "start_time": "2022-12-29T15:18:37.835Z"
      },
      {
        "duration": 2190,
        "start_time": "2022-12-29T15:18:38.971Z"
      },
      {
        "duration": 6,
        "start_time": "2022-12-29T15:24:18.806Z"
      },
      {
        "duration": 3,
        "start_time": "2022-12-29T15:24:34.785Z"
      },
      {
        "duration": 2205,
        "start_time": "2022-12-29T15:24:35.019Z"
      },
      {
        "duration": 9,
        "start_time": "2022-12-29T15:24:40.338Z"
      },
      {
        "duration": 5,
        "start_time": "2022-12-29T15:24:42.477Z"
      },
      {
        "duration": 6,
        "start_time": "2022-12-29T15:24:43.941Z"
      },
      {
        "duration": 45,
        "start_time": "2022-12-29T15:29:35.176Z"
      },
      {
        "duration": 45,
        "start_time": "2022-12-29T15:30:08.939Z"
      },
      {
        "duration": 5,
        "start_time": "2022-12-29T15:30:41.312Z"
      },
      {
        "duration": 5,
        "start_time": "2022-12-29T15:30:49.600Z"
      },
      {
        "duration": 6,
        "start_time": "2022-12-29T15:31:00.948Z"
      },
      {
        "duration": 14,
        "start_time": "2022-12-29T15:31:15.939Z"
      },
      {
        "duration": 10,
        "start_time": "2022-12-29T15:31:32.714Z"
      },
      {
        "duration": 53,
        "start_time": "2022-12-29T15:32:02.539Z"
      },
      {
        "duration": 6,
        "start_time": "2022-12-29T15:32:16.004Z"
      },
      {
        "duration": 5,
        "start_time": "2022-12-29T15:32:18.020Z"
      },
      {
        "duration": 6,
        "start_time": "2022-12-29T15:32:22.686Z"
      },
      {
        "duration": 8,
        "start_time": "2022-12-29T15:32:38.497Z"
      },
      {
        "duration": 5,
        "start_time": "2022-12-29T15:32:39.235Z"
      },
      {
        "duration": 8,
        "start_time": "2022-12-29T15:35:27.486Z"
      },
      {
        "duration": 5,
        "start_time": "2022-12-29T15:35:28.691Z"
      },
      {
        "duration": 72,
        "start_time": "2022-12-29T15:37:25.848Z"
      },
      {
        "duration": 8,
        "start_time": "2022-12-29T15:37:29.983Z"
      },
      {
        "duration": 5,
        "start_time": "2022-12-29T15:38:12.334Z"
      },
      {
        "duration": 3,
        "start_time": "2022-12-29T15:41:56.651Z"
      },
      {
        "duration": 2352,
        "start_time": "2022-12-29T15:41:56.822Z"
      },
      {
        "duration": 9,
        "start_time": "2022-12-29T15:41:59.177Z"
      },
      {
        "duration": 5,
        "start_time": "2022-12-29T15:42:00.123Z"
      },
      {
        "duration": 8,
        "start_time": "2022-12-29T15:42:00.745Z"
      },
      {
        "duration": 4,
        "start_time": "2022-12-29T15:42:01.043Z"
      },
      {
        "duration": 33,
        "start_time": "2022-12-29T15:42:01.723Z"
      },
      {
        "duration": 4,
        "start_time": "2022-12-29T15:42:03.387Z"
      },
      {
        "duration": 7,
        "start_time": "2022-12-29T15:42:04.240Z"
      },
      {
        "duration": 6,
        "start_time": "2022-12-29T15:42:04.571Z"
      },
      {
        "duration": 7,
        "start_time": "2022-12-29T15:42:05.073Z"
      },
      {
        "duration": 14,
        "start_time": "2022-12-29T15:42:06.134Z"
      },
      {
        "duration": 8,
        "start_time": "2022-12-29T15:42:06.495Z"
      },
      {
        "duration": 13,
        "start_time": "2022-12-29T15:42:06.674Z"
      },
      {
        "duration": 73,
        "start_time": "2022-12-29T15:42:07.234Z"
      },
      {
        "duration": 56,
        "start_time": "2022-12-29T15:42:21.999Z"
      },
      {
        "duration": 20,
        "start_time": "2022-12-29T15:43:56.065Z"
      },
      {
        "duration": 6,
        "start_time": "2022-12-29T15:44:09.888Z"
      },
      {
        "duration": 7,
        "start_time": "2022-12-29T15:45:05.680Z"
      },
      {
        "duration": 13,
        "start_time": "2022-12-29T15:47:44.291Z"
      },
      {
        "duration": 40,
        "start_time": "2022-12-29T15:48:01.155Z"
      },
      {
        "duration": 693,
        "start_time": "2022-12-30T11:21:48.144Z"
      },
      {
        "duration": 2211,
        "start_time": "2022-12-30T11:21:48.839Z"
      },
      {
        "duration": 9,
        "start_time": "2022-12-30T11:21:52.345Z"
      },
      {
        "duration": 5,
        "start_time": "2022-12-30T11:21:53.356Z"
      },
      {
        "duration": 13,
        "start_time": "2022-12-30T11:22:02.198Z"
      },
      {
        "duration": 6,
        "start_time": "2022-12-30T11:22:02.365Z"
      },
      {
        "duration": 10,
        "start_time": "2022-12-30T11:22:19.929Z"
      },
      {
        "duration": 5,
        "start_time": "2022-12-30T11:22:21.617Z"
      },
      {
        "duration": 9,
        "start_time": "2022-12-30T11:22:22.010Z"
      },
      {
        "duration": 5,
        "start_time": "2022-12-30T11:22:22.186Z"
      },
      {
        "duration": 32,
        "start_time": "2022-12-30T11:22:22.951Z"
      },
      {
        "duration": 4,
        "start_time": "2022-12-30T11:22:28.435Z"
      },
      {
        "duration": 7,
        "start_time": "2022-12-30T11:22:28.769Z"
      },
      {
        "duration": 8,
        "start_time": "2022-12-30T11:22:29.086Z"
      },
      {
        "duration": 10,
        "start_time": "2022-12-30T11:22:29.568Z"
      },
      {
        "duration": 16,
        "start_time": "2022-12-30T11:22:30.457Z"
      },
      {
        "duration": 8,
        "start_time": "2022-12-30T11:22:32.025Z"
      },
      {
        "duration": 17,
        "start_time": "2022-12-30T11:22:32.422Z"
      },
      {
        "duration": 30,
        "start_time": "2022-12-30T11:22:44.450Z"
      },
      {
        "duration": 57,
        "start_time": "2022-12-30T11:22:58.258Z"
      },
      {
        "duration": 67,
        "start_time": "2022-12-30T11:23:36.149Z"
      },
      {
        "duration": 8,
        "start_time": "2022-12-30T11:23:41.349Z"
      },
      {
        "duration": 13,
        "start_time": "2022-12-30T11:23:42.335Z"
      },
      {
        "duration": 12,
        "start_time": "2022-12-30T11:23:46.094Z"
      },
      {
        "duration": 114,
        "start_time": "2022-12-30T11:25:53.770Z"
      },
      {
        "duration": 6,
        "start_time": "2022-12-30T11:26:02.787Z"
      },
      {
        "duration": 153,
        "start_time": "2022-12-30T11:26:07.861Z"
      },
      {
        "duration": 128,
        "start_time": "2022-12-30T11:28:41.241Z"
      },
      {
        "duration": 7,
        "start_time": "2022-12-30T11:34:08.596Z"
      },
      {
        "duration": 126,
        "start_time": "2022-12-30T11:34:43.157Z"
      },
      {
        "duration": 159,
        "start_time": "2022-12-30T11:51:02.681Z"
      },
      {
        "duration": 186,
        "start_time": "2022-12-30T11:51:41.370Z"
      },
      {
        "duration": 79,
        "start_time": "2022-12-30T11:53:21.014Z"
      },
      {
        "duration": 1031,
        "start_time": "2022-12-30T11:54:40.235Z"
      },
      {
        "duration": 123,
        "start_time": "2022-12-30T11:54:54.790Z"
      },
      {
        "duration": 599,
        "start_time": "2022-12-30T11:59:39.227Z"
      },
      {
        "duration": 195,
        "start_time": "2022-12-30T12:04:30.775Z"
      },
      {
        "duration": 261,
        "start_time": "2022-12-30T12:05:00.962Z"
      },
      {
        "duration": 663,
        "start_time": "2022-12-31T00:13:47.066Z"
      },
      {
        "duration": 2063,
        "start_time": "2022-12-31T00:13:48.104Z"
      },
      {
        "duration": 8,
        "start_time": "2022-12-31T00:13:52.351Z"
      },
      {
        "duration": 4,
        "start_time": "2022-12-31T00:13:52.832Z"
      },
      {
        "duration": 12,
        "start_time": "2022-12-31T00:13:53.168Z"
      },
      {
        "duration": 6,
        "start_time": "2022-12-31T00:13:53.333Z"
      },
      {
        "duration": 28,
        "start_time": "2022-12-31T00:13:54.017Z"
      },
      {
        "duration": 4,
        "start_time": "2022-12-31T00:13:54.806Z"
      },
      {
        "duration": 5,
        "start_time": "2022-12-31T00:13:55.140Z"
      },
      {
        "duration": 5,
        "start_time": "2022-12-31T00:13:55.456Z"
      },
      {
        "duration": 7,
        "start_time": "2022-12-31T00:13:55.926Z"
      },
      {
        "duration": 14,
        "start_time": "2022-12-31T00:13:56.729Z"
      },
      {
        "duration": 6,
        "start_time": "2022-12-31T00:13:57.060Z"
      },
      {
        "duration": 13,
        "start_time": "2022-12-31T00:13:57.217Z"
      },
      {
        "duration": 21,
        "start_time": "2022-12-31T00:13:57.878Z"
      },
      {
        "duration": 54,
        "start_time": "2022-12-31T00:13:58.068Z"
      },
      {
        "duration": 8,
        "start_time": "2022-12-31T00:13:58.224Z"
      },
      {
        "duration": 13,
        "start_time": "2022-12-31T00:13:58.567Z"
      },
      {
        "duration": 7,
        "start_time": "2022-12-31T00:13:58.935Z"
      },
      {
        "duration": 109,
        "start_time": "2022-12-31T00:14:01.262Z"
      },
      {
        "duration": 5,
        "start_time": "2022-12-31T00:14:03.150Z"
      },
      {
        "duration": 1138,
        "start_time": "2022-12-31T00:14:03.668Z"
      },
      {
        "duration": 0,
        "start_time": "2022-12-31T00:14:04.808Z"
      },
      {
        "duration": 102,
        "start_time": "2022-12-31T00:14:17.032Z"
      },
      {
        "duration": 95,
        "start_time": "2022-12-31T00:14:36.803Z"
      },
      {
        "duration": 100,
        "start_time": "2022-12-31T00:14:43.379Z"
      },
      {
        "duration": 99,
        "start_time": "2022-12-31T00:16:30.972Z"
      },
      {
        "duration": 88,
        "start_time": "2022-12-31T00:16:36.434Z"
      },
      {
        "duration": 100,
        "start_time": "2022-12-31T00:16:45.417Z"
      },
      {
        "duration": 46,
        "start_time": "2022-12-31T00:17:22.797Z"
      },
      {
        "duration": 7,
        "start_time": "2022-12-31T00:18:20.039Z"
      },
      {
        "duration": 10,
        "start_time": "2022-12-31T00:18:23.313Z"
      },
      {
        "duration": 17,
        "start_time": "2022-12-31T00:18:24.085Z"
      },
      {
        "duration": 16,
        "start_time": "2022-12-31T00:18:30.902Z"
      },
      {
        "duration": 15,
        "start_time": "2022-12-31T00:18:31.318Z"
      },
      {
        "duration": 391,
        "start_time": "2022-12-31T00:18:32.010Z"
      },
      {
        "duration": 21,
        "start_time": "2022-12-31T00:18:33.024Z"
      },
      {
        "duration": 7,
        "start_time": "2022-12-31T00:18:43.470Z"
      },
      {
        "duration": 26,
        "start_time": "2022-12-31T00:18:44.380Z"
      },
      {
        "duration": 420,
        "start_time": "2022-12-31T00:21:10.503Z"
      },
      {
        "duration": 434,
        "start_time": "2022-12-31T00:22:10.347Z"
      },
      {
        "duration": 555,
        "start_time": "2022-12-31T00:22:53.390Z"
      },
      {
        "duration": 278,
        "start_time": "2022-12-31T00:23:30.503Z"
      },
      {
        "duration": 433,
        "start_time": "2022-12-31T00:24:22.974Z"
      },
      {
        "duration": 514,
        "start_time": "2022-12-31T00:24:33.963Z"
      },
      {
        "duration": 534,
        "start_time": "2022-12-31T00:25:32.260Z"
      },
      {
        "duration": 464,
        "start_time": "2022-12-31T00:26:37.824Z"
      },
      {
        "duration": 720,
        "start_time": "2022-12-31T00:27:57.914Z"
      },
      {
        "duration": 604,
        "start_time": "2022-12-31T00:28:06.066Z"
      },
      {
        "duration": 416,
        "start_time": "2022-12-31T00:28:33.112Z"
      },
      {
        "duration": 539,
        "start_time": "2022-12-31T00:28:47.354Z"
      },
      {
        "duration": 432,
        "start_time": "2022-12-31T00:29:16.647Z"
      },
      {
        "duration": 433,
        "start_time": "2022-12-31T00:30:29.330Z"
      },
      {
        "duration": 551,
        "start_time": "2022-12-31T00:31:27.336Z"
      },
      {
        "duration": 448,
        "start_time": "2022-12-31T00:31:36.677Z"
      },
      {
        "duration": 446,
        "start_time": "2022-12-31T00:31:41.658Z"
      },
      {
        "duration": 567,
        "start_time": "2022-12-31T00:31:50.529Z"
      },
      {
        "duration": 447,
        "start_time": "2022-12-31T00:31:58.704Z"
      },
      {
        "duration": 451,
        "start_time": "2022-12-31T00:32:09.216Z"
      },
      {
        "duration": 577,
        "start_time": "2022-12-31T00:32:16.980Z"
      },
      {
        "duration": 490,
        "start_time": "2022-12-31T00:32:56.603Z"
      },
      {
        "duration": 573,
        "start_time": "2022-12-31T00:34:03.136Z"
      },
      {
        "duration": 468,
        "start_time": "2022-12-31T00:34:28.820Z"
      },
      {
        "duration": 484,
        "start_time": "2022-12-31T00:34:48.747Z"
      },
      {
        "duration": 581,
        "start_time": "2022-12-31T00:35:02.963Z"
      },
      {
        "duration": 474,
        "start_time": "2022-12-31T00:35:17.824Z"
      },
      {
        "duration": 511,
        "start_time": "2022-12-31T00:36:21.959Z"
      },
      {
        "duration": 608,
        "start_time": "2022-12-31T00:37:05.890Z"
      },
      {
        "duration": 470,
        "start_time": "2022-12-31T00:37:53.853Z"
      },
      {
        "duration": 11,
        "start_time": "2022-12-31T00:39:43.816Z"
      },
      {
        "duration": 65,
        "start_time": "2022-12-31T00:40:34.169Z"
      },
      {
        "duration": 163,
        "start_time": "2022-12-31T00:43:16.369Z"
      },
      {
        "duration": 181,
        "start_time": "2022-12-31T00:44:01.739Z"
      },
      {
        "duration": 196,
        "start_time": "2022-12-31T00:44:57.097Z"
      },
      {
        "duration": 288,
        "start_time": "2022-12-31T00:45:05.313Z"
      },
      {
        "duration": 189,
        "start_time": "2022-12-31T00:45:25.728Z"
      },
      {
        "duration": 164,
        "start_time": "2022-12-31T00:45:36.778Z"
      },
      {
        "duration": 200,
        "start_time": "2022-12-31T00:45:42.274Z"
      },
      {
        "duration": 175,
        "start_time": "2022-12-31T00:45:49.297Z"
      },
      {
        "duration": 148,
        "start_time": "2022-12-31T00:46:17.800Z"
      },
      {
        "duration": 145,
        "start_time": "2022-12-31T00:46:29.078Z"
      },
      {
        "duration": 212,
        "start_time": "2022-12-31T00:47:06.232Z"
      },
      {
        "duration": 173,
        "start_time": "2022-12-31T00:47:29.624Z"
      },
      {
        "duration": 37115,
        "start_time": "2022-12-31T00:47:57.704Z"
      },
      {
        "duration": 213,
        "start_time": "2022-12-31T00:50:02.308Z"
      },
      {
        "duration": 192,
        "start_time": "2022-12-31T00:50:20.376Z"
      },
      {
        "duration": 202,
        "start_time": "2022-12-31T00:50:28.407Z"
      },
      {
        "duration": 134,
        "start_time": "2022-12-31T00:52:30.111Z"
      },
      {
        "duration": 138,
        "start_time": "2022-12-31T00:52:39.087Z"
      },
      {
        "duration": 624,
        "start_time": "2022-12-31T00:53:36.330Z"
      },
      {
        "duration": 2860,
        "start_time": "2022-12-31T00:55:42.824Z"
      },
      {
        "duration": 165,
        "start_time": "2022-12-31T00:56:27.127Z"
      },
      {
        "duration": 181,
        "start_time": "2022-12-31T00:56:36.716Z"
      },
      {
        "duration": 143,
        "start_time": "2022-12-31T00:57:04.908Z"
      },
      {
        "duration": 122,
        "start_time": "2022-12-31T00:57:21.078Z"
      },
      {
        "duration": 148,
        "start_time": "2022-12-31T00:57:27.507Z"
      },
      {
        "duration": 175,
        "start_time": "2022-12-31T00:58:22.216Z"
      },
      {
        "duration": 198,
        "start_time": "2022-12-31T00:59:04.966Z"
      },
      {
        "duration": 138,
        "start_time": "2022-12-31T01:00:26.655Z"
      },
      {
        "duration": 174,
        "start_time": "2022-12-31T01:00:42.135Z"
      },
      {
        "duration": 182,
        "start_time": "2022-12-31T01:07:24.732Z"
      },
      {
        "duration": 791,
        "start_time": "2022-12-31T06:54:55.159Z"
      },
      {
        "duration": 2100,
        "start_time": "2022-12-31T06:54:55.952Z"
      },
      {
        "duration": 8,
        "start_time": "2022-12-31T06:54:58.053Z"
      },
      {
        "duration": 20,
        "start_time": "2022-12-31T06:54:58.063Z"
      },
      {
        "duration": 25,
        "start_time": "2022-12-31T06:54:58.084Z"
      },
      {
        "duration": 15,
        "start_time": "2022-12-31T06:54:58.110Z"
      },
      {
        "duration": 53,
        "start_time": "2022-12-31T06:54:58.126Z"
      },
      {
        "duration": 3,
        "start_time": "2022-12-31T06:54:58.180Z"
      },
      {
        "duration": 23,
        "start_time": "2022-12-31T06:54:58.184Z"
      },
      {
        "duration": 13,
        "start_time": "2022-12-31T06:54:58.209Z"
      },
      {
        "duration": 25,
        "start_time": "2022-12-31T06:54:58.224Z"
      },
      {
        "duration": 39,
        "start_time": "2022-12-31T06:54:58.251Z"
      },
      {
        "duration": 14,
        "start_time": "2022-12-31T06:54:58.292Z"
      },
      {
        "duration": 26,
        "start_time": "2022-12-31T06:54:58.307Z"
      },
      {
        "duration": 28,
        "start_time": "2022-12-31T06:54:58.335Z"
      },
      {
        "duration": 52,
        "start_time": "2022-12-31T06:54:58.365Z"
      },
      {
        "duration": 7,
        "start_time": "2022-12-31T06:54:58.420Z"
      },
      {
        "duration": 18,
        "start_time": "2022-12-31T06:54:58.428Z"
      },
      {
        "duration": 10,
        "start_time": "2022-12-31T06:54:58.447Z"
      },
      {
        "duration": 151,
        "start_time": "2022-12-31T06:54:58.458Z"
      },
      {
        "duration": 11,
        "start_time": "2022-12-31T06:54:58.611Z"
      },
      {
        "duration": 1133,
        "start_time": "2022-12-31T06:54:58.624Z"
      },
      {
        "duration": 0,
        "start_time": "2022-12-31T06:54:59.760Z"
      },
      {
        "duration": 0,
        "start_time": "2022-12-31T06:54:59.762Z"
      },
      {
        "duration": 0,
        "start_time": "2022-12-31T06:54:59.763Z"
      },
      {
        "duration": 0,
        "start_time": "2022-12-31T06:54:59.765Z"
      },
      {
        "duration": 0,
        "start_time": "2022-12-31T06:54:59.766Z"
      },
      {
        "duration": 0,
        "start_time": "2022-12-31T06:54:59.767Z"
      },
      {
        "duration": 0,
        "start_time": "2022-12-31T06:54:59.769Z"
      },
      {
        "duration": 0,
        "start_time": "2022-12-31T06:54:59.770Z"
      },
      {
        "duration": 0,
        "start_time": "2022-12-31T06:54:59.772Z"
      },
      {
        "duration": 0,
        "start_time": "2022-12-31T06:54:59.773Z"
      },
      {
        "duration": 0,
        "start_time": "2022-12-31T06:54:59.775Z"
      },
      {
        "duration": 0,
        "start_time": "2022-12-31T06:54:59.776Z"
      },
      {
        "duration": 0,
        "start_time": "2022-12-31T06:54:59.777Z"
      },
      {
        "duration": 0,
        "start_time": "2022-12-31T06:54:59.779Z"
      },
      {
        "duration": 0,
        "start_time": "2022-12-31T06:54:59.780Z"
      },
      {
        "duration": 0,
        "start_time": "2022-12-31T06:54:59.782Z"
      },
      {
        "duration": 0,
        "start_time": "2022-12-31T06:54:59.821Z"
      },
      {
        "duration": 1,
        "start_time": "2022-12-31T06:54:59.822Z"
      },
      {
        "duration": 0,
        "start_time": "2022-12-31T06:54:59.824Z"
      },
      {
        "duration": 0,
        "start_time": "2022-12-31T06:54:59.825Z"
      },
      {
        "duration": 0,
        "start_time": "2022-12-31T06:54:59.827Z"
      },
      {
        "duration": 0,
        "start_time": "2022-12-31T06:54:59.828Z"
      },
      {
        "duration": 0,
        "start_time": "2022-12-31T06:54:59.829Z"
      },
      {
        "duration": 0,
        "start_time": "2022-12-31T06:54:59.831Z"
      },
      {
        "duration": 0,
        "start_time": "2022-12-31T06:54:59.832Z"
      },
      {
        "duration": 0,
        "start_time": "2022-12-31T06:54:59.833Z"
      },
      {
        "duration": 0,
        "start_time": "2022-12-31T06:54:59.835Z"
      },
      {
        "duration": 0,
        "start_time": "2022-12-31T06:54:59.836Z"
      },
      {
        "duration": 1,
        "start_time": "2022-12-31T06:54:59.837Z"
      },
      {
        "duration": 0,
        "start_time": "2022-12-31T06:54:59.839Z"
      },
      {
        "duration": 0,
        "start_time": "2022-12-31T06:54:59.841Z"
      },
      {
        "duration": 0,
        "start_time": "2022-12-31T06:54:59.842Z"
      },
      {
        "duration": 0,
        "start_time": "2022-12-31T06:54:59.844Z"
      },
      {
        "duration": 0,
        "start_time": "2022-12-31T06:54:59.845Z"
      },
      {
        "duration": 0,
        "start_time": "2022-12-31T06:54:59.847Z"
      },
      {
        "duration": 0,
        "start_time": "2022-12-31T06:54:59.848Z"
      },
      {
        "duration": 0,
        "start_time": "2022-12-31T06:54:59.849Z"
      },
      {
        "duration": 0,
        "start_time": "2022-12-31T06:54:59.850Z"
      },
      {
        "duration": 0,
        "start_time": "2022-12-31T06:54:59.851Z"
      },
      {
        "duration": 0,
        "start_time": "2022-12-31T06:54:59.853Z"
      },
      {
        "duration": 0,
        "start_time": "2022-12-31T06:54:59.854Z"
      },
      {
        "duration": 8,
        "start_time": "2022-12-31T06:57:40.651Z"
      },
      {
        "duration": 588,
        "start_time": "2022-12-31T06:57:46.403Z"
      },
      {
        "duration": 10,
        "start_time": "2022-12-31T06:57:53.391Z"
      },
      {
        "duration": 564,
        "start_time": "2022-12-31T06:58:01.004Z"
      },
      {
        "duration": 571,
        "start_time": "2022-12-31T07:00:37.577Z"
      },
      {
        "duration": 1927,
        "start_time": "2022-12-31T07:00:38.149Z"
      },
      {
        "duration": 8,
        "start_time": "2022-12-31T07:00:40.077Z"
      },
      {
        "duration": 11,
        "start_time": "2022-12-31T07:00:40.087Z"
      },
      {
        "duration": 21,
        "start_time": "2022-12-31T07:00:40.099Z"
      },
      {
        "duration": 4,
        "start_time": "2022-12-31T07:00:40.121Z"
      },
      {
        "duration": 33,
        "start_time": "2022-12-31T07:00:40.127Z"
      },
      {
        "duration": 3,
        "start_time": "2022-12-31T07:00:40.162Z"
      },
      {
        "duration": 8,
        "start_time": "2022-12-31T07:00:40.166Z"
      },
      {
        "duration": 7,
        "start_time": "2022-12-31T07:00:40.177Z"
      },
      {
        "duration": 12,
        "start_time": "2022-12-31T07:00:40.185Z"
      },
      {
        "duration": 26,
        "start_time": "2022-12-31T07:00:40.198Z"
      },
      {
        "duration": 7,
        "start_time": "2022-12-31T07:00:40.225Z"
      },
      {
        "duration": 14,
        "start_time": "2022-12-31T07:00:40.233Z"
      },
      {
        "duration": 19,
        "start_time": "2022-12-31T07:00:40.249Z"
      },
      {
        "duration": 75,
        "start_time": "2022-12-31T07:00:40.270Z"
      },
      {
        "duration": 7,
        "start_time": "2022-12-31T07:00:40.347Z"
      },
      {
        "duration": 16,
        "start_time": "2022-12-31T07:00:40.355Z"
      },
      {
        "duration": 10,
        "start_time": "2022-12-31T07:00:40.372Z"
      },
      {
        "duration": 132,
        "start_time": "2022-12-31T07:00:40.383Z"
      },
      {
        "duration": 6,
        "start_time": "2022-12-31T07:00:40.521Z"
      },
      {
        "duration": 1136,
        "start_time": "2022-12-31T07:00:40.528Z"
      },
      {
        "duration": 0,
        "start_time": "2022-12-31T07:00:41.667Z"
      },
      {
        "duration": 0,
        "start_time": "2022-12-31T07:00:41.669Z"
      },
      {
        "duration": 0,
        "start_time": "2022-12-31T07:00:41.670Z"
      },
      {
        "duration": 0,
        "start_time": "2022-12-31T07:00:41.672Z"
      },
      {
        "duration": 0,
        "start_time": "2022-12-31T07:00:41.673Z"
      },
      {
        "duration": 0,
        "start_time": "2022-12-31T07:00:41.675Z"
      },
      {
        "duration": 0,
        "start_time": "2022-12-31T07:00:41.677Z"
      },
      {
        "duration": 0,
        "start_time": "2022-12-31T07:00:41.678Z"
      },
      {
        "duration": 0,
        "start_time": "2022-12-31T07:00:41.679Z"
      },
      {
        "duration": 0,
        "start_time": "2022-12-31T07:00:41.681Z"
      },
      {
        "duration": 0,
        "start_time": "2022-12-31T07:00:41.682Z"
      },
      {
        "duration": 0,
        "start_time": "2022-12-31T07:00:41.683Z"
      },
      {
        "duration": 0,
        "start_time": "2022-12-31T07:00:41.684Z"
      },
      {
        "duration": 0,
        "start_time": "2022-12-31T07:00:41.685Z"
      },
      {
        "duration": 0,
        "start_time": "2022-12-31T07:00:41.686Z"
      },
      {
        "duration": 0,
        "start_time": "2022-12-31T07:00:41.720Z"
      },
      {
        "duration": 0,
        "start_time": "2022-12-31T07:00:41.722Z"
      },
      {
        "duration": 0,
        "start_time": "2022-12-31T07:00:41.723Z"
      },
      {
        "duration": 0,
        "start_time": "2022-12-31T07:00:41.724Z"
      },
      {
        "duration": 0,
        "start_time": "2022-12-31T07:00:41.726Z"
      },
      {
        "duration": 0,
        "start_time": "2022-12-31T07:00:41.726Z"
      },
      {
        "duration": 0,
        "start_time": "2022-12-31T07:00:41.727Z"
      },
      {
        "duration": 0,
        "start_time": "2022-12-31T07:00:41.728Z"
      },
      {
        "duration": 0,
        "start_time": "2022-12-31T07:00:41.729Z"
      },
      {
        "duration": 0,
        "start_time": "2022-12-31T07:00:41.730Z"
      },
      {
        "duration": 0,
        "start_time": "2022-12-31T07:00:41.731Z"
      },
      {
        "duration": 0,
        "start_time": "2022-12-31T07:00:41.732Z"
      },
      {
        "duration": 0,
        "start_time": "2022-12-31T07:00:41.733Z"
      },
      {
        "duration": 0,
        "start_time": "2022-12-31T07:00:41.734Z"
      },
      {
        "duration": 0,
        "start_time": "2022-12-31T07:00:41.735Z"
      },
      {
        "duration": 0,
        "start_time": "2022-12-31T07:00:41.736Z"
      },
      {
        "duration": 0,
        "start_time": "2022-12-31T07:00:41.737Z"
      },
      {
        "duration": 0,
        "start_time": "2022-12-31T07:00:41.738Z"
      },
      {
        "duration": 0,
        "start_time": "2022-12-31T07:00:41.739Z"
      },
      {
        "duration": 0,
        "start_time": "2022-12-31T07:00:41.740Z"
      },
      {
        "duration": 0,
        "start_time": "2022-12-31T07:00:41.741Z"
      },
      {
        "duration": 0,
        "start_time": "2022-12-31T07:00:41.742Z"
      },
      {
        "duration": 0,
        "start_time": "2022-12-31T07:00:41.743Z"
      },
      {
        "duration": 0,
        "start_time": "2022-12-31T07:00:41.744Z"
      },
      {
        "duration": 0,
        "start_time": "2022-12-31T07:00:41.745Z"
      },
      {
        "duration": 0,
        "start_time": "2022-12-31T07:00:41.746Z"
      },
      {
        "duration": 698,
        "start_time": "2022-12-31T18:27:21.070Z"
      },
      {
        "duration": 2138,
        "start_time": "2022-12-31T18:27:21.770Z"
      },
      {
        "duration": 9,
        "start_time": "2022-12-31T18:27:23.910Z"
      },
      {
        "duration": 5,
        "start_time": "2022-12-31T18:27:23.922Z"
      },
      {
        "duration": 13,
        "start_time": "2022-12-31T18:27:23.928Z"
      },
      {
        "duration": 4,
        "start_time": "2022-12-31T18:27:23.942Z"
      },
      {
        "duration": 30,
        "start_time": "2022-12-31T18:27:23.947Z"
      },
      {
        "duration": 4,
        "start_time": "2022-12-31T18:27:23.978Z"
      },
      {
        "duration": 33,
        "start_time": "2022-12-31T18:27:23.983Z"
      },
      {
        "duration": 5,
        "start_time": "2022-12-31T18:27:24.019Z"
      },
      {
        "duration": 10,
        "start_time": "2022-12-31T18:27:24.026Z"
      },
      {
        "duration": 13,
        "start_time": "2022-12-31T18:27:24.037Z"
      },
      {
        "duration": 6,
        "start_time": "2022-12-31T18:27:24.051Z"
      },
      {
        "duration": 15,
        "start_time": "2022-12-31T18:27:24.059Z"
      },
      {
        "duration": 45,
        "start_time": "2022-12-31T18:27:24.076Z"
      },
      {
        "duration": 53,
        "start_time": "2022-12-31T18:27:24.123Z"
      },
      {
        "duration": 6,
        "start_time": "2022-12-31T18:27:24.178Z"
      },
      {
        "duration": 32,
        "start_time": "2022-12-31T18:27:24.186Z"
      },
      {
        "duration": 7,
        "start_time": "2022-12-31T18:27:24.219Z"
      },
      {
        "duration": 121,
        "start_time": "2022-12-31T18:27:24.228Z"
      },
      {
        "duration": 5,
        "start_time": "2022-12-31T18:27:24.350Z"
      },
      {
        "duration": 1027,
        "start_time": "2022-12-31T18:27:24.356Z"
      },
      {
        "duration": 0,
        "start_time": "2022-12-31T18:27:25.386Z"
      },
      {
        "duration": 0,
        "start_time": "2022-12-31T18:27:25.387Z"
      },
      {
        "duration": 0,
        "start_time": "2022-12-31T18:27:25.388Z"
      },
      {
        "duration": 0,
        "start_time": "2022-12-31T18:27:25.389Z"
      },
      {
        "duration": 0,
        "start_time": "2022-12-31T18:27:25.390Z"
      },
      {
        "duration": 0,
        "start_time": "2022-12-31T18:27:25.392Z"
      },
      {
        "duration": 0,
        "start_time": "2022-12-31T18:27:25.393Z"
      },
      {
        "duration": 0,
        "start_time": "2022-12-31T18:27:25.395Z"
      },
      {
        "duration": 0,
        "start_time": "2022-12-31T18:27:25.396Z"
      },
      {
        "duration": 0,
        "start_time": "2022-12-31T18:27:25.396Z"
      },
      {
        "duration": 0,
        "start_time": "2022-12-31T18:27:25.397Z"
      },
      {
        "duration": 0,
        "start_time": "2022-12-31T18:27:25.398Z"
      },
      {
        "duration": 0,
        "start_time": "2022-12-31T18:27:25.415Z"
      },
      {
        "duration": 0,
        "start_time": "2022-12-31T18:27:25.416Z"
      },
      {
        "duration": 0,
        "start_time": "2022-12-31T18:27:25.417Z"
      },
      {
        "duration": 0,
        "start_time": "2022-12-31T18:27:25.418Z"
      },
      {
        "duration": 0,
        "start_time": "2022-12-31T18:27:25.419Z"
      },
      {
        "duration": 0,
        "start_time": "2022-12-31T18:27:25.420Z"
      },
      {
        "duration": 0,
        "start_time": "2022-12-31T18:27:25.421Z"
      },
      {
        "duration": 0,
        "start_time": "2022-12-31T18:27:25.422Z"
      },
      {
        "duration": 0,
        "start_time": "2022-12-31T18:27:25.423Z"
      },
      {
        "duration": 0,
        "start_time": "2022-12-31T18:27:25.424Z"
      },
      {
        "duration": 0,
        "start_time": "2022-12-31T18:27:25.425Z"
      },
      {
        "duration": 0,
        "start_time": "2022-12-31T18:27:25.426Z"
      },
      {
        "duration": 0,
        "start_time": "2022-12-31T18:27:25.427Z"
      },
      {
        "duration": 0,
        "start_time": "2022-12-31T18:27:25.428Z"
      },
      {
        "duration": 0,
        "start_time": "2022-12-31T18:27:25.429Z"
      },
      {
        "duration": 0,
        "start_time": "2022-12-31T18:27:25.430Z"
      },
      {
        "duration": 0,
        "start_time": "2022-12-31T18:27:25.432Z"
      },
      {
        "duration": 0,
        "start_time": "2022-12-31T18:27:25.433Z"
      },
      {
        "duration": 0,
        "start_time": "2022-12-31T18:27:25.434Z"
      },
      {
        "duration": 0,
        "start_time": "2022-12-31T18:27:25.436Z"
      },
      {
        "duration": 0,
        "start_time": "2022-12-31T18:27:25.437Z"
      },
      {
        "duration": 0,
        "start_time": "2022-12-31T18:27:25.439Z"
      },
      {
        "duration": 0,
        "start_time": "2022-12-31T18:27:25.440Z"
      },
      {
        "duration": 0,
        "start_time": "2022-12-31T18:27:25.441Z"
      },
      {
        "duration": 0,
        "start_time": "2022-12-31T18:27:25.443Z"
      },
      {
        "duration": 0,
        "start_time": "2022-12-31T18:27:25.444Z"
      },
      {
        "duration": 1,
        "start_time": "2022-12-31T18:27:25.445Z"
      },
      {
        "duration": 0,
        "start_time": "2022-12-31T18:27:25.447Z"
      },
      {
        "duration": 0,
        "start_time": "2022-12-31T18:27:25.448Z"
      },
      {
        "duration": 188,
        "start_time": "2022-12-31T18:29:40.288Z"
      },
      {
        "duration": 12,
        "start_time": "2022-12-31T18:49:37.450Z"
      },
      {
        "duration": 531,
        "start_time": "2022-12-31T18:49:45.612Z"
      },
      {
        "duration": 761,
        "start_time": "2023-01-01T10:10:42.591Z"
      },
      {
        "duration": 2133,
        "start_time": "2023-01-01T10:10:43.354Z"
      },
      {
        "duration": 8,
        "start_time": "2023-01-01T10:10:45.489Z"
      },
      {
        "duration": 4,
        "start_time": "2023-01-01T10:10:45.499Z"
      },
      {
        "duration": 12,
        "start_time": "2023-01-01T10:10:45.505Z"
      },
      {
        "duration": 4,
        "start_time": "2023-01-01T10:10:45.518Z"
      },
      {
        "duration": 28,
        "start_time": "2023-01-01T10:10:45.524Z"
      },
      {
        "duration": 3,
        "start_time": "2023-01-01T10:10:45.554Z"
      },
      {
        "duration": 7,
        "start_time": "2023-01-01T10:10:45.558Z"
      },
      {
        "duration": 6,
        "start_time": "2023-01-01T10:10:45.567Z"
      },
      {
        "duration": 9,
        "start_time": "2023-01-01T10:10:45.574Z"
      },
      {
        "duration": 35,
        "start_time": "2023-01-01T10:10:45.584Z"
      },
      {
        "duration": 7,
        "start_time": "2023-01-01T10:10:45.620Z"
      },
      {
        "duration": 12,
        "start_time": "2023-01-01T10:10:45.628Z"
      },
      {
        "duration": 21,
        "start_time": "2023-01-01T10:10:45.642Z"
      },
      {
        "duration": 87,
        "start_time": "2023-01-01T10:10:45.664Z"
      },
      {
        "duration": 7,
        "start_time": "2023-01-01T10:10:45.752Z"
      },
      {
        "duration": 15,
        "start_time": "2023-01-01T10:10:45.761Z"
      },
      {
        "duration": 7,
        "start_time": "2023-01-01T10:10:45.777Z"
      },
      {
        "duration": 136,
        "start_time": "2023-01-01T10:10:45.785Z"
      },
      {
        "duration": 6,
        "start_time": "2023-01-01T10:10:45.922Z"
      },
      {
        "duration": 1057,
        "start_time": "2023-01-01T10:10:45.929Z"
      },
      {
        "duration": 0,
        "start_time": "2023-01-01T10:10:46.988Z"
      },
      {
        "duration": 0,
        "start_time": "2023-01-01T10:10:46.990Z"
      },
      {
        "duration": 0,
        "start_time": "2023-01-01T10:10:46.991Z"
      },
      {
        "duration": 0,
        "start_time": "2023-01-01T10:10:46.992Z"
      },
      {
        "duration": 0,
        "start_time": "2023-01-01T10:10:46.993Z"
      },
      {
        "duration": 0,
        "start_time": "2023-01-01T10:10:46.993Z"
      },
      {
        "duration": 0,
        "start_time": "2023-01-01T10:10:46.995Z"
      },
      {
        "duration": 0,
        "start_time": "2023-01-01T10:10:46.995Z"
      },
      {
        "duration": 0,
        "start_time": "2023-01-01T10:10:46.996Z"
      },
      {
        "duration": 0,
        "start_time": "2023-01-01T10:10:46.997Z"
      },
      {
        "duration": 0,
        "start_time": "2023-01-01T10:10:47.012Z"
      },
      {
        "duration": 0,
        "start_time": "2023-01-01T10:10:47.013Z"
      },
      {
        "duration": 0,
        "start_time": "2023-01-01T10:10:47.014Z"
      },
      {
        "duration": 0,
        "start_time": "2023-01-01T10:10:47.015Z"
      },
      {
        "duration": 0,
        "start_time": "2023-01-01T10:10:47.016Z"
      },
      {
        "duration": 0,
        "start_time": "2023-01-01T10:10:47.017Z"
      },
      {
        "duration": 0,
        "start_time": "2023-01-01T10:10:47.018Z"
      },
      {
        "duration": 0,
        "start_time": "2023-01-01T10:10:47.019Z"
      },
      {
        "duration": 0,
        "start_time": "2023-01-01T10:10:47.020Z"
      },
      {
        "duration": 0,
        "start_time": "2023-01-01T10:10:47.021Z"
      },
      {
        "duration": 0,
        "start_time": "2023-01-01T10:10:47.022Z"
      },
      {
        "duration": 0,
        "start_time": "2023-01-01T10:10:47.023Z"
      },
      {
        "duration": 0,
        "start_time": "2023-01-01T10:10:47.024Z"
      },
      {
        "duration": 0,
        "start_time": "2023-01-01T10:10:47.024Z"
      },
      {
        "duration": 0,
        "start_time": "2023-01-01T10:10:47.025Z"
      },
      {
        "duration": 0,
        "start_time": "2023-01-01T10:10:47.026Z"
      },
      {
        "duration": 0,
        "start_time": "2023-01-01T10:10:47.027Z"
      },
      {
        "duration": 0,
        "start_time": "2023-01-01T10:10:47.028Z"
      },
      {
        "duration": 0,
        "start_time": "2023-01-01T10:10:47.029Z"
      },
      {
        "duration": 0,
        "start_time": "2023-01-01T10:10:47.030Z"
      },
      {
        "duration": 0,
        "start_time": "2023-01-01T10:10:47.031Z"
      },
      {
        "duration": 0,
        "start_time": "2023-01-01T10:10:47.032Z"
      },
      {
        "duration": 0,
        "start_time": "2023-01-01T10:10:47.033Z"
      },
      {
        "duration": 0,
        "start_time": "2023-01-01T10:10:47.034Z"
      },
      {
        "duration": 0,
        "start_time": "2023-01-01T10:10:47.034Z"
      },
      {
        "duration": 0,
        "start_time": "2023-01-01T10:10:47.035Z"
      },
      {
        "duration": 0,
        "start_time": "2023-01-01T10:10:47.036Z"
      },
      {
        "duration": 0,
        "start_time": "2023-01-01T10:10:47.037Z"
      },
      {
        "duration": 0,
        "start_time": "2023-01-01T10:10:47.038Z"
      },
      {
        "duration": 0,
        "start_time": "2023-01-01T10:10:47.039Z"
      },
      {
        "duration": 0,
        "start_time": "2023-01-01T10:10:47.039Z"
      },
      {
        "duration": 48,
        "start_time": "2023-01-02T18:40:53.887Z"
      },
      {
        "duration": 945,
        "start_time": "2023-01-02T18:41:01.477Z"
      },
      {
        "duration": 2884,
        "start_time": "2023-01-02T18:41:02.424Z"
      },
      {
        "duration": 44,
        "start_time": "2023-01-02T18:41:05.311Z"
      },
      {
        "duration": 17,
        "start_time": "2023-01-02T18:41:05.358Z"
      },
      {
        "duration": 12,
        "start_time": "2023-01-02T18:41:05.377Z"
      },
      {
        "duration": 6,
        "start_time": "2023-01-02T18:41:05.391Z"
      },
      {
        "duration": 88,
        "start_time": "2023-01-02T18:41:05.399Z"
      },
      {
        "duration": 3,
        "start_time": "2023-01-02T18:41:05.489Z"
      },
      {
        "duration": 59,
        "start_time": "2023-01-02T18:41:05.494Z"
      },
      {
        "duration": 7,
        "start_time": "2023-01-02T18:41:05.557Z"
      },
      {
        "duration": 15,
        "start_time": "2023-01-02T18:41:05.566Z"
      },
      {
        "duration": 14,
        "start_time": "2023-01-02T18:41:05.584Z"
      },
      {
        "duration": 55,
        "start_time": "2023-01-02T18:41:05.600Z"
      },
      {
        "duration": 15,
        "start_time": "2023-01-02T18:41:05.657Z"
      },
      {
        "duration": 80,
        "start_time": "2023-01-02T18:41:05.674Z"
      },
      {
        "duration": 119,
        "start_time": "2023-01-02T18:41:05.756Z"
      },
      {
        "duration": 8,
        "start_time": "2023-01-02T18:41:05.877Z"
      },
      {
        "duration": 70,
        "start_time": "2023-01-02T18:41:05.887Z"
      },
      {
        "duration": 9,
        "start_time": "2023-01-02T18:41:05.959Z"
      },
      {
        "duration": 309,
        "start_time": "2023-01-02T18:41:05.970Z"
      },
      {
        "duration": 6,
        "start_time": "2023-01-02T18:41:06.281Z"
      },
      {
        "duration": 1228,
        "start_time": "2023-01-02T18:41:06.289Z"
      },
      {
        "duration": 0,
        "start_time": "2023-01-02T18:41:07.520Z"
      },
      {
        "duration": 0,
        "start_time": "2023-01-02T18:41:07.521Z"
      },
      {
        "duration": 0,
        "start_time": "2023-01-02T18:41:07.522Z"
      },
      {
        "duration": 0,
        "start_time": "2023-01-02T18:41:07.523Z"
      },
      {
        "duration": 0,
        "start_time": "2023-01-02T18:41:07.524Z"
      },
      {
        "duration": 0,
        "start_time": "2023-01-02T18:41:07.525Z"
      },
      {
        "duration": 0,
        "start_time": "2023-01-02T18:41:07.526Z"
      },
      {
        "duration": 0,
        "start_time": "2023-01-02T18:41:07.527Z"
      },
      {
        "duration": 0,
        "start_time": "2023-01-02T18:41:07.528Z"
      },
      {
        "duration": 0,
        "start_time": "2023-01-02T18:41:07.529Z"
      },
      {
        "duration": 0,
        "start_time": "2023-01-02T18:41:07.531Z"
      },
      {
        "duration": 0,
        "start_time": "2023-01-02T18:41:07.551Z"
      },
      {
        "duration": 0,
        "start_time": "2023-01-02T18:41:07.552Z"
      },
      {
        "duration": 0,
        "start_time": "2023-01-02T18:41:07.553Z"
      },
      {
        "duration": 0,
        "start_time": "2023-01-02T18:41:07.554Z"
      },
      {
        "duration": 0,
        "start_time": "2023-01-02T18:41:07.555Z"
      },
      {
        "duration": 0,
        "start_time": "2023-01-02T18:41:07.556Z"
      },
      {
        "duration": 0,
        "start_time": "2023-01-02T18:41:07.558Z"
      },
      {
        "duration": 0,
        "start_time": "2023-01-02T18:41:07.559Z"
      },
      {
        "duration": 0,
        "start_time": "2023-01-02T18:41:07.560Z"
      },
      {
        "duration": 0,
        "start_time": "2023-01-02T18:41:07.561Z"
      },
      {
        "duration": 0,
        "start_time": "2023-01-02T18:41:07.562Z"
      },
      {
        "duration": 0,
        "start_time": "2023-01-02T18:41:07.563Z"
      },
      {
        "duration": 0,
        "start_time": "2023-01-02T18:41:07.564Z"
      },
      {
        "duration": 0,
        "start_time": "2023-01-02T18:41:07.566Z"
      },
      {
        "duration": 0,
        "start_time": "2023-01-02T18:41:07.567Z"
      },
      {
        "duration": 0,
        "start_time": "2023-01-02T18:41:07.568Z"
      },
      {
        "duration": 0,
        "start_time": "2023-01-02T18:41:07.569Z"
      },
      {
        "duration": 0,
        "start_time": "2023-01-02T18:41:07.571Z"
      },
      {
        "duration": 0,
        "start_time": "2023-01-02T18:41:07.572Z"
      },
      {
        "duration": 0,
        "start_time": "2023-01-02T18:41:07.573Z"
      },
      {
        "duration": 0,
        "start_time": "2023-01-02T18:41:07.574Z"
      },
      {
        "duration": 0,
        "start_time": "2023-01-02T18:41:07.575Z"
      },
      {
        "duration": 0,
        "start_time": "2023-01-02T18:41:07.576Z"
      },
      {
        "duration": 0,
        "start_time": "2023-01-02T18:41:07.578Z"
      },
      {
        "duration": 0,
        "start_time": "2023-01-02T18:41:07.578Z"
      },
      {
        "duration": 0,
        "start_time": "2023-01-02T18:41:07.579Z"
      },
      {
        "duration": 0,
        "start_time": "2023-01-02T18:41:07.580Z"
      },
      {
        "duration": 0,
        "start_time": "2023-01-02T18:41:07.581Z"
      },
      {
        "duration": 0,
        "start_time": "2023-01-02T18:41:07.582Z"
      },
      {
        "duration": 0,
        "start_time": "2023-01-02T18:41:07.584Z"
      },
      {
        "duration": 13,
        "start_time": "2023-01-02T18:45:37.364Z"
      },
      {
        "duration": 770,
        "start_time": "2023-01-10T10:44:33.734Z"
      },
      {
        "duration": 2055,
        "start_time": "2023-01-10T10:44:34.506Z"
      },
      {
        "duration": 7,
        "start_time": "2023-01-10T10:44:36.563Z"
      },
      {
        "duration": 9,
        "start_time": "2023-01-10T10:44:36.571Z"
      },
      {
        "duration": 14,
        "start_time": "2023-01-10T10:44:36.581Z"
      },
      {
        "duration": 4,
        "start_time": "2023-01-10T10:44:36.596Z"
      },
      {
        "duration": 27,
        "start_time": "2023-01-10T10:44:37.308Z"
      },
      {
        "duration": 4,
        "start_time": "2023-01-10T10:44:38.340Z"
      },
      {
        "duration": 5,
        "start_time": "2023-01-10T10:44:38.693Z"
      },
      {
        "duration": 5,
        "start_time": "2023-01-10T10:44:39.028Z"
      },
      {
        "duration": 7,
        "start_time": "2023-01-10T10:44:39.539Z"
      },
      {
        "duration": 13,
        "start_time": "2023-01-10T10:44:40.419Z"
      },
      {
        "duration": 7,
        "start_time": "2023-01-10T10:44:40.777Z"
      },
      {
        "duration": 14,
        "start_time": "2023-01-10T10:44:40.979Z"
      },
      {
        "duration": 22,
        "start_time": "2023-01-10T10:44:42.218Z"
      },
      {
        "duration": 57,
        "start_time": "2023-01-10T10:44:42.401Z"
      },
      {
        "duration": 6,
        "start_time": "2023-01-10T10:44:42.566Z"
      },
      {
        "duration": 13,
        "start_time": "2023-01-10T10:44:42.931Z"
      },
      {
        "duration": 8,
        "start_time": "2023-01-10T10:44:43.247Z"
      },
      {
        "duration": 114,
        "start_time": "2023-01-10T10:44:44.859Z"
      },
      {
        "duration": 6,
        "start_time": "2023-01-10T10:44:45.221Z"
      },
      {
        "duration": 569,
        "start_time": "2023-01-10T10:44:45.558Z"
      },
      {
        "duration": 106,
        "start_time": "2023-01-10T10:44:48.371Z"
      },
      {
        "duration": 44,
        "start_time": "2023-01-10T10:45:27.821Z"
      },
      {
        "duration": 113,
        "start_time": "2023-01-10T10:46:29.198Z"
      },
      {
        "duration": 11,
        "start_time": "2023-01-10T10:49:12.021Z"
      },
      {
        "duration": 5,
        "start_time": "2023-01-10T10:52:42.349Z"
      },
      {
        "duration": 100,
        "start_time": "2023-01-10T10:52:49.257Z"
      },
      {
        "duration": 104,
        "start_time": "2023-01-10T10:52:58.606Z"
      },
      {
        "duration": 67,
        "start_time": "2023-01-10T10:55:50.239Z"
      },
      {
        "duration": 42,
        "start_time": "2023-01-10T10:56:00.710Z"
      },
      {
        "duration": 603,
        "start_time": "2023-01-10T10:56:47.938Z"
      },
      {
        "duration": 1998,
        "start_time": "2023-01-10T10:56:48.543Z"
      },
      {
        "duration": 8,
        "start_time": "2023-01-10T10:56:50.543Z"
      },
      {
        "duration": 11,
        "start_time": "2023-01-10T10:56:50.552Z"
      },
      {
        "duration": 11,
        "start_time": "2023-01-10T10:56:50.905Z"
      },
      {
        "duration": 5,
        "start_time": "2023-01-10T10:56:51.094Z"
      },
      {
        "duration": 27,
        "start_time": "2023-01-10T10:56:51.946Z"
      },
      {
        "duration": 4,
        "start_time": "2023-01-10T10:56:52.995Z"
      },
      {
        "duration": 5,
        "start_time": "2023-01-10T10:56:53.300Z"
      },
      {
        "duration": 5,
        "start_time": "2023-01-10T10:56:53.637Z"
      },
      {
        "duration": 8,
        "start_time": "2023-01-10T10:56:54.178Z"
      },
      {
        "duration": 12,
        "start_time": "2023-01-10T10:56:55.034Z"
      },
      {
        "duration": 9,
        "start_time": "2023-01-10T10:56:55.559Z"
      },
      {
        "duration": 13,
        "start_time": "2023-01-10T10:56:55.756Z"
      },
      {
        "duration": 21,
        "start_time": "2023-01-10T10:56:56.649Z"
      },
      {
        "duration": 57,
        "start_time": "2023-01-10T10:56:56.855Z"
      },
      {
        "duration": 7,
        "start_time": "2023-01-10T10:56:57.016Z"
      },
      {
        "duration": 13,
        "start_time": "2023-01-10T10:56:57.897Z"
      },
      {
        "duration": 8,
        "start_time": "2023-01-10T10:56:58.255Z"
      },
      {
        "duration": 112,
        "start_time": "2023-01-10T10:57:00.137Z"
      },
      {
        "duration": 5,
        "start_time": "2023-01-10T10:57:02.131Z"
      },
      {
        "duration": 42,
        "start_time": "2023-01-10T10:57:06.643Z"
      },
      {
        "duration": 4,
        "start_time": "2023-01-10T10:58:27.346Z"
      },
      {
        "duration": 563,
        "start_time": "2023-01-10T10:59:04.950Z"
      },
      {
        "duration": 2018,
        "start_time": "2023-01-10T10:59:05.515Z"
      },
      {
        "duration": 9,
        "start_time": "2023-01-10T10:59:07.535Z"
      },
      {
        "duration": 14,
        "start_time": "2023-01-10T10:59:07.545Z"
      },
      {
        "duration": 30,
        "start_time": "2023-01-10T10:59:07.560Z"
      },
      {
        "duration": 8,
        "start_time": "2023-01-10T10:59:07.591Z"
      },
      {
        "duration": 26,
        "start_time": "2023-01-10T10:59:08.369Z"
      },
      {
        "duration": 4,
        "start_time": "2023-01-10T10:59:09.364Z"
      },
      {
        "duration": 5,
        "start_time": "2023-01-10T10:59:09.697Z"
      },
      {
        "duration": 6,
        "start_time": "2023-01-10T10:59:10.023Z"
      },
      {
        "duration": 7,
        "start_time": "2023-01-10T10:59:10.556Z"
      },
      {
        "duration": 12,
        "start_time": "2023-01-10T10:59:11.444Z"
      },
      {
        "duration": 9,
        "start_time": "2023-01-10T10:59:11.827Z"
      },
      {
        "duration": 13,
        "start_time": "2023-01-10T10:59:12.005Z"
      },
      {
        "duration": 21,
        "start_time": "2023-01-10T10:59:12.942Z"
      },
      {
        "duration": 55,
        "start_time": "2023-01-10T10:59:13.136Z"
      },
      {
        "duration": 8,
        "start_time": "2023-01-10T10:59:13.324Z"
      },
      {
        "duration": 13,
        "start_time": "2023-01-10T10:59:13.810Z"
      },
      {
        "duration": 7,
        "start_time": "2023-01-10T10:59:14.182Z"
      },
      {
        "duration": 114,
        "start_time": "2023-01-10T10:59:15.891Z"
      },
      {
        "duration": 6,
        "start_time": "2023-01-10T10:59:16.250Z"
      },
      {
        "duration": 5,
        "start_time": "2023-01-10T10:59:27.556Z"
      },
      {
        "duration": 102,
        "start_time": "2023-01-10T10:59:30.112Z"
      },
      {
        "duration": 116,
        "start_time": "2023-01-10T10:59:42.310Z"
      },
      {
        "duration": 92,
        "start_time": "2023-01-10T11:00:01.954Z"
      },
      {
        "duration": 37,
        "start_time": "2023-01-10T11:00:07.487Z"
      },
      {
        "duration": 90,
        "start_time": "2023-01-10T11:02:38.366Z"
      },
      {
        "duration": 95,
        "start_time": "2023-01-10T11:02:39.019Z"
      },
      {
        "duration": 161,
        "start_time": "2023-01-10T11:02:39.333Z"
      },
      {
        "duration": 7,
        "start_time": "2023-01-10T11:02:40.275Z"
      },
      {
        "duration": 9,
        "start_time": "2023-01-10T11:02:40.911Z"
      },
      {
        "duration": 14,
        "start_time": "2023-01-10T11:02:41.081Z"
      },
      {
        "duration": 13,
        "start_time": "2023-01-10T11:02:41.441Z"
      },
      {
        "duration": 15,
        "start_time": "2023-01-10T11:02:41.770Z"
      },
      {
        "duration": 169,
        "start_time": "2023-01-10T11:02:42.277Z"
      },
      {
        "duration": 22,
        "start_time": "2023-01-10T11:02:42.615Z"
      },
      {
        "duration": 7,
        "start_time": "2023-01-10T11:02:42.950Z"
      },
      {
        "duration": 25,
        "start_time": "2023-01-10T11:02:43.317Z"
      },
      {
        "duration": 168,
        "start_time": "2023-01-10T11:02:44.204Z"
      },
      {
        "duration": 569,
        "start_time": "2023-01-10T11:02:44.541Z"
      },
      {
        "duration": 562,
        "start_time": "2023-01-10T11:02:45.112Z"
      },
      {
        "duration": 301,
        "start_time": "2023-01-10T11:02:45.676Z"
      },
      {
        "duration": 492,
        "start_time": "2023-01-10T11:02:45.979Z"
      },
      {
        "duration": 657,
        "start_time": "2023-01-10T11:02:46.473Z"
      },
      {
        "duration": 485,
        "start_time": "2023-01-10T11:02:47.132Z"
      },
      {
        "duration": 598,
        "start_time": "2023-01-10T11:02:47.619Z"
      },
      {
        "duration": 485,
        "start_time": "2023-01-10T11:02:48.220Z"
      },
      {
        "duration": 513,
        "start_time": "2023-01-10T11:02:48.707Z"
      },
      {
        "duration": 596,
        "start_time": "2023-01-10T11:02:49.222Z"
      },
      {
        "duration": 510,
        "start_time": "2023-01-10T11:02:49.820Z"
      },
      {
        "duration": 508,
        "start_time": "2023-01-10T11:02:50.332Z"
      },
      {
        "duration": 631,
        "start_time": "2023-01-10T11:02:50.842Z"
      },
      {
        "duration": 536,
        "start_time": "2023-01-10T11:02:51.475Z"
      },
      {
        "duration": 313,
        "start_time": "2023-01-10T11:02:52.014Z"
      },
      {
        "duration": 179,
        "start_time": "2023-01-10T11:02:52.475Z"
      },
      {
        "duration": 165,
        "start_time": "2023-01-10T11:02:53.337Z"
      },
      {
        "duration": 285,
        "start_time": "2023-01-10T11:02:53.891Z"
      },
      {
        "duration": 136,
        "start_time": "2023-01-10T11:03:00.297Z"
      },
      {
        "duration": 17,
        "start_time": "2023-01-10T11:03:00.857Z"
      },
      {
        "duration": 160,
        "start_time": "2023-01-10T11:03:01.048Z"
      },
      {
        "duration": 191,
        "start_time": "2023-01-10T11:03:01.417Z"
      },
      {
        "duration": 160,
        "start_time": "2023-01-10T11:03:01.780Z"
      },
      {
        "duration": 187,
        "start_time": "2023-01-10T11:03:02.519Z"
      },
      {
        "duration": 218,
        "start_time": "2023-01-10T11:03:02.884Z"
      },
      {
        "duration": 14,
        "start_time": "2023-01-10T11:03:03.434Z"
      },
      {
        "duration": 181,
        "start_time": "2023-01-10T11:03:04.152Z"
      },
      {
        "duration": 12,
        "start_time": "2023-01-10T11:03:04.701Z"
      },
      {
        "duration": 735,
        "start_time": "2023-01-10T14:45:43.138Z"
      },
      {
        "duration": 2874,
        "start_time": "2023-01-10T14:45:43.876Z"
      },
      {
        "duration": 10,
        "start_time": "2023-01-10T14:45:46.752Z"
      },
      {
        "duration": 6,
        "start_time": "2023-01-10T14:45:46.764Z"
      },
      {
        "duration": 16,
        "start_time": "2023-01-10T14:45:46.771Z"
      },
      {
        "duration": 4,
        "start_time": "2023-01-10T14:45:46.789Z"
      },
      {
        "duration": 35,
        "start_time": "2023-01-10T14:45:46.795Z"
      },
      {
        "duration": 25,
        "start_time": "2023-01-10T14:45:46.832Z"
      },
      {
        "duration": 10,
        "start_time": "2023-01-10T14:45:46.859Z"
      },
      {
        "duration": 6,
        "start_time": "2023-01-10T14:45:46.872Z"
      },
      {
        "duration": 10,
        "start_time": "2023-01-10T14:45:46.881Z"
      },
      {
        "duration": 15,
        "start_time": "2023-01-10T14:45:46.893Z"
      },
      {
        "duration": 8,
        "start_time": "2023-01-10T14:45:46.910Z"
      },
      {
        "duration": 25,
        "start_time": "2023-01-10T14:45:46.954Z"
      },
      {
        "duration": 27,
        "start_time": "2023-01-10T14:45:46.982Z"
      },
      {
        "duration": 83,
        "start_time": "2023-01-10T14:45:47.011Z"
      },
      {
        "duration": 8,
        "start_time": "2023-01-10T14:45:47.096Z"
      },
      {
        "duration": 18,
        "start_time": "2023-01-10T14:45:47.106Z"
      },
      {
        "duration": 30,
        "start_time": "2023-01-10T14:45:47.126Z"
      },
      {
        "duration": 146,
        "start_time": "2023-01-10T14:45:47.158Z"
      },
      {
        "duration": 5,
        "start_time": "2023-01-10T14:45:47.306Z"
      },
      {
        "duration": 7,
        "start_time": "2023-01-10T14:45:47.313Z"
      },
      {
        "duration": 156,
        "start_time": "2023-01-10T14:45:47.321Z"
      },
      {
        "duration": 130,
        "start_time": "2023-01-10T14:45:47.479Z"
      },
      {
        "duration": 123,
        "start_time": "2023-01-10T14:45:47.610Z"
      },
      {
        "duration": 7,
        "start_time": "2023-01-10T14:45:47.735Z"
      },
      {
        "duration": 20,
        "start_time": "2023-01-10T14:45:47.743Z"
      },
      {
        "duration": 18,
        "start_time": "2023-01-10T14:45:47.768Z"
      },
      {
        "duration": 105,
        "start_time": "2023-01-10T14:45:47.788Z"
      },
      {
        "duration": 15,
        "start_time": "2023-01-10T14:45:47.895Z"
      },
      {
        "duration": 221,
        "start_time": "2023-01-10T14:45:47.912Z"
      },
      {
        "duration": 29,
        "start_time": "2023-01-10T14:45:48.135Z"
      },
      {
        "duration": 8,
        "start_time": "2023-01-10T14:45:48.166Z"
      },
      {
        "duration": 31,
        "start_time": "2023-01-10T14:45:48.176Z"
      },
      {
        "duration": 234,
        "start_time": "2023-01-10T14:45:48.209Z"
      },
      {
        "duration": 591,
        "start_time": "2023-01-10T14:45:48.444Z"
      },
      {
        "duration": 707,
        "start_time": "2023-01-10T14:45:49.038Z"
      },
      {
        "duration": 352,
        "start_time": "2023-01-10T14:45:49.747Z"
      },
      {
        "duration": 567,
        "start_time": "2023-01-10T14:45:50.101Z"
      },
      {
        "duration": 702,
        "start_time": "2023-01-10T14:45:50.670Z"
      },
      {
        "duration": 580,
        "start_time": "2023-01-10T14:45:51.374Z"
      },
      {
        "duration": 561,
        "start_time": "2023-01-10T14:45:51.956Z"
      },
      {
        "duration": 717,
        "start_time": "2023-01-10T14:45:52.519Z"
      },
      {
        "duration": 593,
        "start_time": "2023-01-10T14:45:53.238Z"
      },
      {
        "duration": 579,
        "start_time": "2023-01-10T14:45:53.833Z"
      },
      {
        "duration": 827,
        "start_time": "2023-01-10T14:45:54.414Z"
      },
      {
        "duration": 588,
        "start_time": "2023-01-10T14:45:55.242Z"
      },
      {
        "duration": 556,
        "start_time": "2023-01-10T14:45:55.832Z"
      },
      {
        "duration": 681,
        "start_time": "2023-01-10T14:45:56.390Z"
      },
      {
        "duration": 345,
        "start_time": "2023-01-10T14:45:57.073Z"
      },
      {
        "duration": 224,
        "start_time": "2023-01-10T14:45:57.420Z"
      },
      {
        "duration": 209,
        "start_time": "2023-01-10T14:45:57.646Z"
      },
      {
        "duration": 215,
        "start_time": "2023-01-10T14:45:57.857Z"
      },
      {
        "duration": 184,
        "start_time": "2023-01-10T14:45:58.075Z"
      },
      {
        "duration": 18,
        "start_time": "2023-01-10T14:45:58.261Z"
      },
      {
        "duration": 201,
        "start_time": "2023-01-10T14:45:58.281Z"
      },
      {
        "duration": 325,
        "start_time": "2023-01-10T14:45:58.484Z"
      },
      {
        "duration": 185,
        "start_time": "2023-01-10T14:45:58.811Z"
      },
      {
        "duration": 230,
        "start_time": "2023-01-10T14:45:58.998Z"
      },
      {
        "duration": 251,
        "start_time": "2023-01-10T14:45:59.230Z"
      },
      {
        "duration": 13,
        "start_time": "2023-01-10T14:45:59.483Z"
      },
      {
        "duration": 233,
        "start_time": "2023-01-10T14:45:59.498Z"
      },
      {
        "duration": 27,
        "start_time": "2023-01-10T14:45:59.733Z"
      },
      {
        "duration": 80,
        "start_time": "2023-01-10T14:49:47.981Z"
      },
      {
        "duration": 663,
        "start_time": "2023-01-10T14:50:26.085Z"
      },
      {
        "duration": 2606,
        "start_time": "2023-01-10T14:50:26.750Z"
      },
      {
        "duration": 10,
        "start_time": "2023-01-10T14:50:29.357Z"
      },
      {
        "duration": 10,
        "start_time": "2023-01-10T14:50:29.369Z"
      },
      {
        "duration": 16,
        "start_time": "2023-01-10T14:50:29.381Z"
      },
      {
        "duration": 5,
        "start_time": "2023-01-10T14:50:29.399Z"
      },
      {
        "duration": 33,
        "start_time": "2023-01-10T14:50:29.456Z"
      },
      {
        "duration": 3,
        "start_time": "2023-01-10T14:50:29.491Z"
      },
      {
        "duration": 59,
        "start_time": "2023-01-10T14:50:29.496Z"
      },
      {
        "duration": 9,
        "start_time": "2023-01-10T14:50:29.558Z"
      },
      {
        "duration": 11,
        "start_time": "2023-01-10T14:50:29.569Z"
      },
      {
        "duration": 15,
        "start_time": "2023-01-10T14:50:29.582Z"
      },
      {
        "duration": 61,
        "start_time": "2023-01-10T14:50:29.599Z"
      },
      {
        "duration": 16,
        "start_time": "2023-01-10T14:50:29.661Z"
      },
      {
        "duration": 79,
        "start_time": "2023-01-10T14:50:29.679Z"
      },
      {
        "duration": 127,
        "start_time": "2023-01-10T14:50:29.760Z"
      },
      {
        "duration": 8,
        "start_time": "2023-01-10T14:50:29.889Z"
      },
      {
        "duration": 23,
        "start_time": "2023-01-10T14:50:29.955Z"
      },
      {
        "duration": 9,
        "start_time": "2023-01-10T14:50:29.980Z"
      },
      {
        "duration": 297,
        "start_time": "2023-01-10T14:50:29.990Z"
      },
      {
        "duration": 6,
        "start_time": "2023-01-10T14:50:30.288Z"
      },
      {
        "duration": 63,
        "start_time": "2023-01-10T14:50:30.295Z"
      },
      {
        "duration": 227,
        "start_time": "2023-01-10T14:50:30.360Z"
      },
      {
        "duration": 187,
        "start_time": "2023-01-10T14:50:30.589Z"
      },
      {
        "duration": 124,
        "start_time": "2023-01-10T14:50:30.778Z"
      },
      {
        "duration": 84,
        "start_time": "2023-01-10T14:50:30.904Z"
      },
      {
        "duration": 9,
        "start_time": "2023-01-10T14:50:30.989Z"
      },
      {
        "duration": 17,
        "start_time": "2023-01-10T14:50:31.003Z"
      },
      {
        "duration": 35,
        "start_time": "2023-01-10T14:50:31.022Z"
      },
      {
        "duration": 97,
        "start_time": "2023-01-10T14:50:31.059Z"
      },
      {
        "duration": 18,
        "start_time": "2023-01-10T14:50:31.158Z"
      },
      {
        "duration": 211,
        "start_time": "2023-01-10T14:50:31.178Z"
      },
      {
        "duration": 24,
        "start_time": "2023-01-10T14:50:31.391Z"
      },
      {
        "duration": 16,
        "start_time": "2023-01-10T14:50:31.417Z"
      },
      {
        "duration": 43,
        "start_time": "2023-01-10T14:50:31.436Z"
      },
      {
        "duration": 206,
        "start_time": "2023-01-10T14:50:31.481Z"
      },
      {
        "duration": 566,
        "start_time": "2023-01-10T14:50:31.689Z"
      },
      {
        "duration": 689,
        "start_time": "2023-01-10T14:50:32.257Z"
      },
      {
        "duration": 330,
        "start_time": "2023-01-10T14:50:32.947Z"
      },
      {
        "duration": 561,
        "start_time": "2023-01-10T14:50:33.279Z"
      },
      {
        "duration": 653,
        "start_time": "2023-01-10T14:50:33.842Z"
      },
      {
        "duration": 616,
        "start_time": "2023-01-10T14:50:34.499Z"
      },
      {
        "duration": 564,
        "start_time": "2023-01-10T14:50:35.116Z"
      },
      {
        "duration": 663,
        "start_time": "2023-01-10T14:50:35.682Z"
      },
      {
        "duration": 549,
        "start_time": "2023-01-10T14:50:36.347Z"
      },
      {
        "duration": 558,
        "start_time": "2023-01-10T14:50:36.898Z"
      },
      {
        "duration": 697,
        "start_time": "2023-01-10T14:50:37.458Z"
      },
      {
        "duration": 564,
        "start_time": "2023-01-10T14:50:38.157Z"
      },
      {
        "duration": 548,
        "start_time": "2023-01-10T14:50:38.723Z"
      },
      {
        "duration": 663,
        "start_time": "2023-01-10T14:50:39.273Z"
      },
      {
        "duration": 326,
        "start_time": "2023-01-10T14:50:39.937Z"
      },
      {
        "duration": 218,
        "start_time": "2023-01-10T14:50:40.264Z"
      },
      {
        "duration": 197,
        "start_time": "2023-01-10T14:50:40.484Z"
      },
      {
        "duration": 215,
        "start_time": "2023-01-10T14:50:40.683Z"
      },
      {
        "duration": 175,
        "start_time": "2023-01-10T14:50:40.900Z"
      },
      {
        "duration": 17,
        "start_time": "2023-01-10T14:50:41.077Z"
      },
      {
        "duration": 184,
        "start_time": "2023-01-10T14:50:41.096Z"
      },
      {
        "duration": 311,
        "start_time": "2023-01-10T14:50:41.281Z"
      },
      {
        "duration": 180,
        "start_time": "2023-01-10T14:50:41.594Z"
      },
      {
        "duration": 205,
        "start_time": "2023-01-10T14:50:41.776Z"
      },
      {
        "duration": 246,
        "start_time": "2023-01-10T14:50:41.982Z"
      },
      {
        "duration": 13,
        "start_time": "2023-01-10T14:50:42.230Z"
      },
      {
        "duration": 217,
        "start_time": "2023-01-10T14:50:42.254Z"
      },
      {
        "duration": 12,
        "start_time": "2023-01-10T14:50:42.473Z"
      },
      {
        "duration": 5,
        "start_time": "2023-01-10T14:52:08.303Z"
      },
      {
        "duration": 694,
        "start_time": "2023-01-10T14:52:25.684Z"
      },
      {
        "duration": 3018,
        "start_time": "2023-01-10T14:52:26.380Z"
      },
      {
        "duration": 10,
        "start_time": "2023-01-10T14:52:29.400Z"
      },
      {
        "duration": 43,
        "start_time": "2023-01-10T14:52:29.412Z"
      },
      {
        "duration": 14,
        "start_time": "2023-01-10T14:52:29.457Z"
      },
      {
        "duration": 6,
        "start_time": "2023-01-10T14:52:29.474Z"
      },
      {
        "duration": 106,
        "start_time": "2023-01-10T14:52:29.482Z"
      },
      {
        "duration": 5,
        "start_time": "2023-01-10T14:52:29.590Z"
      },
      {
        "duration": 60,
        "start_time": "2023-01-10T14:52:29.597Z"
      },
      {
        "duration": 7,
        "start_time": "2023-01-10T14:52:29.661Z"
      },
      {
        "duration": 18,
        "start_time": "2023-01-10T14:52:29.669Z"
      },
      {
        "duration": 69,
        "start_time": "2023-01-10T14:52:29.689Z"
      },
      {
        "duration": 7,
        "start_time": "2023-01-10T14:52:29.760Z"
      },
      {
        "duration": 15,
        "start_time": "2023-01-10T14:52:29.769Z"
      },
      {
        "duration": 76,
        "start_time": "2023-01-10T14:52:29.786Z"
      },
      {
        "duration": 112,
        "start_time": "2023-01-10T14:52:29.864Z"
      },
      {
        "duration": 8,
        "start_time": "2023-01-10T14:52:29.978Z"
      },
      {
        "duration": 79,
        "start_time": "2023-01-10T14:52:29.988Z"
      },
      {
        "duration": 13,
        "start_time": "2023-01-10T14:52:30.070Z"
      },
      {
        "duration": 232,
        "start_time": "2023-01-10T14:52:30.086Z"
      },
      {
        "duration": 6,
        "start_time": "2023-01-10T14:52:30.320Z"
      },
      {
        "duration": 23,
        "start_time": "2023-01-10T14:52:30.327Z"
      },
      {
        "duration": 35,
        "start_time": "2023-01-10T14:52:30.352Z"
      },
      {
        "duration": 20,
        "start_time": "2023-01-10T14:52:30.389Z"
      },
      {
        "duration": 122,
        "start_time": "2023-01-10T14:52:30.411Z"
      },
      {
        "duration": 122,
        "start_time": "2023-01-10T14:52:30.535Z"
      },
      {
        "duration": 125,
        "start_time": "2023-01-10T14:52:30.659Z"
      },
      {
        "duration": 74,
        "start_time": "2023-01-10T14:52:30.789Z"
      },
      {
        "duration": 7,
        "start_time": "2023-01-10T14:52:30.865Z"
      },
      {
        "duration": 15,
        "start_time": "2023-01-10T14:52:30.873Z"
      },
      {
        "duration": 27,
        "start_time": "2023-01-10T14:52:30.890Z"
      },
      {
        "duration": 126,
        "start_time": "2023-01-10T14:52:30.919Z"
      },
      {
        "duration": 25,
        "start_time": "2023-01-10T14:52:31.047Z"
      },
      {
        "duration": 194,
        "start_time": "2023-01-10T14:52:31.074Z"
      },
      {
        "duration": 25,
        "start_time": "2023-01-10T14:52:31.269Z"
      },
      {
        "duration": 11,
        "start_time": "2023-01-10T14:52:31.296Z"
      },
      {
        "duration": 47,
        "start_time": "2023-01-10T14:52:31.309Z"
      },
      {
        "duration": 201,
        "start_time": "2023-01-10T14:52:31.358Z"
      },
      {
        "duration": 555,
        "start_time": "2023-01-10T14:52:31.561Z"
      },
      {
        "duration": 662,
        "start_time": "2023-01-10T14:52:32.118Z"
      },
      {
        "duration": 340,
        "start_time": "2023-01-10T14:52:32.782Z"
      },
      {
        "duration": 555,
        "start_time": "2023-01-10T14:52:33.124Z"
      },
      {
        "duration": 695,
        "start_time": "2023-01-10T14:52:33.681Z"
      },
      {
        "duration": 638,
        "start_time": "2023-01-10T14:52:34.378Z"
      },
      {
        "duration": 564,
        "start_time": "2023-01-10T14:52:35.018Z"
      },
      {
        "duration": 663,
        "start_time": "2023-01-10T14:52:35.584Z"
      },
      {
        "duration": 547,
        "start_time": "2023-01-10T14:52:36.249Z"
      },
      {
        "duration": 575,
        "start_time": "2023-01-10T14:52:36.798Z"
      },
      {
        "duration": 714,
        "start_time": "2023-01-10T14:52:37.375Z"
      },
      {
        "duration": 577,
        "start_time": "2023-01-10T14:52:38.090Z"
      },
      {
        "duration": 577,
        "start_time": "2023-01-10T14:52:38.670Z"
      },
      {
        "duration": 678,
        "start_time": "2023-01-10T14:52:39.250Z"
      },
      {
        "duration": 340,
        "start_time": "2023-01-10T14:52:39.930Z"
      },
      {
        "duration": 219,
        "start_time": "2023-01-10T14:52:40.272Z"
      },
      {
        "duration": 210,
        "start_time": "2023-01-10T14:52:40.494Z"
      },
      {
        "duration": 217,
        "start_time": "2023-01-10T14:52:40.707Z"
      },
      {
        "duration": 171,
        "start_time": "2023-01-10T14:52:40.926Z"
      },
      {
        "duration": 19,
        "start_time": "2023-01-10T14:52:41.099Z"
      },
      {
        "duration": 199,
        "start_time": "2023-01-10T14:52:41.120Z"
      },
      {
        "duration": 334,
        "start_time": "2023-01-10T14:52:41.321Z"
      },
      {
        "duration": 185,
        "start_time": "2023-01-10T14:52:41.656Z"
      },
      {
        "duration": 223,
        "start_time": "2023-01-10T14:52:41.843Z"
      },
      {
        "duration": 244,
        "start_time": "2023-01-10T14:52:42.069Z"
      },
      {
        "duration": 14,
        "start_time": "2023-01-10T14:52:42.315Z"
      },
      {
        "duration": 217,
        "start_time": "2023-01-10T14:52:42.331Z"
      },
      {
        "duration": 14,
        "start_time": "2023-01-10T14:52:42.555Z"
      },
      {
        "duration": 12,
        "start_time": "2023-01-10T14:53:03.586Z"
      },
      {
        "duration": 680,
        "start_time": "2023-01-10T14:53:12.947Z"
      },
      {
        "duration": 2288,
        "start_time": "2023-01-10T14:53:13.630Z"
      },
      {
        "duration": 9,
        "start_time": "2023-01-10T14:53:15.920Z"
      },
      {
        "duration": 16,
        "start_time": "2023-01-10T14:53:15.931Z"
      },
      {
        "duration": 18,
        "start_time": "2023-01-10T14:53:15.948Z"
      },
      {
        "duration": 5,
        "start_time": "2023-01-10T14:53:15.967Z"
      },
      {
        "duration": 35,
        "start_time": "2023-01-10T14:53:15.974Z"
      },
      {
        "duration": 4,
        "start_time": "2023-01-10T14:53:16.011Z"
      },
      {
        "duration": 16,
        "start_time": "2023-01-10T14:53:16.017Z"
      },
      {
        "duration": 20,
        "start_time": "2023-01-10T14:53:16.036Z"
      },
      {
        "duration": 11,
        "start_time": "2023-01-10T14:53:16.058Z"
      },
      {
        "duration": 14,
        "start_time": "2023-01-10T14:53:16.071Z"
      },
      {
        "duration": 7,
        "start_time": "2023-01-10T14:53:16.087Z"
      },
      {
        "duration": 14,
        "start_time": "2023-01-10T14:53:16.095Z"
      },
      {
        "duration": 49,
        "start_time": "2023-01-10T14:53:16.110Z"
      },
      {
        "duration": 60,
        "start_time": "2023-01-10T14:53:16.160Z"
      },
      {
        "duration": 8,
        "start_time": "2023-01-10T14:53:16.221Z"
      },
      {
        "duration": 34,
        "start_time": "2023-01-10T14:53:16.231Z"
      },
      {
        "duration": 9,
        "start_time": "2023-01-10T14:53:16.267Z"
      },
      {
        "duration": 149,
        "start_time": "2023-01-10T14:53:16.277Z"
      },
      {
        "duration": 6,
        "start_time": "2023-01-10T14:53:16.427Z"
      },
      {
        "duration": 31,
        "start_time": "2023-01-10T14:53:16.434Z"
      },
      {
        "duration": 6,
        "start_time": "2023-01-10T14:53:16.466Z"
      },
      {
        "duration": 6,
        "start_time": "2023-01-10T14:53:16.474Z"
      },
      {
        "duration": 135,
        "start_time": "2023-01-10T14:53:16.481Z"
      },
      {
        "duration": 126,
        "start_time": "2023-01-10T14:53:16.618Z"
      },
      {
        "duration": 111,
        "start_time": "2023-01-10T14:53:16.746Z"
      },
      {
        "duration": 64,
        "start_time": "2023-01-10T14:53:16.861Z"
      },
      {
        "duration": 7,
        "start_time": "2023-01-10T14:53:16.926Z"
      },
      {
        "duration": 52,
        "start_time": "2023-01-10T14:53:16.934Z"
      },
      {
        "duration": 32,
        "start_time": "2023-01-10T14:53:16.988Z"
      },
      {
        "duration": 95,
        "start_time": "2023-01-10T14:53:17.021Z"
      },
      {
        "duration": 15,
        "start_time": "2023-01-10T14:53:17.118Z"
      },
      {
        "duration": 195,
        "start_time": "2023-01-10T14:53:17.135Z"
      },
      {
        "duration": 30,
        "start_time": "2023-01-10T14:53:17.332Z"
      },
      {
        "duration": 7,
        "start_time": "2023-01-10T14:53:17.364Z"
      },
      {
        "duration": 41,
        "start_time": "2023-01-10T14:53:17.372Z"
      },
      {
        "duration": 204,
        "start_time": "2023-01-10T14:53:17.415Z"
      },
      {
        "duration": 556,
        "start_time": "2023-01-10T14:53:17.621Z"
      },
      {
        "duration": 653,
        "start_time": "2023-01-10T14:53:18.179Z"
      },
      {
        "duration": 339,
        "start_time": "2023-01-10T14:53:18.834Z"
      },
      {
        "duration": 532,
        "start_time": "2023-01-10T14:53:19.175Z"
      },
      {
        "duration": 654,
        "start_time": "2023-01-10T14:53:19.709Z"
      },
      {
        "duration": 728,
        "start_time": "2023-01-10T14:53:20.365Z"
      },
      {
        "duration": 1095,
        "start_time": "2023-01-10T14:53:21.094Z"
      },
      {
        "duration": 860,
        "start_time": "2023-01-10T14:53:22.191Z"
      },
      {
        "duration": 536,
        "start_time": "2023-01-10T14:53:23.053Z"
      },
      {
        "duration": 600,
        "start_time": "2023-01-10T14:53:23.591Z"
      },
      {
        "duration": 781,
        "start_time": "2023-01-10T14:53:24.193Z"
      },
      {
        "duration": 567,
        "start_time": "2023-01-10T14:53:24.976Z"
      },
      {
        "duration": 571,
        "start_time": "2023-01-10T14:53:25.545Z"
      },
      {
        "duration": 666,
        "start_time": "2023-01-10T14:53:26.118Z"
      },
      {
        "duration": 338,
        "start_time": "2023-01-10T14:53:26.786Z"
      },
      {
        "duration": 225,
        "start_time": "2023-01-10T14:53:27.126Z"
      },
      {
        "duration": 203,
        "start_time": "2023-01-10T14:53:27.355Z"
      },
      {
        "duration": 220,
        "start_time": "2023-01-10T14:53:27.560Z"
      },
      {
        "duration": 176,
        "start_time": "2023-01-10T14:53:27.781Z"
      },
      {
        "duration": 19,
        "start_time": "2023-01-10T14:53:27.958Z"
      },
      {
        "duration": 190,
        "start_time": "2023-01-10T14:53:27.978Z"
      },
      {
        "duration": 310,
        "start_time": "2023-01-10T14:53:28.169Z"
      },
      {
        "duration": 176,
        "start_time": "2023-01-10T14:53:28.480Z"
      },
      {
        "duration": 235,
        "start_time": "2023-01-10T14:53:28.658Z"
      },
      {
        "duration": 265,
        "start_time": "2023-01-10T14:53:28.895Z"
      },
      {
        "duration": 14,
        "start_time": "2023-01-10T14:53:29.162Z"
      },
      {
        "duration": 215,
        "start_time": "2023-01-10T14:53:29.177Z"
      },
      {
        "duration": 12,
        "start_time": "2023-01-10T14:53:29.393Z"
      },
      {
        "duration": 4,
        "start_time": "2023-01-10T14:53:59.114Z"
      },
      {
        "duration": 203,
        "start_time": "2023-01-10T15:08:48.676Z"
      },
      {
        "duration": 199,
        "start_time": "2023-01-10T15:08:53.788Z"
      },
      {
        "duration": 38,
        "start_time": "2023-01-10T15:12:54.002Z"
      },
      {
        "duration": 663,
        "start_time": "2023-01-10T15:16:00.268Z"
      },
      {
        "duration": 2257,
        "start_time": "2023-01-10T15:16:00.934Z"
      },
      {
        "duration": 10,
        "start_time": "2023-01-10T15:16:03.192Z"
      },
      {
        "duration": 17,
        "start_time": "2023-01-10T15:16:03.204Z"
      },
      {
        "duration": 15,
        "start_time": "2023-01-10T15:16:03.222Z"
      },
      {
        "duration": 5,
        "start_time": "2023-01-10T15:16:03.239Z"
      },
      {
        "duration": 37,
        "start_time": "2023-01-10T15:16:03.246Z"
      },
      {
        "duration": 4,
        "start_time": "2023-01-10T15:16:03.284Z"
      },
      {
        "duration": 10,
        "start_time": "2023-01-10T15:16:03.290Z"
      },
      {
        "duration": 11,
        "start_time": "2023-01-10T15:16:03.303Z"
      },
      {
        "duration": 15,
        "start_time": "2023-01-10T15:16:03.316Z"
      },
      {
        "duration": 33,
        "start_time": "2023-01-10T15:16:03.333Z"
      },
      {
        "duration": 11,
        "start_time": "2023-01-10T15:16:03.378Z"
      },
      {
        "duration": 17,
        "start_time": "2023-01-10T15:16:03.391Z"
      },
      {
        "duration": 28,
        "start_time": "2023-01-10T15:16:03.410Z"
      },
      {
        "duration": 80,
        "start_time": "2023-01-10T15:16:03.454Z"
      },
      {
        "duration": 25,
        "start_time": "2023-01-10T15:16:03.536Z"
      },
      {
        "duration": 25,
        "start_time": "2023-01-10T15:16:03.563Z"
      },
      {
        "duration": 9,
        "start_time": "2023-01-10T15:16:03.590Z"
      },
      {
        "duration": 236,
        "start_time": "2023-01-10T15:16:03.601Z"
      },
      {
        "duration": 16,
        "start_time": "2023-01-10T15:16:03.839Z"
      },
      {
        "duration": 7,
        "start_time": "2023-01-10T15:16:03.857Z"
      },
      {
        "duration": 11,
        "start_time": "2023-01-10T15:16:03.867Z"
      },
      {
        "duration": 129,
        "start_time": "2023-01-10T15:16:03.881Z"
      },
      {
        "duration": 143,
        "start_time": "2023-01-10T15:16:04.012Z"
      },
      {
        "duration": 125,
        "start_time": "2023-01-10T15:16:04.157Z"
      },
      {
        "duration": 75,
        "start_time": "2023-01-10T15:16:04.284Z"
      },
      {
        "duration": 7,
        "start_time": "2023-01-10T15:16:04.363Z"
      },
      {
        "duration": 14,
        "start_time": "2023-01-10T15:16:04.372Z"
      },
      {
        "duration": 25,
        "start_time": "2023-01-10T15:16:04.388Z"
      },
      {
        "duration": 143,
        "start_time": "2023-01-10T15:16:04.415Z"
      },
      {
        "duration": 19,
        "start_time": "2023-01-10T15:16:04.561Z"
      },
      {
        "duration": 257,
        "start_time": "2023-01-10T15:16:04.582Z"
      },
      {
        "duration": 33,
        "start_time": "2023-01-10T15:16:04.840Z"
      },
      {
        "duration": 9,
        "start_time": "2023-01-10T15:16:04.875Z"
      },
      {
        "duration": 46,
        "start_time": "2023-01-10T15:16:04.886Z"
      },
      {
        "duration": 242,
        "start_time": "2023-01-10T15:16:04.934Z"
      },
      {
        "duration": 602,
        "start_time": "2023-01-10T15:16:05.178Z"
      },
      {
        "duration": 665,
        "start_time": "2023-01-10T15:16:05.781Z"
      },
      {
        "duration": 335,
        "start_time": "2023-01-10T15:16:06.447Z"
      },
      {
        "duration": 589,
        "start_time": "2023-01-10T15:16:06.783Z"
      },
      {
        "duration": 708,
        "start_time": "2023-01-10T15:16:07.374Z"
      },
      {
        "duration": 590,
        "start_time": "2023-01-10T15:16:08.084Z"
      },
      {
        "duration": 601,
        "start_time": "2023-01-10T15:16:08.676Z"
      },
      {
        "duration": 671,
        "start_time": "2023-01-10T15:16:09.279Z"
      },
      {
        "duration": 612,
        "start_time": "2023-01-10T15:16:09.951Z"
      },
      {
        "duration": 577,
        "start_time": "2023-01-10T15:16:10.565Z"
      },
      {
        "duration": 696,
        "start_time": "2023-01-10T15:16:11.144Z"
      },
      {
        "duration": 570,
        "start_time": "2023-01-10T15:16:11.842Z"
      },
      {
        "duration": 556,
        "start_time": "2023-01-10T15:16:12.414Z"
      },
      {
        "duration": 684,
        "start_time": "2023-01-10T15:16:12.972Z"
      },
      {
        "duration": 344,
        "start_time": "2023-01-10T15:16:13.659Z"
      },
      {
        "duration": 216,
        "start_time": "2023-01-10T15:16:14.005Z"
      },
      {
        "duration": 200,
        "start_time": "2023-01-10T15:16:14.223Z"
      },
      {
        "duration": 217,
        "start_time": "2023-01-10T15:16:14.425Z"
      },
      {
        "duration": 192,
        "start_time": "2023-01-10T15:16:14.644Z"
      },
      {
        "duration": 29,
        "start_time": "2023-01-10T15:16:14.839Z"
      },
      {
        "duration": 253,
        "start_time": "2023-01-10T15:16:14.870Z"
      },
      {
        "duration": 331,
        "start_time": "2023-01-10T15:16:15.125Z"
      },
      {
        "duration": 188,
        "start_time": "2023-01-10T15:16:15.458Z"
      },
      {
        "duration": 243,
        "start_time": "2023-01-10T15:16:15.648Z"
      },
      {
        "duration": 256,
        "start_time": "2023-01-10T15:16:15.893Z"
      },
      {
        "duration": 13,
        "start_time": "2023-01-10T15:16:16.155Z"
      },
      {
        "duration": 231,
        "start_time": "2023-01-10T15:16:16.170Z"
      },
      {
        "duration": 17,
        "start_time": "2023-01-10T15:16:16.403Z"
      },
      {
        "duration": 834,
        "start_time": "2023-01-11T19:44:37.575Z"
      },
      {
        "duration": 2688,
        "start_time": "2023-01-11T19:44:38.412Z"
      },
      {
        "duration": 9,
        "start_time": "2023-01-11T19:44:41.102Z"
      },
      {
        "duration": 10,
        "start_time": "2023-01-11T19:44:41.113Z"
      },
      {
        "duration": 12,
        "start_time": "2023-01-11T19:44:41.124Z"
      },
      {
        "duration": 4,
        "start_time": "2023-01-11T19:44:41.137Z"
      },
      {
        "duration": 30,
        "start_time": "2023-01-11T19:44:41.143Z"
      },
      {
        "duration": 3,
        "start_time": "2023-01-11T19:44:41.175Z"
      },
      {
        "duration": 9,
        "start_time": "2023-01-11T19:44:41.180Z"
      },
      {
        "duration": 10,
        "start_time": "2023-01-11T19:44:41.192Z"
      },
      {
        "duration": 13,
        "start_time": "2023-01-11T19:44:41.203Z"
      },
      {
        "duration": 12,
        "start_time": "2023-01-11T19:44:41.217Z"
      },
      {
        "duration": 6,
        "start_time": "2023-01-11T19:44:41.231Z"
      },
      {
        "duration": 17,
        "start_time": "2023-01-11T19:44:41.239Z"
      },
      {
        "duration": 23,
        "start_time": "2023-01-11T19:44:41.277Z"
      },
      {
        "duration": 77,
        "start_time": "2023-01-11T19:44:41.302Z"
      },
      {
        "duration": 8,
        "start_time": "2023-01-11T19:44:41.381Z"
      },
      {
        "duration": 15,
        "start_time": "2023-01-11T19:44:41.390Z"
      },
      {
        "duration": 10,
        "start_time": "2023-01-11T19:44:41.406Z"
      },
      {
        "duration": 153,
        "start_time": "2023-01-11T19:44:41.417Z"
      },
      {
        "duration": 9,
        "start_time": "2023-01-11T19:44:41.571Z"
      },
      {
        "duration": 9,
        "start_time": "2023-01-11T19:44:41.582Z"
      },
      {
        "duration": 4,
        "start_time": "2023-01-11T19:44:41.592Z"
      },
      {
        "duration": 126,
        "start_time": "2023-01-11T19:44:41.598Z"
      },
      {
        "duration": 114,
        "start_time": "2023-01-11T19:44:41.726Z"
      },
      {
        "duration": 110,
        "start_time": "2023-01-11T19:44:41.842Z"
      },
      {
        "duration": 67,
        "start_time": "2023-01-11T19:44:41.953Z"
      },
      {
        "duration": 5,
        "start_time": "2023-01-11T19:44:42.024Z"
      },
      {
        "duration": 11,
        "start_time": "2023-01-11T19:44:42.031Z"
      },
      {
        "duration": 35,
        "start_time": "2023-01-11T19:44:42.043Z"
      },
      {
        "duration": 85,
        "start_time": "2023-01-11T19:44:42.079Z"
      },
      {
        "duration": 31,
        "start_time": "2023-01-11T19:44:42.177Z"
      },
      {
        "duration": 215,
        "start_time": "2023-01-11T19:44:42.210Z"
      },
      {
        "duration": 22,
        "start_time": "2023-01-11T19:44:42.427Z"
      },
      {
        "duration": 25,
        "start_time": "2023-01-11T19:44:42.451Z"
      },
      {
        "duration": 36,
        "start_time": "2023-01-11T19:44:42.478Z"
      },
      {
        "duration": 185,
        "start_time": "2023-01-11T19:44:42.516Z"
      },
      {
        "duration": 530,
        "start_time": "2023-01-11T19:44:42.703Z"
      },
      {
        "duration": 618,
        "start_time": "2023-01-11T19:44:43.235Z"
      },
      {
        "duration": 311,
        "start_time": "2023-01-11T19:44:43.855Z"
      },
      {
        "duration": 510,
        "start_time": "2023-01-11T19:44:44.168Z"
      },
      {
        "duration": 645,
        "start_time": "2023-01-11T19:44:44.680Z"
      },
      {
        "duration": 519,
        "start_time": "2023-01-11T19:44:45.327Z"
      },
      {
        "duration": 541,
        "start_time": "2023-01-11T19:44:45.848Z"
      },
      {
        "duration": 633,
        "start_time": "2023-01-11T19:44:46.391Z"
      },
      {
        "duration": 553,
        "start_time": "2023-01-11T19:44:47.026Z"
      },
      {
        "duration": 523,
        "start_time": "2023-01-11T19:44:47.581Z"
      },
      {
        "duration": 738,
        "start_time": "2023-01-11T19:44:48.106Z"
      },
      {
        "duration": 551,
        "start_time": "2023-01-11T19:44:48.846Z"
      },
      {
        "duration": 525,
        "start_time": "2023-01-11T19:44:49.399Z"
      },
      {
        "duration": 655,
        "start_time": "2023-01-11T19:44:49.925Z"
      },
      {
        "duration": 343,
        "start_time": "2023-01-11T19:44:50.582Z"
      },
      {
        "duration": 252,
        "start_time": "2023-01-11T19:44:50.930Z"
      },
      {
        "duration": 228,
        "start_time": "2023-01-11T19:44:51.184Z"
      },
      {
        "duration": 207,
        "start_time": "2023-01-11T19:44:51.413Z"
      },
      {
        "duration": 161,
        "start_time": "2023-01-11T19:44:51.622Z"
      },
      {
        "duration": 18,
        "start_time": "2023-01-11T19:44:51.784Z"
      },
      {
        "duration": 197,
        "start_time": "2023-01-11T19:44:51.804Z"
      },
      {
        "duration": 308,
        "start_time": "2023-01-11T19:44:52.002Z"
      },
      {
        "duration": 184,
        "start_time": "2023-01-11T19:44:52.312Z"
      },
      {
        "duration": 201,
        "start_time": "2023-01-11T19:44:52.498Z"
      },
      {
        "duration": 242,
        "start_time": "2023-01-11T19:44:52.700Z"
      },
      {
        "duration": 13,
        "start_time": "2023-01-11T19:44:52.944Z"
      },
      {
        "duration": 216,
        "start_time": "2023-01-11T19:44:52.958Z"
      },
      {
        "duration": 13,
        "start_time": "2023-01-11T19:44:53.175Z"
      },
      {
        "duration": 5,
        "start_time": "2023-01-11T19:54:47.394Z"
      },
      {
        "duration": 28,
        "start_time": "2023-01-11T19:54:50.886Z"
      },
      {
        "duration": 202,
        "start_time": "2023-01-11T19:55:45.438Z"
      },
      {
        "duration": 181,
        "start_time": "2023-01-11T19:55:51.987Z"
      },
      {
        "duration": 215,
        "start_time": "2023-01-11T19:56:05.855Z"
      },
      {
        "duration": 188,
        "start_time": "2023-01-11T19:56:10.458Z"
      },
      {
        "duration": 163,
        "start_time": "2023-01-11T19:56:20.109Z"
      },
      {
        "duration": 192,
        "start_time": "2023-01-11T19:56:43.602Z"
      },
      {
        "duration": 248,
        "start_time": "2023-01-11T19:56:55.790Z"
      },
      {
        "duration": 147,
        "start_time": "2023-01-11T19:56:59.933Z"
      },
      {
        "duration": 219,
        "start_time": "2023-01-11T19:57:11.248Z"
      },
      {
        "duration": 203,
        "start_time": "2023-01-11T19:57:20.651Z"
      },
      {
        "duration": 281,
        "start_time": "2023-01-11T19:57:29.613Z"
      },
      {
        "duration": 422,
        "start_time": "2023-01-11T19:57:40.639Z"
      },
      {
        "duration": 392,
        "start_time": "2023-01-11T19:57:49.776Z"
      },
      {
        "duration": 281,
        "start_time": "2023-01-11T19:58:04.461Z"
      },
      {
        "duration": 189,
        "start_time": "2023-01-11T19:58:16.996Z"
      },
      {
        "duration": 178,
        "start_time": "2023-01-11T19:58:33.929Z"
      },
      {
        "duration": 172,
        "start_time": "2023-01-11T19:58:39.305Z"
      },
      {
        "duration": 170,
        "start_time": "2023-01-11T19:59:01.433Z"
      },
      {
        "duration": 168,
        "start_time": "2023-01-11T20:02:04.110Z"
      },
      {
        "duration": 206,
        "start_time": "2023-01-11T20:03:27.783Z"
      },
      {
        "duration": 190,
        "start_time": "2023-01-11T20:05:06.718Z"
      },
      {
        "duration": 194,
        "start_time": "2023-01-11T20:05:40.728Z"
      },
      {
        "duration": 176,
        "start_time": "2023-01-11T20:06:35.652Z"
      },
      {
        "duration": 227,
        "start_time": "2023-01-11T20:08:24.092Z"
      },
      {
        "duration": 793,
        "start_time": "2023-01-12T11:16:07.595Z"
      },
      {
        "duration": 1943,
        "start_time": "2023-01-12T11:16:08.390Z"
      },
      {
        "duration": 8,
        "start_time": "2023-01-12T11:16:10.334Z"
      },
      {
        "duration": 19,
        "start_time": "2023-01-12T11:16:10.344Z"
      },
      {
        "duration": 31,
        "start_time": "2023-01-12T11:16:10.364Z"
      },
      {
        "duration": 21,
        "start_time": "2023-01-12T11:16:10.396Z"
      },
      {
        "duration": 43,
        "start_time": "2023-01-12T11:16:10.418Z"
      },
      {
        "duration": 4,
        "start_time": "2023-01-12T11:16:10.462Z"
      },
      {
        "duration": 9,
        "start_time": "2023-01-12T11:16:10.467Z"
      },
      {
        "duration": 25,
        "start_time": "2023-01-12T11:16:10.479Z"
      },
      {
        "duration": 20,
        "start_time": "2023-01-12T11:16:10.506Z"
      },
      {
        "duration": 20,
        "start_time": "2023-01-12T11:16:10.527Z"
      },
      {
        "duration": 7,
        "start_time": "2023-01-12T11:16:10.548Z"
      },
      {
        "duration": 17,
        "start_time": "2023-01-12T11:16:10.556Z"
      },
      {
        "duration": 21,
        "start_time": "2023-01-12T11:16:10.574Z"
      },
      {
        "duration": 63,
        "start_time": "2023-01-12T11:16:10.597Z"
      },
      {
        "duration": 7,
        "start_time": "2023-01-12T11:16:10.661Z"
      },
      {
        "duration": 22,
        "start_time": "2023-01-12T11:16:10.669Z"
      },
      {
        "duration": 21,
        "start_time": "2023-01-12T11:16:10.692Z"
      },
      {
        "duration": 141,
        "start_time": "2023-01-12T11:16:10.714Z"
      },
      {
        "duration": 6,
        "start_time": "2023-01-12T11:16:10.856Z"
      },
      {
        "duration": 26,
        "start_time": "2023-01-12T11:16:10.864Z"
      },
      {
        "duration": 7,
        "start_time": "2023-01-12T11:16:10.892Z"
      },
      {
        "duration": 105,
        "start_time": "2023-01-12T11:16:10.903Z"
      },
      {
        "duration": 110,
        "start_time": "2023-01-12T11:16:11.010Z"
      },
      {
        "duration": 107,
        "start_time": "2023-01-12T11:16:11.122Z"
      },
      {
        "duration": 60,
        "start_time": "2023-01-12T11:16:11.231Z"
      },
      {
        "duration": 6,
        "start_time": "2023-01-12T11:16:11.294Z"
      },
      {
        "duration": 29,
        "start_time": "2023-01-12T11:16:11.301Z"
      },
      {
        "duration": 39,
        "start_time": "2023-01-12T11:16:11.332Z"
      },
      {
        "duration": 91,
        "start_time": "2023-01-12T11:16:11.373Z"
      },
      {
        "duration": 40,
        "start_time": "2023-01-12T11:16:11.466Z"
      },
      {
        "duration": 199,
        "start_time": "2023-01-12T11:16:11.508Z"
      },
      {
        "duration": 24,
        "start_time": "2023-01-12T11:16:11.709Z"
      },
      {
        "duration": 6,
        "start_time": "2023-01-12T11:16:11.734Z"
      },
      {
        "duration": 54,
        "start_time": "2023-01-12T11:16:11.742Z"
      },
      {
        "duration": 186,
        "start_time": "2023-01-12T11:16:11.797Z"
      },
      {
        "duration": 470,
        "start_time": "2023-01-12T11:16:11.984Z"
      },
      {
        "duration": 560,
        "start_time": "2023-01-12T11:16:12.456Z"
      },
      {
        "duration": 278,
        "start_time": "2023-01-12T11:16:13.018Z"
      },
      {
        "duration": 643,
        "start_time": "2023-01-12T11:16:13.298Z"
      },
      {
        "duration": 324,
        "start_time": "2023-01-12T11:16:13.942Z"
      },
      {
        "duration": 358,
        "start_time": "2023-01-12T11:16:14.268Z"
      },
      {
        "duration": 329,
        "start_time": "2023-01-12T11:16:14.628Z"
      },
      {
        "duration": 374,
        "start_time": "2023-01-12T11:16:14.958Z"
      },
      {
        "duration": 201,
        "start_time": "2023-01-12T11:16:15.334Z"
      },
      {
        "duration": 271,
        "start_time": "2023-01-12T11:16:15.537Z"
      },
      {
        "duration": 405,
        "start_time": "2023-01-12T11:16:15.810Z"
      },
      {
        "duration": 330,
        "start_time": "2023-01-12T11:16:16.216Z"
      },
      {
        "duration": 185,
        "start_time": "2023-01-12T11:16:16.548Z"
      },
      {
        "duration": 252,
        "start_time": "2023-01-12T11:16:16.734Z"
      },
      {
        "duration": 285,
        "start_time": "2023-01-12T11:16:16.988Z"
      },
      {
        "duration": 201,
        "start_time": "2023-01-12T11:16:17.275Z"
      },
      {
        "duration": 205,
        "start_time": "2023-01-12T11:16:17.477Z"
      },
      {
        "duration": 247,
        "start_time": "2023-01-12T11:16:17.684Z"
      },
      {
        "duration": 151,
        "start_time": "2023-01-12T11:16:17.933Z"
      },
      {
        "duration": 15,
        "start_time": "2023-01-12T11:16:18.086Z"
      },
      {
        "duration": 196,
        "start_time": "2023-01-12T11:16:18.102Z"
      },
      {
        "duration": 335,
        "start_time": "2023-01-12T11:16:18.300Z"
      },
      {
        "duration": 162,
        "start_time": "2023-01-12T11:16:18.637Z"
      },
      {
        "duration": 194,
        "start_time": "2023-01-12T11:16:18.801Z"
      },
      {
        "duration": 312,
        "start_time": "2023-01-12T11:16:18.996Z"
      },
      {
        "duration": 17,
        "start_time": "2023-01-12T11:16:19.310Z"
      },
      {
        "duration": 176,
        "start_time": "2023-01-12T11:16:19.329Z"
      },
      {
        "duration": 10,
        "start_time": "2023-01-12T11:16:19.507Z"
      },
      {
        "duration": 74,
        "start_time": "2023-01-12T11:19:15.468Z"
      },
      {
        "duration": 71,
        "start_time": "2023-01-12T11:19:23.118Z"
      },
      {
        "duration": 6,
        "start_time": "2023-01-12T11:19:52.210Z"
      },
      {
        "duration": 6,
        "start_time": "2023-01-12T11:19:57.673Z"
      },
      {
        "duration": 87,
        "start_time": "2023-01-12T11:20:51.340Z"
      },
      {
        "duration": 7,
        "start_time": "2023-01-12T12:09:04.725Z"
      },
      {
        "duration": 4,
        "start_time": "2023-01-12T12:09:08.910Z"
      },
      {
        "duration": 99,
        "start_time": "2023-01-12T12:09:13.479Z"
      },
      {
        "duration": 99,
        "start_time": "2023-01-12T12:09:22.847Z"
      },
      {
        "duration": 9,
        "start_time": "2023-01-12T12:09:36.176Z"
      },
      {
        "duration": 4,
        "start_time": "2023-01-12T12:09:44.300Z"
      },
      {
        "duration": 98,
        "start_time": "2023-01-12T12:09:47.131Z"
      },
      {
        "duration": 170,
        "start_time": "2023-01-12T12:10:04.127Z"
      },
      {
        "duration": 12,
        "start_time": "2023-01-12T12:10:13.780Z"
      },
      {
        "duration": 113,
        "start_time": "2023-01-12T12:10:17.346Z"
      },
      {
        "duration": 7,
        "start_time": "2023-01-12T12:10:22.330Z"
      },
      {
        "duration": 8,
        "start_time": "2023-01-12T12:10:32.214Z"
      },
      {
        "duration": 5,
        "start_time": "2023-01-12T12:10:33.170Z"
      },
      {
        "duration": 100,
        "start_time": "2023-01-12T12:10:36.216Z"
      },
      {
        "duration": 7,
        "start_time": "2023-01-12T12:12:36.938Z"
      },
      {
        "duration": 7,
        "start_time": "2023-01-12T12:12:38.149Z"
      },
      {
        "duration": 5,
        "start_time": "2023-01-12T12:12:39.233Z"
      },
      {
        "duration": 133,
        "start_time": "2023-01-12T12:12:44.102Z"
      },
      {
        "duration": 3,
        "start_time": "2023-01-12T12:12:54.986Z"
      },
      {
        "duration": 2077,
        "start_time": "2023-01-12T12:12:54.991Z"
      },
      {
        "duration": 9,
        "start_time": "2023-01-12T12:12:57.070Z"
      },
      {
        "duration": 9,
        "start_time": "2023-01-12T12:12:57.081Z"
      },
      {
        "duration": 15,
        "start_time": "2023-01-12T12:12:57.093Z"
      },
      {
        "duration": 19,
        "start_time": "2023-01-12T12:12:57.111Z"
      },
      {
        "duration": 31,
        "start_time": "2023-01-12T12:12:57.131Z"
      },
      {
        "duration": 3,
        "start_time": "2023-01-12T12:12:57.164Z"
      },
      {
        "duration": 9,
        "start_time": "2023-01-12T12:12:57.169Z"
      },
      {
        "duration": 16,
        "start_time": "2023-01-12T12:12:57.180Z"
      },
      {
        "duration": 27,
        "start_time": "2023-01-12T12:12:57.199Z"
      },
      {
        "duration": 16,
        "start_time": "2023-01-12T12:12:57.229Z"
      },
      {
        "duration": 14,
        "start_time": "2023-01-12T12:12:57.246Z"
      },
      {
        "duration": 17,
        "start_time": "2023-01-12T12:12:57.262Z"
      },
      {
        "duration": 22,
        "start_time": "2023-01-12T12:12:57.280Z"
      },
      {
        "duration": 88,
        "start_time": "2023-01-12T12:12:57.303Z"
      },
      {
        "duration": 35,
        "start_time": "2023-01-12T12:12:57.393Z"
      },
      {
        "duration": 13,
        "start_time": "2023-01-12T12:12:57.430Z"
      },
      {
        "duration": 12,
        "start_time": "2023-01-12T12:12:57.445Z"
      },
      {
        "duration": 136,
        "start_time": "2023-01-12T12:12:57.459Z"
      },
      {
        "duration": 5,
        "start_time": "2023-01-12T12:12:57.597Z"
      },
      {
        "duration": 25,
        "start_time": "2023-01-12T12:12:57.604Z"
      },
      {
        "duration": 36,
        "start_time": "2023-01-12T12:12:57.631Z"
      },
      {
        "duration": 111,
        "start_time": "2023-01-12T12:12:57.669Z"
      },
      {
        "duration": 127,
        "start_time": "2023-01-12T12:12:57.782Z"
      },
      {
        "duration": 103,
        "start_time": "2023-01-12T12:12:57.911Z"
      },
      {
        "duration": 14,
        "start_time": "2023-01-12T12:12:58.016Z"
      },
      {
        "duration": 242,
        "start_time": "2023-01-12T12:12:58.032Z"
      },
      {
        "duration": 78,
        "start_time": "2023-01-12T12:12:58.278Z"
      },
      {
        "duration": 8,
        "start_time": "2023-01-12T12:12:58.358Z"
      },
      {
        "duration": 63,
        "start_time": "2023-01-12T12:12:58.367Z"
      },
      {
        "duration": 41,
        "start_time": "2023-01-12T12:12:58.432Z"
      },
      {
        "duration": 33,
        "start_time": "2023-01-12T12:12:58.475Z"
      },
      {
        "duration": 43,
        "start_time": "2023-01-12T12:12:58.510Z"
      },
      {
        "duration": 340,
        "start_time": "2023-01-12T12:12:58.555Z"
      },
      {
        "duration": 38,
        "start_time": "2023-01-12T12:12:58.897Z"
      },
      {
        "duration": 5,
        "start_time": "2023-01-12T12:12:58.937Z"
      },
      {
        "duration": 37,
        "start_time": "2023-01-12T12:12:58.943Z"
      },
      {
        "duration": 295,
        "start_time": "2023-01-12T12:12:58.982Z"
      },
      {
        "duration": 720,
        "start_time": "2023-01-12T12:12:59.280Z"
      },
      {
        "duration": 513,
        "start_time": "2023-01-12T12:13:00.002Z"
      },
      {
        "duration": 341,
        "start_time": "2023-01-12T12:13:00.517Z"
      },
      {
        "duration": 623,
        "start_time": "2023-01-12T12:13:00.860Z"
      },
      {
        "duration": 397,
        "start_time": "2023-01-12T12:13:01.485Z"
      },
      {
        "duration": 176,
        "start_time": "2023-01-12T12:13:01.884Z"
      },
      {
        "duration": 211,
        "start_time": "2023-01-12T12:13:02.062Z"
      },
      {
        "duration": 264,
        "start_time": "2023-01-12T12:13:02.275Z"
      },
      {
        "duration": 535,
        "start_time": "2023-01-12T12:13:02.540Z"
      },
      {
        "duration": 548,
        "start_time": "2023-01-12T12:13:03.127Z"
      },
      {
        "duration": 744,
        "start_time": "2023-01-12T12:13:03.727Z"
      },
      {
        "duration": 478,
        "start_time": "2023-01-12T12:13:04.473Z"
      },
      {
        "duration": 195,
        "start_time": "2023-01-12T12:13:04.953Z"
      },
      {
        "duration": 194,
        "start_time": "2023-01-12T12:13:05.150Z"
      },
      {
        "duration": 369,
        "start_time": "2023-01-12T12:13:05.346Z"
      },
      {
        "duration": 234,
        "start_time": "2023-01-12T12:13:05.717Z"
      },
      {
        "duration": 200,
        "start_time": "2023-01-12T12:13:05.953Z"
      },
      {
        "duration": 227,
        "start_time": "2023-01-12T12:13:06.155Z"
      },
      {
        "duration": 163,
        "start_time": "2023-01-12T12:13:06.384Z"
      },
      {
        "duration": 16,
        "start_time": "2023-01-12T12:13:06.548Z"
      },
      {
        "duration": 172,
        "start_time": "2023-01-12T12:13:06.566Z"
      },
      {
        "duration": 208,
        "start_time": "2023-01-12T12:13:06.740Z"
      },
      {
        "duration": 180,
        "start_time": "2023-01-12T12:13:06.950Z"
      },
      {
        "duration": 181,
        "start_time": "2023-01-12T12:13:07.132Z"
      },
      {
        "duration": 227,
        "start_time": "2023-01-12T12:13:07.315Z"
      },
      {
        "duration": 13,
        "start_time": "2023-01-12T12:13:07.543Z"
      },
      {
        "duration": 316,
        "start_time": "2023-01-12T12:13:07.557Z"
      },
      {
        "duration": 11,
        "start_time": "2023-01-12T12:13:07.874Z"
      },
      {
        "duration": 675,
        "start_time": "2023-01-12T14:38:41.791Z"
      },
      {
        "duration": 2564,
        "start_time": "2023-01-12T14:38:42.468Z"
      },
      {
        "duration": 14,
        "start_time": "2023-01-12T14:38:45.034Z"
      },
      {
        "duration": 33,
        "start_time": "2023-01-12T14:38:45.051Z"
      },
      {
        "duration": 26,
        "start_time": "2023-01-12T14:38:45.086Z"
      },
      {
        "duration": 9,
        "start_time": "2023-01-12T14:38:45.114Z"
      },
      {
        "duration": 44,
        "start_time": "2023-01-12T14:38:45.126Z"
      },
      {
        "duration": 4,
        "start_time": "2023-01-12T14:38:45.174Z"
      },
      {
        "duration": 20,
        "start_time": "2023-01-12T14:38:45.180Z"
      },
      {
        "duration": 34,
        "start_time": "2023-01-12T14:38:45.204Z"
      },
      {
        "duration": 49,
        "start_time": "2023-01-12T14:38:45.240Z"
      },
      {
        "duration": 58,
        "start_time": "2023-01-12T14:38:45.291Z"
      },
      {
        "duration": 9,
        "start_time": "2023-01-12T14:38:45.351Z"
      },
      {
        "duration": 42,
        "start_time": "2023-01-12T14:38:45.363Z"
      },
      {
        "duration": 25,
        "start_time": "2023-01-12T14:38:45.407Z"
      },
      {
        "duration": 67,
        "start_time": "2023-01-12T14:38:45.433Z"
      },
      {
        "duration": 10,
        "start_time": "2023-01-12T14:38:45.502Z"
      },
      {
        "duration": 39,
        "start_time": "2023-01-12T14:38:45.514Z"
      },
      {
        "duration": 19,
        "start_time": "2023-01-12T14:38:45.555Z"
      },
      {
        "duration": 146,
        "start_time": "2023-01-12T14:38:45.576Z"
      },
      {
        "duration": 15,
        "start_time": "2023-01-12T14:38:45.724Z"
      },
      {
        "duration": 8,
        "start_time": "2023-01-12T14:38:45.741Z"
      },
      {
        "duration": 6,
        "start_time": "2023-01-12T14:38:45.751Z"
      },
      {
        "duration": 141,
        "start_time": "2023-01-12T14:38:45.759Z"
      },
      {
        "duration": 146,
        "start_time": "2023-01-12T14:38:45.902Z"
      },
      {
        "duration": 127,
        "start_time": "2023-01-12T14:38:46.050Z"
      },
      {
        "duration": 7,
        "start_time": "2023-01-12T14:38:46.179Z"
      },
      {
        "duration": 135,
        "start_time": "2023-01-12T14:38:46.191Z"
      },
      {
        "duration": 72,
        "start_time": "2023-01-12T14:38:46.328Z"
      },
      {
        "duration": 7,
        "start_time": "2023-01-12T14:38:46.402Z"
      },
      {
        "duration": 34,
        "start_time": "2023-01-12T14:38:46.411Z"
      },
      {
        "duration": 119,
        "start_time": "2023-01-12T14:38:46.448Z"
      },
      {
        "duration": 17,
        "start_time": "2023-01-12T14:38:46.569Z"
      },
      {
        "duration": 24,
        "start_time": "2023-01-12T14:38:46.588Z"
      },
      {
        "duration": 311,
        "start_time": "2023-01-12T14:38:46.634Z"
      },
      {
        "duration": 25,
        "start_time": "2023-01-12T14:38:46.947Z"
      },
      {
        "duration": 14,
        "start_time": "2023-01-12T14:38:46.974Z"
      },
      {
        "duration": 45,
        "start_time": "2023-01-12T14:38:46.990Z"
      },
      {
        "duration": 198,
        "start_time": "2023-01-12T14:38:47.037Z"
      },
      {
        "duration": 563,
        "start_time": "2023-01-12T14:38:47.237Z"
      },
      {
        "duration": 674,
        "start_time": "2023-01-12T14:38:47.803Z"
      },
      {
        "duration": 316,
        "start_time": "2023-01-12T14:38:48.479Z"
      },
      {
        "duration": 640,
        "start_time": "2023-01-12T14:38:48.796Z"
      },
      {
        "duration": 231,
        "start_time": "2023-01-12T14:38:49.439Z"
      },
      {
        "duration": 250,
        "start_time": "2023-01-12T14:38:49.672Z"
      },
      {
        "duration": 364,
        "start_time": "2023-01-12T14:38:49.924Z"
      },
      {
        "duration": 192,
        "start_time": "2023-01-12T14:38:50.289Z"
      },
      {
        "duration": 260,
        "start_time": "2023-01-12T14:38:50.484Z"
      },
      {
        "duration": 331,
        "start_time": "2023-01-12T14:38:50.746Z"
      },
      {
        "duration": 455,
        "start_time": "2023-01-12T14:38:51.079Z"
      },
      {
        "duration": 388,
        "start_time": "2023-01-12T14:38:51.536Z"
      },
      {
        "duration": 230,
        "start_time": "2023-01-12T14:38:51.935Z"
      },
      {
        "duration": 379,
        "start_time": "2023-01-12T14:38:52.167Z"
      },
      {
        "duration": 456,
        "start_time": "2023-01-12T14:38:52.549Z"
      },
      {
        "duration": 239,
        "start_time": "2023-01-12T14:38:53.007Z"
      },
      {
        "duration": 247,
        "start_time": "2023-01-12T14:38:53.248Z"
      },
      {
        "duration": 307,
        "start_time": "2023-01-12T14:38:53.497Z"
      },
      {
        "duration": 224,
        "start_time": "2023-01-12T14:38:53.806Z"
      },
      {
        "duration": 26,
        "start_time": "2023-01-12T14:38:54.031Z"
      },
      {
        "duration": 228,
        "start_time": "2023-01-12T14:38:54.059Z"
      },
      {
        "duration": 227,
        "start_time": "2023-01-12T14:38:54.288Z"
      },
      {
        "duration": 194,
        "start_time": "2023-01-12T14:38:54.517Z"
      },
      {
        "duration": 206,
        "start_time": "2023-01-12T14:38:54.713Z"
      },
      {
        "duration": 354,
        "start_time": "2023-01-12T14:38:54.920Z"
      },
      {
        "duration": 13,
        "start_time": "2023-01-12T14:38:55.277Z"
      },
      {
        "duration": 216,
        "start_time": "2023-01-12T14:38:55.292Z"
      },
      {
        "duration": 15,
        "start_time": "2023-01-12T14:38:55.510Z"
      },
      {
        "duration": 674,
        "start_time": "2023-01-12T14:39:42.626Z"
      },
      {
        "duration": 2219,
        "start_time": "2023-01-12T14:39:43.302Z"
      },
      {
        "duration": 11,
        "start_time": "2023-01-12T14:39:45.523Z"
      },
      {
        "duration": 11,
        "start_time": "2023-01-12T14:39:45.537Z"
      },
      {
        "duration": 16,
        "start_time": "2023-01-12T14:39:45.551Z"
      },
      {
        "duration": 6,
        "start_time": "2023-01-12T14:39:45.568Z"
      },
      {
        "duration": 64,
        "start_time": "2023-01-12T14:39:45.576Z"
      },
      {
        "duration": 5,
        "start_time": "2023-01-12T14:39:45.641Z"
      },
      {
        "duration": 13,
        "start_time": "2023-01-12T14:39:45.647Z"
      },
      {
        "duration": 17,
        "start_time": "2023-01-12T14:39:45.664Z"
      },
      {
        "duration": 54,
        "start_time": "2023-01-12T14:39:45.682Z"
      },
      {
        "duration": 15,
        "start_time": "2023-01-12T14:39:45.739Z"
      },
      {
        "duration": 8,
        "start_time": "2023-01-12T14:39:45.755Z"
      },
      {
        "duration": 75,
        "start_time": "2023-01-12T14:39:45.765Z"
      },
      {
        "duration": 36,
        "start_time": "2023-01-12T14:39:45.843Z"
      },
      {
        "duration": 256,
        "start_time": "2023-01-12T14:39:45.881Z"
      },
      {
        "duration": 13,
        "start_time": "2023-01-12T14:39:46.140Z"
      },
      {
        "duration": 19,
        "start_time": "2023-01-12T14:39:46.154Z"
      },
      {
        "duration": 62,
        "start_time": "2023-01-12T14:39:46.175Z"
      },
      {
        "duration": 240,
        "start_time": "2023-01-12T14:39:46.239Z"
      },
      {
        "duration": 58,
        "start_time": "2023-01-12T14:39:46.481Z"
      },
      {
        "duration": 10,
        "start_time": "2023-01-12T14:39:46.541Z"
      },
      {
        "duration": 4,
        "start_time": "2023-01-12T14:39:46.554Z"
      },
      {
        "duration": 295,
        "start_time": "2023-01-12T14:39:46.560Z"
      },
      {
        "duration": 285,
        "start_time": "2023-01-12T14:39:46.857Z"
      },
      {
        "duration": 228,
        "start_time": "2023-01-12T14:39:47.144Z"
      },
      {
        "duration": 7,
        "start_time": "2023-01-12T14:39:47.374Z"
      },
      {
        "duration": 239,
        "start_time": "2023-01-12T14:39:47.438Z"
      },
      {
        "duration": 205,
        "start_time": "2023-01-12T14:39:47.679Z"
      },
      {
        "duration": 6,
        "start_time": "2023-01-12T14:39:47.886Z"
      },
      {
        "duration": 18,
        "start_time": "2023-01-12T14:39:47.893Z"
      },
      {
        "duration": 117,
        "start_time": "2023-01-12T14:39:47.913Z"
      },
      {
        "duration": 20,
        "start_time": "2023-01-12T14:39:48.034Z"
      },
      {
        "duration": 24,
        "start_time": "2023-01-12T14:39:48.055Z"
      },
      {
        "duration": 328,
        "start_time": "2023-01-12T14:39:48.081Z"
      },
      {
        "duration": 36,
        "start_time": "2023-01-12T14:39:48.410Z"
      },
      {
        "duration": 8,
        "start_time": "2023-01-12T14:39:48.447Z"
      },
      {
        "duration": 34,
        "start_time": "2023-01-12T14:39:48.458Z"
      },
      {
        "duration": 217,
        "start_time": "2023-01-12T14:39:48.494Z"
      },
      {
        "duration": 608,
        "start_time": "2023-01-12T14:39:48.713Z"
      },
      {
        "duration": 639,
        "start_time": "2023-01-12T14:39:49.323Z"
      },
      {
        "duration": 336,
        "start_time": "2023-01-12T14:39:49.964Z"
      },
      {
        "duration": 543,
        "start_time": "2023-01-12T14:39:50.302Z"
      },
      {
        "duration": 224,
        "start_time": "2023-01-12T14:39:50.847Z"
      },
      {
        "duration": 321,
        "start_time": "2023-01-12T14:39:51.073Z"
      },
      {
        "duration": 252,
        "start_time": "2023-01-12T14:39:51.396Z"
      },
      {
        "duration": 201,
        "start_time": "2023-01-12T14:39:51.650Z"
      },
      {
        "duration": 225,
        "start_time": "2023-01-12T14:39:51.853Z"
      },
      {
        "duration": 319,
        "start_time": "2023-01-12T14:39:52.080Z"
      },
      {
        "duration": 536,
        "start_time": "2023-01-12T14:39:52.401Z"
      },
      {
        "duration": 383,
        "start_time": "2023-01-12T14:39:52.939Z"
      },
      {
        "duration": 328,
        "start_time": "2023-01-12T14:39:53.324Z"
      },
      {
        "duration": 215,
        "start_time": "2023-01-12T14:39:53.653Z"
      },
      {
        "duration": 436,
        "start_time": "2023-01-12T14:39:53.871Z"
      },
      {
        "duration": 274,
        "start_time": "2023-01-12T14:39:54.309Z"
      },
      {
        "duration": 263,
        "start_time": "2023-01-12T14:39:54.585Z"
      },
      {
        "duration": 330,
        "start_time": "2023-01-12T14:39:54.850Z"
      },
      {
        "duration": 212,
        "start_time": "2023-01-12T14:39:55.184Z"
      },
      {
        "duration": 39,
        "start_time": "2023-01-12T14:39:55.398Z"
      },
      {
        "duration": 207,
        "start_time": "2023-01-12T14:39:55.440Z"
      },
      {
        "duration": 232,
        "start_time": "2023-01-12T14:39:55.649Z"
      },
      {
        "duration": 314,
        "start_time": "2023-01-12T14:39:55.883Z"
      },
      {
        "duration": 273,
        "start_time": "2023-01-12T14:39:56.200Z"
      },
      {
        "duration": 316,
        "start_time": "2023-01-12T14:39:56.475Z"
      },
      {
        "duration": 20,
        "start_time": "2023-01-12T14:39:56.794Z"
      },
      {
        "duration": 231,
        "start_time": "2023-01-12T14:39:56.816Z"
      },
      {
        "duration": 16,
        "start_time": "2023-01-12T14:39:57.049Z"
      }
    ],
    "toc": {
      "base_numbering": 1,
      "nav_menu": {},
      "number_sections": true,
      "sideBar": true,
      "skip_h1_title": true,
      "title_cell": "Table of Contents",
      "title_sidebar": "Contents",
      "toc_cell": false,
      "toc_position": {
        "height": "calc(100% - 180px)",
        "left": "10px",
        "top": "150px",
        "width": "384px"
      },
      "toc_section_display": true,
      "toc_window_display": false
    },
    "kernelspec": {
      "name": "python",
      "display_name": "Python (Pyodide)",
      "language": "python"
    },
    "language_info": {
      "codemirror_mode": {
        "name": "python",
        "version": 3
      },
      "file_extension": ".py",
      "mimetype": "text/x-python",
      "name": "python",
      "nbconvert_exporter": "python",
      "pygments_lexer": "ipython3",
      "version": "3.8"
    }
  },
  "nbformat_minor": 4,
  "nbformat": 4,
  "cells": [
    {
      "cell_type": "markdown",
      "source": "# Исследование объявлений о продаже квартир\n\nНа основе архива объявлений о продаже квартир в Санкт-Петербурге и соседних населённых пунктов за несколько лет, нужно научиться определять рыночную стоимость объектов недвижимости. \nЗадача — установить параметры. Это позволит построить автоматизированную систему: она отследит аномалии и мошенническую деятельность. \n\nПо каждой квартире на продажу доступны два вида данных. Первые вписаны пользователем, вторые — получены автоматически на основе картографических данных. Например, расстояние до центра, аэропорта, ближайшего парка и водоёма. ",
      "metadata": {}
    },
    {
      "cell_type": "markdown",
      "source": "### Откройте файл с данными и изучите общую информацию. ",
      "metadata": {}
    },
    {
      "cell_type": "code",
      "source": "import pandas as pd\nimport numpy as np\nimport matplotlib.pyplot as plt ",
      "metadata": {},
      "execution_count": 1,
      "outputs": []
    },
    {
      "cell_type": "code",
      "source": "\ndata = pd.read_csv('/datasets/real_estate_data.csv', sep='\\t') #открыли файл в пандас, разделитель /t\nprint(data.head(10)) #вывели первые 10 строк датасета\ndata.info() #получили информацию о датасете\ndata.hist(figsize = (15, 20)) #построили гистограммы для всех типов значений датасета\n",
      "metadata": {},
      "execution_count": 2,
      "outputs": [
        {
          "name": "stdout",
          "output_type": "stream",
          "text": "   total_images  last_price  total_area first_day_exposition  rooms  \\\n\n0            20  13000000.0      108.00  2019-03-07T00:00:00      3   \n\n1             7   3350000.0       40.40  2018-12-04T00:00:00      1   \n\n2            10   5196000.0       56.00  2015-08-20T00:00:00      2   \n\n3             0  64900000.0      159.00  2015-07-24T00:00:00      3   \n\n4             2  10000000.0      100.00  2018-06-19T00:00:00      2   \n\n5            10   2890000.0       30.40  2018-09-10T00:00:00      1   \n\n6             6   3700000.0       37.30  2017-11-02T00:00:00      1   \n\n7             5   7915000.0       71.60  2019-04-18T00:00:00      2   \n\n8            20   2900000.0       33.16  2018-05-23T00:00:00      1   \n\n9            18   5400000.0       61.00  2017-02-26T00:00:00      3   \n\n\n\n   ceiling_height  floors_total  living_area  floor is_apartment  ...  \\\n\n0            2.70          16.0        51.00      8          NaN  ...   \n\n1             NaN          11.0        18.60      1          NaN  ...   \n\n2             NaN           5.0        34.30      4          NaN  ...   \n\n3             NaN          14.0          NaN      9          NaN  ...   \n\n4            3.03          14.0        32.00     13          NaN  ...   \n\n5             NaN          12.0        14.40      5          NaN  ...   \n\n6             NaN          26.0        10.60      6          NaN  ...   \n\n7             NaN          24.0          NaN     22          NaN  ...   \n\n8             NaN          27.0        15.43     26          NaN  ...   \n\n9            2.50           9.0        43.60      7          NaN  ...   \n\n\n\n   kitchen_area  balcony              locality_name  airports_nearest  \\\n\n0         25.00      NaN            Санкт-Петербург           18863.0   \n\n1         11.00      2.0             посёлок Шушары           12817.0   \n\n2          8.30      0.0            Санкт-Петербург           21741.0   \n\n3           NaN      0.0            Санкт-Петербург           28098.0   \n\n4         41.00      NaN            Санкт-Петербург           31856.0   \n\n5          9.10      NaN  городской посёлок Янино-1               NaN   \n\n6         14.40      1.0          посёлок Парголово           52996.0   \n\n7         18.90      2.0            Санкт-Петербург           23982.0   \n\n8          8.81      NaN             посёлок Мурино               NaN   \n\n9          6.50      2.0            Санкт-Петербург           50898.0   \n\n\n\n  cityCenters_nearest  parks_around3000  parks_nearest  ponds_around3000  \\\n\n0             16028.0               1.0          482.0               2.0   \n\n1             18603.0               0.0            NaN               0.0   \n\n2             13933.0               1.0           90.0               2.0   \n\n3              6800.0               2.0           84.0               3.0   \n\n4              8098.0               2.0          112.0               1.0   \n\n5                 NaN               NaN            NaN               NaN   \n\n6             19143.0               0.0            NaN               0.0   \n\n7             11634.0               0.0            NaN               0.0   \n\n8                 NaN               NaN            NaN               NaN   \n\n9             15008.0               0.0            NaN               0.0   \n\n\n\n   ponds_nearest  days_exposition  \n\n0          755.0              NaN  \n\n1            NaN             81.0  \n\n2          574.0            558.0  \n\n3          234.0            424.0  \n\n4           48.0            121.0  \n\n5            NaN             55.0  \n\n6            NaN            155.0  \n\n7            NaN              NaN  \n\n8            NaN            189.0  \n\n9            NaN            289.0  \n\n\n\n[10 rows x 22 columns]\n\n<class 'pandas.core.frame.DataFrame'>\n\nRangeIndex: 23699 entries, 0 to 23698\n\nData columns (total 22 columns):\n\n #   Column                Non-Null Count  Dtype  \n\n---  ------                --------------  -----  \n\n 0   total_images          23699 non-null  int64  \n\n 1   last_price            23699 non-null  float64\n\n 2   total_area            23699 non-null  float64\n\n 3   first_day_exposition  23699 non-null  object \n\n 4   rooms                 23699 non-null  int64  \n\n 5   ceiling_height        14504 non-null  float64\n\n 6   floors_total          23613 non-null  float64\n\n 7   living_area           21796 non-null  float64\n\n 8   floor                 23699 non-null  int64  \n\n 9   is_apartment          2775 non-null   object \n\n 10  studio                23699 non-null  bool   \n\n 11  open_plan             23699 non-null  bool   \n\n 12  kitchen_area          21421 non-null  float64\n\n 13  balcony               12180 non-null  float64\n\n 14  locality_name         23650 non-null  object \n\n 15  airports_nearest      18157 non-null  float64\n\n 16  cityCenters_nearest   18180 non-null  float64\n\n 17  parks_around3000      18181 non-null  float64\n\n 18  parks_nearest         8079 non-null   float64\n\n 19  ponds_around3000      18181 non-null  float64\n\n 20  ponds_nearest         9110 non-null   float64\n\n 21  days_exposition       20518 non-null  float64\n\ndtypes: bool(2), float64(14), int64(3), object(3)\n\nmemory usage: 3.7+ MB\n"
        },
        {
          "execution_count": 2,
          "output_type": "execute_result",
          "data": {
            "text/plain": [
              "array([[<AxesSubplot:title={'center':'total_images'}>,\n",
              "        <AxesSubplot:title={'center':'last_price'}>,\n",
              "        <AxesSubplot:title={'center':'total_area'}>,\n",
              "        <AxesSubplot:title={'center':'rooms'}>],\n",
              "       [<AxesSubplot:title={'center':'ceiling_height'}>,\n",
              "        <AxesSubplot:title={'center':'floors_total'}>,\n",
              "        <AxesSubplot:title={'center':'living_area'}>,\n",
              "        <AxesSubplot:title={'center':'floor'}>],\n",
              "       [<AxesSubplot:title={'center':'kitchen_area'}>,\n",
              "        <AxesSubplot:title={'center':'balcony'}>,\n",
              "        <AxesSubplot:title={'center':'airports_nearest'}>,\n",
              "        <AxesSubplot:title={'center':'cityCenters_nearest'}>],\n",
              "       [<AxesSubplot:title={'center':'parks_around3000'}>,\n",
              "        <AxesSubplot:title={'center':'parks_nearest'}>,\n",
              "        <AxesSubplot:title={'center':'ponds_around3000'}>,\n",
              "        <AxesSubplot:title={'center':'ponds_nearest'}>],\n",
              "       [<AxesSubplot:title={'center':'days_exposition'}>, <AxesSubplot:>,\n",
              "        <AxesSubplot:>, <AxesSubplot:>]], dtype=object)"
            ]
          },
          "metadata": {}
        },
        {
          "output_type": "display_data",
          "data": {
            "image/png": "[encoded data removed]",
            "text/plain": [
              "<Figure size 1080x1440 with 20 Axes>"
            ]
          },
          "metadata": {
            "needs_background": "light"
          }
        }
      ]
    },
    {
      "cell_type": "markdown",
      "source": "Из выведенных данных мы видим, что в датасете в отдельных столбцах имеются пропуски (значения NaN), а также нетипичные для колонок данные - например значения высот потолков в 25 метров. Также можно отметить, что некоторые данные, например расстояния, не округлены и находятся в метрах - гораздо удобнее их в дальнейшем округлить до целых чисел и перевести необходимые нам в км. Также видно, что в названиях населенных пунктов встречаются дубликаты (один и тот же населенный пункт с разными типами - поселок, поселок городского типа итд.). \n\nЗаймемся предобработкой данных, чтобы сделать наши данные для анализа более однородными и понятными.",
      "metadata": {}
    },
    {
      "cell_type": "markdown",
      "source": "### Предобработка данных",
      "metadata": {}
    },
    {
      "cell_type": "markdown",
      "source": "#### Работа с пропусками",
      "metadata": {}
    },
    {
      "cell_type": "code",
      "source": "print(data.isna().sum()) #проверяем столбцы датасета на предмет пропусков\n",
      "metadata": {
        "scrolled": true
      },
      "execution_count": 3,
      "outputs": [
        {
          "name": "stdout",
          "output_type": "stream",
          "text": "total_images                0\n\nlast_price                  0\n\ntotal_area                  0\n\nfirst_day_exposition        0\n\nrooms                       0\n\nceiling_height           9195\n\nfloors_total               86\n\nliving_area              1903\n\nfloor                       0\n\nis_apartment            20924\n\nstudio                      0\n\nopen_plan                   0\n\nkitchen_area             2278\n\nbalcony                 11519\n\nlocality_name              49\n\nairports_nearest         5542\n\ncityCenters_nearest      5519\n\nparks_around3000         5518\n\nparks_nearest           15620\n\nponds_around3000         5518\n\nponds_nearest           14589\n\ndays_exposition          3181\n\ndtype: int64\n"
        }
      ]
    },
    {
      "cell_type": "markdown",
      "source": "По полученным данным видим, что в датасете имеются пропущенные значения. Разберемся детально с каждыми из них:",
      "metadata": {}
    },
    {
      "cell_type": "markdown",
      "source": "Пропущенные значения в графе \"высота потолков\" можно заменить на медианное",
      "metadata": {}
    },
    {
      "cell_type": "code",
      "source": "data['ceiling_height'] = data['ceiling_height'].fillna(data['ceiling_height'].median()) \n#заполнили высоту потолков медианным значением",
      "metadata": {},
      "execution_count": 4,
      "outputs": []
    },
    {
      "cell_type": "markdown",
      "source": "Пропущенных значений количества этажей в данных не так много - исключим эти пропуски, чтобы нивелировать их влияние на дальнейшее исследование",
      "metadata": {}
    },
    {
      "cell_type": "code",
      "source": "data = data.dropna(axis =0, subset=['floors_total'])\ndata = data.reset_index(drop=True)",
      "metadata": {},
      "execution_count": 5,
      "outputs": []
    },
    {
      "cell_type": "code",
      "source": "print(len(data[data['floors_total'].isna()]))",
      "metadata": {},
      "execution_count": 6,
      "outputs": [
        {
          "name": "stdout",
          "output_type": "stream",
          "text": "0\n"
        }
      ]
    },
    {
      "cell_type": "markdown",
      "source": "Строки с пропущенными значениями из датасета успешно удалены.",
      "metadata": {}
    },
    {
      "cell_type": "markdown",
      "source": "Следующая графа, \"размер жилой площади\", заполним медианой, с учетом количества комнат. Так будет точнее для дальнейшего анализа.",
      "metadata": {}
    },
    {
      "cell_type": "code",
      "source": "for q in data['rooms'].unique():\n    data.loc[(data['rooms'] == q)&(data['living_area'].isna()), 'living_area']=\\\n    data.loc[(data['rooms']==q), 'living_area'].median()\n        #заполняем пропуски жилплощади медианным значением в зависимоти от количества комнат",
      "metadata": {},
      "execution_count": 7,
      "outputs": []
    },
    {
      "cell_type": "markdown",
      "source": "Размер площади кухни не так сильно необходим для дальнейшего анализа. Оставим ти пропуски",
      "metadata": {}
    },
    {
      "cell_type": "markdown",
      "source": "Количество пропусков в графе \"балконы\" заменим на 0, так как можно предположить, что если значение пропущено - балкона просто нет",
      "metadata": {}
    },
    {
      "cell_type": "code",
      "source": "data['balcony']=data['balcony'].fillna(0)",
      "metadata": {},
      "execution_count": 8,
      "outputs": []
    },
    {
      "cell_type": "markdown",
      "source": "Параметр \"является апартаментами\" указывает на то является квартира апартаментами или нет. Пропуски в данной графе заменим на False - можно предположить, что пропущенное значение говорит о том, что квартира апартаментами не является",
      "metadata": {}
    },
    {
      "cell_type": "code",
      "source": "data['is_apartment']=data['is_apartment'].fillna(False)",
      "metadata": {},
      "execution_count": 9,
      "outputs": []
    },
    {
      "cell_type": "markdown",
      "source": "Пропуски в графе \"название населенного пункта также удаляем - они не критичны для дальнейшего анализа",
      "metadata": {}
    },
    {
      "cell_type": "code",
      "source": "data['locality_name'].fillna('', inplace=True)\ndata['locality_name'].dropna(inplace=True)",
      "metadata": {},
      "execution_count": 10,
      "outputs": []
    },
    {
      "cell_type": "markdown",
      "source": "Расстояния до ближайшийх объектов также не играют большую роль в дальнейшем анализе. Оставим эти пропуски",
      "metadata": {}
    },
    {
      "cell_type": "markdown",
      "source": "Графа \"время размещения обявления\" также содержит пропуски. Их не так много, чтобы они были значительны для дальнейшего анализа. Также оставим их",
      "metadata": {}
    },
    {
      "cell_type": "code",
      "source": "print(data.isna().sum()) #проверим как заменились пропуски",
      "metadata": {
        "scrolled": true
      },
      "execution_count": 11,
      "outputs": [
        {
          "name": "stdout",
          "output_type": "stream",
          "text": "total_images                0\n\nlast_price                  0\n\ntotal_area                  0\n\nfirst_day_exposition        0\n\nrooms                       0\n\nceiling_height              0\n\nfloors_total                0\n\nliving_area                 0\n\nfloor                       0\n\nis_apartment                0\n\nstudio                      0\n\nopen_plan                   0\n\nkitchen_area             2231\n\nbalcony                     0\n\nlocality_name               0\n\nairports_nearest         5532\n\ncityCenters_nearest      5509\n\nparks_around3000         5508\n\nparks_nearest           15568\n\nponds_around3000         5508\n\nponds_nearest           14552\n\ndays_exposition          3172\n\ndtype: int64\n"
        }
      ]
    },
    {
      "cell_type": "markdown",
      "source": "Как видим - пропуски в интересующих нас категориях пропали. В целом, пропуски могли появиться из-за ошибок при заполнении в данных или проблем с автоматическим заполнением - как видим из вызванного метода, очень много пропусков было в графах с расстоянием до ближайшего чего-то (пруда, центра, аэропорта итд.), а эти данные, исходя из условия, заполняются автоматически.",
      "metadata": {}
    },
    {
      "cell_type": "markdown",
      "source": "#### Изменение типов данных",
      "metadata": {}
    },
    {
      "cell_type": "markdown",
      "source": "Вызовим метод info() чтобы посмотреть какие типы данных есть в колонках датасета",
      "metadata": {}
    },
    {
      "cell_type": "code",
      "source": "data.info()",
      "metadata": {
        "scrolled": true
      },
      "execution_count": 12,
      "outputs": [
        {
          "name": "stdout",
          "output_type": "stream",
          "text": "<class 'pandas.core.frame.DataFrame'>\n\nRangeIndex: 23613 entries, 0 to 23612\n\nData columns (total 22 columns):\n\n #   Column                Non-Null Count  Dtype  \n\n---  ------                --------------  -----  \n\n 0   total_images          23613 non-null  int64  \n\n 1   last_price            23613 non-null  float64\n\n 2   total_area            23613 non-null  float64\n\n 3   first_day_exposition  23613 non-null  object \n\n 4   rooms                 23613 non-null  int64  \n\n 5   ceiling_height        23613 non-null  float64\n\n 6   floors_total          23613 non-null  float64\n\n 7   living_area           23613 non-null  float64\n\n 8   floor                 23613 non-null  int64  \n\n 9   is_apartment          23613 non-null  bool   \n\n 10  studio                23613 non-null  bool   \n\n 11  open_plan             23613 non-null  bool   \n\n 12  kitchen_area          21382 non-null  float64\n\n 13  balcony               23613 non-null  float64\n\n 14  locality_name         23613 non-null  object \n\n 15  airports_nearest      18081 non-null  float64\n\n 16  cityCenters_nearest   18104 non-null  float64\n\n 17  parks_around3000      18105 non-null  float64\n\n 18  parks_nearest         8045 non-null   float64\n\n 19  ponds_around3000      18105 non-null  float64\n\n 20  ponds_nearest         9061 non-null   float64\n\n 21  days_exposition       20441 non-null  float64\n\ndtypes: bool(3), float64(14), int64(3), object(2)\n\nmemory usage: 3.5+ MB\n"
        }
      ]
    },
    {
      "cell_type": "markdown",
      "source": "Заменим тип данных на int в следущих колонках:",
      "metadata": {}
    },
    {
      "cell_type": "code",
      "source": "data['floors_total']=data['floors_total'].astype('int', errors='ignore')\ndata['balcony']=data['balcony'].astype('int', errors='ignore')\ndata['parks_around3000']=data['parks_around3000'].astype('int', errors='ignore')\ndata['ponds_around3000']=data['ponds_around3000'].astype('int', errors='ignore')",
      "metadata": {},
      "execution_count": 13,
      "outputs": []
    },
    {
      "cell_type": "code",
      "source": "data.info()",
      "metadata": {
        "scrolled": true
      },
      "execution_count": 14,
      "outputs": [
        {
          "name": "stdout",
          "output_type": "stream",
          "text": "<class 'pandas.core.frame.DataFrame'>\n\nRangeIndex: 23613 entries, 0 to 23612\n\nData columns (total 22 columns):\n\n #   Column                Non-Null Count  Dtype  \n\n---  ------                --------------  -----  \n\n 0   total_images          23613 non-null  int64  \n\n 1   last_price            23613 non-null  float64\n\n 2   total_area            23613 non-null  float64\n\n 3   first_day_exposition  23613 non-null  object \n\n 4   rooms                 23613 non-null  int64  \n\n 5   ceiling_height        23613 non-null  float64\n\n 6   floors_total          23613 non-null  int64  \n\n 7   living_area           23613 non-null  float64\n\n 8   floor                 23613 non-null  int64  \n\n 9   is_apartment          23613 non-null  bool   \n\n 10  studio                23613 non-null  bool   \n\n 11  open_plan             23613 non-null  bool   \n\n 12  kitchen_area          21382 non-null  float64\n\n 13  balcony               23613 non-null  int64  \n\n 14  locality_name         23613 non-null  object \n\n 15  airports_nearest      18081 non-null  float64\n\n 16  cityCenters_nearest   18104 non-null  float64\n\n 17  parks_around3000      18105 non-null  float64\n\n 18  parks_nearest         8045 non-null   float64\n\n 19  ponds_around3000      18105 non-null  float64\n\n 20  ponds_nearest         9061 non-null   float64\n\n 21  days_exposition       20441 non-null  float64\n\ndtypes: bool(3), float64(12), int64(5), object(2)\n\nmemory usage: 3.5+ MB\n"
        }
      ]
    },
    {
      "cell_type": "markdown",
      "source": "#### Работа с дубликатами",
      "metadata": {}
    },
    {
      "cell_type": "markdown",
      "source": "Замемся дубликатами в столбце \"название населенного пункта\"",
      "metadata": {}
    },
    {
      "cell_type": "code",
      "source": "data.duplicated() #найдем полные дубликаты строк",
      "metadata": {},
      "execution_count": 15,
      "outputs": [
        {
          "execution_count": 15,
          "output_type": "execute_result",
          "data": {
            "text/plain": [
              "0        False\n",
              "1        False\n",
              "2        False\n",
              "3        False\n",
              "4        False\n",
              "         ...  \n",
              "23608    False\n",
              "23609    False\n",
              "23610    False\n",
              "23611    False\n",
              "23612    False\n",
              "Length: 23613, dtype: bool"
            ]
          },
          "metadata": {}
        }
      ]
    },
    {
      "cell_type": "code",
      "source": "data.drop_duplicates(keep='first') #сбросим их, оставляя только первые",
      "metadata": {},
      "execution_count": 16,
      "outputs": [
        {
          "execution_count": 16,
          "output_type": "execute_result",
          "data": {
            "text/html": [
              "<div>\n",
              "<style scoped>\n",
              "    .dataframe tbody tr th:only-of-type {\n",
              "        vertical-align: middle;\n",
              "    }\n",
              "\n",
              "    .dataframe tbody tr th {\n",
              "        vertical-align: top;\n",
              "    }\n",
              "\n",
              "    .dataframe thead th {\n",
              "        text-align: right;\n",
              "    }\n",
              "</style>\n",
              "<table border=\"1\" class=\"dataframe\">\n",
              "  <thead>\n",
              "    <tr style=\"text-align: right;\">\n",
              "      <th></th>\n",
              "      <th>total_images</th>\n",
              "      <th>last_price</th>\n",
              "      <th>total_area</th>\n",
              "      <th>first_day_exposition</th>\n",
              "      <th>rooms</th>\n",
              "      <th>ceiling_height</th>\n",
              "      <th>floors_total</th>\n",
              "      <th>living_area</th>\n",
              "      <th>floor</th>\n",
              "      <th>is_apartment</th>\n",
              "      <th>...</th>\n",
              "      <th>kitchen_area</th>\n",
              "      <th>balcony</th>\n",
              "      <th>locality_name</th>\n",
              "      <th>airports_nearest</th>\n",
              "      <th>cityCenters_nearest</th>\n",
              "      <th>parks_around3000</th>\n",
              "      <th>parks_nearest</th>\n",
              "      <th>ponds_around3000</th>\n",
              "      <th>ponds_nearest</th>\n",
              "      <th>days_exposition</th>\n",
              "    </tr>\n",
              "  </thead>\n",
              "  <tbody>\n",
              "    <tr>\n",
              "      <th>0</th>\n",
              "      <td>20</td>\n",
              "      <td>13000000.0</td>\n",
              "      <td>108.00</td>\n",
              "      <td>2019-03-07T00:00:00</td>\n",
              "      <td>3</td>\n",
              "      <td>2.70</td>\n",
              "      <td>16</td>\n",
              "      <td>51.0</td>\n",
              "      <td>8</td>\n",
              "      <td>False</td>\n",
              "      <td>...</td>\n",
              "      <td>25.00</td>\n",
              "      <td>0</td>\n",
              "      <td>Санкт-Петербург</td>\n",
              "      <td>18863.0</td>\n",
              "      <td>16028.0</td>\n",
              "      <td>1.0</td>\n",
              "      <td>482.0</td>\n",
              "      <td>2.0</td>\n",
              "      <td>755.0</td>\n",
              "      <td>NaN</td>\n",
              "    </tr>\n",
              "    <tr>\n",
              "      <th>1</th>\n",
              "      <td>7</td>\n",
              "      <td>3350000.0</td>\n",
              "      <td>40.40</td>\n",
              "      <td>2018-12-04T00:00:00</td>\n",
              "      <td>1</td>\n",
              "      <td>2.65</td>\n",
              "      <td>11</td>\n",
              "      <td>18.6</td>\n",
              "      <td>1</td>\n",
              "      <td>False</td>\n",
              "      <td>...</td>\n",
              "      <td>11.00</td>\n",
              "      <td>2</td>\n",
              "      <td>посёлок Шушары</td>\n",
              "      <td>12817.0</td>\n",
              "      <td>18603.0</td>\n",
              "      <td>0.0</td>\n",
              "      <td>NaN</td>\n",
              "      <td>0.0</td>\n",
              "      <td>NaN</td>\n",
              "      <td>81.0</td>\n",
              "    </tr>\n",
              "    <tr>\n",
              "      <th>2</th>\n",
              "      <td>10</td>\n",
              "      <td>5196000.0</td>\n",
              "      <td>56.00</td>\n",
              "      <td>2015-08-20T00:00:00</td>\n",
              "      <td>2</td>\n",
              "      <td>2.65</td>\n",
              "      <td>5</td>\n",
              "      <td>34.3</td>\n",
              "      <td>4</td>\n",
              "      <td>False</td>\n",
              "      <td>...</td>\n",
              "      <td>8.30</td>\n",
              "      <td>0</td>\n",
              "      <td>Санкт-Петербург</td>\n",
              "      <td>21741.0</td>\n",
              "      <td>13933.0</td>\n",
              "      <td>1.0</td>\n",
              "      <td>90.0</td>\n",
              "      <td>2.0</td>\n",
              "      <td>574.0</td>\n",
              "      <td>558.0</td>\n",
              "    </tr>\n",
              "    <tr>\n",
              "      <th>3</th>\n",
              "      <td>0</td>\n",
              "      <td>64900000.0</td>\n",
              "      <td>159.00</td>\n",
              "      <td>2015-07-24T00:00:00</td>\n",
              "      <td>3</td>\n",
              "      <td>2.65</td>\n",
              "      <td>14</td>\n",
              "      <td>45.0</td>\n",
              "      <td>9</td>\n",
              "      <td>False</td>\n",
              "      <td>...</td>\n",
              "      <td>NaN</td>\n",
              "      <td>0</td>\n",
              "      <td>Санкт-Петербург</td>\n",
              "      <td>28098.0</td>\n",
              "      <td>6800.0</td>\n",
              "      <td>2.0</td>\n",
              "      <td>84.0</td>\n",
              "      <td>3.0</td>\n",
              "      <td>234.0</td>\n",
              "      <td>424.0</td>\n",
              "    </tr>\n",
              "    <tr>\n",
              "      <th>4</th>\n",
              "      <td>2</td>\n",
              "      <td>10000000.0</td>\n",
              "      <td>100.00</td>\n",
              "      <td>2018-06-19T00:00:00</td>\n",
              "      <td>2</td>\n",
              "      <td>3.03</td>\n",
              "      <td>14</td>\n",
              "      <td>32.0</td>\n",
              "      <td>13</td>\n",
              "      <td>False</td>\n",
              "      <td>...</td>\n",
              "      <td>41.00</td>\n",
              "      <td>0</td>\n",
              "      <td>Санкт-Петербург</td>\n",
              "      <td>31856.0</td>\n",
              "      <td>8098.0</td>\n",
              "      <td>2.0</td>\n",
              "      <td>112.0</td>\n",
              "      <td>1.0</td>\n",
              "      <td>48.0</td>\n",
              "      <td>121.0</td>\n",
              "    </tr>\n",
              "    <tr>\n",
              "      <th>...</th>\n",
              "      <td>...</td>\n",
              "      <td>...</td>\n",
              "      <td>...</td>\n",
              "      <td>...</td>\n",
              "      <td>...</td>\n",
              "      <td>...</td>\n",
              "      <td>...</td>\n",
              "      <td>...</td>\n",
              "      <td>...</td>\n",
              "      <td>...</td>\n",
              "      <td>...</td>\n",
              "      <td>...</td>\n",
              "      <td>...</td>\n",
              "      <td>...</td>\n",
              "      <td>...</td>\n",
              "      <td>...</td>\n",
              "      <td>...</td>\n",
              "      <td>...</td>\n",
              "      <td>...</td>\n",
              "      <td>...</td>\n",
              "      <td>...</td>\n",
              "    </tr>\n",
              "    <tr>\n",
              "      <th>23608</th>\n",
              "      <td>9</td>\n",
              "      <td>9700000.0</td>\n",
              "      <td>133.81</td>\n",
              "      <td>2017-03-21T00:00:00</td>\n",
              "      <td>3</td>\n",
              "      <td>3.70</td>\n",
              "      <td>5</td>\n",
              "      <td>73.3</td>\n",
              "      <td>3</td>\n",
              "      <td>False</td>\n",
              "      <td>...</td>\n",
              "      <td>13.83</td>\n",
              "      <td>0</td>\n",
              "      <td>Санкт-Петербург</td>\n",
              "      <td>24665.0</td>\n",
              "      <td>4232.0</td>\n",
              "      <td>1.0</td>\n",
              "      <td>796.0</td>\n",
              "      <td>3.0</td>\n",
              "      <td>381.0</td>\n",
              "      <td>NaN</td>\n",
              "    </tr>\n",
              "    <tr>\n",
              "      <th>23609</th>\n",
              "      <td>14</td>\n",
              "      <td>3100000.0</td>\n",
              "      <td>59.00</td>\n",
              "      <td>2018-01-15T00:00:00</td>\n",
              "      <td>3</td>\n",
              "      <td>2.65</td>\n",
              "      <td>5</td>\n",
              "      <td>38.0</td>\n",
              "      <td>4</td>\n",
              "      <td>False</td>\n",
              "      <td>...</td>\n",
              "      <td>8.50</td>\n",
              "      <td>0</td>\n",
              "      <td>Тосно</td>\n",
              "      <td>NaN</td>\n",
              "      <td>NaN</td>\n",
              "      <td>NaN</td>\n",
              "      <td>NaN</td>\n",
              "      <td>NaN</td>\n",
              "      <td>NaN</td>\n",
              "      <td>45.0</td>\n",
              "    </tr>\n",
              "    <tr>\n",
              "      <th>23610</th>\n",
              "      <td>18</td>\n",
              "      <td>2500000.0</td>\n",
              "      <td>56.70</td>\n",
              "      <td>2018-02-11T00:00:00</td>\n",
              "      <td>2</td>\n",
              "      <td>2.65</td>\n",
              "      <td>3</td>\n",
              "      <td>29.7</td>\n",
              "      <td>1</td>\n",
              "      <td>False</td>\n",
              "      <td>...</td>\n",
              "      <td>NaN</td>\n",
              "      <td>0</td>\n",
              "      <td>село Рождествено</td>\n",
              "      <td>NaN</td>\n",
              "      <td>NaN</td>\n",
              "      <td>NaN</td>\n",
              "      <td>NaN</td>\n",
              "      <td>NaN</td>\n",
              "      <td>NaN</td>\n",
              "      <td>NaN</td>\n",
              "    </tr>\n",
              "    <tr>\n",
              "      <th>23611</th>\n",
              "      <td>13</td>\n",
              "      <td>11475000.0</td>\n",
              "      <td>76.75</td>\n",
              "      <td>2017-03-28T00:00:00</td>\n",
              "      <td>2</td>\n",
              "      <td>3.00</td>\n",
              "      <td>17</td>\n",
              "      <td>30.5</td>\n",
              "      <td>12</td>\n",
              "      <td>False</td>\n",
              "      <td>...</td>\n",
              "      <td>23.30</td>\n",
              "      <td>2</td>\n",
              "      <td>Санкт-Петербург</td>\n",
              "      <td>39140.0</td>\n",
              "      <td>10364.0</td>\n",
              "      <td>2.0</td>\n",
              "      <td>173.0</td>\n",
              "      <td>3.0</td>\n",
              "      <td>196.0</td>\n",
              "      <td>602.0</td>\n",
              "    </tr>\n",
              "    <tr>\n",
              "      <th>23612</th>\n",
              "      <td>4</td>\n",
              "      <td>1350000.0</td>\n",
              "      <td>32.30</td>\n",
              "      <td>2017-07-21T00:00:00</td>\n",
              "      <td>1</td>\n",
              "      <td>2.50</td>\n",
              "      <td>5</td>\n",
              "      <td>12.3</td>\n",
              "      <td>1</td>\n",
              "      <td>False</td>\n",
              "      <td>...</td>\n",
              "      <td>9.00</td>\n",
              "      <td>0</td>\n",
              "      <td>поселок Новый Учхоз</td>\n",
              "      <td>NaN</td>\n",
              "      <td>NaN</td>\n",
              "      <td>NaN</td>\n",
              "      <td>NaN</td>\n",
              "      <td>NaN</td>\n",
              "      <td>NaN</td>\n",
              "      <td>NaN</td>\n",
              "    </tr>\n",
              "  </tbody>\n",
              "</table>\n",
              "<p>23613 rows × 22 columns</p>\n",
              "</div>"
            ],
            "text/plain": [
              "       total_images  last_price  total_area first_day_exposition  rooms  \\\n",
              "0                20  13000000.0      108.00  2019-03-07T00:00:00      3   \n",
              "1                 7   3350000.0       40.40  2018-12-04T00:00:00      1   \n",
              "2                10   5196000.0       56.00  2015-08-20T00:00:00      2   \n",
              "3                 0  64900000.0      159.00  2015-07-24T00:00:00      3   \n",
              "4                 2  10000000.0      100.00  2018-06-19T00:00:00      2   \n",
              "...             ...         ...         ...                  ...    ...   \n",
              "23608             9   9700000.0      133.81  2017-03-21T00:00:00      3   \n",
              "23609            14   3100000.0       59.00  2018-01-15T00:00:00      3   \n",
              "23610            18   2500000.0       56.70  2018-02-11T00:00:00      2   \n",
              "23611            13  11475000.0       76.75  2017-03-28T00:00:00      2   \n",
              "23612             4   1350000.0       32.30  2017-07-21T00:00:00      1   \n",
              "\n",
              "       ceiling_height  floors_total  living_area  floor  is_apartment  ...  \\\n",
              "0                2.70            16         51.0      8         False  ...   \n",
              "1                2.65            11         18.6      1         False  ...   \n",
              "2                2.65             5         34.3      4         False  ...   \n",
              "3                2.65            14         45.0      9         False  ...   \n",
              "4                3.03            14         32.0     13         False  ...   \n",
              "...               ...           ...          ...    ...           ...  ...   \n",
              "23608            3.70             5         73.3      3         False  ...   \n",
              "23609            2.65             5         38.0      4         False  ...   \n",
              "23610            2.65             3         29.7      1         False  ...   \n",
              "23611            3.00            17         30.5     12         False  ...   \n",
              "23612            2.50             5         12.3      1         False  ...   \n",
              "\n",
              "       kitchen_area  balcony        locality_name  airports_nearest  \\\n",
              "0             25.00        0      Санкт-Петербург           18863.0   \n",
              "1             11.00        2       посёлок Шушары           12817.0   \n",
              "2              8.30        0      Санкт-Петербург           21741.0   \n",
              "3               NaN        0      Санкт-Петербург           28098.0   \n",
              "4             41.00        0      Санкт-Петербург           31856.0   \n",
              "...             ...      ...                  ...               ...   \n",
              "23608         13.83        0      Санкт-Петербург           24665.0   \n",
              "23609          8.50        0                Тосно               NaN   \n",
              "23610           NaN        0     село Рождествено               NaN   \n",
              "23611         23.30        2      Санкт-Петербург           39140.0   \n",
              "23612          9.00        0  поселок Новый Учхоз               NaN   \n",
              "\n",
              "      cityCenters_nearest  parks_around3000  parks_nearest  ponds_around3000  \\\n",
              "0                 16028.0               1.0          482.0               2.0   \n",
              "1                 18603.0               0.0            NaN               0.0   \n",
              "2                 13933.0               1.0           90.0               2.0   \n",
              "3                  6800.0               2.0           84.0               3.0   \n",
              "4                  8098.0               2.0          112.0               1.0   \n",
              "...                   ...               ...            ...               ...   \n",
              "23608              4232.0               1.0          796.0               3.0   \n",
              "23609                 NaN               NaN            NaN               NaN   \n",
              "23610                 NaN               NaN            NaN               NaN   \n",
              "23611             10364.0               2.0          173.0               3.0   \n",
              "23612                 NaN               NaN            NaN               NaN   \n",
              "\n",
              "       ponds_nearest  days_exposition  \n",
              "0              755.0              NaN  \n",
              "1                NaN             81.0  \n",
              "2              574.0            558.0  \n",
              "3              234.0            424.0  \n",
              "4               48.0            121.0  \n",
              "...              ...              ...  \n",
              "23608          381.0              NaN  \n",
              "23609            NaN             45.0  \n",
              "23610            NaN              NaN  \n",
              "23611          196.0            602.0  \n",
              "23612            NaN              NaN  \n",
              "\n",
              "[23613 rows x 22 columns]"
            ]
          },
          "metadata": {}
        }
      ]
    },
    {
      "cell_type": "code",
      "source": "data['locality_name'].value_counts()",
      "metadata": {},
      "execution_count": 17,
      "outputs": [
        {
          "execution_count": 17,
          "output_type": "execute_result",
          "data": {
            "text/plain": [
              "Санкт-Петербург                       15651\n",
              "посёлок Мурино                          520\n",
              "посёлок Шушары                          439\n",
              "Всеволожск                              398\n",
              "Пушкин                                  369\n",
              "                                      ...  \n",
              "поселок Коробицыно                        1\n",
              "посёлок Дзержинского                      1\n",
              "коттеджный поселок Кивеннапа Север        1\n",
              "посёлок Плоское                           1\n",
              "деревня Хязельки                          1\n",
              "Name: locality_name, Length: 365, dtype: int64"
            ]
          },
          "metadata": {}
        }
      ]
    },
    {
      "cell_type": "markdown",
      "source": "Как видим из результата выше, а также первых строк всей таблицы - много дубликатов будет на разнице букв е/ё, названий \"поселок городского типа\", \"поселок\", \"деревня\" итд. заменим эти значения и избавимся от дубликатов.",
      "metadata": {}
    },
    {
      "cell_type": "code",
      "source": "data['locality_name']=(data['locality_name'].str.replace('ё', 'е').replace('городской', '').replace('городского типа', '').replace('коттеджныйпоселок', 'поселок').replace(' поселок', 'поселок'))",
      "metadata": {},
      "execution_count": 18,
      "outputs": []
    },
    {
      "cell_type": "markdown",
      "source": "Проверим как изменились названия в датасете",
      "metadata": {}
    },
    {
      "cell_type": "code",
      "source": "data['locality_name'].value_counts()",
      "metadata": {
        "scrolled": true
      },
      "execution_count": 19,
      "outputs": [
        {
          "execution_count": 19,
          "output_type": "execute_result",
          "data": {
            "text/plain": [
              "Санкт-Петербург                       15651\n",
              "поселок Мурино                          552\n",
              "поселок Шушары                          439\n",
              "Всеволожск                              398\n",
              "Пушкин                                  369\n",
              "                                      ...  \n",
              "коттеджный поселок Кивеннапа Север        1\n",
              "поселок Коммунары                         1\n",
              "поселок Дзержинского                      1\n",
              "поселок Цвылево                           1\n",
              "поселок Ромашки                           1\n",
              "Name: locality_name, Length: 331, dtype: int64"
            ]
          },
          "metadata": {}
        }
      ]
    },
    {
      "cell_type": "markdown",
      "source": "Колчество строк изменилось - с 365 до 311, итого мы избавились от 54 дублирующих значений.",
      "metadata": {}
    },
    {
      "cell_type": "markdown",
      "source": "Данные приведены к общему виду. Продолжим предобработку",
      "metadata": {}
    },
    {
      "cell_type": "markdown",
      "source": "#### Обработка аномальных значений",
      "metadata": {}
    },
    {
      "cell_type": "markdown",
      "source": "Начнем с аномальных значений, которые попробуем найти с помощью диаграммы размаха",
      "metadata": {}
    },
    {
      "cell_type": "code",
      "source": " data.boxplot(column='ceiling_height')\nplt.ylim(0, 20)\nplt.show()\ndata['ceiling_height'].describe()",
      "metadata": {},
      "execution_count": 20,
      "outputs": [
        {
          "output_type": "display_data",
          "data": {
            "image/png": "[encoded data removed]",
            "text/plain": [
              "<Figure size 432x288 with 1 Axes>"
            ]
          },
          "metadata": {
            "needs_background": "light"
          }
        },
        {
          "execution_count": 20,
          "output_type": "execute_result",
          "data": {
            "text/plain": [
              "count    23613.000000\n",
              "mean         2.724581\n",
              "std          0.990085\n",
              "min          1.000000\n",
              "25%          2.600000\n",
              "50%          2.650000\n",
              "75%          2.700000\n",
              "max        100.000000\n",
              "Name: ceiling_height, dtype: float64"
            ]
          },
          "metadata": {}
        }
      ]
    },
    {
      "cell_type": "markdown",
      "source": "Видим, что выбросов много, начиная от 20м. Но высота потолка не может же быть такой. Скорее всего проблема в том, что между цифрами не стоит точка. Исправим это. Для этого поделим аномальные значения высота на 10, чтобы привести их к более реальным.",
      "metadata": {}
    },
    {
      "cell_type": "code",
      "source": "data['ceiling_height'] = np.round(data['ceiling_height'].where(data['ceiling_height']<20, data['ceiling_height']/10), 2)\n\n",
      "metadata": {},
      "execution_count": 21,
      "outputs": []
    },
    {
      "cell_type": "markdown",
      "source": "Таже аномально низкие значения для высоты потолков также отбросим. Этими значениями будут выступать высоты меньше 2,6 метров. Избавимся от аномальных значений высот и оставим те значения, которые входят в промежуток 2,6 м - 5 м. ",
      "metadata": {}
    },
    {
      "cell_type": "code",
      "source": "data = data[(data[\"ceiling_height\"] >= 2.6) & (data[\"ceiling_height\"] <= 5)] ",
      "metadata": {
        "scrolled": true
      },
      "execution_count": 22,
      "outputs": []
    },
    {
      "cell_type": "code",
      "source": "# код ревьюера\ndata.shape[0] / 23699",
      "metadata": {},
      "execution_count": 23,
      "outputs": [
        {
          "execution_count": 23,
          "output_type": "execute_result",
          "data": {
            "text/plain": [
              "0.992573526309127"
            ]
          },
          "metadata": {}
        }
      ]
    },
    {
      "cell_type": "markdown",
      "source": "Проверим, что все значения расположены в указанных выше пределах.",
      "metadata": {}
    },
    {
      "cell_type": "code",
      "source": "data.boxplot(column='ceiling_height')\nplt.ylim(2.5, 5)\nplt.show()",
      "metadata": {
        "scrolled": true
      },
      "execution_count": 24,
      "outputs": [
        {
          "output_type": "display_data",
          "data": {
            "image/png": "[encoded data removed]",
            "text/plain": [
              "<Figure size 432x288 with 1 Axes>"
            ]
          },
          "metadata": {
            "needs_background": "light"
          }
        }
      ]
    },
    {
      "cell_type": "markdown",
      "source": "Как видим - избавиться от выбросов получилось. Высоты потолков приведены к реальным размерам.",
      "metadata": {}
    },
    {
      "cell_type": "code",
      "source": "data.boxplot(column='total_area')\nplt.ylim(0, 200)\nplt.show()",
      "metadata": {
        "scrolled": true
      },
      "execution_count": 25,
      "outputs": [
        {
          "output_type": "display_data",
          "data": {
            "image/png": "[encoded data removed]",
            "text/plain": [
              "<Figure size 432x288 with 1 Axes>"
            ]
          },
          "metadata": {
            "needs_background": "light"
          }
        }
      ]
    },
    {
      "cell_type": "markdown",
      "source": "Выбивающиеся значения по общей площади можно обосновать тем, что объекты с площадь болше 125 кв м существуют.",
      "metadata": {}
    },
    {
      "cell_type": "code",
      "source": "data.boxplot(column='floors_total')\nplt.ylim(0, 65)\nplt.show()",
      "metadata": {},
      "execution_count": 26,
      "outputs": [
        {
          "output_type": "display_data",
          "data": {
            "image/png": "[encoded data removed]",
            "text/plain": [
              "<Figure size 432x288 with 1 Axes>"
            ]
          },
          "metadata": {
            "needs_background": "light"
          }
        }
      ]
    },
    {
      "cell_type": "markdown",
      "source": "Многоэтажные новостройки с количеством этажей 30+ - это также не является аномалией. Но при этом максимальная высота домов (исходя из данных, которые удалось найти - это 36 этажей. Следовательно, удалим аномальные значения выше 36 этажей",
      "metadata": {}
    },
    {
      "cell_type": "code",
      "source": "data = data[data[\"floors_total\"] <=36]",
      "metadata": {},
      "execution_count": 27,
      "outputs": []
    },
    {
      "cell_type": "markdown",
      "source": "Проверим удаление аномальных значений 36+ этажей",
      "metadata": {}
    },
    {
      "cell_type": "code",
      "source": "data.boxplot(column='floors_total')\nplt.ylim(0, 65)\nplt.show()",
      "metadata": {},
      "execution_count": 28,
      "outputs": [
        {
          "output_type": "display_data",
          "data": {
            "image/png": "[encoded data removed]",
            "text/plain": [
              "<Figure size 432x288 with 1 Axes>"
            ]
          },
          "metadata": {
            "needs_background": "light"
          }
        }
      ]
    },
    {
      "cell_type": "markdown",
      "source": "Удаление прошло успешно",
      "metadata": {}
    },
    {
      "cell_type": "code",
      "source": "data.describe()",
      "metadata": {},
      "execution_count": 29,
      "outputs": [
        {
          "execution_count": 29,
          "output_type": "execute_result",
          "data": {
            "text/html": [
              "<div>\n",
              "<style scoped>\n",
              "    .dataframe tbody tr th:only-of-type {\n",
              "        vertical-align: middle;\n",
              "    }\n",
              "\n",
              "    .dataframe tbody tr th {\n",
              "        vertical-align: top;\n",
              "    }\n",
              "\n",
              "    .dataframe thead th {\n",
              "        text-align: right;\n",
              "    }\n",
              "</style>\n",
              "<table border=\"1\" class=\"dataframe\">\n",
              "  <thead>\n",
              "    <tr style=\"text-align: right;\">\n",
              "      <th></th>\n",
              "      <th>total_images</th>\n",
              "      <th>last_price</th>\n",
              "      <th>total_area</th>\n",
              "      <th>rooms</th>\n",
              "      <th>ceiling_height</th>\n",
              "      <th>floors_total</th>\n",
              "      <th>living_area</th>\n",
              "      <th>floor</th>\n",
              "      <th>kitchen_area</th>\n",
              "      <th>balcony</th>\n",
              "      <th>airports_nearest</th>\n",
              "      <th>cityCenters_nearest</th>\n",
              "      <th>parks_around3000</th>\n",
              "      <th>parks_nearest</th>\n",
              "      <th>ponds_around3000</th>\n",
              "      <th>ponds_nearest</th>\n",
              "      <th>days_exposition</th>\n",
              "    </tr>\n",
              "  </thead>\n",
              "  <tbody>\n",
              "    <tr>\n",
              "      <th>count</th>\n",
              "      <td>23521.000000</td>\n",
              "      <td>2.352100e+04</td>\n",
              "      <td>23521.000000</td>\n",
              "      <td>23521.000000</td>\n",
              "      <td>23521.000000</td>\n",
              "      <td>23521.000000</td>\n",
              "      <td>23521.000000</td>\n",
              "      <td>23521.000000</td>\n",
              "      <td>21302.000000</td>\n",
              "      <td>23521.000000</td>\n",
              "      <td>18021.000000</td>\n",
              "      <td>18044.000000</td>\n",
              "      <td>18045.000000</td>\n",
              "      <td>8006.000000</td>\n",
              "      <td>18045.000000</td>\n",
              "      <td>9028.000000</td>\n",
              "      <td>20362.000000</td>\n",
              "    </tr>\n",
              "    <tr>\n",
              "      <th>mean</th>\n",
              "      <td>9.878619</td>\n",
              "      <td>6.532571e+06</td>\n",
              "      <td>60.340626</td>\n",
              "      <td>2.071128</td>\n",
              "      <td>2.697245</td>\n",
              "      <td>10.680966</td>\n",
              "      <td>34.327013</td>\n",
              "      <td>5.881383</td>\n",
              "      <td>10.568924</td>\n",
              "      <td>0.592109</td>\n",
              "      <td>28793.228289</td>\n",
              "      <td>14183.772999</td>\n",
              "      <td>0.610086</td>\n",
              "      <td>490.638771</td>\n",
              "      <td>0.770019</td>\n",
              "      <td>518.341050</td>\n",
              "      <td>180.958648</td>\n",
              "    </tr>\n",
              "    <tr>\n",
              "      <th>std</th>\n",
              "      <td>5.679464</td>\n",
              "      <td>1.083874e+07</td>\n",
              "      <td>35.551900</td>\n",
              "      <td>1.078508</td>\n",
              "      <td>0.215358</td>\n",
              "      <td>6.586719</td>\n",
              "      <td>21.683562</td>\n",
              "      <td>4.877649</td>\n",
              "      <td>5.897508</td>\n",
              "      <td>0.959217</td>\n",
              "      <td>12626.351044</td>\n",
              "      <td>8611.062318</td>\n",
              "      <td>0.801329</td>\n",
              "      <td>341.925171</td>\n",
              "      <td>0.939171</td>\n",
              "      <td>277.972893</td>\n",
              "      <td>219.859831</td>\n",
              "    </tr>\n",
              "    <tr>\n",
              "      <th>min</th>\n",
              "      <td>0.000000</td>\n",
              "      <td>1.219000e+04</td>\n",
              "      <td>12.000000</td>\n",
              "      <td>0.000000</td>\n",
              "      <td>2.500000</td>\n",
              "      <td>1.000000</td>\n",
              "      <td>2.000000</td>\n",
              "      <td>1.000000</td>\n",
              "      <td>1.300000</td>\n",
              "      <td>0.000000</td>\n",
              "      <td>0.000000</td>\n",
              "      <td>181.000000</td>\n",
              "      <td>0.000000</td>\n",
              "      <td>1.000000</td>\n",
              "      <td>0.000000</td>\n",
              "      <td>13.000000</td>\n",
              "      <td>1.000000</td>\n",
              "    </tr>\n",
              "    <tr>\n",
              "      <th>25%</th>\n",
              "      <td>6.000000</td>\n",
              "      <td>3.429000e+06</td>\n",
              "      <td>40.000000</td>\n",
              "      <td>1.000000</td>\n",
              "      <td>2.600000</td>\n",
              "      <td>5.000000</td>\n",
              "      <td>18.400000</td>\n",
              "      <td>2.000000</td>\n",
              "      <td>7.000000</td>\n",
              "      <td>0.000000</td>\n",
              "      <td>18575.000000</td>\n",
              "      <td>9234.000000</td>\n",
              "      <td>0.000000</td>\n",
              "      <td>288.000000</td>\n",
              "      <td>0.000000</td>\n",
              "      <td>293.000000</td>\n",
              "      <td>45.000000</td>\n",
              "    </tr>\n",
              "    <tr>\n",
              "      <th>50%</th>\n",
              "      <td>9.000000</td>\n",
              "      <td>4.650000e+06</td>\n",
              "      <td>52.000000</td>\n",
              "      <td>2.000000</td>\n",
              "      <td>2.650000</td>\n",
              "      <td>9.000000</td>\n",
              "      <td>30.300000</td>\n",
              "      <td>4.000000</td>\n",
              "      <td>9.100000</td>\n",
              "      <td>0.000000</td>\n",
              "      <td>26737.000000</td>\n",
              "      <td>13094.000000</td>\n",
              "      <td>0.000000</td>\n",
              "      <td>454.500000</td>\n",
              "      <td>1.000000</td>\n",
              "      <td>503.000000</td>\n",
              "      <td>95.000000</td>\n",
              "    </tr>\n",
              "    <tr>\n",
              "      <th>75%</th>\n",
              "      <td>14.000000</td>\n",
              "      <td>6.800000e+06</td>\n",
              "      <td>70.000000</td>\n",
              "      <td>3.000000</td>\n",
              "      <td>2.700000</td>\n",
              "      <td>16.000000</td>\n",
              "      <td>42.700000</td>\n",
              "      <td>8.000000</td>\n",
              "      <td>12.000000</td>\n",
              "      <td>1.000000</td>\n",
              "      <td>37268.000000</td>\n",
              "      <td>16287.000000</td>\n",
              "      <td>1.000000</td>\n",
              "      <td>612.000000</td>\n",
              "      <td>1.000000</td>\n",
              "      <td>730.000000</td>\n",
              "      <td>232.000000</td>\n",
              "    </tr>\n",
              "    <tr>\n",
              "      <th>max</th>\n",
              "      <td>50.000000</td>\n",
              "      <td>7.630000e+08</td>\n",
              "      <td>900.000000</td>\n",
              "      <td>19.000000</td>\n",
              "      <td>5.000000</td>\n",
              "      <td>36.000000</td>\n",
              "      <td>409.700000</td>\n",
              "      <td>33.000000</td>\n",
              "      <td>112.000000</td>\n",
              "      <td>5.000000</td>\n",
              "      <td>84869.000000</td>\n",
              "      <td>65968.000000</td>\n",
              "      <td>3.000000</td>\n",
              "      <td>3190.000000</td>\n",
              "      <td>3.000000</td>\n",
              "      <td>1344.000000</td>\n",
              "      <td>1580.000000</td>\n",
              "    </tr>\n",
              "  </tbody>\n",
              "</table>\n",
              "</div>"
            ],
            "text/plain": [
              "       total_images    last_price    total_area         rooms  ceiling_height  \\\n",
              "count  23521.000000  2.352100e+04  23521.000000  23521.000000    23521.000000   \n",
              "mean       9.878619  6.532571e+06     60.340626      2.071128        2.697245   \n",
              "std        5.679464  1.083874e+07     35.551900      1.078508        0.215358   \n",
              "min        0.000000  1.219000e+04     12.000000      0.000000        2.500000   \n",
              "25%        6.000000  3.429000e+06     40.000000      1.000000        2.600000   \n",
              "50%        9.000000  4.650000e+06     52.000000      2.000000        2.650000   \n",
              "75%       14.000000  6.800000e+06     70.000000      3.000000        2.700000   \n",
              "max       50.000000  7.630000e+08    900.000000     19.000000        5.000000   \n",
              "\n",
              "       floors_total   living_area         floor  kitchen_area       balcony  \\\n",
              "count  23521.000000  23521.000000  23521.000000  21302.000000  23521.000000   \n",
              "mean      10.680966     34.327013      5.881383     10.568924      0.592109   \n",
              "std        6.586719     21.683562      4.877649      5.897508      0.959217   \n",
              "min        1.000000      2.000000      1.000000      1.300000      0.000000   \n",
              "25%        5.000000     18.400000      2.000000      7.000000      0.000000   \n",
              "50%        9.000000     30.300000      4.000000      9.100000      0.000000   \n",
              "75%       16.000000     42.700000      8.000000     12.000000      1.000000   \n",
              "max       36.000000    409.700000     33.000000    112.000000      5.000000   \n",
              "\n",
              "       airports_nearest  cityCenters_nearest  parks_around3000  parks_nearest  \\\n",
              "count      18021.000000         18044.000000      18045.000000    8006.000000   \n",
              "mean       28793.228289         14183.772999          0.610086     490.638771   \n",
              "std        12626.351044          8611.062318          0.801329     341.925171   \n",
              "min            0.000000           181.000000          0.000000       1.000000   \n",
              "25%        18575.000000          9234.000000          0.000000     288.000000   \n",
              "50%        26737.000000         13094.000000          0.000000     454.500000   \n",
              "75%        37268.000000         16287.000000          1.000000     612.000000   \n",
              "max        84869.000000         65968.000000          3.000000    3190.000000   \n",
              "\n",
              "       ponds_around3000  ponds_nearest  days_exposition  \n",
              "count      18045.000000    9028.000000     20362.000000  \n",
              "mean           0.770019     518.341050       180.958648  \n",
              "std            0.939171     277.972893       219.859831  \n",
              "min            0.000000      13.000000         1.000000  \n",
              "25%            0.000000     293.000000        45.000000  \n",
              "50%            1.000000     503.000000        95.000000  \n",
              "75%            1.000000     730.000000       232.000000  \n",
              "max            3.000000    1344.000000      1580.000000  "
            ]
          },
          "metadata": {}
        }
      ]
    },
    {
      "cell_type": "markdown",
      "source": "Так, мы проверили выборочно аномалии в тех столбцах, в которых они могут встречаться и быть критичны для дальнейшего анализа.",
      "metadata": {}
    },
    {
      "cell_type": "markdown",
      "source": "",
      "metadata": {}
    },
    {
      "cell_type": "markdown",
      "source": "### Посчитайте и добавьте в таблицу новые столбцы",
      "metadata": {}
    },
    {
      "cell_type": "markdown",
      "source": "Необходимо добавить в данные следущие параметры:\n\n1 цена одного квадратного метра;\n\n2 день недели публикации объявления (0 — понедельник, 1 — вторник и так далее);\n\n3 месяц публикации объявления;\n\n4 год публикации объявления;\n\n5 тип этажа квартиры (значения — «‎первый», «последний», «другой»);\n\n6 расстояние до центра города в километрах (переведите из м в км и округлите до целых значений).\n\nНачнем с цены кв метра",
      "metadata": {}
    },
    {
      "cell_type": "code",
      "source": "data['m_price']=data['last_price']/data['total_area']#цена на м кв рассчитывается как отношение последней цены к общей площади квартиры\ndata['m_price'].head(10)",
      "metadata": {
        "scrolled": true
      },
      "execution_count": 30,
      "outputs": [
        {
          "execution_count": 30,
          "output_type": "execute_result",
          "data": {
            "text/plain": [
              "0    120370.370370\n",
              "1     82920.792079\n",
              "2     92785.714286\n",
              "3    408176.100629\n",
              "4    100000.000000\n",
              "5     95065.789474\n",
              "6     99195.710456\n",
              "7    110544.692737\n",
              "8     87454.764777\n",
              "9     88524.590164\n",
              "Name: m_price, dtype: float64"
            ]
          },
          "metadata": {}
        }
      ]
    },
    {
      "cell_type": "markdown",
      "source": "Займемся днями публикации объявлений",
      "metadata": {}
    },
    {
      "cell_type": "code",
      "source": "data['first_day_exposition'] = pd.to_datetime(data['first_day_exposition'], format='%Y-%m-%d %H:%M')\ndata['first_day_exposition'].head(10)",
      "metadata": {},
      "execution_count": 31,
      "outputs": [
        {
          "execution_count": 31,
          "output_type": "execute_result",
          "data": {
            "text/plain": [
              "0   2019-03-07\n",
              "1   2018-12-04\n",
              "2   2015-08-20\n",
              "3   2015-07-24\n",
              "4   2018-06-19\n",
              "5   2018-09-10\n",
              "6   2017-11-02\n",
              "7   2019-04-18\n",
              "8   2018-05-23\n",
              "9   2017-02-26\n",
              "Name: first_day_exposition, dtype: datetime64[ns]"
            ]
          },
          "metadata": {}
        }
      ]
    },
    {
      "cell_type": "code",
      "source": "data['first_day_exposition'] = pd.to_datetime(data['first_day_exposition'], format='%Y-%m-%d %H:%M')\ndata['weekday'] = data['first_day_exposition'].dt.weekday\ndata['weekday'].head(10)\n#привели форматы даты/времени к единому образцу, затем с помощью метода weekday создали новый столбец в датасете\n#куда поместили информацию о номере дня недели\n    ",
      "metadata": {
        "scrolled": true
      },
      "execution_count": 32,
      "outputs": [
        {
          "execution_count": 32,
          "output_type": "execute_result",
          "data": {
            "text/plain": [
              "0    3\n",
              "1    1\n",
              "2    3\n",
              "3    4\n",
              "4    1\n",
              "5    0\n",
              "6    3\n",
              "7    3\n",
              "8    2\n",
              "9    6\n",
              "Name: weekday, dtype: int64"
            ]
          },
          "metadata": {}
        }
      ]
    },
    {
      "cell_type": "markdown",
      "source": "Перейдем к месяцу публикации. Будем использовать метод dt.month",
      "metadata": {}
    },
    {
      "cell_type": "code",
      "source": "data['first_day_exposition'] = pd.to_datetime(data['first_day_exposition'], format='%Y-%m-%d %H:%M')\ndata['month'] = data['first_day_exposition'].dt.month\ndata['month'].head(10)",
      "metadata": {},
      "execution_count": 33,
      "outputs": [
        {
          "execution_count": 33,
          "output_type": "execute_result",
          "data": {
            "text/plain": [
              "0     3\n",
              "1    12\n",
              "2     8\n",
              "3     7\n",
              "4     6\n",
              "5     9\n",
              "6    11\n",
              "7     4\n",
              "8     5\n",
              "9     2\n",
              "Name: month, dtype: int64"
            ]
          },
          "metadata": {}
        }
      ]
    },
    {
      "cell_type": "markdown",
      "source": "Год из строк достанем методом dt.year",
      "metadata": {}
    },
    {
      "cell_type": "code",
      "source": "data['first_day_exposition'] = pd.to_datetime(data['first_day_exposition'], format='%Y-%m-%d %H:%M')\ndata['year'] = data['first_day_exposition'].dt.year\ndata['year'].head(10)",
      "metadata": {},
      "execution_count": 34,
      "outputs": [
        {
          "execution_count": 34,
          "output_type": "execute_result",
          "data": {
            "text/plain": [
              "0    2019\n",
              "1    2018\n",
              "2    2015\n",
              "3    2015\n",
              "4    2018\n",
              "5    2018\n",
              "6    2017\n",
              "7    2019\n",
              "8    2018\n",
              "9    2017\n",
              "Name: year, dtype: int64"
            ]
          },
          "metadata": {}
        }
      ]
    },
    {
      "cell_type": "markdown",
      "source": "После сверки 10 первых строк исходных и 10 строк после применения каждого метода видим, что все работает исправно. Переходим к категоризации этажей.",
      "metadata": {}
    },
    {
      "cell_type": "markdown",
      "source": "Для определения категории (этажа) создадим функцию floor_category и передадим ей следующие условия",
      "metadata": {}
    },
    {
      "cell_type": "code",
      "source": "def floor_category (row):\n    if row['floor']==row['floors_total']:\n        return 'последний'\n    elif row['floor']== 1:\n        return 'первый'\n    else:\n        return 'другой'\ndata['floor_category']=data.apply(floor_category, axis=1)",
      "metadata": {},
      "execution_count": 35,
      "outputs": []
    },
    {
      "cell_type": "markdown",
      "source": "Вызовим первые 5 строк датасета, чтобы проверить добавленные столбцы",
      "metadata": {}
    },
    {
      "cell_type": "code",
      "source": "data.head(5)",
      "metadata": {
        "scrolled": true
      },
      "execution_count": 36,
      "outputs": [
        {
          "execution_count": 36,
          "output_type": "execute_result",
          "data": {
            "text/html": [
              "<div>\n",
              "<style scoped>\n",
              "    .dataframe tbody tr th:only-of-type {\n",
              "        vertical-align: middle;\n",
              "    }\n",
              "\n",
              "    .dataframe tbody tr th {\n",
              "        vertical-align: top;\n",
              "    }\n",
              "\n",
              "    .dataframe thead th {\n",
              "        text-align: right;\n",
              "    }\n",
              "</style>\n",
              "<table border=\"1\" class=\"dataframe\">\n",
              "  <thead>\n",
              "    <tr style=\"text-align: right;\">\n",
              "      <th></th>\n",
              "      <th>total_images</th>\n",
              "      <th>last_price</th>\n",
              "      <th>total_area</th>\n",
              "      <th>first_day_exposition</th>\n",
              "      <th>rooms</th>\n",
              "      <th>ceiling_height</th>\n",
              "      <th>floors_total</th>\n",
              "      <th>living_area</th>\n",
              "      <th>floor</th>\n",
              "      <th>is_apartment</th>\n",
              "      <th>...</th>\n",
              "      <th>parks_around3000</th>\n",
              "      <th>parks_nearest</th>\n",
              "      <th>ponds_around3000</th>\n",
              "      <th>ponds_nearest</th>\n",
              "      <th>days_exposition</th>\n",
              "      <th>m_price</th>\n",
              "      <th>weekday</th>\n",
              "      <th>month</th>\n",
              "      <th>year</th>\n",
              "      <th>floor_category</th>\n",
              "    </tr>\n",
              "  </thead>\n",
              "  <tbody>\n",
              "    <tr>\n",
              "      <th>0</th>\n",
              "      <td>20</td>\n",
              "      <td>13000000.0</td>\n",
              "      <td>108.0</td>\n",
              "      <td>2019-03-07</td>\n",
              "      <td>3</td>\n",
              "      <td>2.70</td>\n",
              "      <td>16</td>\n",
              "      <td>51.0</td>\n",
              "      <td>8</td>\n",
              "      <td>False</td>\n",
              "      <td>...</td>\n",
              "      <td>1.0</td>\n",
              "      <td>482.0</td>\n",
              "      <td>2.0</td>\n",
              "      <td>755.0</td>\n",
              "      <td>NaN</td>\n",
              "      <td>120370.370370</td>\n",
              "      <td>3</td>\n",
              "      <td>3</td>\n",
              "      <td>2019</td>\n",
              "      <td>другой</td>\n",
              "    </tr>\n",
              "    <tr>\n",
              "      <th>1</th>\n",
              "      <td>7</td>\n",
              "      <td>3350000.0</td>\n",
              "      <td>40.4</td>\n",
              "      <td>2018-12-04</td>\n",
              "      <td>1</td>\n",
              "      <td>2.65</td>\n",
              "      <td>11</td>\n",
              "      <td>18.6</td>\n",
              "      <td>1</td>\n",
              "      <td>False</td>\n",
              "      <td>...</td>\n",
              "      <td>0.0</td>\n",
              "      <td>NaN</td>\n",
              "      <td>0.0</td>\n",
              "      <td>NaN</td>\n",
              "      <td>81.0</td>\n",
              "      <td>82920.792079</td>\n",
              "      <td>1</td>\n",
              "      <td>12</td>\n",
              "      <td>2018</td>\n",
              "      <td>первый</td>\n",
              "    </tr>\n",
              "    <tr>\n",
              "      <th>2</th>\n",
              "      <td>10</td>\n",
              "      <td>5196000.0</td>\n",
              "      <td>56.0</td>\n",
              "      <td>2015-08-20</td>\n",
              "      <td>2</td>\n",
              "      <td>2.65</td>\n",
              "      <td>5</td>\n",
              "      <td>34.3</td>\n",
              "      <td>4</td>\n",
              "      <td>False</td>\n",
              "      <td>...</td>\n",
              "      <td>1.0</td>\n",
              "      <td>90.0</td>\n",
              "      <td>2.0</td>\n",
              "      <td>574.0</td>\n",
              "      <td>558.0</td>\n",
              "      <td>92785.714286</td>\n",
              "      <td>3</td>\n",
              "      <td>8</td>\n",
              "      <td>2015</td>\n",
              "      <td>другой</td>\n",
              "    </tr>\n",
              "    <tr>\n",
              "      <th>3</th>\n",
              "      <td>0</td>\n",
              "      <td>64900000.0</td>\n",
              "      <td>159.0</td>\n",
              "      <td>2015-07-24</td>\n",
              "      <td>3</td>\n",
              "      <td>2.65</td>\n",
              "      <td>14</td>\n",
              "      <td>45.0</td>\n",
              "      <td>9</td>\n",
              "      <td>False</td>\n",
              "      <td>...</td>\n",
              "      <td>2.0</td>\n",
              "      <td>84.0</td>\n",
              "      <td>3.0</td>\n",
              "      <td>234.0</td>\n",
              "      <td>424.0</td>\n",
              "      <td>408176.100629</td>\n",
              "      <td>4</td>\n",
              "      <td>7</td>\n",
              "      <td>2015</td>\n",
              "      <td>другой</td>\n",
              "    </tr>\n",
              "    <tr>\n",
              "      <th>4</th>\n",
              "      <td>2</td>\n",
              "      <td>10000000.0</td>\n",
              "      <td>100.0</td>\n",
              "      <td>2018-06-19</td>\n",
              "      <td>2</td>\n",
              "      <td>3.03</td>\n",
              "      <td>14</td>\n",
              "      <td>32.0</td>\n",
              "      <td>13</td>\n",
              "      <td>False</td>\n",
              "      <td>...</td>\n",
              "      <td>2.0</td>\n",
              "      <td>112.0</td>\n",
              "      <td>1.0</td>\n",
              "      <td>48.0</td>\n",
              "      <td>121.0</td>\n",
              "      <td>100000.000000</td>\n",
              "      <td>1</td>\n",
              "      <td>6</td>\n",
              "      <td>2018</td>\n",
              "      <td>другой</td>\n",
              "    </tr>\n",
              "  </tbody>\n",
              "</table>\n",
              "<p>5 rows × 27 columns</p>\n",
              "</div>"
            ],
            "text/plain": [
              "   total_images  last_price  total_area first_day_exposition  rooms  \\\n",
              "0            20  13000000.0       108.0           2019-03-07      3   \n",
              "1             7   3350000.0        40.4           2018-12-04      1   \n",
              "2            10   5196000.0        56.0           2015-08-20      2   \n",
              "3             0  64900000.0       159.0           2015-07-24      3   \n",
              "4             2  10000000.0       100.0           2018-06-19      2   \n",
              "\n",
              "   ceiling_height  floors_total  living_area  floor  is_apartment  ...  \\\n",
              "0            2.70            16         51.0      8         False  ...   \n",
              "1            2.65            11         18.6      1         False  ...   \n",
              "2            2.65             5         34.3      4         False  ...   \n",
              "3            2.65            14         45.0      9         False  ...   \n",
              "4            3.03            14         32.0     13         False  ...   \n",
              "\n",
              "   parks_around3000  parks_nearest  ponds_around3000  ponds_nearest  \\\n",
              "0               1.0          482.0               2.0          755.0   \n",
              "1               0.0            NaN               0.0            NaN   \n",
              "2               1.0           90.0               2.0          574.0   \n",
              "3               2.0           84.0               3.0          234.0   \n",
              "4               2.0          112.0               1.0           48.0   \n",
              "\n",
              "  days_exposition        m_price  weekday  month  year  floor_category  \n",
              "0             NaN  120370.370370        3      3  2019          другой  \n",
              "1            81.0   82920.792079        1     12  2018          первый  \n",
              "2           558.0   92785.714286        3      8  2015          другой  \n",
              "3           424.0  408176.100629        4      7  2015          другой  \n",
              "4           121.0  100000.000000        1      6  2018          другой  \n",
              "\n",
              "[5 rows x 27 columns]"
            ]
          },
          "metadata": {}
        }
      ]
    },
    {
      "cell_type": "markdown",
      "source": "Добавим столбец с расстоянием до центра города в КМ (переведем М в КМ и округлим до целых значений)",
      "metadata": {}
    },
    {
      "cell_type": "code",
      "source": "data['km_to_centre'] = data['cityCenters_nearest']/1000 #поделим расстояние на 1000м\ndata['km_to_centre'] = data['km_to_centre'].round(0) #округляем до целых чисел",
      "metadata": {},
      "execution_count": 37,
      "outputs": []
    },
    {
      "cell_type": "markdown",
      "source": "Выведем первые 10 строк датасета и проверим все добавленные столбцы",
      "metadata": {}
    },
    {
      "cell_type": "code",
      "source": "data.head(10)",
      "metadata": {
        "scrolled": true
      },
      "execution_count": 38,
      "outputs": [
        {
          "execution_count": 38,
          "output_type": "execute_result",
          "data": {
            "text/html": [
              "<div>\n",
              "<style scoped>\n",
              "    .dataframe tbody tr th:only-of-type {\n",
              "        vertical-align: middle;\n",
              "    }\n",
              "\n",
              "    .dataframe tbody tr th {\n",
              "        vertical-align: top;\n",
              "    }\n",
              "\n",
              "    .dataframe thead th {\n",
              "        text-align: right;\n",
              "    }\n",
              "</style>\n",
              "<table border=\"1\" class=\"dataframe\">\n",
              "  <thead>\n",
              "    <tr style=\"text-align: right;\">\n",
              "      <th></th>\n",
              "      <th>total_images</th>\n",
              "      <th>last_price</th>\n",
              "      <th>total_area</th>\n",
              "      <th>first_day_exposition</th>\n",
              "      <th>rooms</th>\n",
              "      <th>ceiling_height</th>\n",
              "      <th>floors_total</th>\n",
              "      <th>living_area</th>\n",
              "      <th>floor</th>\n",
              "      <th>is_apartment</th>\n",
              "      <th>...</th>\n",
              "      <th>parks_nearest</th>\n",
              "      <th>ponds_around3000</th>\n",
              "      <th>ponds_nearest</th>\n",
              "      <th>days_exposition</th>\n",
              "      <th>m_price</th>\n",
              "      <th>weekday</th>\n",
              "      <th>month</th>\n",
              "      <th>year</th>\n",
              "      <th>floor_category</th>\n",
              "      <th>km_to_centre</th>\n",
              "    </tr>\n",
              "  </thead>\n",
              "  <tbody>\n",
              "    <tr>\n",
              "      <th>0</th>\n",
              "      <td>20</td>\n",
              "      <td>13000000.0</td>\n",
              "      <td>108.00</td>\n",
              "      <td>2019-03-07</td>\n",
              "      <td>3</td>\n",
              "      <td>2.70</td>\n",
              "      <td>16</td>\n",
              "      <td>51.00</td>\n",
              "      <td>8</td>\n",
              "      <td>False</td>\n",
              "      <td>...</td>\n",
              "      <td>482.0</td>\n",
              "      <td>2.0</td>\n",
              "      <td>755.0</td>\n",
              "      <td>NaN</td>\n",
              "      <td>120370.370370</td>\n",
              "      <td>3</td>\n",
              "      <td>3</td>\n",
              "      <td>2019</td>\n",
              "      <td>другой</td>\n",
              "      <td>16.0</td>\n",
              "    </tr>\n",
              "    <tr>\n",
              "      <th>1</th>\n",
              "      <td>7</td>\n",
              "      <td>3350000.0</td>\n",
              "      <td>40.40</td>\n",
              "      <td>2018-12-04</td>\n",
              "      <td>1</td>\n",
              "      <td>2.65</td>\n",
              "      <td>11</td>\n",
              "      <td>18.60</td>\n",
              "      <td>1</td>\n",
              "      <td>False</td>\n",
              "      <td>...</td>\n",
              "      <td>NaN</td>\n",
              "      <td>0.0</td>\n",
              "      <td>NaN</td>\n",
              "      <td>81.0</td>\n",
              "      <td>82920.792079</td>\n",
              "      <td>1</td>\n",
              "      <td>12</td>\n",
              "      <td>2018</td>\n",
              "      <td>первый</td>\n",
              "      <td>19.0</td>\n",
              "    </tr>\n",
              "    <tr>\n",
              "      <th>2</th>\n",
              "      <td>10</td>\n",
              "      <td>5196000.0</td>\n",
              "      <td>56.00</td>\n",
              "      <td>2015-08-20</td>\n",
              "      <td>2</td>\n",
              "      <td>2.65</td>\n",
              "      <td>5</td>\n",
              "      <td>34.30</td>\n",
              "      <td>4</td>\n",
              "      <td>False</td>\n",
              "      <td>...</td>\n",
              "      <td>90.0</td>\n",
              "      <td>2.0</td>\n",
              "      <td>574.0</td>\n",
              "      <td>558.0</td>\n",
              "      <td>92785.714286</td>\n",
              "      <td>3</td>\n",
              "      <td>8</td>\n",
              "      <td>2015</td>\n",
              "      <td>другой</td>\n",
              "      <td>14.0</td>\n",
              "    </tr>\n",
              "    <tr>\n",
              "      <th>3</th>\n",
              "      <td>0</td>\n",
              "      <td>64900000.0</td>\n",
              "      <td>159.00</td>\n",
              "      <td>2015-07-24</td>\n",
              "      <td>3</td>\n",
              "      <td>2.65</td>\n",
              "      <td>14</td>\n",
              "      <td>45.00</td>\n",
              "      <td>9</td>\n",
              "      <td>False</td>\n",
              "      <td>...</td>\n",
              "      <td>84.0</td>\n",
              "      <td>3.0</td>\n",
              "      <td>234.0</td>\n",
              "      <td>424.0</td>\n",
              "      <td>408176.100629</td>\n",
              "      <td>4</td>\n",
              "      <td>7</td>\n",
              "      <td>2015</td>\n",
              "      <td>другой</td>\n",
              "      <td>7.0</td>\n",
              "    </tr>\n",
              "    <tr>\n",
              "      <th>4</th>\n",
              "      <td>2</td>\n",
              "      <td>10000000.0</td>\n",
              "      <td>100.00</td>\n",
              "      <td>2018-06-19</td>\n",
              "      <td>2</td>\n",
              "      <td>3.03</td>\n",
              "      <td>14</td>\n",
              "      <td>32.00</td>\n",
              "      <td>13</td>\n",
              "      <td>False</td>\n",
              "      <td>...</td>\n",
              "      <td>112.0</td>\n",
              "      <td>1.0</td>\n",
              "      <td>48.0</td>\n",
              "      <td>121.0</td>\n",
              "      <td>100000.000000</td>\n",
              "      <td>1</td>\n",
              "      <td>6</td>\n",
              "      <td>2018</td>\n",
              "      <td>другой</td>\n",
              "      <td>8.0</td>\n",
              "    </tr>\n",
              "    <tr>\n",
              "      <th>5</th>\n",
              "      <td>10</td>\n",
              "      <td>2890000.0</td>\n",
              "      <td>30.40</td>\n",
              "      <td>2018-09-10</td>\n",
              "      <td>1</td>\n",
              "      <td>2.65</td>\n",
              "      <td>12</td>\n",
              "      <td>14.40</td>\n",
              "      <td>5</td>\n",
              "      <td>False</td>\n",
              "      <td>...</td>\n",
              "      <td>NaN</td>\n",
              "      <td>NaN</td>\n",
              "      <td>NaN</td>\n",
              "      <td>55.0</td>\n",
              "      <td>95065.789474</td>\n",
              "      <td>0</td>\n",
              "      <td>9</td>\n",
              "      <td>2018</td>\n",
              "      <td>другой</td>\n",
              "      <td>NaN</td>\n",
              "    </tr>\n",
              "    <tr>\n",
              "      <th>6</th>\n",
              "      <td>6</td>\n",
              "      <td>3700000.0</td>\n",
              "      <td>37.30</td>\n",
              "      <td>2017-11-02</td>\n",
              "      <td>1</td>\n",
              "      <td>2.65</td>\n",
              "      <td>26</td>\n",
              "      <td>10.60</td>\n",
              "      <td>6</td>\n",
              "      <td>False</td>\n",
              "      <td>...</td>\n",
              "      <td>NaN</td>\n",
              "      <td>0.0</td>\n",
              "      <td>NaN</td>\n",
              "      <td>155.0</td>\n",
              "      <td>99195.710456</td>\n",
              "      <td>3</td>\n",
              "      <td>11</td>\n",
              "      <td>2017</td>\n",
              "      <td>другой</td>\n",
              "      <td>19.0</td>\n",
              "    </tr>\n",
              "    <tr>\n",
              "      <th>7</th>\n",
              "      <td>5</td>\n",
              "      <td>7915000.0</td>\n",
              "      <td>71.60</td>\n",
              "      <td>2019-04-18</td>\n",
              "      <td>2</td>\n",
              "      <td>2.65</td>\n",
              "      <td>24</td>\n",
              "      <td>30.50</td>\n",
              "      <td>22</td>\n",
              "      <td>False</td>\n",
              "      <td>...</td>\n",
              "      <td>NaN</td>\n",
              "      <td>0.0</td>\n",
              "      <td>NaN</td>\n",
              "      <td>NaN</td>\n",
              "      <td>110544.692737</td>\n",
              "      <td>3</td>\n",
              "      <td>4</td>\n",
              "      <td>2019</td>\n",
              "      <td>другой</td>\n",
              "      <td>12.0</td>\n",
              "    </tr>\n",
              "    <tr>\n",
              "      <th>8</th>\n",
              "      <td>20</td>\n",
              "      <td>2900000.0</td>\n",
              "      <td>33.16</td>\n",
              "      <td>2018-05-23</td>\n",
              "      <td>1</td>\n",
              "      <td>2.65</td>\n",
              "      <td>27</td>\n",
              "      <td>15.43</td>\n",
              "      <td>26</td>\n",
              "      <td>False</td>\n",
              "      <td>...</td>\n",
              "      <td>NaN</td>\n",
              "      <td>NaN</td>\n",
              "      <td>NaN</td>\n",
              "      <td>189.0</td>\n",
              "      <td>87454.764777</td>\n",
              "      <td>2</td>\n",
              "      <td>5</td>\n",
              "      <td>2018</td>\n",
              "      <td>другой</td>\n",
              "      <td>NaN</td>\n",
              "    </tr>\n",
              "    <tr>\n",
              "      <th>9</th>\n",
              "      <td>18</td>\n",
              "      <td>5400000.0</td>\n",
              "      <td>61.00</td>\n",
              "      <td>2017-02-26</td>\n",
              "      <td>3</td>\n",
              "      <td>2.50</td>\n",
              "      <td>9</td>\n",
              "      <td>43.60</td>\n",
              "      <td>7</td>\n",
              "      <td>False</td>\n",
              "      <td>...</td>\n",
              "      <td>NaN</td>\n",
              "      <td>0.0</td>\n",
              "      <td>NaN</td>\n",
              "      <td>289.0</td>\n",
              "      <td>88524.590164</td>\n",
              "      <td>6</td>\n",
              "      <td>2</td>\n",
              "      <td>2017</td>\n",
              "      <td>другой</td>\n",
              "      <td>15.0</td>\n",
              "    </tr>\n",
              "  </tbody>\n",
              "</table>\n",
              "<p>10 rows × 28 columns</p>\n",
              "</div>"
            ],
            "text/plain": [
              "   total_images  last_price  total_area first_day_exposition  rooms  \\\n",
              "0            20  13000000.0      108.00           2019-03-07      3   \n",
              "1             7   3350000.0       40.40           2018-12-04      1   \n",
              "2            10   5196000.0       56.00           2015-08-20      2   \n",
              "3             0  64900000.0      159.00           2015-07-24      3   \n",
              "4             2  10000000.0      100.00           2018-06-19      2   \n",
              "5            10   2890000.0       30.40           2018-09-10      1   \n",
              "6             6   3700000.0       37.30           2017-11-02      1   \n",
              "7             5   7915000.0       71.60           2019-04-18      2   \n",
              "8            20   2900000.0       33.16           2018-05-23      1   \n",
              "9            18   5400000.0       61.00           2017-02-26      3   \n",
              "\n",
              "   ceiling_height  floors_total  living_area  floor  is_apartment  ...  \\\n",
              "0            2.70            16        51.00      8         False  ...   \n",
              "1            2.65            11        18.60      1         False  ...   \n",
              "2            2.65             5        34.30      4         False  ...   \n",
              "3            2.65            14        45.00      9         False  ...   \n",
              "4            3.03            14        32.00     13         False  ...   \n",
              "5            2.65            12        14.40      5         False  ...   \n",
              "6            2.65            26        10.60      6         False  ...   \n",
              "7            2.65            24        30.50     22         False  ...   \n",
              "8            2.65            27        15.43     26         False  ...   \n",
              "9            2.50             9        43.60      7         False  ...   \n",
              "\n",
              "   parks_nearest  ponds_around3000  ponds_nearest  days_exposition  \\\n",
              "0          482.0               2.0          755.0              NaN   \n",
              "1            NaN               0.0            NaN             81.0   \n",
              "2           90.0               2.0          574.0            558.0   \n",
              "3           84.0               3.0          234.0            424.0   \n",
              "4          112.0               1.0           48.0            121.0   \n",
              "5            NaN               NaN            NaN             55.0   \n",
              "6            NaN               0.0            NaN            155.0   \n",
              "7            NaN               0.0            NaN              NaN   \n",
              "8            NaN               NaN            NaN            189.0   \n",
              "9            NaN               0.0            NaN            289.0   \n",
              "\n",
              "         m_price  weekday  month  year  floor_category  km_to_centre  \n",
              "0  120370.370370        3      3  2019          другой          16.0  \n",
              "1   82920.792079        1     12  2018          первый          19.0  \n",
              "2   92785.714286        3      8  2015          другой          14.0  \n",
              "3  408176.100629        4      7  2015          другой           7.0  \n",
              "4  100000.000000        1      6  2018          другой           8.0  \n",
              "5   95065.789474        0      9  2018          другой           NaN  \n",
              "6   99195.710456        3     11  2017          другой          19.0  \n",
              "7  110544.692737        3      4  2019          другой          12.0  \n",
              "8   87454.764777        2      5  2018          другой           NaN  \n",
              "9   88524.590164        6      2  2017          другой          15.0  \n",
              "\n",
              "[10 rows x 28 columns]"
            ]
          },
          "metadata": {}
        }
      ]
    },
    {
      "cell_type": "markdown",
      "source": "### Проведите исследовательский анализ данных",
      "metadata": {}
    },
    {
      "cell_type": "markdown",
      "source": "#### Изучим необходимые параметры объектов, а именно: \nобщая площадь;\nжилая площадь;\nплощадь кухни;\nцена объекта;\nколичество комнат;\nвысота потолков;\nэтаж квартиры;\nтип этажа квартиры («первый», «последний», «другой»);\nобщее количество этажей в доме;\nрасстояние до центра города в метрах;\nрасстояние до ближайшего аэропорта;\nрасстояние до ближайшего парка;\nдень и месяц публикации объявления.\n\nОтдельно построим гистограммы для каждого и опишем наблюдения.",
      "metadata": {}
    },
    {
      "cell_type": "code",
      "source": "data['total_area'].plot(kind = 'hist', bins=50, range=(0, 250), title = 'Общая площадь', grid =True)\nplt.show()",
      "metadata": {},
      "execution_count": 39,
      "outputs": [
        {
          "output_type": "display_data",
          "data": {
            "image/png": "[encoded data removed]",
            "text/plain": [
              "<Figure size 432x288 with 1 Axes>"
            ]
          },
          "metadata": {
            "needs_background": "light"
          }
        }
      ]
    },
    {
      "cell_type": "code",
      "source": "# код ревьюера\n\n\ndata['total_area'].hist(bins = 300, figsize = (15, 7), color='#A7D2CB')\nplt.xlim(10, 100)\n\nplt.title('Распределение значений общей площади')\nplt.xlabel('Площадь') \nplt.ylabel('Количество объявлений')\nplt.show()",
      "metadata": {},
      "execution_count": 40,
      "outputs": [
        {
          "output_type": "display_data",
          "data": {
            "image/png": "[encoded data removed]",
            "text/plain": [
              "<Figure size 1080x504 with 1 Axes>"
            ]
          },
          "metadata": {
            "needs_background": "light"
          }
        }
      ]
    },
    {
      "cell_type": "markdown",
      "source": "Как видно из полученного графика - наибольшее количество квартир приходится на метраж 20-60 кв м. При этом на графике виден большой хвост - в сторону метража более 100 кв м. Нельзя сказать, что эти значения аномальны - такие площади квартир действительно существуют, и их на самом деле не так много.",
      "metadata": {}
    },
    {
      "cell_type": "code",
      "source": "data['living_area'].hist(bins = 300, figsize = (15, 7), color='#A7D2CB')\nplt.xlim(10, 100)\n\nplt.title('Распределение значений жилой площади')\nplt.xlabel('Площадь') \nplt.ylabel('Количество объявлений')\nplt.show()",
      "metadata": {},
      "execution_count": 41,
      "outputs": [
        {
          "output_type": "display_data",
          "data": {
            "image/png": "[encoded data removed]",
            "text/plain": [
              "<Figure size 1080x504 with 1 Axes>"
            ]
          },
          "metadata": {
            "needs_background": "light"
          }
        }
      ]
    },
    {
      "cell_type": "markdown",
      "source": "Жилая площадь также колеблется в \"нормальном\" диапазоне 15-50 м кв. Данные значения также абсолютно нормальны. Здесь, хвост сопровождается также высокими значениями в 150-200 кв м.",
      "metadata": {}
    },
    {
      "cell_type": "code",
      "source": "data['kitchen_area'].hist(bins = 100, figsize = (15, 7), color='#A7D2CB')\nplt.xlim(10, 100)\n\nplt.title('Распределение значений площади кухни')\nplt.xlabel('Площадь') \nplt.ylabel('Количество объявлений')\nplt.show()\ndata['kitchen_area'].describe()",
      "metadata": {},
      "execution_count": 42,
      "outputs": [
        {
          "output_type": "display_data",
          "data": {
            "image/png": "[encoded data removed]",
            "text/plain": [
              "<Figure size 1080x504 with 1 Axes>"
            ]
          },
          "metadata": {
            "needs_background": "light"
          }
        },
        {
          "execution_count": 42,
          "output_type": "execute_result",
          "data": {
            "text/plain": [
              "count    21302.000000\n",
              "mean        10.568924\n",
              "std          5.897508\n",
              "min          1.300000\n",
              "25%          7.000000\n",
              "50%          9.100000\n",
              "75%         12.000000\n",
              "max        112.000000\n",
              "Name: kitchen_area, dtype: float64"
            ]
          },
          "metadata": {}
        }
      ]
    },
    {
      "cell_type": "markdown",
      "source": "Средняя площадь кухонь составляет 10,5 кв м. Тут также не наблюдается аномальных выбросов.",
      "metadata": {}
    },
    {
      "cell_type": "code",
      "source": "data['last_price'].hist(bins = 300, figsize = (15, 7), color='#A7D2CB')\nplt.xlim(10, 75000000)\n\nplt.title('Распределение значений цены объекта')\nplt.xlabel('Цена') \nplt.ylabel('Количество объявлений')\nplt.show()\nplt.show()",
      "metadata": {},
      "execution_count": 43,
      "outputs": [
        {
          "output_type": "display_data",
          "data": {
            "image/png": "[encoded data removed]",
            "text/plain": [
              "<Figure size 1080x504 with 1 Axes>"
            ]
          },
          "metadata": {
            "needs_background": "light"
          }
        }
      ]
    },
    {
      "cell_type": "markdown",
      "source": "Данный график показывает разброс цены до 75 млн рублей за объект. Мы видим, что пик предложений находится в диапазоне 4-9 млн рублей за квартиру. Хвост, где ценник уходит за 30 млн подтверждает предыдущие выводы о квартирах площадью за 150 кв м.",
      "metadata": {}
    },
    {
      "cell_type": "code",
      "source": "data['rooms'].hist(bins = 15, figsize = (15, 7), color='#A7D2CB')\nplt.xlim(1, 10)\n\nplt.title('Распределение значений количества комнат')\nplt.xlabel('Количество комнат') \nplt.ylabel('Количество объявлений')\nplt.show()",
      "metadata": {},
      "execution_count": 44,
      "outputs": [
        {
          "output_type": "display_data",
          "data": {
            "image/png": "[encoded data removed]",
            "text/plain": [
              "<Figure size 1080x504 with 1 Axes>"
            ]
          },
          "metadata": {
            "needs_background": "light"
          }
        }
      ]
    },
    {
      "cell_type": "markdown",
      "source": "Наибольшее предложение исходя из графика является на однокомнатные квартиры. Следом идут двушки, а затем трешки.",
      "metadata": {}
    },
    {
      "cell_type": "code",
      "source": "data['ceiling_height'].hist(bins = 5, figsize = (15, 7), color='#A7D2CB')\nplt.xlim(2, 4)\n\nplt.title('Распределение значений высоты потолков')\nplt.xlabel('Высота потолка') \nplt.ylabel('Количество объявлений')\nplt.show()",
      "metadata": {},
      "execution_count": 45,
      "outputs": [
        {
          "output_type": "display_data",
          "data": {
            "image/png": "[encoded data removed]",
            "text/plain": [
              "<Figure size 1080x504 with 1 Axes>"
            ]
          },
          "metadata": {
            "needs_background": "light"
          }
        }
      ]
    },
    {
      "cell_type": "markdown",
      "source": "Высота потолков, после нашего изменения данных на более реальные, колеблется между 2,5-2,75 метров - это стандартная высота потолков во многих квартирах.",
      "metadata": {}
    },
    {
      "cell_type": "code",
      "source": "data['floor'].hist(bins = 30, figsize = (15, 7), color='#A7D2CB')\nplt.xlim(1, 30)\n\nplt.title('Распределение значений этажей объектов')\nplt.xlabel('Этаж объекта') \nplt.ylabel('Количество объявлений')\nplt.show()",
      "metadata": {},
      "execution_count": 46,
      "outputs": [
        {
          "output_type": "display_data",
          "data": {
            "image/png": "[encoded data removed]",
            "text/plain": [
              "<Figure size 1080x504 with 1 Axes>"
            ]
          },
          "metadata": {
            "needs_background": "light"
          }
        }
      ]
    },
    {
      "cell_type": "markdown",
      "source": "Предложение квартир по этажам в основном в диапазоне 1-5 этаж",
      "metadata": {}
    },
    {
      "cell_type": "code",
      "source": "data['floor_category'].hist(bins = 5, figsize = (15, 7), color='#A7D2CB')\n\nplt.title('Распределение значений категорий этажа объекта')\nplt.xlabel('Категория этажа объекта') \nplt.ylabel('Количество объявлений')\nplt.show()",
      "metadata": {},
      "execution_count": 47,
      "outputs": [
        {
          "output_type": "display_data",
          "data": {
            "image/png": "[encoded data removed]",
            "text/plain": [
              "<Figure size 1080x504 with 1 Axes>"
            ]
          },
          "metadata": {
            "needs_background": "light"
          }
        }
      ]
    },
    {
      "cell_type": "markdown",
      "source": "При этом, предложения на 1 этаже самые малочисленные - отсюда, и на основании предыдущего графика, можно сделать вывод, что самые ходовые этажи со 2 по 4",
      "metadata": {}
    },
    {
      "cell_type": "code",
      "source": "data['floors_total'].hist(bins = 30, figsize = (15, 7), color='#A7D2CB')\nplt.xlim(1, 35)\n\nplt.title('Распределение значений количества этажей в доме')\nplt.xlabel('КОличество этажей') \nplt.ylabel('Количество объявлений')\nplt.show()",
      "metadata": {},
      "execution_count": 48,
      "outputs": [
        {
          "output_type": "display_data",
          "data": {
            "image/png": "[encoded data removed]",
            "text/plain": [
              "<Figure size 1080x504 with 1 Axes>"
            ]
          },
          "metadata": {
            "needs_background": "light"
          }
        }
      ]
    },
    {
      "cell_type": "markdown",
      "source": "Петербург не многоэтажный город сам по себе. Отсюда мы видим, что общее количество этажей в доме редко превышает 5. Вторые типы домов по популярности - девятиэтажки, и совсем редко встречаются многоэтажные дома (10+ этажей)",
      "metadata": {}
    },
    {
      "cell_type": "code",
      "source": "data['cityCenters_nearest'].hist(bins = 100, figsize = (15, 7), color='#A7D2CB')\nplt.xlim(0, 60000)\n\nplt.title('Распределение значений расстояний до центра города')\nplt.xlabel('Расстояние до центра города (м)') \nplt.ylabel('Количество объявлений')\nplt.show()",
      "metadata": {},
      "execution_count": 49,
      "outputs": [
        {
          "output_type": "display_data",
          "data": {
            "image/png": "[encoded data removed]",
            "text/plain": [
              "<Figure size 1080x504 with 1 Axes>"
            ]
          },
          "metadata": {
            "needs_background": "light"
          }
        }
      ]
    },
    {
      "cell_type": "markdown",
      "source": "Переводя из км в м, мы получаем, что среднее расстояние до центра города является 10 с небольшим км. Также подъемы значений есть на 30 и 50 км от города - их можно объяснить тем, что в выборке участвуют квартиры, расположенные в пригородах Петербурга.",
      "metadata": {}
    },
    {
      "cell_type": "code",
      "source": "data['airports_nearest'].hist(bins = 200, figsize = (15, 7), color='#A7D2CB')\nplt.xlim(0, 75000)\n\nplt.title('Распределение значений расстояний до аэропорта')\nplt.xlabel('Расстояние до аэропорта (м)') \nplt.ylabel('Количество объявлений')\nplt.show()",
      "metadata": {},
      "execution_count": 50,
      "outputs": [
        {
          "output_type": "display_data",
          "data": {
            "image/png": "[encoded data removed]",
            "text/plain": [
              "<Figure size 1080x504 with 1 Axes>"
            ]
          },
          "metadata": {
            "needs_background": "light"
          }
        }
      ]
    },
    {
      "cell_type": "markdown",
      "source": "Самое часто встречающееся расстояние до аэропорта колеблется от 15 до 25 км. Аэропорт расположен загородом.",
      "metadata": {}
    },
    {
      "cell_type": "code",
      "source": "data['parks_nearest'].hist(bins = 150, figsize = (15, 7), color='#A7D2CB')\nplt.xlim(0, 4000)\n\nplt.title('Распределение значений расстояний до ближайщего парка')\nplt.xlabel('Расстояние до ближайшего парка (м)') \nplt.ylabel('Количество объявлений')\nplt.show()\nprint(data['parks_nearest'].describe())\nprint(len(data))",
      "metadata": {},
      "execution_count": 51,
      "outputs": [
        {
          "output_type": "display_data",
          "data": {
            "image/png": "[encoded data removed]",
            "text/plain": [
              "<Figure size 1080x504 with 1 Axes>"
            ]
          },
          "metadata": {
            "needs_background": "light"
          }
        },
        {
          "name": "stdout",
          "output_type": "stream",
          "text": "count    8006.000000\n\nmean      490.638771\n\nstd       341.925171\n\nmin         1.000000\n\n25%       288.000000\n\n50%       454.500000\n\n75%       612.000000\n\nmax      3190.000000\n\nName: parks_nearest, dtype: float64\n\n23521\n"
        }
      ]
    },
    {
      "cell_type": "markdown",
      "source": "По паркам можно сказать, что в каждом населенном пункте они есть в шаговой доступности. Отсюда такие небольшие расстояния. Также, введено всего 8045 значений из 23613 - данных для анализа слишком мало.",
      "metadata": {}
    },
    {
      "cell_type": "code",
      "source": "data['month'].hist(bins = 24, figsize = (15, 7), color='#A7D2CB')\nplt.xlim(1, 12)\n\nplt.title('Распределение значений публикации по месяцам')\nplt.xlabel('Месяц') \nplt.ylabel('Количество объявлений')\nplt.show()",
      "metadata": {},
      "execution_count": 52,
      "outputs": [
        {
          "output_type": "display_data",
          "data": {
            "image/png": "[encoded data removed]",
            "text/plain": [
              "<Figure size 1080x504 with 1 Axes>"
            ]
          },
          "metadata": {
            "needs_background": "light"
          }
        }
      ]
    },
    {
      "cell_type": "markdown",
      "source": "Размещают объявления после Нового Года - февраль, март, апрель. И под конец года тренд на продажу растет. Это работает не только с рынком недвижимости, но и с другими рынками купли/продажи. Пик сезона начинается после новогодних праздников, затем спадает, а потом постепенно увеличивается к концу года",
      "metadata": {}
    },
    {
      "cell_type": "code",
      "source": "data['weekday'].hist(bins = 14, figsize = (15, 7), color='#A7D2CB')\nplt.xlim(0, 6)\n\nplt.title('Распределение значений публикации по дням недели')\nplt.xlabel('День недели') \nplt.ylabel('Количество объявлений')\nplt.show()",
      "metadata": {},
      "execution_count": 53,
      "outputs": [
        {
          "output_type": "display_data",
          "data": {
            "image/png": "[encoded data removed]",
            "text/plain": [
              "<Figure size 1080x504 with 1 Axes>"
            ]
          },
          "metadata": {
            "needs_background": "light"
          }
        }
      ]
    },
    {
      "cell_type": "markdown",
      "source": "Объявления чаще размещают в будние дни, так как во время рабочей недели люди решают свои вопросы, в том числе с поиском и покупкой жилья. На выходных активность в размещении, а также поиске объявлений падает",
      "metadata": {}
    },
    {
      "cell_type": "markdown",
      "source": "#### Как быстро продавались квартиры",
      "metadata": {}
    },
    {
      "cell_type": "markdown",
      "source": "Исследуем насколько быстро продавались квартиры - для этого построим гистограмму, выделим среднее и медиану",
      "metadata": {}
    },
    {
      "cell_type": "code",
      "source": "data['days_exposition'].plot(kind = 'hist', bins=50, range=(0, 365), title = 'Время публикации объявлений', grid =True)\nplt.show()\ndata.boxplot(column='days_exposition')\nplt.show()\ndata['days_exposition'].describe()\n#построим гистограмму и выведем ее описание",
      "metadata": {},
      "execution_count": 54,
      "outputs": [
        {
          "output_type": "display_data",
          "data": {
            "image/png": "[encoded data removed]",
            "text/plain": [
              "<Figure size 432x288 with 1 Axes>"
            ]
          },
          "metadata": {
            "needs_background": "light"
          }
        },
        {
          "output_type": "display_data",
          "data": {
            "image/png": "[encoded data removed]",
            "text/plain": [
              "<Figure size 432x288 with 1 Axes>"
            ]
          },
          "metadata": {
            "needs_background": "light"
          }
        },
        {
          "execution_count": 54,
          "output_type": "execute_result",
          "data": {
            "text/plain": [
              "count    20362.000000\n",
              "mean       180.958648\n",
              "std        219.859831\n",
              "min          1.000000\n",
              "25%         45.000000\n",
              "50%         95.000000\n",
              "75%        232.000000\n",
              "max       1580.000000\n",
              "Name: days_exposition, dtype: float64"
            ]
          },
          "metadata": {}
        }
      ]
    },
    {
      "cell_type": "markdown",
      "source": "Из полученных данных видим, что медианное значение для продажи - 95 дней, а среднее 180 дней, что почти в 2 раза больше. Однозначно сказать почему квартиры продаются в разные сроки нельзя - это может зависеть и от качества объявления, от самого хозяина, от множества других факторов. Можно сказать, что самое быстро время продажи - 1 день, а максимальное - 1580 дней.\n\nКоличество дней \"нормальной\" продажи находится в границе Q1-Q3 и составляет от 1 до 232 дней. Все, что выходит за рамки усов графика будет аномально долгой продажей. Также, исходя из примененного метода describe, мы видим, что границы быстрой продажи квартиры будут находиться в пределах 1 - 44 дня, а долгой - свыше 215 дней.",
      "metadata": {}
    },
    {
      "cell_type": "markdown",
      "source": "#### Влияние на общую стоимость объекта",
      "metadata": {}
    },
    {
      "cell_type": "markdown",
      "source": "Изучим, как цена зависит и зависит ли вообще от:\nобщей площади;\nжилой площади;\nплощади кухни;\nколичества комнат;\nэтажа, на котором расположена квартира (первый, последний, другой);\nдаты размещения (день недели, месяц, год).",
      "metadata": {}
    },
    {
      "cell_type": "markdown",
      "source": "Проверим зависимость от жилой площади. Для этого построим сводную таблицу методом pivot_table, а затем вызовим график",
      "metadata": {}
    },
    {
      "cell_type": "code",
      "source": "data.plot(x='last_price', y='total_area', kind='scatter', figsize=(15, 7))\nplt.xlim(0, 75000000)\nplt.title('Распределение зависимости стоимости объекта от общей площади')\nplt.xlabel('Цена') \nplt.ylabel('Общая площадь')\nplt.show()\ndata['total_area'].describe()",
      "metadata": {},
      "execution_count": 55,
      "outputs": [
        {
          "output_type": "display_data",
          "data": {
            "image/png": "[encoded data removed]",
            "text/plain": [
              "<Figure size 1080x504 with 1 Axes>"
            ]
          },
          "metadata": {
            "needs_background": "light"
          }
        },
        {
          "execution_count": 55,
          "output_type": "execute_result",
          "data": {
            "text/plain": [
              "count    23521.000000\n",
              "mean        60.340626\n",
              "std         35.551900\n",
              "min         12.000000\n",
              "25%         40.000000\n",
              "50%         52.000000\n",
              "75%         70.000000\n",
              "max        900.000000\n",
              "Name: total_area, dtype: float64"
            ]
          },
          "metadata": {}
        }
      ]
    },
    {
      "cell_type": "markdown",
      "source": "Как мы видим из графика и сводной таблицы - цена объектов очень сильно зависит от общей площади, чем она выше, тем выше цена, что логично",
      "metadata": {}
    },
    {
      "cell_type": "markdown",
      "source": "Выясним зависимость от площади кухни. Также будем использовать сводную таблицу.",
      "metadata": {}
    },
    {
      "cell_type": "code",
      "source": "data.plot(x='last_price', y='kitchen_area', kind='scatter', figsize=(15, 7))\nplt.xlim(0, 75000000)\nplt.title('Распределение зависимости стоимости объекта от площади кухни')\nplt.xlabel('Цена') \nplt.ylabel('Площадь кухни')\nplt.show()",
      "metadata": {},
      "execution_count": 56,
      "outputs": [
        {
          "output_type": "display_data",
          "data": {
            "image/png": "[encoded data removed]",
            "text/plain": [
              "<Figure size 1080x504 with 1 Axes>"
            ]
          },
          "metadata": {
            "needs_background": "light"
          }
        }
      ]
    },
    {
      "cell_type": "markdown",
      "source": "Здесь также видна возрастающая динамика зависимости цены объекта от размера кухни",
      "metadata": {}
    },
    {
      "cell_type": "markdown",
      "source": "Теперь выявим зависимость от количества комнат",
      "metadata": {}
    },
    {
      "cell_type": "code",
      "source": "data_pivot = data.pivot_table(index= ['rooms'], values='last_price', aggfunc='mean')\nprint(data_pivot.sort_values(by='rooms'))\ndata_pivot['last_price'].plot(figsize=(15, 7), grid=True, kind='bar')\nplt.ylabel('last_price')\nplt.xlabel('rooms')\nplt.show()",
      "metadata": {},
      "execution_count": 57,
      "outputs": [
        {
          "name": "stdout",
          "output_type": "stream",
          "text": "         last_price\n\nrooms              \n\n0      3.319335e+06\n\n1      3.836258e+06\n\n2      5.597451e+06\n\n3      8.176926e+06\n\n4      1.333903e+07\n\n5      2.328065e+07\n\n6      3.154323e+07\n\n7      5.147007e+07\n\n8      5.022417e+07\n\n9      3.415236e+07\n\n10     2.616667e+07\n\n11     2.525000e+07\n\n12     4.200000e+08\n\n14     2.682950e+07\n\n15     6.500000e+07\n\n16     2.850000e+07\n\n19     3.225000e+07\n"
        },
        {
          "output_type": "display_data",
          "data": {
            "image/png": "[encoded data removed]",
            "text/plain": [
              "<Figure size 1080x504 with 1 Axes>"
            ]
          },
          "metadata": {
            "needs_background": "light"
          }
        }
      ]
    },
    {
      "cell_type": "markdown",
      "source": "Зависимость от количества комнат будем смореть по диапазону до 40 млн за объект. Из графика видно, что оптимальное количество комнат, находится в диапазоне от 1 до 4х. Дальше цена то растет, то падает, что может свидетельствовать об индивидуальности каждого предложения по объектам. Пик значений приходится на 12 комнат - собственно эта позиция и дает такой большой разброс по цене",
      "metadata": {}
    },
    {
      "cell_type": "markdown",
      "source": "Перейдем к зависимости цены от категории этажа, на котором расположен объект",
      "metadata": {}
    },
    {
      "cell_type": "code",
      "source": "data_pivot = data.pivot_table(index= ['floor_category'], values='last_price', aggfunc='mean')\nprint(data_pivot.sort_values(by='floor_category'))\ndata_pivot['last_price'].plot(figsize=(15, 7), grid=True, kind='bar')\nplt.ylabel('last_price')\nplt.xlabel('floor_category')\nplt.xlim(0, 2)\nplt.show()\n\n\n",
      "metadata": {},
      "execution_count": 58,
      "outputs": [
        {
          "name": "stdout",
          "output_type": "stream",
          "text": "                  last_price\n\nfloor_category              \n\nдругой          6.677909e+06\n\nпервый          4.828572e+06\n\nпоследний       7.247516e+06\n"
        },
        {
          "output_type": "display_data",
          "data": {
            "image/png": "[encoded data removed]",
            "text/plain": [
              "<Figure size 1080x504 with 1 Axes>"
            ]
          },
          "metadata": {
            "needs_background": "light"
          }
        }
      ]
    },
    {
      "cell_type": "markdown",
      "source": "Исходя из полученной таблицы видим, что в среднем самые дорогие объекты расположены на последнем этаже, далее идут объекты, расположенные не на первом. Самые дешевые, относительно всех, те квартиры, которые находятся на 1 этаже",
      "metadata": {}
    },
    {
      "cell_type": "markdown",
      "source": "Рассмотри зависимость от даты размещения объявления (будем делать сводную талицу по параметрам день, месяц, год публикации)",
      "metadata": {}
    },
    {
      "cell_type": "code",
      "source": "data_pivot = data.pivot_table(index= ['last_price'], values=['weekday', 'month', 'year'] , aggfunc='mean')\nprint(data_pivot)",
      "metadata": {},
      "execution_count": 59,
      "outputs": [
        {
          "name": "stdout",
          "output_type": "stream",
          "text": "                 month  weekday     year\n\nlast_price                              \n\n12190.0       3.000000     2.00  2019.00\n\n430000.0      5.000000     0.50  2018.50\n\n440000.0      7.000000     1.00  2018.00\n\n450000.0      6.000000     2.25  2017.75\n\n470000.0      3.666667     4.00  2018.00\n\n...                ...      ...      ...\n\n300000000.0  12.000000     0.00  2017.00\n\n330000000.0   4.000000     2.00  2018.00\n\n401300000.0   2.000000     5.00  2016.00\n\n420000000.0  12.000000     2.00  2017.00\n\n763000000.0   9.000000     5.00  2017.00\n\n\n\n[2932 rows x 3 columns]\n"
        }
      ]
    },
    {
      "cell_type": "code",
      "source": "data_pivot = data.pivot_table(index= ['weekday'], values='last_price', aggfunc='mean')\nprint(data_pivot.sort_values(by='weekday'))\ndata_pivot['last_price'].plot(figsize=(15, 7), grid=True, kind='bar')\nplt.ylabel('last_price')\nplt.xlabel('weekday')\nplt.xlim(0, 6)\nplt.show()",
      "metadata": {},
      "execution_count": 60,
      "outputs": [
        {
          "name": "stdout",
          "output_type": "stream",
          "text": "           last_price\n\nweekday              \n\n0        6.500891e+06\n\n1        6.395652e+06\n\n2        6.624856e+06\n\n3        6.694091e+06\n\n4        6.337630e+06\n\n5        6.984297e+06\n\n6        6.256910e+06\n"
        },
        {
          "output_type": "display_data",
          "data": {
            "image/png": "[encoded data removed]",
            "text/plain": [
              "<Figure size 1080x504 with 1 Axes>"
            ]
          },
          "metadata": {
            "needs_background": "light"
          }
        }
      ]
    },
    {
      "cell_type": "markdown",
      "source": "Исходя из полученных данных мы видим, что значения цены относительно для недели публикации объявления в целом приблизительно одинаковы. Пик приходится на субботу, затем идет четверг и среда. Это не дает никакой зависисмости цены от дня недели публикации. Обратимся к зависимости от месяца",
      "metadata": {}
    },
    {
      "cell_type": "code",
      "source": "data_pivot = data.pivot_table(index= ['month'], values='last_price', aggfunc='mean')\nprint(data_pivot.sort_values(by='month'))\ndata_pivot['last_price'].plot(figsize=(15, 7), grid=True, kind='bar')\nplt.ylabel('last_price')\nplt.xlabel('month')\nplt.xlim(0, 12)\nplt.show()\n\n",
      "metadata": {},
      "execution_count": 61,
      "outputs": [
        {
          "name": "stdout",
          "output_type": "stream",
          "text": "         last_price\n\nmonth              \n\n1      6.638814e+06\n\n2      6.475324e+06\n\n3      6.360999e+06\n\n4      6.746405e+06\n\n5      6.612152e+06\n\n6      6.292931e+06\n\n7      6.583688e+06\n\n8      6.353380e+06\n\n9      6.845759e+06\n\n10     6.177309e+06\n\n11     6.446989e+06\n\n12     7.024256e+06\n"
        },
        {
          "output_type": "display_data",
          "data": {
            "image/png": "[encoded data removed]",
            "text/plain": [
              "<Figure size 1080x504 with 1 Axes>"
            ]
          },
          "metadata": {
            "needs_background": "light"
          }
        }
      ]
    },
    {
      "cell_type": "markdown",
      "source": "Ситуация зависисмости от месяца публикации аналогична - явной зависимости не видно. Посмотрим зависимость от года.",
      "metadata": {}
    },
    {
      "cell_type": "code",
      "source": "data_pivot = data.pivot_table(index= ['year'], values='last_price', aggfunc='mean')\nprint(data_pivot.sort_values(by='year'))\ndata_pivot['last_price'].plot(figsize=(15, 7), grid=True, kind='bar')\nplt.ylabel('last_price')\nplt.xlabel('year')\nplt.xlim(0, 6)\nplt.show()",
      "metadata": {},
      "execution_count": 62,
      "outputs": [
        {
          "name": "stdout",
          "output_type": "stream",
          "text": "        last_price\n\nyear              \n\n2014  1.208714e+07\n\n2015  8.489369e+06\n\n2016  6.838693e+06\n\n2017  6.573128e+06\n\n2018  5.945745e+06\n\n2019  6.783056e+06\n"
        },
        {
          "output_type": "display_data",
          "data": {
            "image/png": "[encoded data removed]",
            "text/plain": [
              "<Figure size 1080x504 with 1 Axes>"
            ]
          },
          "metadata": {
            "needs_background": "light"
          }
        }
      ]
    },
    {
      "cell_type": "markdown",
      "source": "В данной зависимости ситуация схожая, но наблюдается тренд на увеличение стоимости объектов с течением времени. Это можно объяснить тем, что цены на недвижимость с 2014 по 2019 год сильно выросли. \n\nПодытожив полученные данные, можно сказать, что зависимость цены объекта от времени публикации наблюдается только при увеличении года публикации - это связано с общим ростом цен на рынке недвижимости.",
      "metadata": {}
    },
    {
      "cell_type": "markdown",
      "source": "#### Рассчитаем цену 1 кв м в 10 населенных пунктах с самым большим количеством объявлений",
      "metadata": {}
    },
    {
      "cell_type": "markdown",
      "source": "Для начала построим сводную таблицу, чтобы выделить 10 наиболее популярных в объявлениях населенных пунктов",
      "metadata": {}
    },
    {
      "cell_type": "code",
      "source": "top_values_locality = data['locality_name'].value_counts().head(10).index\navg_price = (data.query('locality_name in @top_values_locality').pivot_table(index='locality_name', values='last_price', aggfunc='mean'))\nprint(avg_price)\navg_price.plot(kind='bar')\nplt.ylabel('last_price')\nplt.xlabel('locality_name')\n\n\n",
      "metadata": {},
      "execution_count": 63,
      "outputs": [
        {
          "name": "stdout",
          "output_type": "stream",
          "text": "                     last_price\n\nlocality_name                  \n\nВсеволожск         3.792819e+06\n\nВыборг             3.260779e+06\n\nГатчина            3.488337e+06\n\nКолпино            3.966585e+06\n\nПушкин             6.483946e+06\n\nСанкт-Петербург    8.046774e+06\n\nдеревня Кудрово    4.234158e+06\n\nпоселок Мурино     3.654697e+06\n\nпоселок Парголово  4.492946e+06\n\nпоселок Шушары     4.109809e+06\n"
        },
        {
          "execution_count": 63,
          "output_type": "execute_result",
          "data": {
            "text/plain": [
              "Text(0.5, 0, 'locality_name')"
            ]
          },
          "metadata": {}
        },
        {
          "output_type": "display_data",
          "data": {
            "image/png": "[encoded data removed]",
            "text/plain": [
              "<Figure size 432x288 with 1 Axes>"
            ]
          },
          "metadata": {
            "needs_background": "light"
          }
        }
      ]
    },
    {
      "cell_type": "markdown",
      "source": "Посмотрев график по сводной таблице мы видим десятку населенных пунктов с самым большим количеством объявлений. Найдем цену за 1 кв м из этой десятки.",
      "metadata": {}
    },
    {
      "cell_type": "code",
      "source": "top_values_locality = data['locality_name'].value_counts().head(10).index\navg_price = (data.query('locality_name in @top_values_locality').pivot_table(index='locality_name', values='m_price', aggfunc='mean'))\nprint(avg_price.sort_values(by='m_price'))\navg_price.sort_values(by='m_price').plot(kind='bar', figsize=(15, 7), grid=True)\nplt.ylabel('m_price')\nplt.xlabel('locality_name')",
      "metadata": {},
      "execution_count": 64,
      "outputs": [
        {
          "name": "stdout",
          "output_type": "stream",
          "text": "                         m_price\n\nlocality_name                   \n\nВыборг              58238.143141\n\nВсеволожск          68719.320400\n\nГатчина             68746.146763\n\nКолпино             75443.972838\n\nпоселок Шушары      78551.344545\n\nпоселок Мурино      85629.568678\n\nпоселок Парголово   90205.423758\n\nдеревня Кудрово     92473.547576\n\nПушкин             103147.825496\n\nСанкт-Петербург    114796.493415\n"
        },
        {
          "execution_count": 64,
          "output_type": "execute_result",
          "data": {
            "text/plain": [
              "Text(0.5, 0, 'locality_name')"
            ]
          },
          "metadata": {}
        },
        {
          "output_type": "display_data",
          "data": {
            "image/png": "[encoded data removed]",
            "text/plain": [
              "<Figure size 1080x504 with 1 Axes>"
            ]
          },
          "metadata": {
            "needs_background": "light"
          }
        }
      ]
    },
    {
      "cell_type": "markdown",
      "source": "Из созданного столбца цены за м кв получаем цену метра для каждого из 10 населенных пунктов. Узнать минимальное и максимальное значения поможет метод describe()",
      "metadata": {}
    },
    {
      "cell_type": "code",
      "source": "avg_price.describe().round(0)",
      "metadata": {},
      "execution_count": 65,
      "outputs": [
        {
          "execution_count": 65,
          "output_type": "execute_result",
          "data": {
            "text/html": [
              "<div>\n",
              "<style scoped>\n",
              "    .dataframe tbody tr th:only-of-type {\n",
              "        vertical-align: middle;\n",
              "    }\n",
              "\n",
              "    .dataframe tbody tr th {\n",
              "        vertical-align: top;\n",
              "    }\n",
              "\n",
              "    .dataframe thead th {\n",
              "        text-align: right;\n",
              "    }\n",
              "</style>\n",
              "<table border=\"1\" class=\"dataframe\">\n",
              "  <thead>\n",
              "    <tr style=\"text-align: right;\">\n",
              "      <th></th>\n",
              "      <th>m_price</th>\n",
              "    </tr>\n",
              "  </thead>\n",
              "  <tbody>\n",
              "    <tr>\n",
              "      <th>count</th>\n",
              "      <td>10.0</td>\n",
              "    </tr>\n",
              "    <tr>\n",
              "      <th>mean</th>\n",
              "      <td>83595.0</td>\n",
              "    </tr>\n",
              "    <tr>\n",
              "      <th>std</th>\n",
              "      <td>17189.0</td>\n",
              "    </tr>\n",
              "    <tr>\n",
              "      <th>min</th>\n",
              "      <td>58238.0</td>\n",
              "    </tr>\n",
              "    <tr>\n",
              "      <th>25%</th>\n",
              "      <td>70421.0</td>\n",
              "    </tr>\n",
              "    <tr>\n",
              "      <th>50%</th>\n",
              "      <td>82090.0</td>\n",
              "    </tr>\n",
              "    <tr>\n",
              "      <th>75%</th>\n",
              "      <td>91907.0</td>\n",
              "    </tr>\n",
              "    <tr>\n",
              "      <th>max</th>\n",
              "      <td>114796.0</td>\n",
              "    </tr>\n",
              "  </tbody>\n",
              "</table>\n",
              "</div>"
            ],
            "text/plain": [
              "        m_price\n",
              "count      10.0\n",
              "mean    83595.0\n",
              "std     17189.0\n",
              "min     58238.0\n",
              "25%     70421.0\n",
              "50%     82090.0\n",
              "75%     91907.0\n",
              "max    114796.0"
            ]
          },
          "metadata": {}
        }
      ]
    },
    {
      "cell_type": "markdown",
      "source": "Итого получается, что минимальный ценник на кв м будет в Выборге и составляет 76326 рублей, а максимальный - в Петербурге и составляет 155383 рубля. Средняя цена составляет 113342 рубля",
      "metadata": {}
    },
    {
      "cell_type": "markdown",
      "source": "#### Зависимость стоимости объектов от расстояния до центра Петербурга ",
      "metadata": {}
    },
    {
      "cell_type": "markdown",
      "source": "",
      "metadata": {}
    },
    {
      "cell_type": "code",
      "source": "data_sp=data.query('locality_name == \"Санкт-Петербург\"').reset_index(drop=True) #создадим переменную с объявлениями в Петербурге\ndata_sp_pivot = data_sp.pivot_table(index='km_to_centre', values='last_price')\nprint(data_sp_pivot)\nprint(data_sp_pivot.plot(figsize=(15,7), grid=True))\n #сделаем сводную таблицу зависимости цены до центра города по Петербургу и построим график\n\n",
      "metadata": {},
      "execution_count": 66,
      "outputs": [
        {
          "name": "stdout",
          "output_type": "stream",
          "text": "                last_price\n\nkm_to_centre              \n\n0.0           3.144912e+07\n\n1.0           2.127482e+07\n\n2.0           1.778832e+07\n\n3.0           1.113739e+07\n\n4.0           1.333481e+07\n\n5.0           1.431012e+07\n\n6.0           1.514690e+07\n\n7.0           1.454352e+07\n\n8.0           9.957559e+06\n\n9.0           6.977974e+06\n\n10.0          6.507488e+06\n\n11.0          6.232649e+06\n\n12.0          5.837506e+06\n\n13.0          6.081612e+06\n\n14.0          5.626274e+06\n\n15.0          5.876504e+06\n\n16.0          5.376025e+06\n\n17.0          5.299323e+06\n\n18.0          5.100913e+06\n\n19.0          5.051410e+06\n\n20.0          5.990037e+06\n\n21.0          5.493469e+06\n\n22.0          5.415524e+06\n\n23.0          5.000798e+06\n\n24.0          3.854430e+06\n\n25.0          4.052840e+06\n\n26.0          4.014287e+06\n\n27.0          8.300000e+06\n\n28.0          5.026429e+06\n\n29.0          4.236667e+06\n\nAxesSubplot(0.125,0.125;0.775x0.755)\n"
        },
        {
          "output_type": "display_data",
          "data": {
            "image/png": "[encoded data removed]",
            "text/plain": [
              "<Figure size 1080x504 with 1 Axes>"
            ]
          },
          "metadata": {
            "needs_background": "light"
          }
        }
      ]
    },
    {
      "cell_type": "code",
      "source": "data_sp_pivot.describe() #получим средние, минимальные и максимальные значения цены",
      "metadata": {},
      "execution_count": 67,
      "outputs": [
        {
          "execution_count": 67,
          "output_type": "execute_result",
          "data": {
            "text/html": [
              "<div>\n",
              "<style scoped>\n",
              "    .dataframe tbody tr th:only-of-type {\n",
              "        vertical-align: middle;\n",
              "    }\n",
              "\n",
              "    .dataframe tbody tr th {\n",
              "        vertical-align: top;\n",
              "    }\n",
              "\n",
              "    .dataframe thead th {\n",
              "        text-align: right;\n",
              "    }\n",
              "</style>\n",
              "<table border=\"1\" class=\"dataframe\">\n",
              "  <thead>\n",
              "    <tr style=\"text-align: right;\">\n",
              "      <th></th>\n",
              "      <th>last_price</th>\n",
              "    </tr>\n",
              "  </thead>\n",
              "  <tbody>\n",
              "    <tr>\n",
              "      <th>count</th>\n",
              "      <td>3.000000e+01</td>\n",
              "    </tr>\n",
              "    <tr>\n",
              "      <th>mean</th>\n",
              "      <td>8.809824e+06</td>\n",
              "    </tr>\n",
              "    <tr>\n",
              "      <th>std</th>\n",
              "      <td>6.247718e+06</td>\n",
              "    </tr>\n",
              "    <tr>\n",
              "      <th>min</th>\n",
              "      <td>3.854430e+06</td>\n",
              "    </tr>\n",
              "    <tr>\n",
              "      <th>25%</th>\n",
              "      <td>5.150516e+06</td>\n",
              "    </tr>\n",
              "    <tr>\n",
              "      <th>50%</th>\n",
              "      <td>5.933270e+06</td>\n",
              "    </tr>\n",
              "    <tr>\n",
              "      <th>75%</th>\n",
              "      <td>1.084244e+07</td>\n",
              "    </tr>\n",
              "    <tr>\n",
              "      <th>max</th>\n",
              "      <td>3.144912e+07</td>\n",
              "    </tr>\n",
              "  </tbody>\n",
              "</table>\n",
              "</div>"
            ],
            "text/plain": [
              "         last_price\n",
              "count  3.000000e+01\n",
              "mean   8.809824e+06\n",
              "std    6.247718e+06\n",
              "min    3.854430e+06\n",
              "25%    5.150516e+06\n",
              "50%    5.933270e+06\n",
              "75%    1.084244e+07\n",
              "max    3.144912e+07"
            ]
          },
          "metadata": {}
        }
      ]
    },
    {
      "cell_type": "markdown",
      "source": "Таким образом мы видим, что чем дальше расположено жилье от центра Петербурга - тем оно дешевле. Минимальная стоимость жилья составляет около 12 млн рублей (самое далекое от центра), а максимальное 33 млн - самое близкое к центру.",
      "metadata": {}
    },
    {
      "cell_type": "markdown",
      "source": "### Общий вывод",
      "metadata": {}
    },
    {
      "cell_type": "markdown",
      "source": "Мы провели комплексный анализ рынка недвижимости Санкт-Петербурга за 2014-2019 года.\n\nДанные, предоставленные для анализа были с недочетами - мы заменили пропущенные высоты потолков на медианные значения, сбросили пропуски в количестве этажей, так как для анализа это не так важно. Также мы обработали дубликаты в названиях населенных пунктов, округлили значения расстояний, сбросили аномальные значения в графах с высотами потолков. Словом, привели данные в вид, пригодный для дальнейшего анализа.\n\nНа основании полученных данных, можно сделать следующие выводы относительно стоимость объектов недвижимости.\n\nСтоимость объектов недвижимости зависит от множества факторов. Во первых, это непосредственные внутренние характеристики объекта - как мы выяснили при исследовании, наиболее сильно на цену влияет общая площать жилья, площадь жилая, площадь кухни. Также влияние оказывает количество комнат в квартире (этот параметр напрямую связан с общей площадью) - чем комнат больше, тем цена выше. \nКак выяснилось - высота потолков, тип жилья не оказывают большого влияния на конечную стоимость. Далее на цену оказывают влияние характеристики расположения жилья относительно самого дома - это этаж. Так, по полученным данным, наименее привлекательные, а следовательно, дешевые варианты - это первые этажи многоквартирных домов. Самой большой стоимостью обладают объекты, расположенные на последних этажах. Но наиболее массовые, находящиеся в среднем ценовом диапазоне, - это объекты со 2 этажа и выше (не включая последний). Также по Петербургу и пригородам заметен тренд на 2-4 этажи, так как сам по себе город не многоэтажный, по сравнению с той же Москвой. Далее на стоимость недвижимости оказывает влияние расстояние до центра города - тут логично сказать, что чем ближе к городскому центру находится жилье, тем оно дороже. Этот вывод подтверждает полученная по Петербургу статистика.\nРасстояние до ближайших парков, аэропортов, а также день, месяц, год даты публикации объявления не оказывают значительного влияния на стоимость недвижимости. \n\nТаким образом получается, что \"среднестатистическая квартира\" в объявлнеии имеет 2-3 комнаты, находится на 2-4 этаже, находится на расстоянии 5-10 км от центра Петербурга, имеет общую площадь в 50-60 кв метров.\n\nВ итоге можно сказать, что, как и ожидалось, на стоимость недвижимости влияют в основном 2 параметра - площадь объекта и его удаленность от центра. Данный принцип работает во всех населенных пунктах.\n\n",
      "metadata": {}
    }
  ]
}