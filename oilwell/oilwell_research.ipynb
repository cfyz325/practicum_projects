{
  "metadata": {
    "ExecuteTimeLog": [
      {
        "duration": 1733,
        "start_time": "2023-03-16T09:40:50.856Z"
      },
      {
        "duration": 4,
        "start_time": "2023-03-16T09:41:05.338Z"
      },
      {
        "duration": 1604,
        "start_time": "2023-03-16T09:44:43.655Z"
      },
      {
        "duration": 15,
        "start_time": "2023-03-16T09:45:54.052Z"
      },
      {
        "duration": 11,
        "start_time": "2023-03-16T09:46:18.788Z"
      },
      {
        "duration": 9,
        "start_time": "2023-03-16T09:46:36.242Z"
      },
      {
        "duration": 16,
        "start_time": "2023-03-16T09:47:03.820Z"
      },
      {
        "duration": 10,
        "start_time": "2023-03-16T09:47:14.509Z"
      },
      {
        "duration": 11,
        "start_time": "2023-03-16T09:47:38.530Z"
      },
      {
        "duration": 15,
        "start_time": "2023-03-16T09:48:03.214Z"
      },
      {
        "duration": 41,
        "start_time": "2023-03-16T09:48:16.535Z"
      },
      {
        "duration": 10,
        "start_time": "2023-03-16T09:48:22.897Z"
      },
      {
        "duration": 14,
        "start_time": "2023-03-16T09:51:18.620Z"
      },
      {
        "duration": 23,
        "start_time": "2023-03-16T09:51:40.510Z"
      },
      {
        "duration": 21,
        "start_time": "2023-03-16T09:51:47.508Z"
      },
      {
        "duration": 19,
        "start_time": "2023-03-16T09:54:06.437Z"
      },
      {
        "duration": 20,
        "start_time": "2023-03-16T09:54:41.668Z"
      },
      {
        "duration": 13,
        "start_time": "2023-03-16T09:54:50.117Z"
      },
      {
        "duration": 9,
        "start_time": "2023-03-16T09:54:57.944Z"
      },
      {
        "duration": 21,
        "start_time": "2023-03-16T09:55:27.173Z"
      },
      {
        "duration": 43,
        "start_time": "2023-03-16T10:00:44.505Z"
      },
      {
        "duration": 54,
        "start_time": "2023-03-16T10:07:53.781Z"
      },
      {
        "duration": 30,
        "start_time": "2023-03-16T10:08:01.758Z"
      },
      {
        "duration": 8,
        "start_time": "2023-03-16T10:15:05.022Z"
      },
      {
        "duration": 3,
        "start_time": "2023-03-16T10:18:38.385Z"
      },
      {
        "duration": 50,
        "start_time": "2023-03-16T10:24:50.828Z"
      },
      {
        "duration": 6,
        "start_time": "2023-03-16T10:27:24.796Z"
      },
      {
        "duration": 16,
        "start_time": "2023-03-16T10:32:49.092Z"
      },
      {
        "duration": 52,
        "start_time": "2023-03-16T10:32:50.458Z"
      },
      {
        "duration": 6,
        "start_time": "2023-03-16T10:32:52.101Z"
      },
      {
        "duration": 9,
        "start_time": "2023-03-16T10:35:45.050Z"
      },
      {
        "duration": 8,
        "start_time": "2023-03-16T10:36:06.750Z"
      },
      {
        "duration": 9,
        "start_time": "2023-03-16T10:36:18.498Z"
      },
      {
        "duration": 8,
        "start_time": "2023-03-16T10:36:24.052Z"
      },
      {
        "duration": 8,
        "start_time": "2023-03-16T10:36:31.661Z"
      },
      {
        "duration": 14,
        "start_time": "2023-03-16T10:37:28.086Z"
      },
      {
        "duration": 36,
        "start_time": "2023-03-16T10:37:28.999Z"
      },
      {
        "duration": 6,
        "start_time": "2023-03-16T10:37:30.417Z"
      },
      {
        "duration": 37,
        "start_time": "2023-03-16T10:42:51.216Z"
      },
      {
        "duration": 13,
        "start_time": "2023-03-16T10:45:15.797Z"
      },
      {
        "duration": 28,
        "start_time": "2023-03-16T10:45:58.784Z"
      },
      {
        "duration": 30,
        "start_time": "2023-03-16T10:46:56.531Z"
      },
      {
        "duration": 30,
        "start_time": "2023-03-16T10:47:39.572Z"
      },
      {
        "duration": 33,
        "start_time": "2023-03-16T10:48:04.714Z"
      },
      {
        "duration": 29,
        "start_time": "2023-03-16T10:48:20.723Z"
      },
      {
        "duration": 36,
        "start_time": "2023-03-16T10:48:37.367Z"
      },
      {
        "duration": 32,
        "start_time": "2023-03-16T10:48:55.126Z"
      },
      {
        "duration": 46,
        "start_time": "2023-03-16T10:49:03.885Z"
      },
      {
        "duration": 30,
        "start_time": "2023-03-16T10:50:58.545Z"
      },
      {
        "duration": 3,
        "start_time": "2023-03-16T11:05:21.425Z"
      },
      {
        "duration": 15,
        "start_time": "2023-03-16T11:05:28.739Z"
      },
      {
        "duration": 3,
        "start_time": "2023-03-16T11:06:10.366Z"
      },
      {
        "duration": 22,
        "start_time": "2023-03-16T11:07:12.512Z"
      },
      {
        "duration": 22,
        "start_time": "2023-03-16T11:09:02.039Z"
      },
      {
        "duration": 4,
        "start_time": "2023-03-16T11:11:35.179Z"
      },
      {
        "duration": 27,
        "start_time": "2023-03-16T11:12:11.693Z"
      },
      {
        "duration": 16,
        "start_time": "2023-03-16T11:12:16.366Z"
      },
      {
        "duration": 385,
        "start_time": "2023-03-16T11:13:59.476Z"
      },
      {
        "duration": 10,
        "start_time": "2023-03-16T11:14:00.266Z"
      },
      {
        "duration": 12,
        "start_time": "2023-03-16T11:14:00.758Z"
      },
      {
        "duration": 13,
        "start_time": "2023-03-16T11:14:01.245Z"
      },
      {
        "duration": 24,
        "start_time": "2023-03-16T11:14:02.920Z"
      },
      {
        "duration": 32,
        "start_time": "2023-03-16T11:14:03.333Z"
      },
      {
        "duration": 22,
        "start_time": "2023-03-16T11:14:03.789Z"
      },
      {
        "duration": 9,
        "start_time": "2023-03-16T11:15:26.216Z"
      },
      {
        "duration": 3,
        "start_time": "2023-03-16T11:15:47.167Z"
      },
      {
        "duration": 11,
        "start_time": "2023-03-16T11:15:55.064Z"
      },
      {
        "duration": 516,
        "start_time": "2023-03-16T11:16:03.363Z"
      },
      {
        "duration": 166,
        "start_time": "2023-03-16T11:16:22.689Z"
      },
      {
        "duration": 12,
        "start_time": "2023-03-16T11:16:29.205Z"
      },
      {
        "duration": 47,
        "start_time": "2023-03-16T11:16:30.120Z"
      },
      {
        "duration": 8,
        "start_time": "2023-03-16T11:16:31.063Z"
      },
      {
        "duration": 102,
        "start_time": "2023-03-16T11:16:47.784Z"
      },
      {
        "duration": 17,
        "start_time": "2023-03-16T11:16:50.760Z"
      },
      {
        "duration": 186,
        "start_time": "2023-03-16T11:17:29.561Z"
      },
      {
        "duration": 12,
        "start_time": "2023-03-16T11:17:31.883Z"
      },
      {
        "duration": 55,
        "start_time": "2023-03-16T11:17:35.023Z"
      },
      {
        "duration": 9,
        "start_time": "2023-03-16T11:17:36.136Z"
      },
      {
        "duration": 24,
        "start_time": "2023-03-16T11:17:40.160Z"
      },
      {
        "duration": 22,
        "start_time": "2023-03-16T11:21:33.637Z"
      },
      {
        "duration": 38,
        "start_time": "2023-03-16T11:21:35.372Z"
      },
      {
        "duration": 6,
        "start_time": "2023-03-16T11:21:36.319Z"
      },
      {
        "duration": 15,
        "start_time": "2023-03-16T11:21:40.612Z"
      },
      {
        "duration": 57,
        "start_time": "2023-03-16T11:23:25.320Z"
      },
      {
        "duration": 533,
        "start_time": "2023-03-16T11:24:18.947Z"
      },
      {
        "duration": 533,
        "start_time": "2023-03-16T11:24:46.335Z"
      },
      {
        "duration": 33,
        "start_time": "2023-03-16T11:24:53.823Z"
      },
      {
        "duration": 41,
        "start_time": "2023-03-16T11:25:02.735Z"
      },
      {
        "duration": 18,
        "start_time": "2023-03-16T11:25:21.962Z"
      },
      {
        "duration": 37,
        "start_time": "2023-03-16T11:25:23.113Z"
      },
      {
        "duration": 12,
        "start_time": "2023-03-16T11:25:25.469Z"
      },
      {
        "duration": 24,
        "start_time": "2023-03-16T11:25:30.968Z"
      },
      {
        "duration": 15,
        "start_time": "2023-03-16T11:25:49.120Z"
      },
      {
        "duration": 22,
        "start_time": "2023-03-16T11:26:50.235Z"
      },
      {
        "duration": 22,
        "start_time": "2023-03-16T11:26:56.988Z"
      },
      {
        "duration": 22,
        "start_time": "2023-03-16T11:27:05.407Z"
      },
      {
        "duration": 10,
        "start_time": "2023-03-16T11:32:00.953Z"
      },
      {
        "duration": 31,
        "start_time": "2023-03-16T11:32:13.131Z"
      },
      {
        "duration": 30,
        "start_time": "2023-03-16T11:32:21.235Z"
      },
      {
        "duration": 28,
        "start_time": "2023-03-16T11:32:29.255Z"
      },
      {
        "duration": 16,
        "start_time": "2023-03-16T11:32:32.995Z"
      },
      {
        "duration": 27,
        "start_time": "2023-03-16T11:33:13.751Z"
      },
      {
        "duration": 17,
        "start_time": "2023-03-16T11:33:17.495Z"
      },
      {
        "duration": 25,
        "start_time": "2023-03-16T11:33:24.601Z"
      },
      {
        "duration": 30,
        "start_time": "2023-03-16T11:33:30.336Z"
      },
      {
        "duration": 16,
        "start_time": "2023-03-16T11:33:33.900Z"
      },
      {
        "duration": 26,
        "start_time": "2023-03-16T11:34:34.851Z"
      },
      {
        "duration": 15,
        "start_time": "2023-03-16T11:34:38.287Z"
      },
      {
        "duration": 17,
        "start_time": "2023-03-16T11:34:39.428Z"
      },
      {
        "duration": 20,
        "start_time": "2023-03-16T11:34:41.196Z"
      },
      {
        "duration": 4,
        "start_time": "2023-03-16T11:35:09.719Z"
      },
      {
        "duration": 11,
        "start_time": "2023-03-16T11:36:47.383Z"
      },
      {
        "duration": 9,
        "start_time": "2023-03-16T11:36:57.304Z"
      },
      {
        "duration": 24,
        "start_time": "2023-03-16T11:37:00.355Z"
      },
      {
        "duration": 13,
        "start_time": "2023-03-16T11:37:01.233Z"
      },
      {
        "duration": 39,
        "start_time": "2023-03-16T11:38:05.337Z"
      },
      {
        "duration": 34,
        "start_time": "2023-03-16T11:38:22.300Z"
      },
      {
        "duration": 65,
        "start_time": "2023-03-16T11:38:27.480Z"
      },
      {
        "duration": 14,
        "start_time": "2023-03-16T11:38:41.304Z"
      },
      {
        "duration": 13,
        "start_time": "2023-03-16T11:38:46.725Z"
      },
      {
        "duration": 19,
        "start_time": "2023-03-16T11:38:49.941Z"
      },
      {
        "duration": 332,
        "start_time": "2023-03-16T11:40:11.288Z"
      },
      {
        "duration": 3,
        "start_time": "2023-03-16T11:40:14.831Z"
      },
      {
        "duration": 347,
        "start_time": "2023-03-16T11:40:18.016Z"
      },
      {
        "duration": 21,
        "start_time": "2023-03-16T11:40:24.160Z"
      },
      {
        "duration": 19,
        "start_time": "2023-03-16T11:40:27.612Z"
      },
      {
        "duration": 23,
        "start_time": "2023-03-16T11:40:28.435Z"
      },
      {
        "duration": 499,
        "start_time": "2023-03-16T11:40:30.207Z"
      },
      {
        "duration": 457,
        "start_time": "2023-03-16T11:40:33.347Z"
      },
      {
        "duration": 500,
        "start_time": "2023-03-16T11:40:33.904Z"
      },
      {
        "duration": 9,
        "start_time": "2023-03-16T11:40:46.755Z"
      },
      {
        "duration": 29,
        "start_time": "2023-03-16T11:40:48.939Z"
      },
      {
        "duration": 6,
        "start_time": "2023-03-16T11:40:52.891Z"
      },
      {
        "duration": 153,
        "start_time": "2023-03-16T11:40:57.825Z"
      },
      {
        "duration": 15,
        "start_time": "2023-03-16T11:41:03.052Z"
      },
      {
        "duration": 15,
        "start_time": "2023-03-16T11:41:05.892Z"
      },
      {
        "duration": 15,
        "start_time": "2023-03-16T11:41:09.723Z"
      },
      {
        "duration": 8,
        "start_time": "2023-03-16T11:44:19.919Z"
      },
      {
        "duration": 38,
        "start_time": "2023-03-16T11:44:21.830Z"
      },
      {
        "duration": 8,
        "start_time": "2023-03-16T11:44:23.677Z"
      },
      {
        "duration": 148,
        "start_time": "2023-03-16T11:44:30.937Z"
      },
      {
        "duration": 16,
        "start_time": "2023-03-16T11:44:37.321Z"
      },
      {
        "duration": 60,
        "start_time": "2023-03-16T11:45:27.653Z"
      },
      {
        "duration": 16,
        "start_time": "2023-03-16T11:45:34.521Z"
      },
      {
        "duration": 15,
        "start_time": "2023-03-16T11:45:47.105Z"
      },
      {
        "duration": 29,
        "start_time": "2023-03-16T11:48:50.623Z"
      },
      {
        "duration": 16,
        "start_time": "2023-03-16T11:49:31.821Z"
      },
      {
        "duration": 63,
        "start_time": "2023-03-16T11:50:01.097Z"
      },
      {
        "duration": 15,
        "start_time": "2023-03-16T11:50:38.551Z"
      },
      {
        "duration": 16,
        "start_time": "2023-03-16T12:06:15.266Z"
      },
      {
        "duration": 12,
        "start_time": "2023-03-16T12:06:50.011Z"
      },
      {
        "duration": 16,
        "start_time": "2023-03-16T12:13:00.514Z"
      },
      {
        "duration": 6,
        "start_time": "2023-03-16T12:29:32.822Z"
      },
      {
        "duration": 6,
        "start_time": "2023-03-16T12:30:48.308Z"
      },
      {
        "duration": 5,
        "start_time": "2023-03-16T12:34:12.769Z"
      },
      {
        "duration": 61,
        "start_time": "2023-03-16T12:34:37.277Z"
      },
      {
        "duration": 4,
        "start_time": "2023-03-16T12:34:45.121Z"
      },
      {
        "duration": 5,
        "start_time": "2023-03-16T12:36:51.519Z"
      },
      {
        "duration": 5,
        "start_time": "2023-03-16T12:37:11.226Z"
      },
      {
        "duration": 7,
        "start_time": "2023-03-16T12:37:32.869Z"
      },
      {
        "duration": 5,
        "start_time": "2023-03-16T12:37:38.875Z"
      },
      {
        "duration": 14,
        "start_time": "2023-03-16T12:37:45.565Z"
      },
      {
        "duration": 5,
        "start_time": "2023-03-16T12:37:56.185Z"
      },
      {
        "duration": 9,
        "start_time": "2023-03-16T12:38:08.439Z"
      },
      {
        "duration": 3,
        "start_time": "2023-03-16T12:49:30.904Z"
      },
      {
        "duration": 6,
        "start_time": "2023-03-16T12:50:49.260Z"
      },
      {
        "duration": 4,
        "start_time": "2023-03-16T12:52:15.784Z"
      },
      {
        "duration": 5,
        "start_time": "2023-03-16T12:52:36.312Z"
      },
      {
        "duration": 62,
        "start_time": "2023-03-16T12:53:50.099Z"
      },
      {
        "duration": 67,
        "start_time": "2023-03-16T12:54:01.604Z"
      },
      {
        "duration": 41,
        "start_time": "2023-03-16T12:54:14.852Z"
      },
      {
        "duration": 3,
        "start_time": "2023-03-16T12:54:33.121Z"
      },
      {
        "duration": 11,
        "start_time": "2023-03-16T13:05:50.690Z"
      },
      {
        "duration": 75,
        "start_time": "2023-03-16T13:08:19.512Z"
      },
      {
        "duration": 10,
        "start_time": "2023-03-16T13:08:36.900Z"
      },
      {
        "duration": 12,
        "start_time": "2023-03-16T13:09:23.895Z"
      },
      {
        "duration": 12,
        "start_time": "2023-03-16T13:09:38.372Z"
      },
      {
        "duration": 10,
        "start_time": "2023-03-16T13:09:52.078Z"
      },
      {
        "duration": 4,
        "start_time": "2023-03-16T13:09:57.198Z"
      },
      {
        "duration": 11,
        "start_time": "2023-03-16T13:09:58.053Z"
      },
      {
        "duration": 16,
        "start_time": "2023-03-16T13:10:02.481Z"
      },
      {
        "duration": 93,
        "start_time": "2023-03-16T13:10:38.949Z"
      },
      {
        "duration": 38,
        "start_time": "2023-03-16T13:10:49.519Z"
      },
      {
        "duration": 12,
        "start_time": "2023-03-16T13:10:55.347Z"
      },
      {
        "duration": 9,
        "start_time": "2023-03-16T13:11:35.540Z"
      },
      {
        "duration": 11,
        "start_time": "2023-03-16T13:11:37.032Z"
      },
      {
        "duration": 10,
        "start_time": "2023-03-16T13:11:41.346Z"
      },
      {
        "duration": 16,
        "start_time": "2023-03-16T13:11:42.476Z"
      },
      {
        "duration": 3,
        "start_time": "2023-03-16T13:14:14.980Z"
      },
      {
        "duration": 5,
        "start_time": "2023-03-16T13:14:22.739Z"
      },
      {
        "duration": 4,
        "start_time": "2023-03-16T13:14:31.172Z"
      },
      {
        "duration": 4,
        "start_time": "2023-03-16T13:14:38.569Z"
      },
      {
        "duration": 4,
        "start_time": "2023-03-16T13:15:45.828Z"
      },
      {
        "duration": 4,
        "start_time": "2023-03-16T13:15:52.779Z"
      },
      {
        "duration": 3,
        "start_time": "2023-03-16T13:16:12.530Z"
      },
      {
        "duration": 3,
        "start_time": "2023-03-16T13:16:17.927Z"
      },
      {
        "duration": 3,
        "start_time": "2023-03-16T13:16:41.372Z"
      },
      {
        "duration": 10,
        "start_time": "2023-03-16T13:17:46.070Z"
      },
      {
        "duration": 11,
        "start_time": "2023-03-16T13:18:10.095Z"
      },
      {
        "duration": 3,
        "start_time": "2023-03-16T13:18:34.352Z"
      },
      {
        "duration": 12,
        "start_time": "2023-03-16T13:19:19.789Z"
      },
      {
        "duration": 10,
        "start_time": "2023-03-16T13:19:38.273Z"
      },
      {
        "duration": 3,
        "start_time": "2023-03-16T13:19:58.620Z"
      },
      {
        "duration": 3,
        "start_time": "2023-03-16T13:20:09.737Z"
      },
      {
        "duration": 3,
        "start_time": "2023-03-16T13:20:15.206Z"
      },
      {
        "duration": 4,
        "start_time": "2023-03-16T13:39:34.890Z"
      },
      {
        "duration": 8,
        "start_time": "2023-03-16T13:40:30.681Z"
      },
      {
        "duration": 4,
        "start_time": "2023-03-16T13:41:25.850Z"
      },
      {
        "duration": 8,
        "start_time": "2023-03-16T13:41:28.334Z"
      },
      {
        "duration": 7,
        "start_time": "2023-03-16T13:41:39.586Z"
      },
      {
        "duration": 8,
        "start_time": "2023-03-16T13:41:59.757Z"
      },
      {
        "duration": 4,
        "start_time": "2023-03-16T13:42:51.393Z"
      },
      {
        "duration": 7,
        "start_time": "2023-03-16T13:42:59.424Z"
      },
      {
        "duration": 6,
        "start_time": "2023-03-16T13:43:12.221Z"
      },
      {
        "duration": 4,
        "start_time": "2023-03-16T13:44:40.893Z"
      },
      {
        "duration": 6,
        "start_time": "2023-03-16T13:44:43.693Z"
      },
      {
        "duration": 8,
        "start_time": "2023-03-16T13:45:04.398Z"
      },
      {
        "duration": 7,
        "start_time": "2023-03-16T13:45:24.216Z"
      },
      {
        "duration": 4,
        "start_time": "2023-03-16T13:46:32.298Z"
      },
      {
        "duration": 4,
        "start_time": "2023-03-16T13:47:44.829Z"
      },
      {
        "duration": 7,
        "start_time": "2023-03-16T13:47:52.177Z"
      },
      {
        "duration": 7,
        "start_time": "2023-03-16T13:47:58.688Z"
      },
      {
        "duration": 6,
        "start_time": "2023-03-16T13:48:03.298Z"
      },
      {
        "duration": 1228,
        "start_time": "2023-03-16T13:49:20.235Z"
      },
      {
        "duration": 324,
        "start_time": "2023-03-16T13:49:21.465Z"
      },
      {
        "duration": 12,
        "start_time": "2023-03-16T13:49:21.791Z"
      },
      {
        "duration": 10,
        "start_time": "2023-03-16T13:49:21.805Z"
      },
      {
        "duration": 29,
        "start_time": "2023-03-16T13:49:21.817Z"
      },
      {
        "duration": 21,
        "start_time": "2023-03-16T13:49:21.848Z"
      },
      {
        "duration": 17,
        "start_time": "2023-03-16T13:49:21.871Z"
      },
      {
        "duration": 16,
        "start_time": "2023-03-16T13:49:21.890Z"
      },
      {
        "duration": 472,
        "start_time": "2023-03-16T13:49:21.908Z"
      },
      {
        "duration": 488,
        "start_time": "2023-03-16T13:49:22.383Z"
      },
      {
        "duration": 472,
        "start_time": "2023-03-16T13:49:22.872Z"
      },
      {
        "duration": 9,
        "start_time": "2023-03-16T13:49:23.346Z"
      },
      {
        "duration": 35,
        "start_time": "2023-03-16T13:49:23.357Z"
      },
      {
        "duration": 7,
        "start_time": "2023-03-16T13:49:23.394Z"
      },
      {
        "duration": 115,
        "start_time": "2023-03-16T13:49:23.402Z"
      },
      {
        "duration": 0,
        "start_time": "2023-03-16T13:49:23.519Z"
      },
      {
        "duration": 0,
        "start_time": "2023-03-16T13:49:23.520Z"
      },
      {
        "duration": 0,
        "start_time": "2023-03-16T13:49:23.521Z"
      },
      {
        "duration": 0,
        "start_time": "2023-03-16T13:49:23.522Z"
      },
      {
        "duration": 0,
        "start_time": "2023-03-16T13:49:23.523Z"
      },
      {
        "duration": 0,
        "start_time": "2023-03-16T13:49:23.524Z"
      },
      {
        "duration": 0,
        "start_time": "2023-03-16T13:49:23.525Z"
      },
      {
        "duration": 0,
        "start_time": "2023-03-16T13:49:23.540Z"
      },
      {
        "duration": 0,
        "start_time": "2023-03-16T13:49:23.541Z"
      },
      {
        "duration": 0,
        "start_time": "2023-03-16T13:49:23.542Z"
      },
      {
        "duration": 0,
        "start_time": "2023-03-16T13:49:23.543Z"
      },
      {
        "duration": 0,
        "start_time": "2023-03-16T13:49:23.544Z"
      },
      {
        "duration": 0,
        "start_time": "2023-03-16T13:49:23.545Z"
      },
      {
        "duration": 0,
        "start_time": "2023-03-16T13:49:23.546Z"
      },
      {
        "duration": 0,
        "start_time": "2023-03-16T13:49:23.547Z"
      },
      {
        "duration": 0,
        "start_time": "2023-03-16T13:49:23.548Z"
      },
      {
        "duration": 0,
        "start_time": "2023-03-16T13:49:23.549Z"
      },
      {
        "duration": 0,
        "start_time": "2023-03-16T13:49:23.550Z"
      },
      {
        "duration": 0,
        "start_time": "2023-03-16T13:49:23.551Z"
      },
      {
        "duration": 0,
        "start_time": "2023-03-16T13:49:23.552Z"
      },
      {
        "duration": 158,
        "start_time": "2023-03-16T13:50:04.630Z"
      },
      {
        "duration": 1231,
        "start_time": "2023-03-16T13:50:16.747Z"
      },
      {
        "duration": 326,
        "start_time": "2023-03-16T13:50:17.980Z"
      },
      {
        "duration": 14,
        "start_time": "2023-03-16T13:50:18.307Z"
      },
      {
        "duration": 13,
        "start_time": "2023-03-16T13:50:18.322Z"
      },
      {
        "duration": 14,
        "start_time": "2023-03-16T13:50:18.340Z"
      },
      {
        "duration": 24,
        "start_time": "2023-03-16T13:50:18.355Z"
      },
      {
        "duration": 19,
        "start_time": "2023-03-16T13:50:18.380Z"
      },
      {
        "duration": 19,
        "start_time": "2023-03-16T13:50:18.400Z"
      },
      {
        "duration": 481,
        "start_time": "2023-03-16T13:50:18.440Z"
      },
      {
        "duration": 454,
        "start_time": "2023-03-16T13:50:18.924Z"
      },
      {
        "duration": 477,
        "start_time": "2023-03-16T13:50:19.379Z"
      },
      {
        "duration": 9,
        "start_time": "2023-03-16T13:50:19.858Z"
      },
      {
        "duration": 47,
        "start_time": "2023-03-16T13:50:19.869Z"
      },
      {
        "duration": 7,
        "start_time": "2023-03-16T13:50:19.918Z"
      },
      {
        "duration": 144,
        "start_time": "2023-03-16T13:50:19.926Z"
      },
      {
        "duration": 16,
        "start_time": "2023-03-16T13:50:20.071Z"
      },
      {
        "duration": 107,
        "start_time": "2023-03-16T13:50:20.141Z"
      },
      {
        "duration": 207,
        "start_time": "2023-03-16T13:50:20.249Z"
      },
      {
        "duration": 193,
        "start_time": "2023-03-16T13:50:20.457Z"
      },
      {
        "duration": 94,
        "start_time": "2023-03-16T13:50:20.651Z"
      },
      {
        "duration": 0,
        "start_time": "2023-03-16T13:50:20.746Z"
      },
      {
        "duration": 0,
        "start_time": "2023-03-16T13:50:20.747Z"
      },
      {
        "duration": 0,
        "start_time": "2023-03-16T13:50:20.748Z"
      },
      {
        "duration": 0,
        "start_time": "2023-03-16T13:50:20.749Z"
      },
      {
        "duration": 0,
        "start_time": "2023-03-16T13:50:20.750Z"
      },
      {
        "duration": 0,
        "start_time": "2023-03-16T13:50:20.751Z"
      },
      {
        "duration": 0,
        "start_time": "2023-03-16T13:50:20.752Z"
      },
      {
        "duration": 0,
        "start_time": "2023-03-16T13:50:20.753Z"
      },
      {
        "duration": 0,
        "start_time": "2023-03-16T13:50:20.753Z"
      },
      {
        "duration": 0,
        "start_time": "2023-03-16T13:50:20.754Z"
      },
      {
        "duration": 0,
        "start_time": "2023-03-16T13:50:20.755Z"
      },
      {
        "duration": 0,
        "start_time": "2023-03-16T13:50:20.756Z"
      },
      {
        "duration": 0,
        "start_time": "2023-03-16T13:50:20.757Z"
      },
      {
        "duration": 0,
        "start_time": "2023-03-16T13:50:20.758Z"
      },
      {
        "duration": 0,
        "start_time": "2023-03-16T13:50:20.759Z"
      },
      {
        "duration": 1276,
        "start_time": "2023-03-16T13:50:51.201Z"
      },
      {
        "duration": 358,
        "start_time": "2023-03-16T13:50:52.480Z"
      },
      {
        "duration": 13,
        "start_time": "2023-03-16T13:50:52.839Z"
      },
      {
        "duration": 11,
        "start_time": "2023-03-16T13:50:52.854Z"
      },
      {
        "duration": 9,
        "start_time": "2023-03-16T13:50:52.866Z"
      },
      {
        "duration": 22,
        "start_time": "2023-03-16T13:50:52.877Z"
      },
      {
        "duration": 46,
        "start_time": "2023-03-16T13:50:52.900Z"
      },
      {
        "duration": 20,
        "start_time": "2023-03-16T13:50:52.948Z"
      },
      {
        "duration": 495,
        "start_time": "2023-03-16T13:50:52.970Z"
      },
      {
        "duration": 471,
        "start_time": "2023-03-16T13:50:53.469Z"
      },
      {
        "duration": 468,
        "start_time": "2023-03-16T13:50:53.941Z"
      },
      {
        "duration": 9,
        "start_time": "2023-03-16T13:50:54.411Z"
      },
      {
        "duration": 48,
        "start_time": "2023-03-16T13:50:54.421Z"
      },
      {
        "duration": 7,
        "start_time": "2023-03-16T13:50:54.471Z"
      },
      {
        "duration": 149,
        "start_time": "2023-03-16T13:50:54.479Z"
      },
      {
        "duration": 27,
        "start_time": "2023-03-16T13:50:54.629Z"
      },
      {
        "duration": 196,
        "start_time": "2023-03-16T13:50:54.657Z"
      },
      {
        "duration": 201,
        "start_time": "2023-03-16T13:50:54.855Z"
      },
      {
        "duration": 85,
        "start_time": "2023-03-16T13:50:55.059Z"
      },
      {
        "duration": 117,
        "start_time": "2023-03-16T13:50:55.149Z"
      },
      {
        "duration": 10,
        "start_time": "2023-03-16T13:50:55.268Z"
      },
      {
        "duration": 6,
        "start_time": "2023-03-16T13:50:55.279Z"
      },
      {
        "duration": 12,
        "start_time": "2023-03-16T13:50:55.287Z"
      },
      {
        "duration": 9,
        "start_time": "2023-03-16T13:50:55.300Z"
      },
      {
        "duration": 2,
        "start_time": "2023-03-16T13:50:55.311Z"
      },
      {
        "duration": 13,
        "start_time": "2023-03-16T13:50:55.314Z"
      },
      {
        "duration": 25,
        "start_time": "2023-03-16T13:50:55.328Z"
      },
      {
        "duration": 4,
        "start_time": "2023-03-16T13:50:55.355Z"
      },
      {
        "duration": 12,
        "start_time": "2023-03-16T13:50:55.360Z"
      },
      {
        "duration": 10,
        "start_time": "2023-03-16T13:50:55.373Z"
      },
      {
        "duration": 3,
        "start_time": "2023-03-16T13:50:55.385Z"
      },
      {
        "duration": 7,
        "start_time": "2023-03-16T13:50:55.390Z"
      },
      {
        "duration": 8,
        "start_time": "2023-03-16T13:50:55.398Z"
      },
      {
        "duration": 36,
        "start_time": "2023-03-16T13:50:55.408Z"
      },
      {
        "duration": 5,
        "start_time": "2023-03-16T13:50:55.446Z"
      },
      {
        "duration": 1433,
        "start_time": "2023-03-16T18:23:26.968Z"
      },
      {
        "duration": 586,
        "start_time": "2023-03-16T18:23:28.403Z"
      },
      {
        "duration": 16,
        "start_time": "2023-03-16T18:23:28.991Z"
      },
      {
        "duration": 13,
        "start_time": "2023-03-16T18:23:29.009Z"
      },
      {
        "duration": 15,
        "start_time": "2023-03-16T18:23:29.023Z"
      },
      {
        "duration": 29,
        "start_time": "2023-03-16T18:23:29.040Z"
      },
      {
        "duration": 31,
        "start_time": "2023-03-16T18:23:29.070Z"
      },
      {
        "duration": 28,
        "start_time": "2023-03-16T18:23:29.103Z"
      },
      {
        "duration": 521,
        "start_time": "2023-03-16T18:23:29.133Z"
      },
      {
        "duration": 457,
        "start_time": "2023-03-16T18:23:29.656Z"
      },
      {
        "duration": 496,
        "start_time": "2023-03-16T18:23:30.114Z"
      },
      {
        "duration": 9,
        "start_time": "2023-03-16T18:23:30.612Z"
      },
      {
        "duration": 67,
        "start_time": "2023-03-16T18:23:30.622Z"
      },
      {
        "duration": 13,
        "start_time": "2023-03-16T18:23:30.690Z"
      },
      {
        "duration": 173,
        "start_time": "2023-03-16T18:23:30.704Z"
      },
      {
        "duration": 27,
        "start_time": "2023-03-16T18:23:30.880Z"
      },
      {
        "duration": 132,
        "start_time": "2023-03-16T18:23:30.981Z"
      },
      {
        "duration": 187,
        "start_time": "2023-03-16T18:23:31.115Z"
      },
      {
        "duration": 202,
        "start_time": "2023-03-16T18:23:31.303Z"
      },
      {
        "duration": 28,
        "start_time": "2023-03-16T18:23:31.506Z"
      },
      {
        "duration": 72,
        "start_time": "2023-03-16T18:23:31.536Z"
      },
      {
        "duration": 49,
        "start_time": "2023-03-16T18:23:31.609Z"
      },
      {
        "duration": 51,
        "start_time": "2023-03-16T18:23:31.660Z"
      },
      {
        "duration": 25,
        "start_time": "2023-03-16T18:23:31.713Z"
      },
      {
        "duration": 17,
        "start_time": "2023-03-16T18:23:31.739Z"
      },
      {
        "duration": 31,
        "start_time": "2023-03-16T18:23:31.757Z"
      },
      {
        "duration": 35,
        "start_time": "2023-03-16T18:23:31.790Z"
      },
      {
        "duration": 44,
        "start_time": "2023-03-16T18:23:31.828Z"
      },
      {
        "duration": 32,
        "start_time": "2023-03-16T18:23:31.873Z"
      },
      {
        "duration": 38,
        "start_time": "2023-03-16T18:23:31.907Z"
      },
      {
        "duration": 5,
        "start_time": "2023-03-16T18:23:31.947Z"
      },
      {
        "duration": 30,
        "start_time": "2023-03-16T18:23:31.953Z"
      },
      {
        "duration": 31,
        "start_time": "2023-03-16T18:23:31.985Z"
      },
      {
        "duration": 27,
        "start_time": "2023-03-16T18:23:32.019Z"
      },
      {
        "duration": 32,
        "start_time": "2023-03-16T18:23:32.048Z"
      },
      {
        "duration": 84,
        "start_time": "2023-03-16T18:23:32.081Z"
      },
      {
        "duration": 3,
        "start_time": "2023-03-16T18:30:43.104Z"
      },
      {
        "duration": 3,
        "start_time": "2023-03-16T18:31:40.096Z"
      },
      {
        "duration": 4,
        "start_time": "2023-03-16T18:46:05.679Z"
      },
      {
        "duration": 7,
        "start_time": "2023-03-16T18:46:12.681Z"
      },
      {
        "duration": 759,
        "start_time": "2023-03-16T18:46:37.340Z"
      },
      {
        "duration": 5,
        "start_time": "2023-03-16T18:47:39.829Z"
      },
      {
        "duration": 711,
        "start_time": "2023-03-16T18:47:40.977Z"
      },
      {
        "duration": 5,
        "start_time": "2023-03-16T18:47:53.126Z"
      },
      {
        "duration": 698,
        "start_time": "2023-03-16T18:47:54.746Z"
      },
      {
        "duration": 6,
        "start_time": "2023-03-16T18:48:04.072Z"
      },
      {
        "duration": 689,
        "start_time": "2023-03-16T18:48:04.806Z"
      },
      {
        "duration": 604,
        "start_time": "2023-03-16T18:48:26.692Z"
      },
      {
        "duration": 614,
        "start_time": "2023-03-16T18:48:51.533Z"
      },
      {
        "duration": 5,
        "start_time": "2023-03-16T18:50:09.059Z"
      },
      {
        "duration": 620,
        "start_time": "2023-03-16T18:50:11.479Z"
      },
      {
        "duration": 5,
        "start_time": "2023-03-16T18:50:32.552Z"
      },
      {
        "duration": 622,
        "start_time": "2023-03-16T18:50:33.895Z"
      },
      {
        "duration": 6,
        "start_time": "2023-03-16T18:55:45.649Z"
      },
      {
        "duration": 17,
        "start_time": "2023-03-16T18:55:46.690Z"
      },
      {
        "duration": 19,
        "start_time": "2023-03-16T18:56:03.687Z"
      },
      {
        "duration": 11,
        "start_time": "2023-03-16T18:56:04.798Z"
      },
      {
        "duration": 11,
        "start_time": "2023-03-16T18:56:05.930Z"
      },
      {
        "duration": 3,
        "start_time": "2023-03-16T18:58:45.037Z"
      },
      {
        "duration": 6,
        "start_time": "2023-03-16T18:58:49.307Z"
      },
      {
        "duration": 16,
        "start_time": "2023-03-16T18:59:34.544Z"
      },
      {
        "duration": 8,
        "start_time": "2023-03-16T18:59:45.304Z"
      },
      {
        "duration": 1252,
        "start_time": "2023-03-16T18:59:47.096Z"
      },
      {
        "duration": 3,
        "start_time": "2023-03-16T19:00:56.460Z"
      },
      {
        "duration": 6,
        "start_time": "2023-03-16T19:00:57.196Z"
      },
      {
        "duration": 1253,
        "start_time": "2023-03-16T19:00:58.706Z"
      },
      {
        "duration": 4,
        "start_time": "2023-03-16T19:01:16.940Z"
      },
      {
        "duration": 6,
        "start_time": "2023-03-16T19:06:20.528Z"
      },
      {
        "duration": 11,
        "start_time": "2023-03-16T19:06:34.662Z"
      },
      {
        "duration": 1136,
        "start_time": "2023-03-16T19:06:41.876Z"
      },
      {
        "duration": 88,
        "start_time": "2023-03-16T19:07:25.773Z"
      },
      {
        "duration": 1188,
        "start_time": "2023-03-16T19:07:30.464Z"
      },
      {
        "duration": 1251,
        "start_time": "2023-03-16T19:08:00.069Z"
      },
      {
        "duration": 1100,
        "start_time": "2023-03-16T19:08:23.328Z"
      },
      {
        "duration": 5,
        "start_time": "2023-03-16T19:19:33.456Z"
      },
      {
        "duration": 1226,
        "start_time": "2023-03-16T19:20:03.937Z"
      },
      {
        "duration": 1241,
        "start_time": "2023-03-16T19:20:11.810Z"
      },
      {
        "duration": 11,
        "start_time": "2023-03-16T19:20:55.797Z"
      },
      {
        "duration": 11,
        "start_time": "2023-03-16T19:23:42.993Z"
      },
      {
        "duration": 1158,
        "start_time": "2023-03-16T19:23:47.407Z"
      },
      {
        "duration": 8,
        "start_time": "2023-03-16T19:24:06.791Z"
      },
      {
        "duration": 1238,
        "start_time": "2023-03-16T19:24:09.912Z"
      },
      {
        "duration": 8,
        "start_time": "2023-03-16T19:24:19.906Z"
      },
      {
        "duration": 1148,
        "start_time": "2023-03-16T19:24:23.803Z"
      },
      {
        "duration": 100,
        "start_time": "2023-03-16T19:25:56.124Z"
      },
      {
        "duration": 8,
        "start_time": "2023-03-16T19:26:05.572Z"
      },
      {
        "duration": 1178,
        "start_time": "2023-03-16T19:26:07.211Z"
      },
      {
        "duration": 5,
        "start_time": "2023-03-16T19:26:54.925Z"
      },
      {
        "duration": 1260,
        "start_time": "2023-03-16T19:26:56.076Z"
      },
      {
        "duration": 9,
        "start_time": "2023-03-16T19:27:10.807Z"
      },
      {
        "duration": 1161,
        "start_time": "2023-03-16T19:27:12.079Z"
      },
      {
        "duration": 7,
        "start_time": "2023-03-16T19:27:20.557Z"
      },
      {
        "duration": 1356,
        "start_time": "2023-03-16T19:27:22.350Z"
      },
      {
        "duration": 12,
        "start_time": "2023-03-16T19:27:27.182Z"
      },
      {
        "duration": 1165,
        "start_time": "2023-03-16T19:27:27.610Z"
      },
      {
        "duration": 3456,
        "start_time": "2023-03-16T19:28:41.517Z"
      },
      {
        "duration": 3851,
        "start_time": "2023-03-16T19:28:55.875Z"
      },
      {
        "duration": 8,
        "start_time": "2023-03-16T19:31:02.997Z"
      },
      {
        "duration": 1380,
        "start_time": "2023-03-16T19:31:04.134Z"
      },
      {
        "duration": 1337,
        "start_time": "2023-03-16T19:31:06.870Z"
      },
      {
        "duration": 1354,
        "start_time": "2023-03-16T19:31:08.209Z"
      },
      {
        "duration": 3,
        "start_time": "2023-03-16T19:53:34.411Z"
      },
      {
        "duration": 6,
        "start_time": "2023-03-16T19:55:42.211Z"
      },
      {
        "duration": 1191,
        "start_time": "2023-03-16T20:05:55.594Z"
      },
      {
        "duration": 311,
        "start_time": "2023-03-16T20:05:56.787Z"
      },
      {
        "duration": 15,
        "start_time": "2023-03-16T20:05:57.100Z"
      },
      {
        "duration": 12,
        "start_time": "2023-03-16T20:05:57.117Z"
      },
      {
        "duration": 17,
        "start_time": "2023-03-16T20:05:57.130Z"
      },
      {
        "duration": 33,
        "start_time": "2023-03-16T20:05:57.149Z"
      },
      {
        "duration": 19,
        "start_time": "2023-03-16T20:05:57.184Z"
      },
      {
        "duration": 26,
        "start_time": "2023-03-16T20:05:57.204Z"
      },
      {
        "duration": 445,
        "start_time": "2023-03-16T20:05:57.232Z"
      },
      {
        "duration": 424,
        "start_time": "2023-03-16T20:05:57.679Z"
      },
      {
        "duration": 435,
        "start_time": "2023-03-16T20:05:58.104Z"
      },
      {
        "duration": 9,
        "start_time": "2023-03-16T20:05:58.540Z"
      },
      {
        "duration": 38,
        "start_time": "2023-03-16T20:05:58.551Z"
      },
      {
        "duration": 8,
        "start_time": "2023-03-16T20:05:58.590Z"
      },
      {
        "duration": 136,
        "start_time": "2023-03-16T20:05:58.599Z"
      },
      {
        "duration": 45,
        "start_time": "2023-03-16T20:05:58.736Z"
      },
      {
        "duration": 105,
        "start_time": "2023-03-16T20:05:58.782Z"
      },
      {
        "duration": 94,
        "start_time": "2023-03-16T20:05:58.889Z"
      },
      {
        "duration": 104,
        "start_time": "2023-03-16T20:05:58.984Z"
      },
      {
        "duration": 92,
        "start_time": "2023-03-16T20:05:59.090Z"
      },
      {
        "duration": 6,
        "start_time": "2023-03-16T20:05:59.183Z"
      },
      {
        "duration": 11,
        "start_time": "2023-03-16T20:05:59.191Z"
      },
      {
        "duration": 22,
        "start_time": "2023-03-16T20:05:59.203Z"
      },
      {
        "duration": 8,
        "start_time": "2023-03-16T20:05:59.227Z"
      },
      {
        "duration": 2,
        "start_time": "2023-03-16T20:05:59.236Z"
      },
      {
        "duration": 9,
        "start_time": "2023-03-16T20:05:59.239Z"
      },
      {
        "duration": 9,
        "start_time": "2023-03-16T20:05:59.249Z"
      },
      {
        "duration": 3,
        "start_time": "2023-03-16T20:05:59.260Z"
      },
      {
        "duration": 21,
        "start_time": "2023-03-16T20:05:59.264Z"
      },
      {
        "duration": 20,
        "start_time": "2023-03-16T20:05:59.286Z"
      },
      {
        "duration": 2,
        "start_time": "2023-03-16T20:05:59.308Z"
      },
      {
        "duration": 8,
        "start_time": "2023-03-16T20:05:59.311Z"
      },
      {
        "duration": 15,
        "start_time": "2023-03-16T20:05:59.321Z"
      },
      {
        "duration": 19,
        "start_time": "2023-03-16T20:05:59.337Z"
      },
      {
        "duration": 5,
        "start_time": "2023-03-16T20:05:59.357Z"
      },
      {
        "duration": 12,
        "start_time": "2023-03-16T20:05:59.363Z"
      },
      {
        "duration": 7,
        "start_time": "2023-03-16T20:05:59.376Z"
      },
      {
        "duration": 1011,
        "start_time": "2023-03-16T20:05:59.384Z"
      },
      {
        "duration": 1017,
        "start_time": "2023-03-16T20:06:00.397Z"
      },
      {
        "duration": 992,
        "start_time": "2023-03-16T20:06:01.416Z"
      },
      {
        "duration": 5,
        "start_time": "2023-03-16T20:06:02.410Z"
      },
      {
        "duration": 3040,
        "start_time": "2023-03-16T20:06:02.416Z"
      },
      {
        "duration": 45,
        "start_time": "2023-03-17T16:25:45.565Z"
      },
      {
        "duration": 1416,
        "start_time": "2023-03-17T16:25:50.144Z"
      },
      {
        "duration": 1672,
        "start_time": "2023-03-17T16:25:51.562Z"
      },
      {
        "duration": 313,
        "start_time": "2023-03-17T16:25:53.237Z"
      },
      {
        "duration": 380,
        "start_time": "2023-03-17T16:26:14.744Z"
      },
      {
        "duration": 9,
        "start_time": "2023-03-17T16:44:11.223Z"
      },
      {
        "duration": 1430,
        "start_time": "2023-03-17T16:44:17.615Z"
      },
      {
        "duration": 395,
        "start_time": "2023-03-17T16:44:19.047Z"
      },
      {
        "duration": 347,
        "start_time": "2023-03-17T16:44:19.444Z"
      },
      {
        "duration": 15,
        "start_time": "2023-03-17T16:44:19.793Z"
      },
      {
        "duration": 13,
        "start_time": "2023-03-17T16:44:19.809Z"
      },
      {
        "duration": 13,
        "start_time": "2023-03-17T16:44:19.824Z"
      },
      {
        "duration": 52,
        "start_time": "2023-03-17T16:44:19.839Z"
      },
      {
        "duration": 22,
        "start_time": "2023-03-17T16:44:19.892Z"
      },
      {
        "duration": 28,
        "start_time": "2023-03-17T16:44:19.916Z"
      },
      {
        "duration": 590,
        "start_time": "2023-03-17T16:44:19.975Z"
      },
      {
        "duration": 564,
        "start_time": "2023-03-17T16:44:20.567Z"
      },
      {
        "duration": 567,
        "start_time": "2023-03-17T16:44:21.133Z"
      },
      {
        "duration": 11,
        "start_time": "2023-03-17T16:44:21.702Z"
      },
      {
        "duration": 39,
        "start_time": "2023-03-17T16:44:21.715Z"
      },
      {
        "duration": 24,
        "start_time": "2023-03-17T16:44:21.756Z"
      },
      {
        "duration": 178,
        "start_time": "2023-03-17T16:44:21.782Z"
      },
      {
        "duration": 27,
        "start_time": "2023-03-17T16:44:21.962Z"
      },
      {
        "duration": 106,
        "start_time": "2023-03-17T16:44:22.077Z"
      },
      {
        "duration": 95,
        "start_time": "2023-03-17T16:44:22.184Z"
      },
      {
        "duration": 192,
        "start_time": "2023-03-17T16:44:22.284Z"
      },
      {
        "duration": 101,
        "start_time": "2023-03-17T16:44:22.479Z"
      },
      {
        "duration": 6,
        "start_time": "2023-03-17T16:44:22.581Z"
      },
      {
        "duration": 5,
        "start_time": "2023-03-17T16:44:22.589Z"
      },
      {
        "duration": 6,
        "start_time": "2023-03-17T16:44:22.595Z"
      },
      {
        "duration": 12,
        "start_time": "2023-03-17T16:44:22.603Z"
      },
      {
        "duration": 14,
        "start_time": "2023-03-17T16:44:22.617Z"
      },
      {
        "duration": 43,
        "start_time": "2023-03-17T16:44:22.632Z"
      },
      {
        "duration": 11,
        "start_time": "2023-03-17T16:44:22.679Z"
      },
      {
        "duration": 22,
        "start_time": "2023-03-17T16:44:22.692Z"
      },
      {
        "duration": 4,
        "start_time": "2023-03-17T16:44:22.716Z"
      },
      {
        "duration": 13,
        "start_time": "2023-03-17T16:44:22.721Z"
      },
      {
        "duration": 13,
        "start_time": "2023-03-17T16:44:22.735Z"
      },
      {
        "duration": 4,
        "start_time": "2023-03-17T16:44:22.776Z"
      },
      {
        "duration": 4,
        "start_time": "2023-03-17T16:44:22.781Z"
      },
      {
        "duration": 8,
        "start_time": "2023-03-17T16:44:22.787Z"
      },
      {
        "duration": 7,
        "start_time": "2023-03-17T16:44:22.797Z"
      },
      {
        "duration": 7,
        "start_time": "2023-03-17T16:44:22.805Z"
      },
      {
        "duration": 11,
        "start_time": "2023-03-17T16:44:22.813Z"
      },
      {
        "duration": 7,
        "start_time": "2023-03-17T16:44:22.825Z"
      },
      {
        "duration": 1472,
        "start_time": "2023-03-17T16:44:22.833Z"
      },
      {
        "duration": 1389,
        "start_time": "2023-03-17T16:44:24.307Z"
      },
      {
        "duration": 1364,
        "start_time": "2023-03-17T16:44:25.698Z"
      },
      {
        "duration": 12,
        "start_time": "2023-03-17T16:44:27.063Z"
      },
      {
        "duration": 4123,
        "start_time": "2023-03-17T16:44:27.077Z"
      },
      {
        "duration": 119,
        "start_time": "2023-03-17T16:44:56.462Z"
      },
      {
        "duration": 26,
        "start_time": "2023-03-17T16:45:07.363Z"
      },
      {
        "duration": 59,
        "start_time": "2023-03-17T16:45:33.924Z"
      },
      {
        "duration": 110,
        "start_time": "2023-03-17T16:45:44.164Z"
      },
      {
        "duration": 20,
        "start_time": "2023-03-17T16:46:04.219Z"
      },
      {
        "duration": 16,
        "start_time": "2023-03-17T16:46:08.264Z"
      },
      {
        "duration": 103,
        "start_time": "2023-03-17T19:10:53.990Z"
      },
      {
        "duration": 19,
        "start_time": "2023-03-17T19:11:14.947Z"
      },
      {
        "duration": 12,
        "start_time": "2023-03-17T19:11:50.937Z"
      },
      {
        "duration": 14,
        "start_time": "2023-03-17T19:11:59.047Z"
      },
      {
        "duration": 22,
        "start_time": "2023-03-17T19:12:33.768Z"
      },
      {
        "duration": 1423,
        "start_time": "2023-03-17T19:17:51.358Z"
      },
      {
        "duration": 375,
        "start_time": "2023-03-17T19:17:52.783Z"
      },
      {
        "duration": 325,
        "start_time": "2023-03-17T19:17:53.160Z"
      },
      {
        "duration": 15,
        "start_time": "2023-03-17T19:17:53.488Z"
      },
      {
        "duration": 11,
        "start_time": "2023-03-17T19:17:53.505Z"
      },
      {
        "duration": 15,
        "start_time": "2023-03-17T19:17:53.519Z"
      },
      {
        "duration": 49,
        "start_time": "2023-03-17T19:17:53.536Z"
      },
      {
        "duration": 21,
        "start_time": "2023-03-17T19:17:53.586Z"
      },
      {
        "duration": 21,
        "start_time": "2023-03-17T19:17:53.608Z"
      },
      {
        "duration": 593,
        "start_time": "2023-03-17T19:17:53.632Z"
      },
      {
        "duration": 530,
        "start_time": "2023-03-17T19:17:54.226Z"
      },
      {
        "duration": 551,
        "start_time": "2023-03-17T19:17:54.757Z"
      },
      {
        "duration": 11,
        "start_time": "2023-03-17T19:17:55.310Z"
      },
      {
        "duration": 48,
        "start_time": "2023-03-17T19:17:55.322Z"
      },
      {
        "duration": 7,
        "start_time": "2023-03-17T19:17:55.374Z"
      },
      {
        "duration": 163,
        "start_time": "2023-03-17T19:17:55.383Z"
      },
      {
        "duration": 31,
        "start_time": "2023-03-17T19:17:55.548Z"
      },
      {
        "duration": 199,
        "start_time": "2023-03-17T19:17:55.580Z"
      },
      {
        "duration": 102,
        "start_time": "2023-03-17T19:17:55.781Z"
      },
      {
        "duration": 112,
        "start_time": "2023-03-17T19:17:55.885Z"
      },
      {
        "duration": 175,
        "start_time": "2023-03-17T19:17:56.000Z"
      },
      {
        "duration": 6,
        "start_time": "2023-03-17T19:17:56.177Z"
      },
      {
        "duration": 10,
        "start_time": "2023-03-17T19:17:56.185Z"
      },
      {
        "duration": 7,
        "start_time": "2023-03-17T19:17:56.196Z"
      },
      {
        "duration": 20,
        "start_time": "2023-03-17T19:17:56.205Z"
      },
      {
        "duration": 12,
        "start_time": "2023-03-17T19:17:56.227Z"
      },
      {
        "duration": 3,
        "start_time": "2023-03-17T19:17:56.240Z"
      },
      {
        "duration": 11,
        "start_time": "2023-03-17T19:17:56.275Z"
      },
      {
        "duration": 12,
        "start_time": "2023-03-17T19:17:56.288Z"
      },
      {
        "duration": 3,
        "start_time": "2023-03-17T19:17:56.302Z"
      },
      {
        "duration": 19,
        "start_time": "2023-03-17T19:17:56.307Z"
      },
      {
        "duration": 11,
        "start_time": "2023-03-17T19:17:56.328Z"
      },
      {
        "duration": 3,
        "start_time": "2023-03-17T19:17:56.341Z"
      },
      {
        "duration": 32,
        "start_time": "2023-03-17T19:17:56.346Z"
      },
      {
        "duration": 19,
        "start_time": "2023-03-17T19:17:56.380Z"
      },
      {
        "duration": 18,
        "start_time": "2023-03-17T19:17:56.401Z"
      },
      {
        "duration": 8,
        "start_time": "2023-03-17T19:17:56.420Z"
      },
      {
        "duration": 4,
        "start_time": "2023-03-17T19:17:56.430Z"
      },
      {
        "duration": 40,
        "start_time": "2023-03-17T19:17:56.435Z"
      },
      {
        "duration": 7,
        "start_time": "2023-03-17T19:17:56.476Z"
      },
      {
        "duration": 2529,
        "start_time": "2023-03-17T19:17:56.485Z"
      },
      {
        "duration": 2584,
        "start_time": "2023-03-17T19:17:59.016Z"
      },
      {
        "duration": 2634,
        "start_time": "2023-03-17T19:18:01.602Z"
      },
      {
        "duration": 5,
        "start_time": "2023-03-17T19:18:04.237Z"
      },
      {
        "duration": 7661,
        "start_time": "2023-03-17T19:18:04.244Z"
      },
      {
        "duration": 1343,
        "start_time": "2023-03-17T19:19:08.704Z"
      },
      {
        "duration": 377,
        "start_time": "2023-03-17T19:19:10.049Z"
      },
      {
        "duration": 325,
        "start_time": "2023-03-17T19:19:10.428Z"
      },
      {
        "duration": 21,
        "start_time": "2023-03-17T19:19:10.755Z"
      },
      {
        "duration": 10,
        "start_time": "2023-03-17T19:19:10.780Z"
      },
      {
        "duration": 12,
        "start_time": "2023-03-17T19:19:10.792Z"
      },
      {
        "duration": 21,
        "start_time": "2023-03-17T19:19:10.806Z"
      },
      {
        "duration": 50,
        "start_time": "2023-03-17T19:19:10.829Z"
      },
      {
        "duration": 22,
        "start_time": "2023-03-17T19:19:10.881Z"
      },
      {
        "duration": 550,
        "start_time": "2023-03-17T19:19:10.905Z"
      },
      {
        "duration": 527,
        "start_time": "2023-03-17T19:19:11.457Z"
      },
      {
        "duration": 567,
        "start_time": "2023-03-17T19:19:11.985Z"
      },
      {
        "duration": 11,
        "start_time": "2023-03-17T19:19:12.553Z"
      },
      {
        "duration": 36,
        "start_time": "2023-03-17T19:19:12.574Z"
      },
      {
        "duration": 7,
        "start_time": "2023-03-17T19:19:12.611Z"
      },
      {
        "duration": 183,
        "start_time": "2023-03-17T19:19:12.620Z"
      },
      {
        "duration": 71,
        "start_time": "2023-03-17T19:19:12.804Z"
      },
      {
        "duration": 103,
        "start_time": "2023-03-17T19:19:12.879Z"
      },
      {
        "duration": 194,
        "start_time": "2023-03-17T19:19:12.984Z"
      },
      {
        "duration": 16,
        "start_time": "2023-03-17T19:19:13.180Z"
      },
      {
        "duration": 181,
        "start_time": "2023-03-17T19:19:13.197Z"
      },
      {
        "duration": 6,
        "start_time": "2023-03-17T19:19:13.379Z"
      },
      {
        "duration": 4,
        "start_time": "2023-03-17T19:19:13.387Z"
      },
      {
        "duration": 5,
        "start_time": "2023-03-17T19:19:13.393Z"
      },
      {
        "duration": 14,
        "start_time": "2023-03-17T19:19:13.399Z"
      },
      {
        "duration": 12,
        "start_time": "2023-03-17T19:19:13.414Z"
      },
      {
        "duration": 3,
        "start_time": "2023-03-17T19:19:13.428Z"
      },
      {
        "duration": 11,
        "start_time": "2023-03-17T19:19:13.474Z"
      },
      {
        "duration": 12,
        "start_time": "2023-03-17T19:19:13.487Z"
      },
      {
        "duration": 3,
        "start_time": "2023-03-17T19:19:13.500Z"
      },
      {
        "duration": 10,
        "start_time": "2023-03-17T19:19:13.505Z"
      },
      {
        "duration": 11,
        "start_time": "2023-03-17T19:19:13.517Z"
      },
      {
        "duration": 3,
        "start_time": "2023-03-17T19:19:13.529Z"
      },
      {
        "duration": 41,
        "start_time": "2023-03-17T19:19:13.534Z"
      },
      {
        "duration": 11,
        "start_time": "2023-03-17T19:19:13.578Z"
      },
      {
        "duration": 16,
        "start_time": "2023-03-17T19:19:13.591Z"
      },
      {
        "duration": 5,
        "start_time": "2023-03-17T19:19:13.609Z"
      },
      {
        "duration": 4,
        "start_time": "2023-03-17T19:19:13.615Z"
      },
      {
        "duration": 25,
        "start_time": "2023-03-17T19:19:13.621Z"
      },
      {
        "duration": 28,
        "start_time": "2023-03-17T19:19:13.648Z"
      },
      {
        "duration": 3370,
        "start_time": "2023-03-17T19:19:13.680Z"
      },
      {
        "duration": 3166,
        "start_time": "2023-03-17T19:19:17.051Z"
      },
      {
        "duration": 3258,
        "start_time": "2023-03-17T19:19:20.218Z"
      },
      {
        "duration": 5,
        "start_time": "2023-03-17T19:19:23.478Z"
      },
      {
        "duration": 9465,
        "start_time": "2023-03-17T19:19:23.485Z"
      },
      {
        "duration": 11,
        "start_time": "2023-03-17T19:21:18.828Z"
      },
      {
        "duration": 5,
        "start_time": "2023-03-17T19:21:30.043Z"
      },
      {
        "duration": 5,
        "start_time": "2023-03-17T19:21:33.204Z"
      },
      {
        "duration": 7,
        "start_time": "2023-03-17T19:21:59.244Z"
      },
      {
        "duration": 74,
        "start_time": "2023-03-17T19:22:09.364Z"
      },
      {
        "duration": 1382,
        "start_time": "2023-03-17T19:22:21.467Z"
      },
      {
        "duration": 367,
        "start_time": "2023-03-17T19:22:22.851Z"
      },
      {
        "duration": 323,
        "start_time": "2023-03-17T19:22:23.220Z"
      },
      {
        "duration": 15,
        "start_time": "2023-03-17T19:22:23.544Z"
      },
      {
        "duration": 20,
        "start_time": "2023-03-17T19:22:23.562Z"
      },
      {
        "duration": 23,
        "start_time": "2023-03-17T19:22:23.584Z"
      },
      {
        "duration": 32,
        "start_time": "2023-03-17T19:22:23.609Z"
      },
      {
        "duration": 22,
        "start_time": "2023-03-17T19:22:23.642Z"
      },
      {
        "duration": 30,
        "start_time": "2023-03-17T19:22:23.666Z"
      },
      {
        "duration": 584,
        "start_time": "2023-03-17T19:22:23.697Z"
      },
      {
        "duration": 528,
        "start_time": "2023-03-17T19:22:24.283Z"
      },
      {
        "duration": 537,
        "start_time": "2023-03-17T19:22:24.813Z"
      },
      {
        "duration": 12,
        "start_time": "2023-03-17T19:22:25.351Z"
      },
      {
        "duration": 38,
        "start_time": "2023-03-17T19:22:25.376Z"
      },
      {
        "duration": 8,
        "start_time": "2023-03-17T19:22:25.416Z"
      },
      {
        "duration": 181,
        "start_time": "2023-03-17T19:22:25.425Z"
      },
      {
        "duration": 18,
        "start_time": "2023-03-17T19:22:25.608Z"
      },
      {
        "duration": 151,
        "start_time": "2023-03-17T19:22:25.628Z"
      },
      {
        "duration": 104,
        "start_time": "2023-03-17T19:22:25.780Z"
      },
      {
        "duration": 16,
        "start_time": "2023-03-17T19:22:25.976Z"
      },
      {
        "duration": 90,
        "start_time": "2023-03-17T19:22:25.994Z"
      },
      {
        "duration": 6,
        "start_time": "2023-03-17T19:22:26.176Z"
      },
      {
        "duration": 6,
        "start_time": "2023-03-17T19:22:26.184Z"
      },
      {
        "duration": 4,
        "start_time": "2023-03-17T19:22:26.192Z"
      },
      {
        "duration": 14,
        "start_time": "2023-03-17T19:22:26.198Z"
      },
      {
        "duration": 12,
        "start_time": "2023-03-17T19:22:26.213Z"
      },
      {
        "duration": 4,
        "start_time": "2023-03-17T19:22:26.226Z"
      },
      {
        "duration": 53,
        "start_time": "2023-03-17T19:22:26.231Z"
      },
      {
        "duration": 12,
        "start_time": "2023-03-17T19:22:26.286Z"
      },
      {
        "duration": 4,
        "start_time": "2023-03-17T19:22:26.299Z"
      },
      {
        "duration": 12,
        "start_time": "2023-03-17T19:22:26.304Z"
      },
      {
        "duration": 12,
        "start_time": "2023-03-17T19:22:26.318Z"
      },
      {
        "duration": 4,
        "start_time": "2023-03-17T19:22:26.332Z"
      },
      {
        "duration": 38,
        "start_time": "2023-03-17T19:22:26.337Z"
      },
      {
        "duration": 9,
        "start_time": "2023-03-17T19:22:26.377Z"
      },
      {
        "duration": 6,
        "start_time": "2023-03-17T19:22:26.388Z"
      },
      {
        "duration": 7,
        "start_time": "2023-03-17T19:22:26.396Z"
      },
      {
        "duration": 5,
        "start_time": "2023-03-17T19:22:26.405Z"
      },
      {
        "duration": 32,
        "start_time": "2023-03-17T19:22:26.411Z"
      },
      {
        "duration": 34,
        "start_time": "2023-03-17T19:22:26.445Z"
      },
      {
        "duration": 5,
        "start_time": "2023-03-17T19:22:26.483Z"
      },
      {
        "duration": 7,
        "start_time": "2023-03-17T19:22:26.489Z"
      },
      {
        "duration": 8,
        "start_time": "2023-03-17T19:22:26.497Z"
      },
      {
        "duration": 6,
        "start_time": "2023-03-17T19:22:26.506Z"
      },
      {
        "duration": 3319,
        "start_time": "2023-03-17T19:22:26.514Z"
      },
      {
        "duration": 3249,
        "start_time": "2023-03-17T19:22:29.835Z"
      },
      {
        "duration": 3139,
        "start_time": "2023-03-17T19:22:33.085Z"
      },
      {
        "duration": 5,
        "start_time": "2023-03-17T19:22:36.226Z"
      },
      {
        "duration": 9497,
        "start_time": "2023-03-17T19:22:36.233Z"
      },
      {
        "duration": 1706,
        "start_time": "2023-03-17T23:56:42.954Z"
      },
      {
        "duration": 749,
        "start_time": "2023-03-17T23:56:45.991Z"
      },
      {
        "duration": 485,
        "start_time": "2023-03-17T23:56:47.184Z"
      },
      {
        "duration": 20,
        "start_time": "2023-03-17T23:56:54.223Z"
      },
      {
        "duration": 12,
        "start_time": "2023-03-17T23:56:55.835Z"
      },
      {
        "duration": 14,
        "start_time": "2023-03-17T23:56:56.611Z"
      },
      {
        "duration": 28,
        "start_time": "2023-03-17T23:56:59.389Z"
      },
      {
        "duration": 26,
        "start_time": "2023-03-17T23:57:02.023Z"
      },
      {
        "duration": 24,
        "start_time": "2023-03-17T23:57:02.608Z"
      },
      {
        "duration": 16,
        "start_time": "2023-03-17T23:57:04.562Z"
      },
      {
        "duration": 11,
        "start_time": "2023-03-17T23:57:28.145Z"
      },
      {
        "duration": 59,
        "start_time": "2023-03-18T00:11:16.949Z"
      },
      {
        "duration": 390,
        "start_time": "2023-03-18T00:12:46.160Z"
      },
      {
        "duration": 1482,
        "start_time": "2023-03-18T00:16:51.771Z"
      },
      {
        "duration": 414,
        "start_time": "2023-03-18T00:16:57.071Z"
      },
      {
        "duration": 419,
        "start_time": "2023-03-18T00:16:58.110Z"
      },
      {
        "duration": 19,
        "start_time": "2023-03-18T00:17:00.649Z"
      },
      {
        "duration": 11,
        "start_time": "2023-03-18T00:17:01.056Z"
      },
      {
        "duration": 12,
        "start_time": "2023-03-18T00:17:01.481Z"
      },
      {
        "duration": 28,
        "start_time": "2023-03-18T00:17:03.662Z"
      },
      {
        "duration": 25,
        "start_time": "2023-03-18T00:17:04.205Z"
      },
      {
        "duration": 24,
        "start_time": "2023-03-18T00:17:04.722Z"
      },
      {
        "duration": 13,
        "start_time": "2023-03-18T00:17:05.631Z"
      },
      {
        "duration": 10,
        "start_time": "2023-03-18T00:17:06.106Z"
      },
      {
        "duration": 355,
        "start_time": "2023-03-18T00:17:08.662Z"
      },
      {
        "duration": 365,
        "start_time": "2023-03-18T00:17:14.033Z"
      },
      {
        "duration": 375,
        "start_time": "2023-03-18T00:17:28.618Z"
      },
      {
        "duration": 362,
        "start_time": "2023-03-18T00:18:40.199Z"
      },
      {
        "duration": 415,
        "start_time": "2023-03-18T00:18:45.061Z"
      },
      {
        "duration": 316,
        "start_time": "2023-03-18T00:18:53.105Z"
      },
      {
        "duration": 35,
        "start_time": "2023-03-18T00:27:45.796Z"
      },
      {
        "duration": 81,
        "start_time": "2023-03-18T00:28:08.949Z"
      },
      {
        "duration": 115,
        "start_time": "2023-03-18T00:38:29.018Z"
      },
      {
        "duration": 8,
        "start_time": "2023-03-18T00:38:36.534Z"
      },
      {
        "duration": 33,
        "start_time": "2023-03-18T00:38:39.727Z"
      },
      {
        "duration": 9,
        "start_time": "2023-03-18T00:39:16.018Z"
      },
      {
        "duration": 61,
        "start_time": "2023-03-18T00:44:51.283Z"
      },
      {
        "duration": 52,
        "start_time": "2023-03-18T00:48:59.360Z"
      },
      {
        "duration": 45,
        "start_time": "2023-03-18T00:49:59.390Z"
      },
      {
        "duration": 48,
        "start_time": "2023-03-18T00:52:33.435Z"
      },
      {
        "duration": 21,
        "start_time": "2023-03-18T00:54:02.142Z"
      },
      {
        "duration": 15,
        "start_time": "2023-03-18T00:54:34.295Z"
      },
      {
        "duration": 17,
        "start_time": "2023-03-18T00:54:44.995Z"
      },
      {
        "duration": 10,
        "start_time": "2023-03-18T00:55:22.783Z"
      },
      {
        "duration": 17,
        "start_time": "2023-03-18T00:55:29.773Z"
      },
      {
        "duration": 15,
        "start_time": "2023-03-18T00:55:49.089Z"
      },
      {
        "duration": 17,
        "start_time": "2023-03-18T00:56:39.239Z"
      },
      {
        "duration": 17,
        "start_time": "2023-03-18T00:56:44.404Z"
      },
      {
        "duration": 1467,
        "start_time": "2023-03-18T00:58:22.078Z"
      },
      {
        "duration": 408,
        "start_time": "2023-03-18T00:58:24.606Z"
      },
      {
        "duration": 16,
        "start_time": "2023-03-18T00:58:28.441Z"
      },
      {
        "duration": 11,
        "start_time": "2023-03-18T00:58:29.162Z"
      },
      {
        "duration": 11,
        "start_time": "2023-03-18T00:58:30.700Z"
      },
      {
        "duration": 25,
        "start_time": "2023-03-18T00:58:33.506Z"
      },
      {
        "duration": 25,
        "start_time": "2023-03-18T00:58:33.944Z"
      },
      {
        "duration": 27,
        "start_time": "2023-03-18T00:58:34.281Z"
      },
      {
        "duration": 14,
        "start_time": "2023-03-18T00:58:35.195Z"
      },
      {
        "duration": 12,
        "start_time": "2023-03-18T00:58:35.488Z"
      },
      {
        "duration": 351,
        "start_time": "2023-03-18T00:58:38.490Z"
      },
      {
        "duration": 402,
        "start_time": "2023-03-18T00:58:40.499Z"
      },
      {
        "duration": 347,
        "start_time": "2023-03-18T00:58:42.316Z"
      },
      {
        "duration": 92,
        "start_time": "2023-03-18T00:58:44.161Z"
      },
      {
        "duration": 11,
        "start_time": "2023-03-18T00:58:47.864Z"
      },
      {
        "duration": 50,
        "start_time": "2023-03-18T00:58:48.922Z"
      },
      {
        "duration": 10,
        "start_time": "2023-03-18T00:58:51.103Z"
      },
      {
        "duration": 54,
        "start_time": "2023-03-18T00:58:51.913Z"
      },
      {
        "duration": 65,
        "start_time": "2023-03-18T00:58:59.807Z"
      },
      {
        "duration": 26,
        "start_time": "2023-03-18T00:59:01.621Z"
      },
      {
        "duration": 19,
        "start_time": "2023-03-18T00:59:02.620Z"
      },
      {
        "duration": 13,
        "start_time": "2023-03-18T01:13:15.693Z"
      },
      {
        "duration": 6,
        "start_time": "2023-03-18T01:13:18.415Z"
      },
      {
        "duration": 5,
        "start_time": "2023-03-18T01:13:22.196Z"
      },
      {
        "duration": 12,
        "start_time": "2023-03-18T01:14:19.425Z"
      },
      {
        "duration": 5,
        "start_time": "2023-03-18T01:24:51.410Z"
      },
      {
        "duration": 32,
        "start_time": "2023-03-18T01:26:11.755Z"
      },
      {
        "duration": 19,
        "start_time": "2023-03-18T01:26:27.642Z"
      },
      {
        "duration": 19,
        "start_time": "2023-03-18T01:26:43.637Z"
      },
      {
        "duration": 106,
        "start_time": "2023-03-18T01:28:05.966Z"
      },
      {
        "duration": 18,
        "start_time": "2023-03-18T01:28:10.251Z"
      },
      {
        "duration": 17,
        "start_time": "2023-03-18T01:28:15.553Z"
      },
      {
        "duration": 6,
        "start_time": "2023-03-18T01:31:46.009Z"
      },
      {
        "duration": 5,
        "start_time": "2023-03-18T01:32:01.047Z"
      },
      {
        "duration": 13,
        "start_time": "2023-03-18T01:32:05.077Z"
      },
      {
        "duration": 14,
        "start_time": "2023-03-18T01:32:07.739Z"
      },
      {
        "duration": 4,
        "start_time": "2023-03-18T01:32:11.689Z"
      },
      {
        "duration": 15,
        "start_time": "2023-03-18T01:32:13.264Z"
      },
      {
        "duration": 12,
        "start_time": "2023-03-18T01:32:14.873Z"
      },
      {
        "duration": 5,
        "start_time": "2023-03-18T01:32:16.450Z"
      },
      {
        "duration": 12,
        "start_time": "2023-03-18T01:32:17.903Z"
      },
      {
        "duration": 13,
        "start_time": "2023-03-18T01:32:19.304Z"
      },
      {
        "duration": 4,
        "start_time": "2023-03-18T01:32:20.162Z"
      },
      {
        "duration": 5,
        "start_time": "2023-03-18T01:33:00.907Z"
      },
      {
        "duration": 10,
        "start_time": "2023-03-18T01:33:02.012Z"
      },
      {
        "duration": 7,
        "start_time": "2023-03-18T01:33:03.037Z"
      },
      {
        "duration": 7,
        "start_time": "2023-03-18T01:33:06.452Z"
      },
      {
        "duration": 5,
        "start_time": "2023-03-18T01:34:22.796Z"
      },
      {
        "duration": 29,
        "start_time": "2023-03-18T01:34:26.163Z"
      },
      {
        "duration": 5,
        "start_time": "2023-03-18T01:36:47.309Z"
      },
      {
        "duration": 25,
        "start_time": "2023-03-18T01:36:52.736Z"
      },
      {
        "duration": 26,
        "start_time": "2023-03-18T01:38:26.417Z"
      },
      {
        "duration": 7,
        "start_time": "2023-03-18T01:42:48.536Z"
      },
      {
        "duration": 3401,
        "start_time": "2023-03-18T01:43:04.394Z"
      },
      {
        "duration": 8,
        "start_time": "2023-03-18T01:44:51.901Z"
      },
      {
        "duration": 6,
        "start_time": "2023-03-18T01:45:17.148Z"
      },
      {
        "duration": 5,
        "start_time": "2023-03-18T01:45:17.803Z"
      },
      {
        "duration": 10,
        "start_time": "2023-03-18T01:52:54.481Z"
      },
      {
        "duration": 3523,
        "start_time": "2023-03-18T01:52:57.686Z"
      },
      {
        "duration": 12,
        "start_time": "2023-03-18T01:55:38.366Z"
      },
      {
        "duration": 1831,
        "start_time": "2023-03-18T01:55:41.864Z"
      },
      {
        "duration": 1904,
        "start_time": "2023-03-18T02:06:01.247Z"
      },
      {
        "duration": 1789,
        "start_time": "2023-03-18T02:06:04.959Z"
      },
      {
        "duration": 9,
        "start_time": "2023-03-18T02:12:16.518Z"
      },
      {
        "duration": 1905,
        "start_time": "2023-03-18T02:12:22.803Z"
      },
      {
        "duration": 7,
        "start_time": "2023-03-18T02:12:54.182Z"
      },
      {
        "duration": 1770,
        "start_time": "2023-03-18T02:12:57.928Z"
      },
      {
        "duration": 7,
        "start_time": "2023-03-18T02:13:11.775Z"
      },
      {
        "duration": 11,
        "start_time": "2023-03-18T02:18:11.502Z"
      },
      {
        "duration": 5,
        "start_time": "2023-03-18T02:18:37.072Z"
      },
      {
        "duration": 6,
        "start_time": "2023-03-18T02:18:45.117Z"
      },
      {
        "duration": 6,
        "start_time": "2023-03-18T02:18:52.541Z"
      },
      {
        "duration": 6,
        "start_time": "2023-03-18T02:19:00.593Z"
      },
      {
        "duration": 5,
        "start_time": "2023-03-18T02:19:06.197Z"
      },
      {
        "duration": 5,
        "start_time": "2023-03-18T02:19:07.999Z"
      },
      {
        "duration": 5,
        "start_time": "2023-03-18T02:19:15.298Z"
      },
      {
        "duration": 5,
        "start_time": "2023-03-18T02:19:23.938Z"
      },
      {
        "duration": 7,
        "start_time": "2023-03-18T02:19:26.840Z"
      },
      {
        "duration": 7,
        "start_time": "2023-03-18T02:19:35.315Z"
      },
      {
        "duration": 6,
        "start_time": "2023-03-18T02:19:50.026Z"
      },
      {
        "duration": 5,
        "start_time": "2023-03-18T02:30:44.041Z"
      },
      {
        "duration": 1733,
        "start_time": "2023-03-18T02:35:47.624Z"
      },
      {
        "duration": 1752,
        "start_time": "2023-03-18T02:35:51.456Z"
      },
      {
        "duration": 1768,
        "start_time": "2023-03-18T02:35:54.900Z"
      },
      {
        "duration": 8,
        "start_time": "2023-03-18T02:37:08.463Z"
      },
      {
        "duration": 1875,
        "start_time": "2023-03-18T02:37:14.967Z"
      },
      {
        "duration": 6,
        "start_time": "2023-03-18T02:37:36.118Z"
      },
      {
        "duration": 5693,
        "start_time": "2023-03-18T02:37:36.691Z"
      },
      {
        "duration": 2689,
        "start_time": "2023-03-18T22:03:47.080Z"
      },
      {
        "duration": 1929,
        "start_time": "2023-03-18T22:03:49.771Z"
      },
      {
        "duration": 911,
        "start_time": "2023-03-18T22:03:51.741Z"
      },
      {
        "duration": 22,
        "start_time": "2023-03-18T22:03:52.654Z"
      },
      {
        "duration": 71,
        "start_time": "2023-03-18T22:03:52.678Z"
      },
      {
        "duration": 14,
        "start_time": "2023-03-18T22:03:52.754Z"
      },
      {
        "duration": 86,
        "start_time": "2023-03-18T22:03:52.770Z"
      },
      {
        "duration": 22,
        "start_time": "2023-03-18T22:03:52.859Z"
      },
      {
        "duration": 91,
        "start_time": "2023-03-18T22:03:52.882Z"
      },
      {
        "duration": 67,
        "start_time": "2023-03-18T22:03:52.975Z"
      },
      {
        "duration": 15,
        "start_time": "2023-03-18T22:03:53.046Z"
      },
      {
        "duration": 591,
        "start_time": "2023-03-18T22:03:53.062Z"
      },
      {
        "duration": 602,
        "start_time": "2023-03-18T22:03:53.655Z"
      },
      {
        "duration": 512,
        "start_time": "2023-03-18T22:03:54.261Z"
      },
      {
        "duration": 196,
        "start_time": "2023-03-18T22:03:54.775Z"
      },
      {
        "duration": 9,
        "start_time": "2023-03-18T22:03:54.973Z"
      },
      {
        "duration": 94,
        "start_time": "2023-03-18T22:03:54.984Z"
      },
      {
        "duration": 64,
        "start_time": "2023-03-18T22:03:55.080Z"
      },
      {
        "duration": 117,
        "start_time": "2023-03-18T22:03:55.146Z"
      },
      {
        "duration": 87,
        "start_time": "2023-03-18T22:03:55.265Z"
      },
      {
        "duration": 103,
        "start_time": "2023-03-18T22:03:55.357Z"
      },
      {
        "duration": 194,
        "start_time": "2023-03-18T22:03:55.463Z"
      },
      {
        "duration": 90,
        "start_time": "2023-03-18T22:03:55.765Z"
      },
      {
        "duration": 9,
        "start_time": "2023-03-18T22:03:55.858Z"
      },
      {
        "duration": 4,
        "start_time": "2023-03-18T22:03:55.869Z"
      },
      {
        "duration": 4,
        "start_time": "2023-03-18T22:03:55.875Z"
      },
      {
        "duration": 76,
        "start_time": "2023-03-18T22:03:55.881Z"
      },
      {
        "duration": 12,
        "start_time": "2023-03-18T22:03:55.959Z"
      },
      {
        "duration": 4,
        "start_time": "2023-03-18T22:03:55.973Z"
      },
      {
        "duration": 75,
        "start_time": "2023-03-18T22:03:55.979Z"
      },
      {
        "duration": 16,
        "start_time": "2023-03-18T22:03:56.055Z"
      },
      {
        "duration": 5,
        "start_time": "2023-03-18T22:03:56.073Z"
      },
      {
        "duration": 77,
        "start_time": "2023-03-18T22:03:56.080Z"
      },
      {
        "duration": 16,
        "start_time": "2023-03-18T22:03:56.159Z"
      },
      {
        "duration": 4,
        "start_time": "2023-03-18T22:03:56.177Z"
      },
      {
        "duration": 62,
        "start_time": "2023-03-18T22:03:56.182Z"
      },
      {
        "duration": 16,
        "start_time": "2023-03-18T22:03:56.245Z"
      },
      {
        "duration": 9,
        "start_time": "2023-03-18T22:03:56.263Z"
      },
      {
        "duration": 7,
        "start_time": "2023-03-18T22:03:56.273Z"
      },
      {
        "duration": 62,
        "start_time": "2023-03-18T22:03:56.282Z"
      },
      {
        "duration": 25,
        "start_time": "2023-03-18T22:03:56.349Z"
      },
      {
        "duration": 7,
        "start_time": "2023-03-18T22:03:56.376Z"
      },
      {
        "duration": 16,
        "start_time": "2023-03-18T22:03:56.440Z"
      },
      {
        "duration": 6,
        "start_time": "2023-03-18T22:03:56.458Z"
      },
      {
        "duration": 7,
        "start_time": "2023-03-18T22:03:56.465Z"
      },
      {
        "duration": 7,
        "start_time": "2023-03-18T22:03:56.473Z"
      },
      {
        "duration": 3904,
        "start_time": "2023-03-18T22:03:56.543Z"
      },
      {
        "duration": 4005,
        "start_time": "2023-03-18T22:04:00.450Z"
      },
      {
        "duration": 3902,
        "start_time": "2023-03-18T22:04:04.459Z"
      },
      {
        "duration": 6,
        "start_time": "2023-03-18T22:04:08.363Z"
      },
      {
        "duration": 11606,
        "start_time": "2023-03-18T22:04:08.371Z"
      },
      {
        "duration": 42,
        "start_time": "2023-03-18T22:07:32.318Z"
      },
      {
        "duration": 2727,
        "start_time": "2023-03-18T22:17:51.445Z"
      },
      {
        "duration": 812,
        "start_time": "2023-03-18T22:17:54.174Z"
      },
      {
        "duration": 799,
        "start_time": "2023-03-18T22:17:54.988Z"
      },
      {
        "duration": 19,
        "start_time": "2023-03-18T22:17:55.841Z"
      },
      {
        "duration": 12,
        "start_time": "2023-03-18T22:17:55.861Z"
      },
      {
        "duration": 80,
        "start_time": "2023-03-18T22:17:55.874Z"
      },
      {
        "duration": 86,
        "start_time": "2023-03-18T22:17:55.957Z"
      },
      {
        "duration": 27,
        "start_time": "2023-03-18T22:17:56.047Z"
      },
      {
        "duration": 88,
        "start_time": "2023-03-18T22:17:56.076Z"
      },
      {
        "duration": 15,
        "start_time": "2023-03-18T22:17:56.167Z"
      },
      {
        "duration": 69,
        "start_time": "2023-03-18T22:17:56.183Z"
      },
      {
        "duration": 601,
        "start_time": "2023-03-18T22:17:56.254Z"
      },
      {
        "duration": 521,
        "start_time": "2023-03-18T22:17:56.857Z"
      },
      {
        "duration": 498,
        "start_time": "2023-03-18T22:17:57.380Z"
      },
      {
        "duration": 193,
        "start_time": "2023-03-18T22:17:57.879Z"
      },
      {
        "duration": 8,
        "start_time": "2023-03-18T22:17:58.074Z"
      },
      {
        "duration": 92,
        "start_time": "2023-03-18T22:17:58.083Z"
      },
      {
        "duration": 70,
        "start_time": "2023-03-18T22:17:58.176Z"
      },
      {
        "duration": 111,
        "start_time": "2023-03-18T22:17:58.247Z"
      },
      {
        "duration": 86,
        "start_time": "2023-03-18T22:17:58.360Z"
      },
      {
        "duration": 96,
        "start_time": "2023-03-18T22:17:58.456Z"
      },
      {
        "duration": 21,
        "start_time": "2023-03-18T22:17:58.642Z"
      },
      {
        "duration": 189,
        "start_time": "2023-03-18T22:17:58.752Z"
      },
      {
        "duration": 100,
        "start_time": "2023-03-18T22:17:58.950Z"
      },
      {
        "duration": 7,
        "start_time": "2023-03-18T22:17:59.056Z"
      },
      {
        "duration": 5,
        "start_time": "2023-03-18T22:17:59.065Z"
      },
      {
        "duration": 4,
        "start_time": "2023-03-18T22:17:59.071Z"
      },
      {
        "duration": 82,
        "start_time": "2023-03-18T22:17:59.079Z"
      },
      {
        "duration": 11,
        "start_time": "2023-03-18T22:17:59.163Z"
      },
      {
        "duration": 3,
        "start_time": "2023-03-18T22:17:59.176Z"
      },
      {
        "duration": 19,
        "start_time": "2023-03-18T22:17:59.241Z"
      },
      {
        "duration": 13,
        "start_time": "2023-03-18T22:17:59.263Z"
      },
      {
        "duration": 65,
        "start_time": "2023-03-18T22:17:59.278Z"
      },
      {
        "duration": 14,
        "start_time": "2023-03-18T22:17:59.348Z"
      },
      {
        "duration": 13,
        "start_time": "2023-03-18T22:17:59.364Z"
      },
      {
        "duration": 73,
        "start_time": "2023-03-18T22:17:59.379Z"
      },
      {
        "duration": 4,
        "start_time": "2023-03-18T22:17:59.459Z"
      },
      {
        "duration": 8,
        "start_time": "2023-03-18T22:17:59.465Z"
      },
      {
        "duration": 7,
        "start_time": "2023-03-18T22:17:59.475Z"
      },
      {
        "duration": 62,
        "start_time": "2023-03-18T22:17:59.483Z"
      },
      {
        "duration": 6,
        "start_time": "2023-03-18T22:17:59.547Z"
      },
      {
        "duration": 100,
        "start_time": "2023-03-18T22:17:59.556Z"
      },
      {
        "duration": 11,
        "start_time": "2023-03-18T22:17:59.658Z"
      },
      {
        "duration": 5,
        "start_time": "2023-03-18T22:17:59.671Z"
      },
      {
        "duration": 66,
        "start_time": "2023-03-18T22:17:59.678Z"
      },
      {
        "duration": 15,
        "start_time": "2023-03-18T22:17:59.745Z"
      },
      {
        "duration": 8,
        "start_time": "2023-03-18T22:17:59.762Z"
      },
      {
        "duration": 3980,
        "start_time": "2023-03-18T22:17:59.772Z"
      },
      {
        "duration": 3902,
        "start_time": "2023-03-18T22:18:03.753Z"
      },
      {
        "duration": 3834,
        "start_time": "2023-03-18T22:18:07.656Z"
      },
      {
        "duration": 16,
        "start_time": "2023-03-18T22:18:11.541Z"
      },
      {
        "duration": 11307,
        "start_time": "2023-03-18T22:18:11.564Z"
      },
      {
        "duration": 1827,
        "start_time": "2023-03-19T09:03:35.936Z"
      },
      {
        "duration": 735,
        "start_time": "2023-03-19T09:03:40.608Z"
      },
      {
        "duration": 390,
        "start_time": "2023-03-19T09:03:41.346Z"
      },
      {
        "duration": 18,
        "start_time": "2023-03-19T09:03:41.739Z"
      },
      {
        "duration": 35,
        "start_time": "2023-03-19T09:03:41.758Z"
      },
      {
        "duration": 17,
        "start_time": "2023-03-19T09:03:41.895Z"
      },
      {
        "duration": 27,
        "start_time": "2023-03-19T09:03:42.614Z"
      },
      {
        "duration": 26,
        "start_time": "2023-03-19T09:03:42.796Z"
      },
      {
        "duration": 33,
        "start_time": "2023-03-19T09:03:42.961Z"
      },
      {
        "duration": 12,
        "start_time": "2023-03-19T09:03:43.320Z"
      },
      {
        "duration": 11,
        "start_time": "2023-03-19T09:03:43.495Z"
      },
      {
        "duration": 394,
        "start_time": "2023-03-19T09:03:44.597Z"
      },
      {
        "duration": 362,
        "start_time": "2023-03-19T09:03:45.123Z"
      },
      {
        "duration": 371,
        "start_time": "2023-03-19T09:03:45.678Z"
      },
      {
        "duration": 140,
        "start_time": "2023-03-19T09:03:46.256Z"
      },
      {
        "duration": 9,
        "start_time": "2023-03-19T09:03:48.140Z"
      },
      {
        "duration": 40,
        "start_time": "2023-03-19T09:03:48.500Z"
      },
      {
        "duration": 9,
        "start_time": "2023-03-19T09:03:49.418Z"
      },
      {
        "duration": 66,
        "start_time": "2023-03-19T09:03:49.797Z"
      },
      {
        "duration": 42,
        "start_time": "2023-03-19T09:03:51.124Z"
      },
      {
        "duration": 23,
        "start_time": "2023-03-19T09:03:52.295Z"
      },
      {
        "duration": 26,
        "start_time": "2023-03-19T09:03:52.883Z"
      },
      {
        "duration": 17,
        "start_time": "2023-03-19T09:03:53.299Z"
      },
      {
        "duration": 19,
        "start_time": "2023-03-19T09:03:56.012Z"
      },
      {
        "duration": 5,
        "start_time": "2023-03-19T09:03:57.197Z"
      },
      {
        "duration": 5,
        "start_time": "2023-03-19T09:03:57.619Z"
      },
      {
        "duration": 3,
        "start_time": "2023-03-19T09:03:58.869Z"
      },
      {
        "duration": 14,
        "start_time": "2023-03-19T09:03:59.457Z"
      },
      {
        "duration": 15,
        "start_time": "2023-03-19T09:03:59.664Z"
      },
      {
        "duration": 4,
        "start_time": "2023-03-19T09:03:59.865Z"
      },
      {
        "duration": 23,
        "start_time": "2023-03-19T09:04:00.274Z"
      },
      {
        "duration": 15,
        "start_time": "2023-03-19T09:04:00.467Z"
      },
      {
        "duration": 4,
        "start_time": "2023-03-19T09:04:00.667Z"
      },
      {
        "duration": 13,
        "start_time": "2023-03-19T09:04:01.055Z"
      },
      {
        "duration": 14,
        "start_time": "2023-03-19T09:04:01.253Z"
      },
      {
        "duration": 3,
        "start_time": "2023-03-19T09:04:01.452Z"
      },
      {
        "duration": 4,
        "start_time": "2023-03-19T09:04:02.499Z"
      },
      {
        "duration": 16,
        "start_time": "2023-03-19T09:04:02.876Z"
      },
      {
        "duration": 8,
        "start_time": "2023-03-19T09:04:03.240Z"
      },
      {
        "duration": 8,
        "start_time": "2023-03-19T09:04:04.242Z"
      },
      {
        "duration": 5,
        "start_time": "2023-03-19T09:04:05.664Z"
      },
      {
        "duration": 31,
        "start_time": "2023-03-19T09:04:06.076Z"
      },
      {
        "duration": 9,
        "start_time": "2023-03-19T09:04:08.203Z"
      },
      {
        "duration": 6,
        "start_time": "2023-03-19T09:04:08.818Z"
      },
      {
        "duration": 7,
        "start_time": "2023-03-19T09:04:09.014Z"
      },
      {
        "duration": 8,
        "start_time": "2023-03-19T09:04:09.423Z"
      },
      {
        "duration": 16,
        "start_time": "2023-03-19T09:04:10.178Z"
      },
      {
        "duration": 3801,
        "start_time": "2023-03-19T09:04:14.954Z"
      },
      {
        "duration": 9,
        "start_time": "2023-03-19T09:04:48.240Z"
      },
      {
        "duration": 163,
        "start_time": "2023-03-19T09:04:52.449Z"
      },
      {
        "duration": 9,
        "start_time": "2023-03-19T09:06:09.232Z"
      },
      {
        "duration": 23,
        "start_time": "2023-03-19T09:06:10.416Z"
      },
      {
        "duration": 5,
        "start_time": "2023-03-19T09:06:51.935Z"
      },
      {
        "duration": 30,
        "start_time": "2023-03-19T09:06:52.597Z"
      },
      {
        "duration": 7,
        "start_time": "2023-03-19T09:07:05.492Z"
      },
      {
        "duration": 29,
        "start_time": "2023-03-19T09:07:06.398Z"
      },
      {
        "duration": 6,
        "start_time": "2023-03-19T09:09:06.938Z"
      },
      {
        "duration": 23,
        "start_time": "2023-03-19T09:09:13.098Z"
      },
      {
        "duration": 9,
        "start_time": "2023-03-19T09:09:40.997Z"
      },
      {
        "duration": 5,
        "start_time": "2023-03-19T09:52:34.902Z"
      },
      {
        "duration": 17,
        "start_time": "2023-03-19T09:52:38.202Z"
      },
      {
        "duration": 10,
        "start_time": "2023-03-19T10:02:05.032Z"
      },
      {
        "duration": 13,
        "start_time": "2023-03-19T10:02:38.417Z"
      },
      {
        "duration": 9,
        "start_time": "2023-03-19T10:04:00.250Z"
      },
      {
        "duration": 9,
        "start_time": "2023-03-19T10:09:58.223Z"
      },
      {
        "duration": 1547,
        "start_time": "2023-03-19T10:10:05.971Z"
      },
      {
        "duration": 7,
        "start_time": "2023-03-19T10:10:53.168Z"
      },
      {
        "duration": 1489,
        "start_time": "2023-03-19T10:10:58.818Z"
      },
      {
        "duration": 26,
        "start_time": "2023-03-19T10:11:03.518Z"
      },
      {
        "duration": 1673,
        "start_time": "2023-03-19T10:11:15.704Z"
      },
      {
        "duration": 22,
        "start_time": "2023-03-19T10:11:18.925Z"
      },
      {
        "duration": 39,
        "start_time": "2023-03-19T10:11:20.455Z"
      },
      {
        "duration": 7,
        "start_time": "2023-03-19T10:11:34.005Z"
      },
      {
        "duration": 3680,
        "start_time": "2023-03-19T10:11:38.506Z"
      },
      {
        "duration": 3987,
        "start_time": "2023-03-19T10:11:42.188Z"
      },
      {
        "duration": 3689,
        "start_time": "2023-03-19T10:11:46.185Z"
      },
      {
        "duration": 44,
        "start_time": "2023-03-19T10:13:30.094Z"
      },
      {
        "duration": 32,
        "start_time": "2023-03-19T10:13:45.554Z"
      },
      {
        "duration": 16,
        "start_time": "2023-03-19T10:16:13.102Z"
      },
      {
        "duration": 19,
        "start_time": "2023-03-19T10:16:25.911Z"
      },
      {
        "duration": 6,
        "start_time": "2023-03-19T10:16:37.300Z"
      },
      {
        "duration": 7,
        "start_time": "2023-03-19T10:17:07.208Z"
      },
      {
        "duration": 24,
        "start_time": "2023-03-19T10:17:08.834Z"
      },
      {
        "duration": 5,
        "start_time": "2023-03-19T10:17:35.231Z"
      },
      {
        "duration": 26,
        "start_time": "2023-03-19T10:17:37.004Z"
      },
      {
        "duration": 8,
        "start_time": "2023-03-19T10:18:18.274Z"
      },
      {
        "duration": 4118,
        "start_time": "2023-03-19T10:18:24.937Z"
      },
      {
        "duration": 4166,
        "start_time": "2023-03-19T10:18:32.210Z"
      },
      {
        "duration": 8,
        "start_time": "2023-03-19T10:18:51.604Z"
      },
      {
        "duration": 1897,
        "start_time": "2023-03-19T22:08:10.469Z"
      },
      {
        "duration": 726,
        "start_time": "2023-03-19T22:08:12.752Z"
      },
      {
        "duration": 439,
        "start_time": "2023-03-19T22:08:14.492Z"
      },
      {
        "duration": 16,
        "start_time": "2023-03-19T22:08:15.189Z"
      },
      {
        "duration": 12,
        "start_time": "2023-03-19T22:08:15.597Z"
      },
      {
        "duration": 11,
        "start_time": "2023-03-19T22:08:15.789Z"
      },
      {
        "duration": 30,
        "start_time": "2023-03-19T22:08:16.516Z"
      },
      {
        "duration": 25,
        "start_time": "2023-03-19T22:08:16.692Z"
      },
      {
        "duration": 45,
        "start_time": "2023-03-19T22:08:16.869Z"
      },
      {
        "duration": 15,
        "start_time": "2023-03-19T22:08:17.255Z"
      },
      {
        "duration": 14,
        "start_time": "2023-03-19T22:08:17.429Z"
      },
      {
        "duration": 446,
        "start_time": "2023-03-19T22:08:18.541Z"
      },
      {
        "duration": 329,
        "start_time": "2023-03-19T22:08:19.188Z"
      },
      {
        "duration": 372,
        "start_time": "2023-03-19T22:08:19.832Z"
      },
      {
        "duration": 87,
        "start_time": "2023-03-19T22:08:22.660Z"
      },
      {
        "duration": 8,
        "start_time": "2023-03-19T22:08:31.259Z"
      },
      {
        "duration": 41,
        "start_time": "2023-03-19T22:08:31.730Z"
      },
      {
        "duration": 9,
        "start_time": "2023-03-19T22:08:35.544Z"
      },
      {
        "duration": 56,
        "start_time": "2023-03-19T22:08:36.608Z"
      },
      {
        "duration": 35,
        "start_time": "2023-03-19T22:08:39.848Z"
      },
      {
        "duration": 89,
        "start_time": "2023-03-19T22:08:51.516Z"
      },
      {
        "duration": 108,
        "start_time": "2023-03-19T22:08:52.967Z"
      },
      {
        "duration": 17,
        "start_time": "2023-03-19T22:08:53.608Z"
      },
      {
        "duration": 13,
        "start_time": "2023-03-19T22:09:09.928Z"
      },
      {
        "duration": 6,
        "start_time": "2023-03-19T22:09:15.066Z"
      },
      {
        "duration": 5,
        "start_time": "2023-03-19T22:09:17.456Z"
      },
      {
        "duration": 3,
        "start_time": "2023-03-19T22:09:23.250Z"
      },
      {
        "duration": 13,
        "start_time": "2023-03-19T22:09:24.658Z"
      },
      {
        "duration": 12,
        "start_time": "2023-03-19T22:09:24.933Z"
      },
      {
        "duration": 4,
        "start_time": "2023-03-19T22:09:25.588Z"
      },
      {
        "duration": 12,
        "start_time": "2023-03-19T22:09:26.486Z"
      },
      {
        "duration": 19,
        "start_time": "2023-03-19T22:09:26.971Z"
      },
      {
        "duration": 6,
        "start_time": "2023-03-19T22:09:27.555Z"
      },
      {
        "duration": 16,
        "start_time": "2023-03-19T22:09:28.181Z"
      },
      {
        "duration": 16,
        "start_time": "2023-03-19T22:09:28.445Z"
      },
      {
        "duration": 4,
        "start_time": "2023-03-19T22:09:28.734Z"
      },
      {
        "duration": 4,
        "start_time": "2023-03-19T22:09:30.628Z"
      },
      {
        "duration": 7,
        "start_time": "2023-03-19T22:09:31.597Z"
      },
      {
        "duration": 8,
        "start_time": "2023-03-19T22:09:33.165Z"
      },
      {
        "duration": 8,
        "start_time": "2023-03-19T22:09:34.029Z"
      },
      {
        "duration": 5,
        "start_time": "2023-03-19T22:09:36.696Z"
      },
      {
        "duration": 32,
        "start_time": "2023-03-19T22:09:39.601Z"
      },
      {
        "duration": 8,
        "start_time": "2023-03-19T22:16:07.453Z"
      },
      {
        "duration": 6,
        "start_time": "2023-03-19T22:16:09.647Z"
      },
      {
        "duration": 7,
        "start_time": "2023-03-19T22:16:10.513Z"
      },
      {
        "duration": 136,
        "start_time": "2023-03-19T22:16:57.289Z"
      },
      {
        "duration": 15,
        "start_time": "2023-03-19T22:17:16.723Z"
      },
      {
        "duration": 8,
        "start_time": "2023-03-19T22:19:07.196Z"
      },
      {
        "duration": 6,
        "start_time": "2023-03-19T22:21:05.363Z"
      },
      {
        "duration": 19,
        "start_time": "2023-03-19T22:21:14.469Z"
      },
      {
        "duration": 7,
        "start_time": "2023-03-19T22:22:03.085Z"
      },
      {
        "duration": 19,
        "start_time": "2023-03-19T22:22:05.886Z"
      },
      {
        "duration": 19,
        "start_time": "2023-03-19T22:22:29.189Z"
      },
      {
        "duration": 5,
        "start_time": "2023-03-19T22:22:55.232Z"
      },
      {
        "duration": 29,
        "start_time": "2023-03-19T22:22:57.262Z"
      },
      {
        "duration": 4,
        "start_time": "2023-03-19T22:23:46.053Z"
      },
      {
        "duration": 12,
        "start_time": "2023-03-19T22:23:47.255Z"
      },
      {
        "duration": 16,
        "start_time": "2023-03-19T22:24:08.271Z"
      },
      {
        "duration": 24,
        "start_time": "2023-03-19T22:24:09.371Z"
      },
      {
        "duration": 5,
        "start_time": "2023-03-19T22:29:46.348Z"
      },
      {
        "duration": 27,
        "start_time": "2023-03-19T22:29:49.191Z"
      },
      {
        "duration": 9,
        "start_time": "2023-03-19T22:30:09.903Z"
      },
      {
        "duration": 9,
        "start_time": "2023-03-19T22:31:46.085Z"
      },
      {
        "duration": 1354,
        "start_time": "2023-03-19T22:31:52.260Z"
      },
      {
        "duration": 5,
        "start_time": "2023-03-19T23:41:03.526Z"
      },
      {
        "duration": 19,
        "start_time": "2023-03-19T23:41:09.628Z"
      },
      {
        "duration": 4,
        "start_time": "2023-03-19T23:43:38.849Z"
      },
      {
        "duration": 16,
        "start_time": "2023-03-19T23:43:52.438Z"
      },
      {
        "duration": 4,
        "start_time": "2023-03-19T23:47:34.493Z"
      },
      {
        "duration": 7,
        "start_time": "2023-03-19T23:48:18.600Z"
      },
      {
        "duration": 5,
        "start_time": "2023-03-19T23:48:27.289Z"
      },
      {
        "duration": 4,
        "start_time": "2023-03-19T23:50:18.357Z"
      },
      {
        "duration": 9,
        "start_time": "2023-03-19T23:50:51.629Z"
      },
      {
        "duration": 5,
        "start_time": "2023-03-19T23:53:42.233Z"
      },
      {
        "duration": 3460,
        "start_time": "2023-03-19T23:53:48.300Z"
      },
      {
        "duration": 11,
        "start_time": "2023-03-20T00:00:30.006Z"
      },
      {
        "duration": 9,
        "start_time": "2023-03-20T00:02:11.515Z"
      },
      {
        "duration": 5,
        "start_time": "2023-03-20T00:03:05.533Z"
      },
      {
        "duration": 4,
        "start_time": "2023-03-20T00:03:22.090Z"
      },
      {
        "duration": 4,
        "start_time": "2023-03-20T00:03:53.648Z"
      },
      {
        "duration": 9,
        "start_time": "2023-03-20T00:03:54.753Z"
      },
      {
        "duration": 5,
        "start_time": "2023-03-20T00:04:30.449Z"
      },
      {
        "duration": 9,
        "start_time": "2023-03-20T00:04:32.798Z"
      },
      {
        "duration": 14,
        "start_time": "2023-03-20T00:05:01.971Z"
      },
      {
        "duration": 17,
        "start_time": "2023-03-20T00:05:02.873Z"
      },
      {
        "duration": 7,
        "start_time": "2023-03-20T00:05:44.985Z"
      },
      {
        "duration": 15,
        "start_time": "2023-03-20T00:05:45.932Z"
      },
      {
        "duration": 8,
        "start_time": "2023-03-20T00:06:20.674Z"
      },
      {
        "duration": 17,
        "start_time": "2023-03-20T00:06:21.050Z"
      },
      {
        "duration": 25,
        "start_time": "2023-03-20T00:07:02.817Z"
      },
      {
        "duration": 10,
        "start_time": "2023-03-20T00:08:48.052Z"
      },
      {
        "duration": 4,
        "start_time": "2023-03-20T00:09:02.851Z"
      },
      {
        "duration": 9,
        "start_time": "2023-03-20T00:09:03.315Z"
      },
      {
        "duration": 6,
        "start_time": "2023-03-20T00:11:00.046Z"
      },
      {
        "duration": 6,
        "start_time": "2023-03-20T00:11:36.505Z"
      },
      {
        "duration": 11,
        "start_time": "2023-03-20T00:11:38.238Z"
      },
      {
        "duration": 33,
        "start_time": "2023-03-20T00:11:44.969Z"
      },
      {
        "duration": 8,
        "start_time": "2023-03-20T00:11:54.547Z"
      },
      {
        "duration": 1631,
        "start_time": "2023-03-20T00:11:58.092Z"
      },
      {
        "duration": 1680,
        "start_time": "2023-03-20T00:12:03.977Z"
      },
      {
        "duration": 1637,
        "start_time": "2023-03-20T00:12:05.659Z"
      },
      {
        "duration": 1581,
        "start_time": "2023-03-20T00:12:07.298Z"
      },
      {
        "duration": 6,
        "start_time": "2023-03-20T00:12:13.023Z"
      },
      {
        "duration": 4868,
        "start_time": "2023-03-20T00:12:14.500Z"
      }
    ],
    "toc": {
      "base_numbering": 1,
      "nav_menu": {},
      "number_sections": true,
      "sideBar": true,
      "skip_h1_title": true,
      "title_cell": "Table of Contents",
      "title_sidebar": "Contents",
      "toc_cell": false,
      "toc_position": {},
      "toc_section_display": true,
      "toc_window_display": false
    },
    "kernelspec": {
      "name": "python",
      "display_name": "Python (Pyodide)",
      "language": "python"
    },
    "language_info": {
      "codemirror_mode": {
        "name": "python",
        "version": 3
      },
      "file_extension": ".py",
      "mimetype": "text/x-python",
      "name": "python",
      "nbconvert_exporter": "python",
      "pygments_lexer": "ipython3",
      "version": "3.8"
    }
  },
  "nbformat_minor": 4,
  "nbformat": 4,
  "cells": [
    {
      "cell_type": "markdown",
      "source": "# Определение наиболее выгодного региона нефтедобычи",
      "metadata": {
        "tags": []
      }
    },
    {
      "cell_type": "markdown",
      "source": "Заказчик - нефтяная компания поставила задачу решить, где бурить новую скважину.\nНам предоставлены пробы нефти в трёх регионах: в каждом 10 000 месторождений, где измерили качество нефти и объём её запасов. Необходимо построить модель машинного обучения, которая поможет определить регион, где добыча принесёт наибольшую прибыль, а также проанализировать возможную прибыль и риски техникой *Bootstrap.*\n\nШаги для выбора локации:\n\n- В избранном регионе ищут месторождения, для каждого определяют значения признаков;\n- Строят модель и оценивают объём запасов;\n- Выбирают месторождения с самым высокими оценками значений. Количество месторождений зависит от бюджета компании и стоимости разработки одной скважины;\n- Прибыль равна суммарной прибыли отобранных месторождений.",
      "metadata": {}
    },
    {
      "cell_type": "markdown",
      "source": "## Загрузка и подготовка данных",
      "metadata": {}
    },
    {
      "cell_type": "markdown",
      "source": "### Введение и подготовка необходимых библиотек",
      "metadata": {}
    },
    {
      "cell_type": "markdown",
      "source": "Перед началом работы и подготовкой данных выгрузим все необходимые библиотеки. Затем перейдем к исследованию данных и их обработке для дальнейшего обучения модели и решения задачи.",
      "metadata": {}
    },
    {
      "cell_type": "code",
      "source": "import pandas as pd\nimport numpy as np\nimport matplotlib.pyplot as plt\nimport seaborn as sns  \nfrom scipy import stats as st\nfrom sklearn.linear_model import LinearRegression \nfrom sklearn.model_selection import train_test_split\nfrom sklearn.metrics import (\n    accuracy_score, \n    precision_score,\n    recall_score,\n    r2_score, \n    mean_squared_error,\n    mean_absolute_error\n\n)\nfrom sklearn.utils import shuffle\nfrom sklearn.preprocessing import OrdinalEncoder, StandardScaler\n\n\n",
      "metadata": {},
      "execution_count": 1,
      "outputs": []
    },
    {
      "cell_type": "markdown",
      "source": "Необходимые библиотеки выгружены. Перейдем к выгрузке и анализу данных.",
      "metadata": {}
    },
    {
      "cell_type": "markdown",
      "source": "### Выгрузка данных",
      "metadata": {}
    },
    {
      "cell_type": "markdown",
      "source": "Как было сказано выше - у нас 3 датасета с данными о 3-х регионах добычи нефти. Назовем их df1, df2, df3.",
      "metadata": {}
    },
    {
      "cell_type": "code",
      "source": "df1 = pd.read_csv('/datasets/geo_data_0.csv')\ndf2 = pd.read_csv('/datasets/geo_data_1.csv')\ndf3 = pd.read_csv('/datasets/geo_data_2.csv')",
      "metadata": {},
      "execution_count": 2,
      "outputs": []
    },
    {
      "cell_type": "code",
      "source": "\nfor i in range(1, 4):\n    globals()['df{i}'] = pd.read_csv(f'/datasets/geo_data_{i-1}.csv')",
      "metadata": {},
      "execution_count": 3,
      "outputs": []
    },
    {
      "cell_type": "markdown",
      "source": "### Исследование и подготовка данных",
      "metadata": {}
    },
    {
      "cell_type": "markdown",
      "source": "Выведем информацию о датасетах методом info(), а также посмотрим нет ли в данных пропусков.",
      "metadata": {}
    },
    {
      "cell_type": "code",
      "source": "print('Dataset 1')\ndf1.info()\ndf1.isna().count()",
      "metadata": {
        "scrolled": true
      },
      "execution_count": 7,
      "outputs": [
        {
          "name": "stdout",
          "output_type": "stream",
          "text": "Dataset 1\n\n<class 'pandas.core.frame.DataFrame'>\n\nRangeIndex: 100000 entries, 0 to 99999\n\nData columns (total 5 columns):\n\n #   Column   Non-Null Count   Dtype  \n\n---  ------   --------------   -----  \n\n 0   id       100000 non-null  object \n\n 1   f0       100000 non-null  float64\n\n 2   f1       100000 non-null  float64\n\n 3   f2       100000 non-null  float64\n\n 4   product  100000 non-null  float64\n\ndtypes: float64(4), object(1)\n\nmemory usage: 3.8+ MB\n"
        },
        {
          "execution_count": 7,
          "output_type": "execute_result",
          "data": {
            "text/plain": [
              "id         100000\n",
              "f0         100000\n",
              "f1         100000\n",
              "f2         100000\n",
              "product    100000\n",
              "dtype: int64"
            ]
          },
          "metadata": {}
        }
      ]
    },
    {
      "cell_type": "code",
      "source": "print('Dataset 2')\ndf2.info()\ndf2.isna().count()",
      "metadata": {},
      "execution_count": 8,
      "outputs": [
        {
          "name": "stdout",
          "output_type": "stream",
          "text": "Dataset 2\n\n<class 'pandas.core.frame.DataFrame'>\n\nRangeIndex: 100000 entries, 0 to 99999\n\nData columns (total 5 columns):\n\n #   Column   Non-Null Count   Dtype  \n\n---  ------   --------------   -----  \n\n 0   id       100000 non-null  object \n\n 1   f0       100000 non-null  float64\n\n 2   f1       100000 non-null  float64\n\n 3   f2       100000 non-null  float64\n\n 4   product  100000 non-null  float64\n\ndtypes: float64(4), object(1)\n\nmemory usage: 3.8+ MB\n"
        },
        {
          "execution_count": 8,
          "output_type": "execute_result",
          "data": {
            "text/plain": [
              "id         100000\n",
              "f0         100000\n",
              "f1         100000\n",
              "f2         100000\n",
              "product    100000\n",
              "dtype: int64"
            ]
          },
          "metadata": {}
        }
      ]
    },
    {
      "cell_type": "code",
      "source": "print('Dataset 3')\ndf3.info()\ndf3.isna().count()",
      "metadata": {},
      "execution_count": 9,
      "outputs": [
        {
          "name": "stdout",
          "output_type": "stream",
          "text": "Dataset 3\n\n<class 'pandas.core.frame.DataFrame'>\n\nRangeIndex: 100000 entries, 0 to 99999\n\nData columns (total 5 columns):\n\n #   Column   Non-Null Count   Dtype  \n\n---  ------   --------------   -----  \n\n 0   id       100000 non-null  object \n\n 1   f0       100000 non-null  float64\n\n 2   f1       100000 non-null  float64\n\n 3   f2       100000 non-null  float64\n\n 4   product  100000 non-null  float64\n\ndtypes: float64(4), object(1)\n\nmemory usage: 3.8+ MB\n"
        },
        {
          "execution_count": 9,
          "output_type": "execute_result",
          "data": {
            "text/plain": [
              "id         100000\n",
              "f0         100000\n",
              "f1         100000\n",
              "f2         100000\n",
              "product    100000\n",
              "dtype: int64"
            ]
          },
          "metadata": {}
        }
      ]
    },
    {
      "cell_type": "markdown",
      "source": "Наш датасет состоит из 5 колонок - идентификатор скважины, три признака точек и объем запасов сырья. Для дальнейшего обучения модели столбец с идентификатором 'id' не несет никакой смысловой нагрузки. Удалим его в каждом датасете.",
      "metadata": {}
    },
    {
      "cell_type": "code",
      "source": "df1 = df1.drop('id', axis = 1, inplace=False)\ndf2 = df2.drop('id', axis = 1, inplace=False)\ndf3 = df3.drop('id', axis = 1, inplace=False)\n\n",
      "metadata": {},
      "execution_count": 10,
      "outputs": []
    },
    {
      "cell_type": "code",
      "source": "print(df1.head(2))\nprint(df2.head(2))\nprint(df3.head(2))",
      "metadata": {},
      "execution_count": 11,
      "outputs": [
        {
          "name": "stdout",
          "output_type": "stream",
          "text": "         f0        f1       f2     product\n\n0  0.705745 -0.497823  1.22117  105.280062\n\n1  1.334711 -0.340164  4.36508   73.037750\n\n          f0        f1        f2    product\n\n0 -15.001348 -8.276000 -0.005876   3.179103\n\n1  14.272088 -3.475083  0.999183  26.953261\n\n         f0        f1        f2    product\n\n0 -1.146987  0.963328 -0.828965  27.758673\n\n1  0.262778  0.269839 -2.530187  56.069697\n"
        }
      ]
    },
    {
      "cell_type": "markdown",
      "source": "Столбец id удалился. Переходим дальше.",
      "metadata": {}
    },
    {
      "cell_type": "markdown",
      "source": "Для интересующей нас модеди линейной регрессии важно, чтобы не было мультиколлинеарности, то есть ситуации, когда две независимые переменные имеют сильную корреляцию.\n\nЧтобы проверить взаимосвязь между нашими переменными выведем коэффициенты корреляции на экран и построим heatmap корреляции с использованием seaborn по каждому датасету.",
      "metadata": {}
    },
    {
      "cell_type": "markdown",
      "source": "Датасет 1",
      "metadata": {}
    },
    {
      "cell_type": "code",
      "source": "print(df1.corr())  \n    \ndf1_plot = sns.heatmap(df1.corr(), cmap=\"YlGnBu\", annot=True)  \n    \nplt.show()",
      "metadata": {},
      "execution_count": 12,
      "outputs": [
        {
          "name": "stdout",
          "output_type": "stream",
          "text": "               f0        f1        f2   product\n\nf0       1.000000 -0.440723 -0.003153  0.143536\n\nf1      -0.440723  1.000000  0.001724 -0.192356\n\nf2      -0.003153  0.001724  1.000000  0.483663\n\nproduct  0.143536 -0.192356  0.483663  1.000000\n"
        },
        {
          "output_type": "display_data",
          "data": {
            "image/png": "[encoded data removed]",
            "text/plain": [
              "<Figure size 432x288 with 2 Axes>"
            ]
          },
          "metadata": {
            "needs_background": "light"
          }
        }
      ]
    },
    {
      "cell_type": "markdown",
      "source": "В первом датасете коэффициенты корреляции разбросаны сильно - это показывает наличие не явно выраженной зависимости признаков друг от друга. Единственное, на что обращаем внимание - зависимость признака 'product' от 'f2', но и она выражена не так сильно.",
      "metadata": {}
    },
    {
      "cell_type": "markdown",
      "source": "Датасет 2",
      "metadata": {}
    },
    {
      "cell_type": "code",
      "source": "print(df2.corr())  \n    \ndf2_plot = sns.heatmap(df2.corr(), cmap=\"YlGnBu\", annot=True)  \n    \nplt.show()",
      "metadata": {},
      "execution_count": 13,
      "outputs": [
        {
          "name": "stdout",
          "output_type": "stream",
          "text": "               f0        f1        f2   product\n\nf0       1.000000  0.182287 -0.001777 -0.030491\n\nf1       0.182287  1.000000 -0.002595 -0.010155\n\nf2      -0.001777 -0.002595  1.000000  0.999397\n\nproduct -0.030491 -0.010155  0.999397  1.000000\n"
        },
        {
          "output_type": "display_data",
          "data": {
            "image/png": "[encoded data removed]",
            "text/plain": [
              "<Figure size 432x288 with 2 Axes>"
            ]
          },
          "metadata": {
            "needs_background": "light"
          }
        }
      ]
    },
    {
      "cell_type": "markdown",
      "source": "Здесь заметна сильная зависимость показателя 'profit' от признака 'f0'. Эта зависимость может показать высокие значения предсказаний в дальнейшем применении модели. ",
      "metadata": {}
    },
    {
      "cell_type": "markdown",
      "source": "Датасет 3",
      "metadata": {}
    },
    {
      "cell_type": "code",
      "source": "print(df3.corr())  \n    \ndf3_plot = sns.heatmap(df3.corr(), cmap=\"YlGnBu\", annot=True)  \n    \nplt.show()",
      "metadata": {},
      "execution_count": 14,
      "outputs": [
        {
          "name": "stdout",
          "output_type": "stream",
          "text": "               f0        f1        f2   product\n\nf0       1.000000  0.000528 -0.000448 -0.001987\n\nf1       0.000528  1.000000  0.000779 -0.001012\n\nf2      -0.000448  0.000779  1.000000  0.445871\n\nproduct -0.001987 -0.001012  0.445871  1.000000\n"
        },
        {
          "output_type": "display_data",
          "data": {
            "image/png": "[encoded data removed]",
            "text/plain": [
              "<Figure size 432x288 with 2 Axes>"
            ]
          },
          "metadata": {
            "needs_background": "light"
          }
        }
      ]
    },
    {
      "cell_type": "markdown",
      "source": "В третьем датасете также прослеживается зависимость признака 'product' от признака 'f2', правда коэффициент корреляции здесь немного меньше.",
      "metadata": {}
    },
    {
      "cell_type": "markdown",
      "source": "Проверим наши данные на дубликаты. Для этого воспользуемся методом duplicated().sum() для каждого датасета.",
      "metadata": {}
    },
    {
      "cell_type": "code",
      "source": "print('Количество дубликатов в Датасете 1:', df1.duplicated().sum())\nprint('Количество дубликатов в Датасете 2:', df2.duplicated().sum())\nprint('Количество дубликатов в Датасете 3:', df3.duplicated().sum())",
      "metadata": {},
      "execution_count": 15,
      "outputs": [
        {
          "name": "stdout",
          "output_type": "stream",
          "text": "Количество дубликатов в Датасете 1: 0\n\nКоличество дубликатов в Датасете 2: 0\n\nКоличество дубликатов в Датасете 3: 0\n"
        }
      ]
    },
    {
      "cell_type": "markdown",
      "source": "Как видим из полученных данных - дубликаты в наших датасетах отсутствуют.",
      "metadata": {}
    },
    {
      "cell_type": "markdown",
      "source": "Мы произвели подготовку данных, посмотрели их структуру, проверили на наличие пропусков, удалили неинтересующую нас колонку 'id' (идентификатор скважины), рассмотрели коэффициенты корреляции между признаками (сильная зависимость (коэффициент 1) прослеживается только во втором датасете) чтобы избежать мультиколлинеарности., а также проверили данные на наличие дубликатов.\n\nТеперь можно сказать, что данные подготовлены к обучению. Остальные шаги, такие как разбивка на выборки, масштабирование и др. будем делать по ходу обучения.",
      "metadata": {}
    },
    {
      "cell_type": "markdown",
      "source": "## Обучение и проверка модели",
      "metadata": {}
    },
    {
      "cell_type": "markdown",
      "source": "### Работа с признаками и разбитие данных на выборки",
      "metadata": {}
    },
    {
      "cell_type": "markdown",
      "source": "Для разбивки на выборки необходимо выбрать признаки для нашей модели. Целевым признаком во всех 3-х датасетах будет выступать product (объем запасов в скважине). Тестовыми признаками будут все остальные. Запишем это в коде для каждого датасета.",
      "metadata": {}
    },
    {
      "cell_type": "code",
      "source": "target1 = df1['product']\nfeatures1 = df1.drop(['product'], axis=1)\n\ntarget2 = df2['product']\nfeatures2 = df2.drop(['product'], axis=1)\n\ntarget3 = df3['product']\nfeatures3 = df3.drop(['product'], axis=1)\n",
      "metadata": {},
      "execution_count": 16,
      "outputs": []
    },
    {
      "cell_type": "markdown",
      "source": "Целевые и тестовые признаки объявлены в переменных. Разобьем данные на выборки и проведем стандартизацию.\n\nВ нашей зедаче предлагаю разбить данные методом train_test_split() следующим образом:\n- 75% данных на тренировочкую выборку\n- 25% данных на валидационную выборку\n\nДля этого размер test_size поставим равным 0,25. Повторим эту процедуру для каждого датасета.",
      "metadata": {}
    },
    {
      "cell_type": "code",
      "source": "RANDOM_STATE = 12345\n\nfeatures_train1, features_valid1, target_train1, target_valid1 = train_test_split(\n    features1, \n    target1, \n    test_size=0.25, \n    random_state=RANDOM_STATE\n)\n\nfeatures_train2, features_valid2, target_train2, target_valid2 = train_test_split(\n    features2,\n    target2, \n    test_size=0.25,\n    random_state=RANDOM_STATE\n)\n\nfeatures_train3, features_valid3, target_train3, target_valid3 = train_test_split(\n    features3,\n    target3, \n    test_size=0.25,\n    random_state=RANDOM_STATE\n)",
      "metadata": {},
      "execution_count": 17,
      "outputs": []
    },
    {
      "cell_type": "markdown",
      "source": "Проверим размер каждой из выборок методом shape.",
      "metadata": {}
    },
    {
      "cell_type": "code",
      "source": "print('Размер тренировочной выборки тестовых признаков Датасета 1:', features_train1.shape)\nprint('Размер тренировочной выборки целевого признака Датасета 1:', target_train1.shape)\nprint('Размер валидационной выборки тестовых признаков Датасета 1:', features_valid1.shape)\nprint('Размер валидационной выборки целевого признака Датасета 1:', target_valid1.shape)\n\nprint('Размер тренировочной выборки тестовых признаков Датасета 2:', features_train2.shape)\nprint('Размер тренировочной выборки целевого признака Датасета 2:', target_train2.shape)\nprint('Размер валидационной выборки тестовых признаков Датасета 2:', features_valid2.shape)\nprint('Размер валидационной выборки целевого признака Датасета 2:', target_valid2.shape)\n\nprint('Размер тренировочной выборки тестовых признаков Датасета 3:', features_train3.shape)\nprint('Размер тренировочной выборки целевого признака Датасета 3:', target_train3.shape)\nprint('Размер валидационной выборки тестовых признаков Датасета 3:', features_valid3.shape)\nprint('Размер валидационной выборки целевого признака Датасета 3:', target_valid3.shape)",
      "metadata": {
        "scrolled": true
      },
      "execution_count": 18,
      "outputs": [
        {
          "name": "stdout",
          "output_type": "stream",
          "text": "Размер тренировочной выборки тестовых признаков Датасета 1: (75000, 3)\n\nРазмер тренировочной выборки целевого признака Датасета 1: (75000,)\n\nРазмер валидационной выборки тестовых признаков Датасета 1: (25000, 3)\n\nРазмер валидационной выборки целевого признака Датасета 1: (25000,)\n\nРазмер тренировочной выборки тестовых признаков Датасета 2: (75000, 3)\n\nРазмер тренировочной выборки целевого признака Датасета 2: (75000,)\n\nРазмер валидационной выборки тестовых признаков Датасета 2: (25000, 3)\n\nРазмер валидационной выборки целевого признака Датасета 2: (25000,)\n\nРазмер тренировочной выборки тестовых признаков Датасета 3: (75000, 3)\n\nРазмер тренировочной выборки целевого признака Датасета 3: (75000,)\n\nРазмер валидационной выборки тестовых признаков Датасета 3: (25000, 3)\n\nРазмер валидационной выборки целевого признака Датасета 3: (25000,)\n"
        }
      ]
    },
    {
      "cell_type": "markdown",
      "source": "Все данные разбиты в пропорции 3/1. Разбивка на выборки прошла успешна. Теперь стандартизируем признаки с помощью StandardScaler. Это поможет избавиться от придания алгоритмом большей важности признакам, которые численно больше, что в свою очередь улучшит качество модели линейной регрессии. Для начала создадим список из названий столбцов, данные в которых необходимо масштабировать. Затем воспользуемся методом scaler и сохраним масштабированные выборки в те же переменные. И так для каждого датасета.",
      "metadata": {}
    },
    {
      "cell_type": "code",
      "source": "numeric = ['f0', 'f1', 'f2']#создадим список\n\nscaler_1 = StandardScaler()#применим StandardScaler к 1 региону\nscaler_1.fit(features_train1[numeric])\nfeatures_train1[numeric] = scaler_1.transform(features_train1[numeric])\nfeatures_valid1[numeric] = scaler_1.transform(features_valid1[numeric])\n\nscaler_2 = StandardScaler()#применим StandardScaler ко 2 региону\nscaler_2.fit(features_train2[numeric])\nfeatures_train2[numeric] = scaler_2.transform(features_train2[numeric])\nfeatures_valid2[numeric] = scaler_2.transform(features_valid2[numeric])\n\nscaler_3 = StandardScaler()#применим StandardScaler к 3 региону\nscaler_3.fit(features_train3[numeric])\nfeatures_train3[numeric] = scaler_3.transform(features_train3[numeric])\nfeatures_valid3[numeric] = scaler_3.transform(features_valid3[numeric])\n\npd.options.mode.chained_assignment = None\n\nprint(features_train1.head(2))\nprint(features_train2.head(2))\nprint(features_train3.head(2))",
      "metadata": {
        "scrolled": true
      },
      "execution_count": 19,
      "outputs": [
        {
          "name": "stdout",
          "output_type": "stream",
          "text": "             f0        f1        f2\n\n27212 -0.544828  1.390264 -0.094959\n\n7866   1.455912 -0.480422  1.209567\n\n             f0        f1        f2\n\n27212 -0.850855  0.624428  0.296943\n\n7866   1.971935  1.832275  0.294333\n\n             f0        f1        f2\n\n27212 -0.526160  0.776329 -0.400793\n\n7866  -0.889625 -0.404070 -1.222936\n"
        },
        {
          "name": "stderr",
          "output_type": "stream",
          "text": "/tmp/ipykernel_31/2217662880.py:5: SettingWithCopyWarning: \n\nA value is trying to be set on a copy of a slice from a DataFrame.\n\nTry using .loc[row_indexer,col_indexer] = value instead\n\n\n\nSee the caveats in the documentation: https://pandas.pydata.org/pandas-docs/stable/user_guide/indexing.html#returning-a-view-versus-a-copy\n\n  features_train1[numeric] = scaler_1.transform(features_train1[numeric])\n\n/opt/conda/lib/python3.9/site-packages/pandas/core/indexing.py:1637: SettingWithCopyWarning: \n\nA value is trying to be set on a copy of a slice from a DataFrame\n\n\n\nSee the caveats in the documentation: https://pandas.pydata.org/pandas-docs/stable/user_guide/indexing.html#returning-a-view-versus-a-copy\n\n  self._setitem_single_block(indexer, value, name)\n\n/opt/conda/lib/python3.9/site-packages/pandas/core/indexing.py:692: SettingWithCopyWarning: \n\nA value is trying to be set on a copy of a slice from a DataFrame\n\n\n\nSee the caveats in the documentation: https://pandas.pydata.org/pandas-docs/stable/user_guide/indexing.html#returning-a-view-versus-a-copy\n\n  iloc._setitem_with_indexer(indexer, value, self.name)\n\n/tmp/ipykernel_31/2217662880.py:6: SettingWithCopyWarning: \n\nA value is trying to be set on a copy of a slice from a DataFrame.\n\nTry using .loc[row_indexer,col_indexer] = value instead\n\n\n\nSee the caveats in the documentation: https://pandas.pydata.org/pandas-docs/stable/user_guide/indexing.html#returning-a-view-versus-a-copy\n\n  features_valid1[numeric] = scaler_1.transform(features_valid1[numeric])\n\n/opt/conda/lib/python3.9/site-packages/pandas/core/indexing.py:1637: SettingWithCopyWarning: \n\nA value is trying to be set on a copy of a slice from a DataFrame\n\n\n\nSee the caveats in the documentation: https://pandas.pydata.org/pandas-docs/stable/user_guide/indexing.html#returning-a-view-versus-a-copy\n\n  self._setitem_single_block(indexer, value, name)\n\n/opt/conda/lib/python3.9/site-packages/pandas/core/indexing.py:692: SettingWithCopyWarning: \n\nA value is trying to be set on a copy of a slice from a DataFrame\n\n\n\nSee the caveats in the documentation: https://pandas.pydata.org/pandas-docs/stable/user_guide/indexing.html#returning-a-view-versus-a-copy\n\n  iloc._setitem_with_indexer(indexer, value, self.name)\n\n/tmp/ipykernel_31/2217662880.py:10: SettingWithCopyWarning: \n\nA value is trying to be set on a copy of a slice from a DataFrame.\n\nTry using .loc[row_indexer,col_indexer] = value instead\n\n\n\nSee the caveats in the documentation: https://pandas.pydata.org/pandas-docs/stable/user_guide/indexing.html#returning-a-view-versus-a-copy\n\n  features_train2[numeric] = scaler_2.transform(features_train2[numeric])\n\n/opt/conda/lib/python3.9/site-packages/pandas/core/indexing.py:1637: SettingWithCopyWarning: \n\nA value is trying to be set on a copy of a slice from a DataFrame\n\n\n\nSee the caveats in the documentation: https://pandas.pydata.org/pandas-docs/stable/user_guide/indexing.html#returning-a-view-versus-a-copy\n\n  self._setitem_single_block(indexer, value, name)\n\n/opt/conda/lib/python3.9/site-packages/pandas/core/indexing.py:692: SettingWithCopyWarning: \n\nA value is trying to be set on a copy of a slice from a DataFrame\n\n\n\nSee the caveats in the documentation: https://pandas.pydata.org/pandas-docs/stable/user_guide/indexing.html#returning-a-view-versus-a-copy\n\n  iloc._setitem_with_indexer(indexer, value, self.name)\n\n/tmp/ipykernel_31/2217662880.py:11: SettingWithCopyWarning: \n\nA value is trying to be set on a copy of a slice from a DataFrame.\n\nTry using .loc[row_indexer,col_indexer] = value instead\n\n\n\nSee the caveats in the documentation: https://pandas.pydata.org/pandas-docs/stable/user_guide/indexing.html#returning-a-view-versus-a-copy\n\n  features_valid2[numeric] = scaler_2.transform(features_valid2[numeric])\n\n/opt/conda/lib/python3.9/site-packages/pandas/core/indexing.py:1637: SettingWithCopyWarning: \n\nA value is trying to be set on a copy of a slice from a DataFrame\n\n\n\nSee the caveats in the documentation: https://pandas.pydata.org/pandas-docs/stable/user_guide/indexing.html#returning-a-view-versus-a-copy\n\n  self._setitem_single_block(indexer, value, name)\n\n/opt/conda/lib/python3.9/site-packages/pandas/core/indexing.py:692: SettingWithCopyWarning: \n\nA value is trying to be set on a copy of a slice from a DataFrame\n\n\n\nSee the caveats in the documentation: https://pandas.pydata.org/pandas-docs/stable/user_guide/indexing.html#returning-a-view-versus-a-copy\n\n  iloc._setitem_with_indexer(indexer, value, self.name)\n\n/tmp/ipykernel_31/2217662880.py:15: SettingWithCopyWarning: \n\nA value is trying to be set on a copy of a slice from a DataFrame.\n\nTry using .loc[row_indexer,col_indexer] = value instead\n\n\n\nSee the caveats in the documentation: https://pandas.pydata.org/pandas-docs/stable/user_guide/indexing.html#returning-a-view-versus-a-copy\n\n  features_train3[numeric] = scaler_3.transform(features_train3[numeric])\n\n/opt/conda/lib/python3.9/site-packages/pandas/core/indexing.py:1637: SettingWithCopyWarning: \n\nA value is trying to be set on a copy of a slice from a DataFrame\n\n\n\nSee the caveats in the documentation: https://pandas.pydata.org/pandas-docs/stable/user_guide/indexing.html#returning-a-view-versus-a-copy\n\n  self._setitem_single_block(indexer, value, name)\n\n/opt/conda/lib/python3.9/site-packages/pandas/core/indexing.py:692: SettingWithCopyWarning: \n\nA value is trying to be set on a copy of a slice from a DataFrame\n\n\n\nSee the caveats in the documentation: https://pandas.pydata.org/pandas-docs/stable/user_guide/indexing.html#returning-a-view-versus-a-copy\n\n  iloc._setitem_with_indexer(indexer, value, self.name)\n\n/tmp/ipykernel_31/2217662880.py:16: SettingWithCopyWarning: \n\nA value is trying to be set on a copy of a slice from a DataFrame.\n\nTry using .loc[row_indexer,col_indexer] = value instead\n\n\n\nSee the caveats in the documentation: https://pandas.pydata.org/pandas-docs/stable/user_guide/indexing.html#returning-a-view-versus-a-copy\n\n  features_valid3[numeric] = scaler_3.transform(features_valid3[numeric])\n\n/opt/conda/lib/python3.9/site-packages/pandas/core/indexing.py:1637: SettingWithCopyWarning: \n\nA value is trying to be set on a copy of a slice from a DataFrame\n\n\n\nSee the caveats in the documentation: https://pandas.pydata.org/pandas-docs/stable/user_guide/indexing.html#returning-a-view-versus-a-copy\n\n  self._setitem_single_block(indexer, value, name)\n\n/opt/conda/lib/python3.9/site-packages/pandas/core/indexing.py:692: SettingWithCopyWarning: \n\nA value is trying to be set on a copy of a slice from a DataFrame\n\n\n\nSee the caveats in the documentation: https://pandas.pydata.org/pandas-docs/stable/user_guide/indexing.html#returning-a-view-versus-a-copy\n\n  iloc._setitem_with_indexer(indexer, value, self.name)\n"
        }
      ]
    },
    {
      "cell_type": "code",
      "source": "# КОД РЕВЬЮЕРА\nscaler = StandardScaler()\nfeatures_train_list = [features_train1, features_train2, features_train3]\nfeatures_valid_list = [features_valid1, features_valid2, features_valid3]\n\nfor i in range(3):\n    scaler.fit_transform(features_train_list[i])\n    features_valid_list[i] = scaler.transform(features_valid_list[i])",
      "metadata": {},
      "execution_count": 20,
      "outputs": []
    },
    {
      "cell_type": "markdown",
      "source": "Тестовые признаки для каждого датасета стандартизированны. Мы готовы к обучению модели.",
      "metadata": {}
    },
    {
      "cell_type": "markdown",
      "source": "### Обучение модели",
      "metadata": {}
    },
    {
      "cell_type": "markdown",
      "source": "Итак, для обучения мы будем использовать модель линейной регрессии. Обучим ее и сделаем предсказания на валидационной выборке. Проверим полученные результаты метрикой RMSE (квадратный корень из средней квадратичной ошибки) и R2 (коэффициент детерминации) по каждому датасету. ",
      "metadata": {}
    },
    {
      "cell_type": "markdown",
      "source": "Датасет 1",
      "metadata": {}
    },
    {
      "cell_type": "code",
      "source": "model1=LinearRegression()\nmodel1.fit(features_train1,target_train1)\npredict1=model1.predict(features_valid1)\nrmse1 = mean_squared_error(target_valid1, predict1)**0.5\nprint('RMSE:', rmse1)\nprint('Коэффициент детерминации:', r2_score(target_valid1, predict1))",
      "metadata": {},
      "execution_count": 21,
      "outputs": [
        {
          "name": "stdout",
          "output_type": "stream",
          "text": "RMSE: 37.5794217150813\n\nКоэффициент детерминации: 0.27994321524487786\n"
        }
      ]
    },
    {
      "cell_type": "markdown",
      "source": "R2 больше 0 и стремится к единице (0,279), RMSE 37,5 - модель работает хорошо.",
      "metadata": {}
    },
    {
      "cell_type": "markdown",
      "source": "Датасет 2",
      "metadata": {}
    },
    {
      "cell_type": "code",
      "source": "model2=LinearRegression()\nmodel2.fit(features_train2,target_train2)\npredict2=model2.predict(features_valid2)\nrmse2 = mean_squared_error(target_valid2, predict2)**0.5\nprint('RMSE:', rmse2)\nprint('Коэффициент детерминации:', r2_score(target_valid2, predict2))",
      "metadata": {
        "scrolled": true
      },
      "execution_count": 22,
      "outputs": [
        {
          "name": "stdout",
          "output_type": "stream",
          "text": "RMSE: 0.893099286775617\n\nКоэффициент детерминации: 0.9996233978805127\n"
        }
      ]
    },
    {
      "cell_type": "markdown",
      "source": "Во втором датасете показатели изменились. Коэффициент детерминации 0,99, а RMSE 0,91.",
      "metadata": {}
    },
    {
      "cell_type": "code",
      "source": "model3=LinearRegression()\nmodel3.fit(features_train3,target_train3)\npredict3=model3.predict(features_valid3)\nrmse3 = mean_squared_error(target_valid3, predict3)**0.5\nprint('RMSE:', rmse3)\nprint('Коэффициент детерминации:', r2_score(target_valid3, predict3))",
      "metadata": {
        "scrolled": true
      },
      "execution_count": 23,
      "outputs": [
        {
          "name": "stdout",
          "output_type": "stream",
          "text": "RMSE: 40.02970873393434\n\nКоэффициент детерминации: 0.20524758386040443\n"
        }
      ]
    },
    {
      "cell_type": "markdown",
      "source": "Здесь можно отметить самый низкий коэффициент детерминации - 0,2.",
      "metadata": {}
    },
    {
      "cell_type": "markdown",
      "source": "### Сохранение предсказаний и правильных ответов",
      "metadata": {}
    },
    {
      "cell_type": "markdown",
      "source": "Предсказания и правильные ответы моделей сохраним в переменных predict и target_valid для каждого датасета соответственно.",
      "metadata": {}
    },
    {
      "cell_type": "markdown",
      "source": "Датасет 1:\n- Предсказания в переменной \"predict1\"\n- Правильные ответы в переменной \"target_valid1\"\n\nДатасет 2:\n- Предсказания в переменной \"predict2\"\n- Правильные ответы в переменной \"target_valid2\"\n\nДатасет 3:\n- Предсказания в переменной \"predict3\"\n- Правильные ответы в переменной \"target_valid3\"",
      "metadata": {}
    },
    {
      "cell_type": "markdown",
      "source": "### Средний запас предсказанного сырья и RMSE модели",
      "metadata": {}
    },
    {
      "cell_type": "markdown",
      "source": "Выведем на экран таблицу, в которой будут интересующие нас параметры для каждого из датасетов. Для этого создадим новый датафрейм, в котором передадим колонкам названия наших 3-х датасетов, а строкам - интересующие нас метрики (RMSE и средний запас предсказанного сырья).",
      "metadata": {}
    },
    {
      "cell_type": "code",
      "source": "table = pd.DataFrame(index=['RMSE модели','Средний запас предсказанного сырья (тыс. баррелей)'], columns=['Датасет 1','Датасет 2','Датасет 3'])\ntable['Датасет 1'] = rmse1, predict1.mean()\ntable['Датасет 2'] = rmse2, predict2.mean()\ntable['Датасет 3'] = rmse3, predict3.mean()\ntable\n\n\n",
      "metadata": {},
      "execution_count": 24,
      "outputs": [
        {
          "execution_count": 24,
          "output_type": "execute_result",
          "data": {
            "text/html": [
              "<div>\n",
              "<style scoped>\n",
              "    .dataframe tbody tr th:only-of-type {\n",
              "        vertical-align: middle;\n",
              "    }\n",
              "\n",
              "    .dataframe tbody tr th {\n",
              "        vertical-align: top;\n",
              "    }\n",
              "\n",
              "    .dataframe thead th {\n",
              "        text-align: right;\n",
              "    }\n",
              "</style>\n",
              "<table border=\"1\" class=\"dataframe\">\n",
              "  <thead>\n",
              "    <tr style=\"text-align: right;\">\n",
              "      <th></th>\n",
              "      <th>Датасет 1</th>\n",
              "      <th>Датасет 2</th>\n",
              "      <th>Датасет 3</th>\n",
              "    </tr>\n",
              "  </thead>\n",
              "  <tbody>\n",
              "    <tr>\n",
              "      <th>RMSE модели</th>\n",
              "      <td>37.579422</td>\n",
              "      <td>0.893099</td>\n",
              "      <td>40.029709</td>\n",
              "    </tr>\n",
              "    <tr>\n",
              "      <th>Средний запас предсказанного сырья (тыс. баррелей)</th>\n",
              "      <td>92.592568</td>\n",
              "      <td>68.728547</td>\n",
              "      <td>94.965046</td>\n",
              "    </tr>\n",
              "  </tbody>\n",
              "</table>\n",
              "</div>"
            ],
            "text/plain": [
              "                                                    Датасет 1  Датасет 2  \\\n",
              "RMSE модели                                         37.579422   0.893099   \n",
              "Средний запас предсказанного сырья (тыс. баррелей)  92.592568  68.728547   \n",
              "\n",
              "                                                    Датасет 3  \n",
              "RMSE модели                                         40.029709  \n",
              "Средний запас предсказанного сырья (тыс. баррелей)  94.965046  "
            ]
          },
          "metadata": {}
        }
      ]
    },
    {
      "cell_type": "markdown",
      "source": "Как мы видим из полученных данных - метрики RMSE в принципе несильно отличаются друг от друга. А вот по 2 датасету (региону добычи) модель предсказала наименьшие добычи. Учтем этот момент в дальнейшем исследовании.",
      "metadata": {}
    },
    {
      "cell_type": "markdown",
      "source": "Таким образом, мы разбили данные на тренировочную и валидационную выборки (в соотножении 75/25), стандартизировали признаки. Затем мы обучили модель линейной регрессии по 3-м датасетам (которые являются информацией по регионам добычи нефти) и получили объемы предсказанного сырья. В нашем случае лидирующим по предсказанному объему является третий датасет, затем идет первый, а замыкает тройку с сильным отставание датасет по 2 региону добычи. Мы учтем эти выводы при дальнейшем решении поставленной бизнес-задачи.",
      "metadata": {}
    },
    {
      "cell_type": "markdown",
      "source": "## Подготовка к расчёту прибыли",
      "metadata": {}
    },
    {
      "cell_type": "markdown",
      "source": "### Подготовка необходимых переменных",
      "metadata": {}
    },
    {
      "cell_type": "markdown",
      "source": "Обозначим новые переменные, в которых сохраним все ключевые данные для расчетов:\n- bgt (бюджет на разработку скважин в регионе — 10 000 000 тыс. рублей (10 млрд));\n- inc (доход с каждой единицы продукта - 450 тыс. рублей, поскольку объём указан в тысячах баррелей);\n- loss_prob (вероятность убытков - по условию должна быть меньше 2,5%);\n- bgt_oilwell (бюджет на разработку одной из 200 скважин).\n\n",
      "metadata": {}
    },
    {
      "cell_type": "code",
      "source": "bgt = 10000000\nbgt_oilwell = bgt/200\ninc = 450\nloss_prob = 2.5/100\nproduct_mean1 = df1['product'].mean()\nproduct_mean2 = df2['product'].mean()\nproduct_mean3 = df3['product'].mean()",
      "metadata": {},
      "execution_count": 25,
      "outputs": []
    },
    {
      "cell_type": "markdown",
      "source": "Выведем интересующие нас данные на экран.",
      "metadata": {}
    },
    {
      "cell_type": "code",
      "source": "print(f'Общий бюджет на разработку составляет: {bgt} тыс. руб.')\nprint()\nprint(f'Бюджет на разработку одной скважины составляет: {bgt_oilwell} тыс. руб.')\nprint()\nprint(f'Cредний запас сырья по 1 региону составляет: {product_mean1} млн. баррелей')\nprint(f'Cредний запас сырья по 2 региону составляет: {product_mean2} млн. баррелей')\nprint(f'Cредний запас сырья по 3 региону составляет: {product_mean3} млн. баррелей')\n",
      "metadata": {},
      "execution_count": 26,
      "outputs": [
        {
          "name": "stdout",
          "output_type": "stream",
          "text": "Общий бюджет на разработку составляет: 10000000 тыс. руб.\n\n\n\nБюджет на разработку одной скважины составляет: 50000.0 тыс. руб.\n\n\n\nCредний запас сырья по 1 региону составляет: 92.50000000000001 млн. баррелей\n\nCредний запас сырья по 2 региону составляет: 68.82500000000002 млн. баррелей\n\nCредний запас сырья по 3 региону составляет: 95.00000000000004 млн. баррелей\n"
        }
      ]
    },
    {
      "cell_type": "markdown",
      "source": "### Рассчет достаточного объёма сырья",
      "metadata": {}
    },
    {
      "cell_type": "markdown",
      "source": "Рассчитаем достаточный объём сырья для безубыточной разработки новой скважины, а затем сравним полученный объём сырья со средним запасом в каждом регионе (в каждом датасете). Также рассчитаем коэффициент возврата инвестиций (ROI) для каждого региона - ведь, по сути, освоение новой скважины это инвестиция для дальнейшего получения прибыли.",
      "metadata": {}
    },
    {
      "cell_type": "code",
      "source": "suf_v = bgt_oilwell/inc\nprint('Объем сырья из каждой скважины для безубыточной разработки должен составлять не менее %.2f'%suf_v, 'тыс.баррелей')",
      "metadata": {
        "scrolled": true
      },
      "execution_count": 27,
      "outputs": [
        {
          "name": "stdout",
          "output_type": "stream",
          "text": "Объем сырья из каждой скважины для безубыточной разработки должен составлять не менее 111.11 тыс.баррелей\n"
        }
      ]
    },
    {
      "cell_type": "markdown",
      "source": "Теперь необходимо сравнить полученный объем со средним объемом запасов по каждому региону. Для этого нам потребуется посчитать:\n- Прибыль по каждой скважине в регионе (будем считать как объем сырья, умноженный на доход с каждой тысячи баррелей),\n- Коэффициент ROI (будем считать, как (прибыль по каждой скважине - бюджет на разработку одной)/бюджет на разработку одной * 100%),\n- Разницу между объемом для безубыточной добычи и средним запасом по региону.\n\nНачнем с датасета 1 (1 регион).",
      "metadata": {}
    },
    {
      "cell_type": "code",
      "source": "df1['profit'] = df1['product']*inc #добавили новый столбец с прибылью (profit)\ndf1.head()",
      "metadata": {
        "scrolled": true
      },
      "execution_count": 28,
      "outputs": [
        {
          "execution_count": 28,
          "output_type": "execute_result",
          "data": {
            "text/html": [
              "<div>\n",
              "<style scoped>\n",
              "    .dataframe tbody tr th:only-of-type {\n",
              "        vertical-align: middle;\n",
              "    }\n",
              "\n",
              "    .dataframe tbody tr th {\n",
              "        vertical-align: top;\n",
              "    }\n",
              "\n",
              "    .dataframe thead th {\n",
              "        text-align: right;\n",
              "    }\n",
              "</style>\n",
              "<table border=\"1\" class=\"dataframe\">\n",
              "  <thead>\n",
              "    <tr style=\"text-align: right;\">\n",
              "      <th></th>\n",
              "      <th>f0</th>\n",
              "      <th>f1</th>\n",
              "      <th>f2</th>\n",
              "      <th>product</th>\n",
              "      <th>profit</th>\n",
              "    </tr>\n",
              "  </thead>\n",
              "  <tbody>\n",
              "    <tr>\n",
              "      <th>0</th>\n",
              "      <td>0.705745</td>\n",
              "      <td>-0.497823</td>\n",
              "      <td>1.221170</td>\n",
              "      <td>105.280062</td>\n",
              "      <td>47376.027830</td>\n",
              "    </tr>\n",
              "    <tr>\n",
              "      <th>1</th>\n",
              "      <td>1.334711</td>\n",
              "      <td>-0.340164</td>\n",
              "      <td>4.365080</td>\n",
              "      <td>73.037750</td>\n",
              "      <td>32866.987619</td>\n",
              "    </tr>\n",
              "    <tr>\n",
              "      <th>2</th>\n",
              "      <td>1.022732</td>\n",
              "      <td>0.151990</td>\n",
              "      <td>1.419926</td>\n",
              "      <td>85.265647</td>\n",
              "      <td>38369.541209</td>\n",
              "    </tr>\n",
              "    <tr>\n",
              "      <th>3</th>\n",
              "      <td>-0.032172</td>\n",
              "      <td>0.139033</td>\n",
              "      <td>2.978566</td>\n",
              "      <td>168.620776</td>\n",
              "      <td>75879.349000</td>\n",
              "    </tr>\n",
              "    <tr>\n",
              "      <th>4</th>\n",
              "      <td>1.988431</td>\n",
              "      <td>0.155413</td>\n",
              "      <td>4.751769</td>\n",
              "      <td>154.036647</td>\n",
              "      <td>69316.491032</td>\n",
              "    </tr>\n",
              "  </tbody>\n",
              "</table>\n",
              "</div>"
            ],
            "text/plain": [
              "         f0        f1        f2     product        profit\n",
              "0  0.705745 -0.497823  1.221170  105.280062  47376.027830\n",
              "1  1.334711 -0.340164  4.365080   73.037750  32866.987619\n",
              "2  1.022732  0.151990  1.419926   85.265647  38369.541209\n",
              "3 -0.032172  0.139033  2.978566  168.620776  75879.349000\n",
              "4  1.988431  0.155413  4.751769  154.036647  69316.491032"
            ]
          },
          "metadata": {}
        }
      ]
    },
    {
      "cell_type": "code",
      "source": "df1['ROI (%)'] = (df1['profit'] - bgt_oilwell)/bgt_oilwell*100 #добавили столбец с коэффициентом ROI\ndf1.head()",
      "metadata": {},
      "execution_count": 29,
      "outputs": [
        {
          "execution_count": 29,
          "output_type": "execute_result",
          "data": {
            "text/html": [
              "<div>\n",
              "<style scoped>\n",
              "    .dataframe tbody tr th:only-of-type {\n",
              "        vertical-align: middle;\n",
              "    }\n",
              "\n",
              "    .dataframe tbody tr th {\n",
              "        vertical-align: top;\n",
              "    }\n",
              "\n",
              "    .dataframe thead th {\n",
              "        text-align: right;\n",
              "    }\n",
              "</style>\n",
              "<table border=\"1\" class=\"dataframe\">\n",
              "  <thead>\n",
              "    <tr style=\"text-align: right;\">\n",
              "      <th></th>\n",
              "      <th>f0</th>\n",
              "      <th>f1</th>\n",
              "      <th>f2</th>\n",
              "      <th>product</th>\n",
              "      <th>profit</th>\n",
              "      <th>ROI (%)</th>\n",
              "    </tr>\n",
              "  </thead>\n",
              "  <tbody>\n",
              "    <tr>\n",
              "      <th>0</th>\n",
              "      <td>0.705745</td>\n",
              "      <td>-0.497823</td>\n",
              "      <td>1.221170</td>\n",
              "      <td>105.280062</td>\n",
              "      <td>47376.027830</td>\n",
              "      <td>-5.247944</td>\n",
              "    </tr>\n",
              "    <tr>\n",
              "      <th>1</th>\n",
              "      <td>1.334711</td>\n",
              "      <td>-0.340164</td>\n",
              "      <td>4.365080</td>\n",
              "      <td>73.037750</td>\n",
              "      <td>32866.987619</td>\n",
              "      <td>-34.266025</td>\n",
              "    </tr>\n",
              "    <tr>\n",
              "      <th>2</th>\n",
              "      <td>1.022732</td>\n",
              "      <td>0.151990</td>\n",
              "      <td>1.419926</td>\n",
              "      <td>85.265647</td>\n",
              "      <td>38369.541209</td>\n",
              "      <td>-23.260918</td>\n",
              "    </tr>\n",
              "    <tr>\n",
              "      <th>3</th>\n",
              "      <td>-0.032172</td>\n",
              "      <td>0.139033</td>\n",
              "      <td>2.978566</td>\n",
              "      <td>168.620776</td>\n",
              "      <td>75879.349000</td>\n",
              "      <td>51.758698</td>\n",
              "    </tr>\n",
              "    <tr>\n",
              "      <th>4</th>\n",
              "      <td>1.988431</td>\n",
              "      <td>0.155413</td>\n",
              "      <td>4.751769</td>\n",
              "      <td>154.036647</td>\n",
              "      <td>69316.491032</td>\n",
              "      <td>38.632982</td>\n",
              "    </tr>\n",
              "  </tbody>\n",
              "</table>\n",
              "</div>"
            ],
            "text/plain": [
              "         f0        f1        f2     product        profit    ROI (%)\n",
              "0  0.705745 -0.497823  1.221170  105.280062  47376.027830  -5.247944\n",
              "1  1.334711 -0.340164  4.365080   73.037750  32866.987619 -34.266025\n",
              "2  1.022732  0.151990  1.419926   85.265647  38369.541209 -23.260918\n",
              "3 -0.032172  0.139033  2.978566  168.620776  75879.349000  51.758698\n",
              "4  1.988431  0.155413  4.751769  154.036647  69316.491032  38.632982"
            ]
          },
          "metadata": {}
        }
      ]
    },
    {
      "cell_type": "code",
      "source": "print(f'Разница между объемом безубыточной добычи и средним запасом сырья по региону 1 составляет {(suf_v - product_mean1).round(2)} тыс. баррелей')                                                                                             \n                                                                                                    ",
      "metadata": {
        "scrolled": true
      },
      "execution_count": 30,
      "outputs": [
        {
          "name": "stdout",
          "output_type": "stream",
          "text": "Разница между объемом безубыточной добычи и средним запасом сырья по региону 1 составляет 18.61 тыс. баррелей\n"
        }
      ]
    },
    {
      "cell_type": "markdown",
      "source": "2 Датасет (регион).",
      "metadata": {}
    },
    {
      "cell_type": "code",
      "source": "df2['profit'] = df2['product']*inc #добавили новый столбец с прибылью (profit)\ndf2.head()",
      "metadata": {},
      "execution_count": 31,
      "outputs": [
        {
          "execution_count": 31,
          "output_type": "execute_result",
          "data": {
            "text/html": [
              "<div>\n",
              "<style scoped>\n",
              "    .dataframe tbody tr th:only-of-type {\n",
              "        vertical-align: middle;\n",
              "    }\n",
              "\n",
              "    .dataframe tbody tr th {\n",
              "        vertical-align: top;\n",
              "    }\n",
              "\n",
              "    .dataframe thead th {\n",
              "        text-align: right;\n",
              "    }\n",
              "</style>\n",
              "<table border=\"1\" class=\"dataframe\">\n",
              "  <thead>\n",
              "    <tr style=\"text-align: right;\">\n",
              "      <th></th>\n",
              "      <th>f0</th>\n",
              "      <th>f1</th>\n",
              "      <th>f2</th>\n",
              "      <th>product</th>\n",
              "      <th>profit</th>\n",
              "    </tr>\n",
              "  </thead>\n",
              "  <tbody>\n",
              "    <tr>\n",
              "      <th>0</th>\n",
              "      <td>-15.001348</td>\n",
              "      <td>-8.276000</td>\n",
              "      <td>-0.005876</td>\n",
              "      <td>3.179103</td>\n",
              "      <td>1430.596162</td>\n",
              "    </tr>\n",
              "    <tr>\n",
              "      <th>1</th>\n",
              "      <td>14.272088</td>\n",
              "      <td>-3.475083</td>\n",
              "      <td>0.999183</td>\n",
              "      <td>26.953261</td>\n",
              "      <td>12128.967464</td>\n",
              "    </tr>\n",
              "    <tr>\n",
              "      <th>2</th>\n",
              "      <td>6.263187</td>\n",
              "      <td>-5.948386</td>\n",
              "      <td>5.001160</td>\n",
              "      <td>134.766305</td>\n",
              "      <td>60644.837321</td>\n",
              "    </tr>\n",
              "    <tr>\n",
              "      <th>3</th>\n",
              "      <td>-13.081196</td>\n",
              "      <td>-11.506057</td>\n",
              "      <td>4.999415</td>\n",
              "      <td>137.945408</td>\n",
              "      <td>62075.433483</td>\n",
              "    </tr>\n",
              "    <tr>\n",
              "      <th>4</th>\n",
              "      <td>12.702195</td>\n",
              "      <td>-8.147433</td>\n",
              "      <td>5.004363</td>\n",
              "      <td>134.766305</td>\n",
              "      <td>60644.837321</td>\n",
              "    </tr>\n",
              "  </tbody>\n",
              "</table>\n",
              "</div>"
            ],
            "text/plain": [
              "          f0         f1        f2     product        profit\n",
              "0 -15.001348  -8.276000 -0.005876    3.179103   1430.596162\n",
              "1  14.272088  -3.475083  0.999183   26.953261  12128.967464\n",
              "2   6.263187  -5.948386  5.001160  134.766305  60644.837321\n",
              "3 -13.081196 -11.506057  4.999415  137.945408  62075.433483\n",
              "4  12.702195  -8.147433  5.004363  134.766305  60644.837321"
            ]
          },
          "metadata": {}
        }
      ]
    },
    {
      "cell_type": "code",
      "source": "df2['ROI (%)'] = (df2['profit'] - bgt_oilwell)/bgt_oilwell*100 #добавили столбец с коэффициентом ROI\ndf2.head()",
      "metadata": {},
      "execution_count": 32,
      "outputs": [
        {
          "execution_count": 32,
          "output_type": "execute_result",
          "data": {
            "text/html": [
              "<div>\n",
              "<style scoped>\n",
              "    .dataframe tbody tr th:only-of-type {\n",
              "        vertical-align: middle;\n",
              "    }\n",
              "\n",
              "    .dataframe tbody tr th {\n",
              "        vertical-align: top;\n",
              "    }\n",
              "\n",
              "    .dataframe thead th {\n",
              "        text-align: right;\n",
              "    }\n",
              "</style>\n",
              "<table border=\"1\" class=\"dataframe\">\n",
              "  <thead>\n",
              "    <tr style=\"text-align: right;\">\n",
              "      <th></th>\n",
              "      <th>f0</th>\n",
              "      <th>f1</th>\n",
              "      <th>f2</th>\n",
              "      <th>product</th>\n",
              "      <th>profit</th>\n",
              "      <th>ROI (%)</th>\n",
              "    </tr>\n",
              "  </thead>\n",
              "  <tbody>\n",
              "    <tr>\n",
              "      <th>0</th>\n",
              "      <td>-15.001348</td>\n",
              "      <td>-8.276000</td>\n",
              "      <td>-0.005876</td>\n",
              "      <td>3.179103</td>\n",
              "      <td>1430.596162</td>\n",
              "      <td>-97.138808</td>\n",
              "    </tr>\n",
              "    <tr>\n",
              "      <th>1</th>\n",
              "      <td>14.272088</td>\n",
              "      <td>-3.475083</td>\n",
              "      <td>0.999183</td>\n",
              "      <td>26.953261</td>\n",
              "      <td>12128.967464</td>\n",
              "      <td>-75.742065</td>\n",
              "    </tr>\n",
              "    <tr>\n",
              "      <th>2</th>\n",
              "      <td>6.263187</td>\n",
              "      <td>-5.948386</td>\n",
              "      <td>5.001160</td>\n",
              "      <td>134.766305</td>\n",
              "      <td>60644.837321</td>\n",
              "      <td>21.289675</td>\n",
              "    </tr>\n",
              "    <tr>\n",
              "      <th>3</th>\n",
              "      <td>-13.081196</td>\n",
              "      <td>-11.506057</td>\n",
              "      <td>4.999415</td>\n",
              "      <td>137.945408</td>\n",
              "      <td>62075.433483</td>\n",
              "      <td>24.150867</td>\n",
              "    </tr>\n",
              "    <tr>\n",
              "      <th>4</th>\n",
              "      <td>12.702195</td>\n",
              "      <td>-8.147433</td>\n",
              "      <td>5.004363</td>\n",
              "      <td>134.766305</td>\n",
              "      <td>60644.837321</td>\n",
              "      <td>21.289675</td>\n",
              "    </tr>\n",
              "  </tbody>\n",
              "</table>\n",
              "</div>"
            ],
            "text/plain": [
              "          f0         f1        f2     product        profit    ROI (%)\n",
              "0 -15.001348  -8.276000 -0.005876    3.179103   1430.596162 -97.138808\n",
              "1  14.272088  -3.475083  0.999183   26.953261  12128.967464 -75.742065\n",
              "2   6.263187  -5.948386  5.001160  134.766305  60644.837321  21.289675\n",
              "3 -13.081196 -11.506057  4.999415  137.945408  62075.433483  24.150867\n",
              "4  12.702195  -8.147433  5.004363  134.766305  60644.837321  21.289675"
            ]
          },
          "metadata": {}
        }
      ]
    },
    {
      "cell_type": "code",
      "source": "print(f'Разница между объемом безубыточной добычи и средним запасом сырья по региону 2 составляет {(suf_v - product_mean2).round(2)} тыс. баррелей')                                                                                             \n",
      "metadata": {},
      "execution_count": 33,
      "outputs": [
        {
          "name": "stdout",
          "output_type": "stream",
          "text": "Разница между объемом безубыточной добычи и средним запасом сырья по региону 2 составляет 42.29 тыс. баррелей\n"
        }
      ]
    },
    {
      "cell_type": "markdown",
      "source": "3 Датасет (регион).",
      "metadata": {}
    },
    {
      "cell_type": "code",
      "source": "df3['profit'] = df3['product']*inc #добавили новый столбец с прибылью (profit)\ndf3.head()",
      "metadata": {},
      "execution_count": 34,
      "outputs": [
        {
          "execution_count": 34,
          "output_type": "execute_result",
          "data": {
            "text/html": [
              "<div>\n",
              "<style scoped>\n",
              "    .dataframe tbody tr th:only-of-type {\n",
              "        vertical-align: middle;\n",
              "    }\n",
              "\n",
              "    .dataframe tbody tr th {\n",
              "        vertical-align: top;\n",
              "    }\n",
              "\n",
              "    .dataframe thead th {\n",
              "        text-align: right;\n",
              "    }\n",
              "</style>\n",
              "<table border=\"1\" class=\"dataframe\">\n",
              "  <thead>\n",
              "    <tr style=\"text-align: right;\">\n",
              "      <th></th>\n",
              "      <th>f0</th>\n",
              "      <th>f1</th>\n",
              "      <th>f2</th>\n",
              "      <th>product</th>\n",
              "      <th>profit</th>\n",
              "    </tr>\n",
              "  </thead>\n",
              "  <tbody>\n",
              "    <tr>\n",
              "      <th>0</th>\n",
              "      <td>-1.146987</td>\n",
              "      <td>0.963328</td>\n",
              "      <td>-0.828965</td>\n",
              "      <td>27.758673</td>\n",
              "      <td>12491.402954</td>\n",
              "    </tr>\n",
              "    <tr>\n",
              "      <th>1</th>\n",
              "      <td>0.262778</td>\n",
              "      <td>0.269839</td>\n",
              "      <td>-2.530187</td>\n",
              "      <td>56.069697</td>\n",
              "      <td>25231.363485</td>\n",
              "    </tr>\n",
              "    <tr>\n",
              "      <th>2</th>\n",
              "      <td>0.194587</td>\n",
              "      <td>0.289035</td>\n",
              "      <td>-5.586433</td>\n",
              "      <td>62.871910</td>\n",
              "      <td>28292.359521</td>\n",
              "    </tr>\n",
              "    <tr>\n",
              "      <th>3</th>\n",
              "      <td>2.236060</td>\n",
              "      <td>-0.553760</td>\n",
              "      <td>0.930038</td>\n",
              "      <td>114.572842</td>\n",
              "      <td>51557.778750</td>\n",
              "    </tr>\n",
              "    <tr>\n",
              "      <th>4</th>\n",
              "      <td>-0.515993</td>\n",
              "      <td>1.716266</td>\n",
              "      <td>5.899011</td>\n",
              "      <td>149.600746</td>\n",
              "      <td>67320.335661</td>\n",
              "    </tr>\n",
              "  </tbody>\n",
              "</table>\n",
              "</div>"
            ],
            "text/plain": [
              "         f0        f1        f2     product        profit\n",
              "0 -1.146987  0.963328 -0.828965   27.758673  12491.402954\n",
              "1  0.262778  0.269839 -2.530187   56.069697  25231.363485\n",
              "2  0.194587  0.289035 -5.586433   62.871910  28292.359521\n",
              "3  2.236060 -0.553760  0.930038  114.572842  51557.778750\n",
              "4 -0.515993  1.716266  5.899011  149.600746  67320.335661"
            ]
          },
          "metadata": {}
        }
      ]
    },
    {
      "cell_type": "code",
      "source": "df3['ROI (%)'] = (df3['profit'] - bgt_oilwell)/bgt_oilwell*100 #добавили столбец с коэффициентом ROI\ndf3.head()",
      "metadata": {},
      "execution_count": 35,
      "outputs": [
        {
          "execution_count": 35,
          "output_type": "execute_result",
          "data": {
            "text/html": [
              "<div>\n",
              "<style scoped>\n",
              "    .dataframe tbody tr th:only-of-type {\n",
              "        vertical-align: middle;\n",
              "    }\n",
              "\n",
              "    .dataframe tbody tr th {\n",
              "        vertical-align: top;\n",
              "    }\n",
              "\n",
              "    .dataframe thead th {\n",
              "        text-align: right;\n",
              "    }\n",
              "</style>\n",
              "<table border=\"1\" class=\"dataframe\">\n",
              "  <thead>\n",
              "    <tr style=\"text-align: right;\">\n",
              "      <th></th>\n",
              "      <th>f0</th>\n",
              "      <th>f1</th>\n",
              "      <th>f2</th>\n",
              "      <th>product</th>\n",
              "      <th>profit</th>\n",
              "      <th>ROI (%)</th>\n",
              "    </tr>\n",
              "  </thead>\n",
              "  <tbody>\n",
              "    <tr>\n",
              "      <th>0</th>\n",
              "      <td>-1.146987</td>\n",
              "      <td>0.963328</td>\n",
              "      <td>-0.828965</td>\n",
              "      <td>27.758673</td>\n",
              "      <td>12491.402954</td>\n",
              "      <td>-75.017194</td>\n",
              "    </tr>\n",
              "    <tr>\n",
              "      <th>1</th>\n",
              "      <td>0.262778</td>\n",
              "      <td>0.269839</td>\n",
              "      <td>-2.530187</td>\n",
              "      <td>56.069697</td>\n",
              "      <td>25231.363485</td>\n",
              "      <td>-49.537273</td>\n",
              "    </tr>\n",
              "    <tr>\n",
              "      <th>2</th>\n",
              "      <td>0.194587</td>\n",
              "      <td>0.289035</td>\n",
              "      <td>-5.586433</td>\n",
              "      <td>62.871910</td>\n",
              "      <td>28292.359521</td>\n",
              "      <td>-43.415281</td>\n",
              "    </tr>\n",
              "    <tr>\n",
              "      <th>3</th>\n",
              "      <td>2.236060</td>\n",
              "      <td>-0.553760</td>\n",
              "      <td>0.930038</td>\n",
              "      <td>114.572842</td>\n",
              "      <td>51557.778750</td>\n",
              "      <td>3.115558</td>\n",
              "    </tr>\n",
              "    <tr>\n",
              "      <th>4</th>\n",
              "      <td>-0.515993</td>\n",
              "      <td>1.716266</td>\n",
              "      <td>5.899011</td>\n",
              "      <td>149.600746</td>\n",
              "      <td>67320.335661</td>\n",
              "      <td>34.640671</td>\n",
              "    </tr>\n",
              "  </tbody>\n",
              "</table>\n",
              "</div>"
            ],
            "text/plain": [
              "         f0        f1        f2     product        profit    ROI (%)\n",
              "0 -1.146987  0.963328 -0.828965   27.758673  12491.402954 -75.017194\n",
              "1  0.262778  0.269839 -2.530187   56.069697  25231.363485 -49.537273\n",
              "2  0.194587  0.289035 -5.586433   62.871910  28292.359521 -43.415281\n",
              "3  2.236060 -0.553760  0.930038  114.572842  51557.778750   3.115558\n",
              "4 -0.515993  1.716266  5.899011  149.600746  67320.335661  34.640671"
            ]
          },
          "metadata": {}
        }
      ]
    },
    {
      "cell_type": "code",
      "source": "print(f'Разница между объемом безубыточной добычи и средним запасом сырья по региону 3 составляет {(suf_v - product_mean3).round(2)} тыс. баррелей')",
      "metadata": {},
      "execution_count": 36,
      "outputs": [
        {
          "name": "stdout",
          "output_type": "stream",
          "text": "Разница между объемом безубыточной добычи и средним запасом сырья по региону 3 составляет 16.11 тыс. баррелей\n"
        }
      ]
    },
    {
      "cell_type": "markdown",
      "source": "Получившиеся положительные числа разниц говорят нам о том, что во всех 3-х регионах средних запасов сырья не хватает для окупаемости разработок новых скважин. Поэтому, средняя оценка здесь не подходит. Попробуем, на основании предсказаний модели, найти скважины с максимальным количеством запасов сырья.",
      "metadata": {}
    },
    {
      "cell_type": "markdown",
      "source": "## Функция для расчёта прибыли по выбранным скважинам и предсказаниям модели",
      "metadata": {}
    },
    {
      "cell_type": "markdown",
      "source": "Для написания функции и дальнейшего исследования нам необходимо выбрать скважины, значения предсказаний нашей модели по которым максимально. Для этого возьмем из переменных predict(1,2,3) предсказания количества объемов сырья, создадим новую переменную probs_sorted (датафрейм, в котором будут значения предсказаний, отсортированные по убыванию), переменную probs_max (скважины, где объем сырья максимальный с промежутком от начала и до 200 элемента).\n\nПеренесем все эти данные в функцию, чтобы можно было подставить значение по любому региону. Функцию назовем calc_profit (калькулятор доходности). ",
      "metadata": {}
    },
    {
      "cell_type": "code",
      "source": "def calc_profit(predict,target):\n    probs_sorted = pd.Series(predict, index=target.index).sort_values(ascending=False)\n    probs_max = probs_sorted[:200].sum()\n    print('Сумма запаса сырья в 200 лучших скважинах составит: %.2f тыс. баррелей'%probs_max)",
      "metadata": {},
      "execution_count": 37,
      "outputs": []
    },
    {
      "cell_type": "markdown",
      "source": "Проверим работу функции на 1 датасете.",
      "metadata": {}
    },
    {
      "cell_type": "code",
      "source": "calc_profit(predict1, target_valid1)",
      "metadata": {},
      "execution_count": 38,
      "outputs": [
        {
          "name": "stdout",
          "output_type": "stream",
          "text": "Сумма запаса сырья в 200 лучших скважинах составит: 31102.33 тыс. баррелей\n"
        }
      ]
    },
    {
      "cell_type": "markdown",
      "source": "Теперь 2 датасет.",
      "metadata": {}
    },
    {
      "cell_type": "code",
      "source": "calc_profit(predict2, target_valid2)",
      "metadata": {},
      "execution_count": 39,
      "outputs": [
        {
          "name": "stdout",
          "output_type": "stream",
          "text": "Сумма запаса сырья в 200 лучших скважинах составит: 27746.03 тыс. баррелей\n"
        }
      ]
    },
    {
      "cell_type": "markdown",
      "source": "3 Датасет.",
      "metadata": {}
    },
    {
      "cell_type": "code",
      "source": "calc_profit(predict3, target_valid3)",
      "metadata": {},
      "execution_count": 40,
      "outputs": [
        {
          "name": "stdout",
          "output_type": "stream",
          "text": "Сумма запаса сырья в 200 лучших скважинах составит: 29603.90 тыс. баррелей\n"
        }
      ]
    },
    {
      "cell_type": "markdown",
      "source": "Как мы видим из работы функции - все регионы добычи потенциально прибыльны. Приступим к расчету прибыли и рисков.",
      "metadata": {}
    },
    {
      "cell_type": "markdown",
      "source": "## Расчёт прибыли и рисков ",
      "metadata": {}
    },
    {
      "cell_type": "markdown",
      "source": "### Распределение прибыли, доверительный интервал и риски убытков",
      "metadata": {}
    },
    {
      "cell_type": "markdown",
      "source": "Для поиска распределения прибыли будем использовать технику BootStrap, которой укажем создать 1000 подвыборок. \n\nПредлагаю использовать функцию, которая на вход примет предсказания и правильные ответы по региону, а на выходе даст распределение прибыли, 95%-й доверительный интервал и оценит риски.\n\nДля начала создадим вспомогательную функцию calc_profit_2 для метода BootStrap по аналогии с предыдущим шагом. Итак, приступим.",
      "metadata": {}
    },
    {
      "cell_type": "code",
      "source": "def calc_profit_2(predict,target):  #создадим функцию по расчету дохода на скважину\n    predict = pd.Series(predict).reset_index(drop=True)\n    target = target.reset_index(drop=True)\n    wells_sorted = predict.sort_values(ascending=False) \n    selected = target[wells_sorted.index][:200]\n\n\n    \n    if target[wells_sorted.index].shape[0] != wells_sorted.index.shape[0]:\n        print(\"Shape mismatch! Actual selected targets shape:\", target[wells_sorted.index].shape)\n\n\n    product = selected.sum()\n    revenue = (product * inc) - bgt\n    return revenue",
      "metadata": {},
      "execution_count": 95,
      "outputs": []
    },
    {
      "cell_type": "code",
      "source": "\nfor i in range(1, 4):\n    print(\"Регион\", i)\n    profit = calc_profit_2(\n        globals()[f'predict{i}'],\n        globals()[f'target_valid{i}']\n    )\n    print(f\"Прибыль по 200 лучшим скважинам = {profit:.2f}\")",
      "metadata": {},
      "execution_count": 97,
      "outputs": [
        {
          "name": "stdout",
          "output_type": "stream",
          "text": "Регион 1\n\nПрибыль по 200 лучшим скважинам = 3320826.04\n\nРегион 2\n\nПрибыль по 200 лучшим скважинам = 2415086.70\n\nРегион 3\n\nПрибыль по 200 лучшим скважинам = 2710349.96\n"
        }
      ]
    },
    {
      "cell_type": "code",
      "source": "def revenue_bootstrap(target,predict):\n    values = []\n    count=0 #создадим счетчик для убытка\n    state = np.random.RandomState(12345)\n    predict_e = pd.Series(predict, index=target.index)\n    \n    for i in range(1000):\n        target_subsample = target.sample(n=500,replace=True, random_state=state)#500 скважин исследуем\n        wells_subsample = predict_e[target_subsample.index]\n        values.append(calc_profit_2(wells_subsample,target_subsample))\n    for i in values:\n        if i < 0:\n            count +=1 #добавляем элемент, если прибыль меньше 0 (убыток)\n            \n    values = pd.Series(values) \n    revenue_mean = values.mean() #средняя выручка\n    \n    lower = values.quantile(0.025) #так как нам нужен 95%-й интервал отступаем по 2.5 с каждой стороны\n    higher = values.quantile(0.975) #итого получаем 0,025 и 0,975\n    \n    print('Для выбранного региона:')\n    print('Средняя прибыль составляет {:.2f} млн.руб'.format(revenue_mean/1000))\n    print('С вероятностью в 95% прибыль будет составлять от: {:.2f} млн.руб до: {:.2f} млн.руб'.format((lower/1000),(higher/1000)))\n    print ('Процент вероятности убытка составит {:.1%}'.format(count/1000))\n    ",
      "metadata": {},
      "execution_count": 98,
      "outputs": []
    },
    {
      "cell_type": "markdown",
      "source": "Функция создана - провеерим ее работу на наших регионах.",
      "metadata": {}
    },
    {
      "cell_type": "markdown",
      "source": "Регион 1 (Датасет 1)",
      "metadata": {}
    },
    {
      "cell_type": "code",
      "source": "revenue_bootstrap(target_valid1,predict1)",
      "metadata": {
        "scrolled": true
      },
      "execution_count": 100,
      "outputs": [
        {
          "name": "stdout",
          "output_type": "stream",
          "text": "Для выбранного региона:\n\nСредняя прибыль составляет 396.16 млн.руб\n\nС вероятностью в 95% прибыль будет составлять от: -111.22 млн.руб до: 909.77 млн.руб\n\nПроцент вероятности убытка составит 6.9%\n"
        }
      ]
    },
    {
      "cell_type": "markdown",
      "source": "Регион 2 (Датасет 2)",
      "metadata": {}
    },
    {
      "cell_type": "code",
      "source": "revenue_bootstrap(target_valid2,predict2)",
      "metadata": {
        "scrolled": true
      },
      "execution_count": 101,
      "outputs": [
        {
          "name": "stdout",
          "output_type": "stream",
          "text": "Для выбранного региона:\n\nСредняя прибыль составляет 456.05 млн.руб\n\nС вероятностью в 95% прибыль будет составлять от: 33.82 млн.руб до: 852.29 млн.руб\n\nПроцент вероятности убытка составит 1.5%\n"
        }
      ]
    },
    {
      "cell_type": "markdown",
      "source": "Регион 3 (Датасет 3)",
      "metadata": {}
    },
    {
      "cell_type": "code",
      "source": "revenue_bootstrap(target_valid3,predict3)",
      "metadata": {},
      "execution_count": 102,
      "outputs": [
        {
          "name": "stdout",
          "output_type": "stream",
          "text": "Для выбранного региона:\n\nСредняя прибыль составляет 404.40 млн.руб\n\nС вероятностью в 95% прибыль будет составлять от: -163.35 млн.руб до: 950.36 млн.руб\n\nПроцент вероятности убытка составит 7.6%\n"
        }
      ]
    },
    {
      "cell_type": "markdown",
      "source": "### Сравнение регионов по полученным показателям",
      "metadata": {}
    },
    {
      "cell_type": "markdown",
      "source": "Для наглядности поместим наши данные в таблицу. Для удобства создадим функцию tabless, которая заполнит нашу таблицу данными.",
      "metadata": {}
    },
    {
      "cell_type": "code",
      "source": "def tabless(target,predict):\n    values = []\n    count=0\n    state = np.random.RandomState(12345)\n    predict_e = pd.Series(predict, index=target.index)\n    \n    for i in range(1000):\n        target_subsample = target.sample(n=500,replace=True, random_state=state) #500 скважин исследуем\n  \n        wells_subsample = predict_e[target_subsample.index]\n        values.append(calc_profit_2(wells_subsample,target_subsample))  \n    for i in values:\n        if i < 0:\n            count +=1\n    \n    wells_sorted = pd.Series(predict, index=target.index).sort_values(ascending=False)\n    wells_max = wells_sorted[:200].sum() #расчет суммарного запаса сырья из предыдущей функции\n    values = pd.Series(values)\n    revenue_mean = values.mean() #средняя выручка\n    \n    lower = values.quantile(0.025) #так как нам нужен 95%-й интервал отступаем по 2.5 с каждой стороны\n    higher = values.quantile(0.975) #итого получаем 0,025 и 0,975\n    \n    return revenue_mean/1000, wells_max , count/10\n",
      "metadata": {},
      "execution_count": 103,
      "outputs": []
    },
    {
      "cell_type": "code",
      "source": "comparing = pd.DataFrame(index=['Средняя прибыль региона (млн.руб)','Суммарный запас сырья (тыс. баррелей)','Вероятность убытка (%)'], \n                        columns=['Регион 1','Регион 2','Регион 3']\n                        )\ncomparing['Регион 1'] = tabless(target_valid1, predict1)\ncomparing['Регион 2'] = tabless(target_valid2, predict2)\ncomparing['Регион 3'] = tabless(target_valid3, predict3)\n\ncomparing",
      "metadata": {},
      "execution_count": 104,
      "outputs": [
        {
          "execution_count": 104,
          "output_type": "execute_result",
          "data": {
            "text/html": [
              "<div>\n",
              "<style scoped>\n",
              "    .dataframe tbody tr th:only-of-type {\n",
              "        vertical-align: middle;\n",
              "    }\n",
              "\n",
              "    .dataframe tbody tr th {\n",
              "        vertical-align: top;\n",
              "    }\n",
              "\n",
              "    .dataframe thead th {\n",
              "        text-align: right;\n",
              "    }\n",
              "</style>\n",
              "<table border=\"1\" class=\"dataframe\">\n",
              "  <thead>\n",
              "    <tr style=\"text-align: right;\">\n",
              "      <th></th>\n",
              "      <th>Регион 1</th>\n",
              "      <th>Регион 2</th>\n",
              "      <th>Регион 3</th>\n",
              "    </tr>\n",
              "  </thead>\n",
              "  <tbody>\n",
              "    <tr>\n",
              "      <th>Средняя прибыль региона (млн.руб)</th>\n",
              "      <td>396.164985</td>\n",
              "      <td>456.045106</td>\n",
              "      <td>404.403867</td>\n",
              "    </tr>\n",
              "    <tr>\n",
              "      <th>Суммарный запас сырья (тыс. баррелей)</th>\n",
              "      <td>31102.330839</td>\n",
              "      <td>27746.026782</td>\n",
              "      <td>29603.898658</td>\n",
              "    </tr>\n",
              "    <tr>\n",
              "      <th>Вероятность убытка (%)</th>\n",
              "      <td>6.900000</td>\n",
              "      <td>1.500000</td>\n",
              "      <td>7.600000</td>\n",
              "    </tr>\n",
              "  </tbody>\n",
              "</table>\n",
              "</div>"
            ],
            "text/plain": [
              "                                           Регион 1      Регион 2  \\\n",
              "Средняя прибыль региона (млн.руб)        396.164985    456.045106   \n",
              "Суммарный запас сырья (тыс. баррелей)  31102.330839  27746.026782   \n",
              "Вероятность убытка (%)                     6.900000      1.500000   \n",
              "\n",
              "                                           Регион 3  \n",
              "Средняя прибыль региона (млн.руб)        404.403867  \n",
              "Суммарный запас сырья (тыс. баррелей)  29603.898658  \n",
              "Вероятность убытка (%)                     7.600000  "
            ]
          },
          "metadata": {}
        }
      ]
    },
    {
      "cell_type": "markdown",
      "source": "После оценки рисков нам необходимо оставить только те регионы, в которых вероятность убытков меньше 2.5%.\n\n\nКак мы видим из полученной таблицы - такой регион всего один (Регион 2). В нем вероятность убытков составляет 1,5%. В 1 регионе 6,9%, во 2-м - 7,6%. Также 2-й регион отличается высоким показателем прогнозируемой средней прибыли со скважины - 456,04 млн. рублей.",
      "metadata": {}
    },
    {
      "cell_type": "markdown",
      "source": "## Общий вывод",
      "metadata": {}
    },
    {
      "cell_type": "markdown",
      "source": "Нами была проделана большая работа по поиску региона, где разработка новой скважины компанией-заказчиком принесет наибольшую прибыль.\n\nДля анализа были предоставлены данные по 3-м регионам разработки. После исследования всех трех датасетов было обнаружено, что каждый из датасетов содержит информацию по 10 000 скважин, а именно:\n- уникальный идентификатор скважины\n- 3 параметра скважины (числовых)\n- объем запасов сырья в скважине\n\nВсе данные были без пропусков, дубликатов, нулевых значений. Мы удалили неважный для дальнейшего исследования столбец 'id' (идентификатор скважины), а также убедились в отсутствии мультиколлинеарности в данных с помощью распределения корреляции.\n\nЗатем мы объявили целевой признак - объем прогнозируемого сырья и тестовые признаки - все остальные соответственно. Так было необходимо сделать, потому что перед нами стоит задача регрессии. После объявления признаков данные были разбиты на выборки методом train_test_split в следующем порядке:\n- 75% данных на тренировочкую выборку\n- 25% данных на валидационную выборку\n\nПосле разбивки признаков мы стандартизировали их с помощью StandardScaler. Это помогло избавиться от придания алгоритмом большей важности признакам, которые численно больше, что в свою очередь улучшило качество модели линейной регрессии.\n\nКак говорилось выше, для решения задачи мы использовали модель линейной регресии. Обучили ее на тренировочной и сделали предсказания на валидационной выборке. Проверять полученные результаты решили метрикой RMSE (квадратный корень из средней квадратичной ошибки) и R2 (коэффициент детерминации). При проверке указанных метрик наблюдались большие отличия в разные стороны, поэтому однозначно отдать предпочтение какому-либо региону было невозможно. Единственное было примечательно - во втором регионе метрика RMSE и R2 оказались крайне высокими - на это повлияла очень высокая (1) корреляция между некоторыми признаками в датасете по региону. Мы сохранили предсказания и правильные ответы в переменных predict и target_valid для каждого региона соответственно. Далее для удобства сравнения полученных метрик была составлена таблица. Исходя из нее лидирующим по предсказанному объему является третий датасет, затем идет первый, а замыкает тройку с сильным отставание датасет по 2 региону добычи. \n\nПосле этого мы приступили к подготовке к расчету прибыли. Для этого были объявлены новые переменные с интересующими нас данными (бюджет, доход с единице продукта, бюджет на разработку 1 скважины, вероятность убытков), посчитали средний запас сырья, который составил по 1 региону 92.59 млн. баррелей, по 2 региону 68.72 млн. баррелей, по 3 региону 94.96 млн. баррелей. \n\nМы выяснили, что объем сырья из каждой скважины для безубыточной разработки должен составлять не менее 111.11 тыс.баррелей. Далее сравнили его с нашими регионами - получившиеся положительные числа разниц говорят нам о том, что во всех 3-х регионах средних запасов сырья не хватает для окупаемости разработок новых скважин.\n\nРешили выбрать 200 наиболее прибыльных скважин для каждого региона. Затем также написали функцию, которая считает прибыл по выбранным скважинам и предсказаниям модели. Все регионы оказались прибыльными.\n\nЗатем написали функцию bootstrap с небольшими доработками, которая на вход принимает предсказания и правильные ответы по региону, а на выходе дает распределение прибыли, 95%-й доверительный интервал и оценивает риски. По результатам работы функции была создана еще одна таблица, в которой все полученные данные продемонстрированы наглядно.\n\n\n",
      "metadata": {}
    },
    {
      "cell_type": "markdown",
      "source": "## Рекомендация по региону",
      "metadata": {}
    },
    {
      "cell_type": "markdown",
      "source": "На основании вышеперечисленного, а также сравнения показателей для регионов, а именно:\n- Средняя прибыль региона (млн.руб)\t\n- Суммарный запас сырья (тыс. баррелей)\t\n- Вероятность убытка (%)\t\n\nможно сделать вывод, что наиболее прибыльным вариантом для компании будет начало разработки новой скважины в Регионе 2, так как показатели средней прибыли здесь максимальные (456,04 млн. рублей), а вероятность (риск) убытка минимален - 1,5% (по условию он должен быть меньше 2,5%).",
      "metadata": {}
    },
    {
      "cell_type": "code",
      "source": "",
      "metadata": {},
      "execution_count": null,
      "outputs": []
    }
  ]
}